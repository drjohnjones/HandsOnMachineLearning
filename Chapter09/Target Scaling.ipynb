{
 "cells": [
  {
   "cell_type": "markdown",
   "metadata": {},
   "source": [
    "# Target Scaling"
   ]
  },
  {
   "cell_type": "code",
   "execution_count": 14,
   "metadata": {},
   "outputs": [],
   "source": [
    "x = np.random.uniform(low=5, high=20, size=100)\n",
    "e = np.random.normal(loc=0, scale=0.5, size=100)"
   ]
  },
  {
   "cell_type": "code",
   "execution_count": 15,
   "metadata": {},
   "outputs": [],
   "source": [
    "y = (x + e) ** 3 "
   ]
  },
  {
   "cell_type": "code",
   "execution_count": 16,
   "metadata": {},
   "outputs": [
    {
     "name": "stderr",
     "output_type": "stream",
     "text": [
      "/Users/tarek/anaconda3/envs/scikitbook/lib/python3.6/site-packages/ipykernel_launcher.py:10: UserWarning: Matplotlib is currently using module://ipykernel.pylab.backend_inline, which is a non-GUI backend, so cannot show the figure.\n",
      "  # Remove the CWD from sys.path while we load stuff.\n"
     ]
    },
    {
     "data": {
      "image/png": "[encoded data removed]",
      "text/plain": [
       "<Figure size 720x576 with 1 Axes>"
      ]
     },
     "metadata": {
      "needs_background": "light"
     },
     "output_type": "display_data"
    }
   ],
   "source": [
    "fig, ax = plt.subplots(1, 1, figsize=(10, 8))\n",
    "\n",
    "pd.DataFrame({'x': x, 'y': y}).plot(\n",
    "    title='Y is non-linear',\n",
    "    kind='scatter',\n",
    "    x='x', y='y', \n",
    "    color='k', ax=ax\n",
    ")\n",
    "\n",
    "fig.show()"
   ]
  },
  {
   "cell_type": "code",
   "execution_count": 17,
   "metadata": {},
   "outputs": [],
   "source": [
    "x = x.reshape((x.shape[0],1))"
   ]
  },
  {
   "cell_type": "code",
   "execution_count": 18,
   "metadata": {},
   "outputs": [],
   "source": [
    "from sklearn.model_selection import train_test_split\n",
    "\n",
    "x_train, x_test, y_train, y_test = train_test_split(x, y, test_size=0.25)"
   ]
  },
  {
   "cell_type": "code",
   "execution_count": 19,
   "metadata": {},
   "outputs": [],
   "source": [
    "from sklearn.linear_model import Ridge\n",
    "\n",
    "rgs = Ridge()\n",
    "rgs.fit(x_train, y_train)\n",
    "y_pred = rgs.predict(x_test)"
   ]
  },
  {
   "cell_type": "code",
   "execution_count": 20,
   "metadata": {},
   "outputs": [
    {
     "name": "stdout",
     "output_type": "stream",
     "text": [
      "MAE=704, R2=0.883232\n"
     ]
    }
   ],
   "source": [
    "from sklearn.metrics import mean_absolute_error\n",
    "from sklearn.metrics import r2_score\n",
    "\n",
    "print(\n",
    "    'MAE={:.0f}, R2={:2f}'.format(\n",
    "        mean_absolute_error(y_test, y_pred),\n",
    "        r2_score(y_test, y_pred),\n",
    "    )\n",
    ")"
   ]
  },
  {
   "cell_type": "code",
   "execution_count": 21,
   "metadata": {},
   "outputs": [],
   "source": [
    "class YTransformer:\n",
    "    \n",
    "    def __init__(self, power=1):\n",
    "        self.power = power\n",
    "        \n",
    "    def fit(self, x, y):\n",
    "        pass\n",
    "    \n",
    "    def transform(self, x, y):\n",
    "        return x, np.power(y, self.power)\n",
    "    \n",
    "    def inverse_transform(self, x, y):\n",
    "        return x, np.power(y, 1/self.power)\n",
    "    \n",
    "    \n",
    "    def fit_transform(self, x, y):\n",
    "        return self.transform(x, y)"
   ]
  },
  {
   "cell_type": "code",
   "execution_count": 22,
   "metadata": {},
   "outputs": [
    {
     "name": "stdout",
     "output_type": "stream",
     "text": [
      "Trasfomed y^1.00: MAE=704, R2=0.88\n",
      "Trasfomed y^0.50: MAE=378, R2=0.96\n",
      "Trasfomed y^0.33: MAE=339, R2=0.96\n",
      "Trasfomed y^0.25: MAE=359, R2=0.95\n",
      "Trasfomed y^0.20: MAE=400, R2=0.93\n"
     ]
    }
   ],
   "source": [
    "from sklearn.linear_model import Ridge\n",
    "from sklearn.metrics import mean_absolute_error\n",
    "from sklearn.metrics import r2_score\n",
    "\n",
    "for power in [1, 1/2, 1/3, 1/4, 1/5]:\n",
    "\n",
    "    yt = YTransformer(power)\n",
    "    _, y_train_t = yt.fit_transform(None, y_train)\n",
    "    _, y_test_t = yt.transform(None, y_test)\n",
    "    \n",
    "    rgs = Ridge()\n",
    "\n",
    "    rgs.fit(x_train, y_train_t)\n",
    "    y_pred_t = rgs.predict(x_test)\n",
    "    \n",
    "    _, y_pred = yt.inverse_transform(None, y_pred_t)\n",
    "\n",
    "    print(\n",
    "        'Trasfomed y^{:.2f}: MAE={:.0f}, R2={:.2f}'.format(\n",
    "            power,\n",
    "            mean_absolute_error(y_test, y_pred),\n",
    "            r2_score(y_test, y_pred),\n",
    "        )\n",
    "    )"
   ]
  },
  {
   "cell_type": "code",
   "execution_count": null,
   "metadata": {},
   "outputs": [],
   "source": []
  }
 ],
 "metadata": {
  "kernelspec": {
   "display_name": "Python 3",
   "language": "python",
   "name": "python3"
  },
  "language_info": {
   "codemirror_mode": {
    "name": "ipython",
    "version": 3
   },
   "file_extension": ".py",
   "mimetype": "text/x-python",
   "name": "python",
   "nbconvert_exporter": "python",
   "pygments_lexer": "ipython3",
   "version": "3.6.9"
  }
 },
 "nbformat": 4,
 "nbformat_minor": 2
}

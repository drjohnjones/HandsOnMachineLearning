{
 "cells": [
  {
   "cell_type": "markdown",
   "metadata": {},
   "source": [
    "# Multi-target Regression"
   ]
  },
  {
   "cell_type": "code",
   "execution_count": 1,
   "metadata": {},
   "outputs": [],
   "source": [
    "from sklearn.datasets import make_regression\n",
    "\n",
    "x, y = make_regression(\n",
    "    n_samples=500, n_features=8, n_informative=8, n_targets=3, noise=30.0\n",
    ")"
   ]
  },
  {
   "cell_type": "code",
   "execution_count": 2,
   "metadata": {},
   "outputs": [
    {
     "data": {
      "text/plain": [
       "((500, 8), (500, 3))"
      ]
     },
     "execution_count": 2,
     "metadata": {},
     "output_type": "execute_result"
    }
   ],
   "source": [
    "x.shape, y.shape"
   ]
  },
  {
   "cell_type": "code",
   "execution_count": 3,
   "metadata": {},
   "outputs": [
    {
     "data": {
      "text/html": [
       "<div>\n",
       "<style scoped>\n",
       "    .dataframe tbody tr th:only-of-type {\n",
       "        vertical-align: middle;\n",
       "    }\n",
       "\n",
       "    .dataframe tbody tr th {\n",
       "        vertical-align: top;\n",
       "    }\n",
       "\n",
       "    .dataframe thead th {\n",
       "        text-align: right;\n",
       "    }\n",
       "</style>\n",
       "<table border=\"1\" class=\"dataframe\">\n",
       "  <thead>\n",
       "    <tr style=\"text-align: right;\">\n",
       "      <th></th>\n",
       "      <th>Feature # 0</th>\n",
       "      <th>Feature # 1</th>\n",
       "      <th>Feature # 2</th>\n",
       "      <th>Feature # 3</th>\n",
       "      <th>Feature # 4</th>\n",
       "      <th>Feature # 5</th>\n",
       "      <th>Feature # 6</th>\n",
       "      <th>Feature # 7</th>\n",
       "    </tr>\n",
       "  </thead>\n",
       "  <tbody>\n",
       "    <tr>\n",
       "      <th>0</th>\n",
       "      <td>0.985063</td>\n",
       "      <td>-0.234092</td>\n",
       "      <td>-0.548207</td>\n",
       "      <td>0.172758</td>\n",
       "      <td>-0.164783</td>\n",
       "      <td>1.576365</td>\n",
       "      <td>1.054323</td>\n",
       "      <td>0.384962</td>\n",
       "    </tr>\n",
       "    <tr>\n",
       "      <th>1</th>\n",
       "      <td>0.935437</td>\n",
       "      <td>0.256300</td>\n",
       "      <td>1.015394</td>\n",
       "      <td>0.679767</td>\n",
       "      <td>1.130335</td>\n",
       "      <td>-0.921582</td>\n",
       "      <td>-2.327100</td>\n",
       "      <td>-1.134328</td>\n",
       "    </tr>\n",
       "    <tr>\n",
       "      <th>2</th>\n",
       "      <td>1.587509</td>\n",
       "      <td>-0.613461</td>\n",
       "      <td>-0.831734</td>\n",
       "      <td>0.230124</td>\n",
       "      <td>0.478013</td>\n",
       "      <td>1.154532</td>\n",
       "      <td>-0.288030</td>\n",
       "      <td>0.554882</td>\n",
       "    </tr>\n",
       "    <tr>\n",
       "      <th>3</th>\n",
       "      <td>-1.203131</td>\n",
       "      <td>0.384008</td>\n",
       "      <td>1.217668</td>\n",
       "      <td>-1.530389</td>\n",
       "      <td>-1.811354</td>\n",
       "      <td>0.232074</td>\n",
       "      <td>0.690616</td>\n",
       "      <td>-1.305875</td>\n",
       "    </tr>\n",
       "    <tr>\n",
       "      <th>4</th>\n",
       "      <td>0.982752</td>\n",
       "      <td>-0.063857</td>\n",
       "      <td>-0.210975</td>\n",
       "      <td>0.537989</td>\n",
       "      <td>-0.489671</td>\n",
       "      <td>-1.055574</td>\n",
       "      <td>1.114263</td>\n",
       "      <td>1.950719</td>\n",
       "    </tr>\n",
       "  </tbody>\n",
       "</table>\n",
       "</div>"
      ],
      "text/plain": [
       "   Feature # 0  Feature # 1  Feature # 2  Feature # 3  Feature # 4  \\\n",
       "0     0.985063    -0.234092    -0.548207     0.172758    -0.164783   \n",
       "1     0.935437     0.256300     1.015394     0.679767     1.130335   \n",
       "2     1.587509    -0.613461    -0.831734     0.230124     0.478013   \n",
       "3    -1.203131     0.384008     1.217668    -1.530389    -1.811354   \n",
       "4     0.982752    -0.063857    -0.210975     0.537989    -0.489671   \n",
       "\n",
       "   Feature # 5  Feature # 6  Feature # 7  \n",
       "0     1.576365     1.054323     0.384962  \n",
       "1    -0.921582    -2.327100    -1.134328  \n",
       "2     1.154532    -0.288030     0.554882  \n",
       "3     0.232074     0.690616    -1.305875  \n",
       "4    -1.055574     1.114263     1.950719  "
      ]
     },
     "execution_count": 3,
     "metadata": {},
     "output_type": "execute_result"
    }
   ],
   "source": [
    "feature_names = [f'Feature # {i}' for i in range(x.shape[1])]\n",
    "\n",
    "dfx = pd.DataFrame(\n",
    "    x, columns=feature_names\n",
    ")\n",
    "\n",
    "dfx.head(5)"
   ]
  },
  {
   "cell_type": "code",
   "execution_count": 4,
   "metadata": {},
   "outputs": [
    {
     "data": {
      "text/html": [
       "<div>\n",
       "<style scoped>\n",
       "    .dataframe tbody tr th:only-of-type {\n",
       "        vertical-align: middle;\n",
       "    }\n",
       "\n",
       "    .dataframe tbody tr th {\n",
       "        vertical-align: top;\n",
       "    }\n",
       "\n",
       "    .dataframe thead th {\n",
       "        text-align: right;\n",
       "    }\n",
       "</style>\n",
       "<table border=\"1\" class=\"dataframe\">\n",
       "  <thead>\n",
       "    <tr style=\"text-align: right;\">\n",
       "      <th></th>\n",
       "      <th>Target # 0</th>\n",
       "      <th>Target # 1</th>\n",
       "      <th>Target # 2</th>\n",
       "    </tr>\n",
       "  </thead>\n",
       "  <tbody>\n",
       "    <tr>\n",
       "      <th>0</th>\n",
       "      <td>310.838108</td>\n",
       "      <td>74.799393</td>\n",
       "      <td>128.215418</td>\n",
       "    </tr>\n",
       "    <tr>\n",
       "      <th>1</th>\n",
       "      <td>-221.952989</td>\n",
       "      <td>-13.383877</td>\n",
       "      <td>-27.150561</td>\n",
       "    </tr>\n",
       "    <tr>\n",
       "      <th>2</th>\n",
       "      <td>266.348992</td>\n",
       "      <td>46.170181</td>\n",
       "      <td>107.569697</td>\n",
       "    </tr>\n",
       "    <tr>\n",
       "      <th>3</th>\n",
       "      <td>-258.546123</td>\n",
       "      <td>-9.963706</td>\n",
       "      <td>-39.545191</td>\n",
       "    </tr>\n",
       "    <tr>\n",
       "      <th>4</th>\n",
       "      <td>205.705567</td>\n",
       "      <td>65.084581</td>\n",
       "      <td>-28.292117</td>\n",
       "    </tr>\n",
       "  </tbody>\n",
       "</table>\n",
       "</div>"
      ],
      "text/plain": [
       "   Target # 0  Target # 1  Target # 2\n",
       "0  310.838108   74.799393  128.215418\n",
       "1 -221.952989  -13.383877  -27.150561\n",
       "2  266.348992   46.170181  107.569697\n",
       "3 -258.546123   -9.963706  -39.545191\n",
       "4  205.705567   65.084581  -28.292117"
      ]
     },
     "execution_count": 4,
     "metadata": {},
     "output_type": "execute_result"
    }
   ],
   "source": [
    "target_names = [f'Target # {i}' for i in range(y.shape[1])]\n",
    "\n",
    "dfy = pd.DataFrame(\n",
    "    y, columns=target_names\n",
    ")\n",
    "\n",
    "dfy.head(5)"
   ]
  },
  {
   "cell_type": "code",
   "execution_count": 5,
   "metadata": {},
   "outputs": [],
   "source": [
    "from sklearn.model_selection import train_test_split\n",
    "\n",
    "x_train, x_test, y_train, y_test = train_test_split(x, y, test_size=0.25)"
   ]
  },
  {
   "cell_type": "code",
   "execution_count": 6,
   "metadata": {},
   "outputs": [
    {
     "data": {
      "text/plain": [
       "((375, 8), (375, 3), (125, 8), (125, 3))"
      ]
     },
     "execution_count": 6,
     "metadata": {},
     "output_type": "execute_result"
    }
   ],
   "source": [
    "x_train.shape, y_train.shape, x_test.shape, y_test.shape"
   ]
  },
  {
   "cell_type": "code",
   "execution_count": 7,
   "metadata": {},
   "outputs": [
    {
     "ename": "ValueError",
     "evalue": "bad input shape (375, 3)",
     "output_type": "error",
     "traceback": [
      "\u001b[0;31m---------------------------------------------------------------------------\u001b[0m",
      "\u001b[0;31mValueError\u001b[0m                                Traceback (most recent call last)",
      "\u001b[0;32m<ipython-input-7-94c98af23d7a>\u001b[0m in \u001b[0;36m<module>\u001b[0;34m\u001b[0m\n\u001b[1;32m      2\u001b[0m \u001b[0;34m\u001b[0m\u001b[0m\n\u001b[1;32m      3\u001b[0m \u001b[0mrgr\u001b[0m \u001b[0;34m=\u001b[0m \u001b[0mSGDRegressor\u001b[0m\u001b[0;34m(\u001b[0m\u001b[0;34m)\u001b[0m\u001b[0;34m\u001b[0m\u001b[0;34m\u001b[0m\u001b[0m\n\u001b[0;32m----> 4\u001b[0;31m \u001b[0mrgr\u001b[0m\u001b[0;34m.\u001b[0m\u001b[0mfit\u001b[0m\u001b[0;34m(\u001b[0m\u001b[0mx_train\u001b[0m\u001b[0;34m,\u001b[0m \u001b[0my_train\u001b[0m\u001b[0;34m)\u001b[0m\u001b[0;34m\u001b[0m\u001b[0;34m\u001b[0m\u001b[0m\n\u001b[0m\u001b[1;32m      5\u001b[0m \u001b[0;34m\u001b[0m\u001b[0m\n\u001b[1;32m      6\u001b[0m \u001b[0my_pred\u001b[0m \u001b[0;34m=\u001b[0m \u001b[0mrgr\u001b[0m\u001b[0;34m.\u001b[0m\u001b[0mpredict\u001b[0m\u001b[0;34m(\u001b[0m\u001b[0mx_test\u001b[0m\u001b[0;34m)\u001b[0m\u001b[0;34m\u001b[0m\u001b[0;34m\u001b[0m\u001b[0m\n",
      "\u001b[0;32m~/anaconda3/envs/scikitbook/lib/python3.6/site-packages/sklearn/linear_model/_stochastic_gradient.py\u001b[0m in \u001b[0;36mfit\u001b[0;34m(self, X, y, coef_init, intercept_init, sample_weight)\u001b[0m\n\u001b[1;32m   1219\u001b[0m                          \u001b[0mcoef_init\u001b[0m\u001b[0;34m=\u001b[0m\u001b[0mcoef_init\u001b[0m\u001b[0;34m,\u001b[0m\u001b[0;34m\u001b[0m\u001b[0;34m\u001b[0m\u001b[0m\n\u001b[1;32m   1220\u001b[0m                          \u001b[0mintercept_init\u001b[0m\u001b[0;34m=\u001b[0m\u001b[0mintercept_init\u001b[0m\u001b[0;34m,\u001b[0m\u001b[0;34m\u001b[0m\u001b[0;34m\u001b[0m\u001b[0m\n\u001b[0;32m-> 1221\u001b[0;31m                          sample_weight=sample_weight)\n\u001b[0m\u001b[1;32m   1222\u001b[0m \u001b[0;34m\u001b[0m\u001b[0m\n\u001b[1;32m   1223\u001b[0m     \u001b[0;32mdef\u001b[0m \u001b[0m_decision_function\u001b[0m\u001b[0;34m(\u001b[0m\u001b[0mself\u001b[0m\u001b[0;34m,\u001b[0m \u001b[0mX\u001b[0m\u001b[0;34m)\u001b[0m\u001b[0;34m:\u001b[0m\u001b[0;34m\u001b[0m\u001b[0;34m\u001b[0m\u001b[0m\n",
      "\u001b[0;32m~/anaconda3/envs/scikitbook/lib/python3.6/site-packages/sklearn/linear_model/_stochastic_gradient.py\u001b[0m in \u001b[0;36m_fit\u001b[0;34m(self, X, y, alpha, C, loss, learning_rate, coef_init, intercept_init, sample_weight)\u001b[0m\n\u001b[1;32m   1179\u001b[0m         self._partial_fit(X, y, alpha, C, loss, learning_rate,\n\u001b[1;32m   1180\u001b[0m                           \u001b[0mself\u001b[0m\u001b[0;34m.\u001b[0m\u001b[0mmax_iter\u001b[0m\u001b[0;34m,\u001b[0m \u001b[0msample_weight\u001b[0m\u001b[0;34m,\u001b[0m \u001b[0mcoef_init\u001b[0m\u001b[0;34m,\u001b[0m\u001b[0;34m\u001b[0m\u001b[0;34m\u001b[0m\u001b[0m\n\u001b[0;32m-> 1181\u001b[0;31m                           intercept_init)\n\u001b[0m\u001b[1;32m   1182\u001b[0m \u001b[0;34m\u001b[0m\u001b[0m\n\u001b[1;32m   1183\u001b[0m         if (self.tol is not None and self.tol > -np.inf\n",
      "\u001b[0;32m~/anaconda3/envs/scikitbook/lib/python3.6/site-packages/sklearn/linear_model/_stochastic_gradient.py\u001b[0m in \u001b[0;36m_partial_fit\u001b[0;34m(self, X, y, alpha, C, loss, learning_rate, max_iter, sample_weight, coef_init, intercept_init)\u001b[0m\n\u001b[1;32m   1100\u001b[0m                      max_iter, sample_weight, coef_init, intercept_init):\n\u001b[1;32m   1101\u001b[0m         X, y = check_X_y(X, y, \"csr\", copy=False, order='C', dtype=np.float64,\n\u001b[0;32m-> 1102\u001b[0;31m                          accept_large_sparse=False)\n\u001b[0m\u001b[1;32m   1103\u001b[0m         \u001b[0my\u001b[0m \u001b[0;34m=\u001b[0m \u001b[0my\u001b[0m\u001b[0;34m.\u001b[0m\u001b[0mastype\u001b[0m\u001b[0;34m(\u001b[0m\u001b[0mnp\u001b[0m\u001b[0;34m.\u001b[0m\u001b[0mfloat64\u001b[0m\u001b[0;34m,\u001b[0m \u001b[0mcopy\u001b[0m\u001b[0;34m=\u001b[0m\u001b[0;32mFalse\u001b[0m\u001b[0;34m)\u001b[0m\u001b[0;34m\u001b[0m\u001b[0;34m\u001b[0m\u001b[0m\n\u001b[1;32m   1104\u001b[0m \u001b[0;34m\u001b[0m\u001b[0m\n",
      "\u001b[0;32m~/anaconda3/envs/scikitbook/lib/python3.6/site-packages/sklearn/utils/validation.py\u001b[0m in \u001b[0;36mcheck_X_y\u001b[0;34m(X, y, accept_sparse, accept_large_sparse, dtype, order, copy, force_all_finite, ensure_2d, allow_nd, multi_output, ensure_min_samples, ensure_min_features, y_numeric, warn_on_dtype, estimator)\u001b[0m\n\u001b[1;32m    742\u001b[0m                         dtype=None)\n\u001b[1;32m    743\u001b[0m     \u001b[0;32melse\u001b[0m\u001b[0;34m:\u001b[0m\u001b[0;34m\u001b[0m\u001b[0;34m\u001b[0m\u001b[0m\n\u001b[0;32m--> 744\u001b[0;31m         \u001b[0my\u001b[0m \u001b[0;34m=\u001b[0m \u001b[0mcolumn_or_1d\u001b[0m\u001b[0;34m(\u001b[0m\u001b[0my\u001b[0m\u001b[0;34m,\u001b[0m \u001b[0mwarn\u001b[0m\u001b[0;34m=\u001b[0m\u001b[0;32mTrue\u001b[0m\u001b[0;34m)\u001b[0m\u001b[0;34m\u001b[0m\u001b[0;34m\u001b[0m\u001b[0m\n\u001b[0m\u001b[1;32m    745\u001b[0m         \u001b[0m_assert_all_finite\u001b[0m\u001b[0;34m(\u001b[0m\u001b[0my\u001b[0m\u001b[0;34m)\u001b[0m\u001b[0;34m\u001b[0m\u001b[0;34m\u001b[0m\u001b[0m\n\u001b[1;32m    746\u001b[0m     \u001b[0;32mif\u001b[0m \u001b[0my_numeric\u001b[0m \u001b[0;32mand\u001b[0m \u001b[0my\u001b[0m\u001b[0;34m.\u001b[0m\u001b[0mdtype\u001b[0m\u001b[0;34m.\u001b[0m\u001b[0mkind\u001b[0m \u001b[0;34m==\u001b[0m \u001b[0;34m'O'\u001b[0m\u001b[0;34m:\u001b[0m\u001b[0;34m\u001b[0m\u001b[0;34m\u001b[0m\u001b[0m\n",
      "\u001b[0;32m~/anaconda3/envs/scikitbook/lib/python3.6/site-packages/sklearn/utils/validation.py\u001b[0m in \u001b[0;36mcolumn_or_1d\u001b[0;34m(y, warn)\u001b[0m\n\u001b[1;32m    779\u001b[0m         \u001b[0;32mreturn\u001b[0m \u001b[0mnp\u001b[0m\u001b[0;34m.\u001b[0m\u001b[0mravel\u001b[0m\u001b[0;34m(\u001b[0m\u001b[0my\u001b[0m\u001b[0;34m)\u001b[0m\u001b[0;34m\u001b[0m\u001b[0;34m\u001b[0m\u001b[0m\n\u001b[1;32m    780\u001b[0m \u001b[0;34m\u001b[0m\u001b[0m\n\u001b[0;32m--> 781\u001b[0;31m     \u001b[0;32mraise\u001b[0m \u001b[0mValueError\u001b[0m\u001b[0;34m(\u001b[0m\u001b[0;34m\"bad input shape {0}\"\u001b[0m\u001b[0;34m.\u001b[0m\u001b[0mformat\u001b[0m\u001b[0;34m(\u001b[0m\u001b[0mshape\u001b[0m\u001b[0;34m)\u001b[0m\u001b[0;34m)\u001b[0m\u001b[0;34m\u001b[0m\u001b[0;34m\u001b[0m\u001b[0m\n\u001b[0m\u001b[1;32m    782\u001b[0m \u001b[0;34m\u001b[0m\u001b[0m\n\u001b[1;32m    783\u001b[0m \u001b[0;34m\u001b[0m\u001b[0m\n",
      "\u001b[0;31mValueError\u001b[0m: bad input shape (375, 3)"
     ]
    }
   ],
   "source": [
    "# This code will throw a `ValueError: bad input shape`\n",
    "# We will fix that in the next section\n",
    "\n",
    "from sklearn.linear_model import SGDRegressor\n",
    "\n",
    "rgr = SGDRegressor()\n",
    "rgr.fit(x_train, y_train)\n",
    "\n",
    "y_pred = rgr.predict(x_test)"
   ]
  },
  {
   "cell_type": "markdown",
   "metadata": {},
   "source": [
    "## MultiOutput Regressor"
   ]
  },
  {
   "cell_type": "code",
   "execution_count": 549,
   "metadata": {},
   "outputs": [],
   "source": [
    "from sklearn.multioutput import MultiOutputRegressor\n",
    "from sklearn.linear_model import SGDRegressor\n",
    "\n",
    "rgr = MultiOutputRegressor(\n",
    "    estimator=SGDRegressor(), \n",
    "    n_jobs=-1\n",
    ")\n",
    "rgr.fit(x_train, y_train)\n",
    "y_pred = rgr.predict(x_test)"
   ]
  },
  {
   "cell_type": "code",
   "execution_count": 550,
   "metadata": {},
   "outputs": [
    {
     "data": {
      "text/html": [
       "<div>\n",
       "<style scoped>\n",
       "    .dataframe tbody tr th:only-of-type {\n",
       "        vertical-align: middle;\n",
       "    }\n",
       "\n",
       "    .dataframe tbody tr th {\n",
       "        vertical-align: top;\n",
       "    }\n",
       "\n",
       "    .dataframe thead th {\n",
       "        text-align: right;\n",
       "    }\n",
       "</style>\n",
       "<table border=\"1\" class=\"dataframe\">\n",
       "  <thead>\n",
       "    <tr style=\"text-align: right;\">\n",
       "      <th></th>\n",
       "      <th>Target # 0</th>\n",
       "      <th>Target # 1</th>\n",
       "      <th>Target # 2</th>\n",
       "    </tr>\n",
       "  </thead>\n",
       "  <tbody>\n",
       "    <tr>\n",
       "      <th>0</th>\n",
       "      <td>388.246760</td>\n",
       "      <td>265.861254</td>\n",
       "      <td>304.680191</td>\n",
       "    </tr>\n",
       "    <tr>\n",
       "      <th>1</th>\n",
       "      <td>-14.613780</td>\n",
       "      <td>229.371666</td>\n",
       "      <td>-54.839709</td>\n",
       "    </tr>\n",
       "    <tr>\n",
       "      <th>2</th>\n",
       "      <td>-99.291296</td>\n",
       "      <td>-137.406606</td>\n",
       "      <td>-78.830682</td>\n",
       "    </tr>\n",
       "    <tr>\n",
       "      <th>3</th>\n",
       "      <td>70.124828</td>\n",
       "      <td>102.777829</td>\n",
       "      <td>66.346197</td>\n",
       "    </tr>\n",
       "  </tbody>\n",
       "</table>\n",
       "</div>"
      ],
      "text/plain": [
       "   Target # 0  Target # 1  Target # 2\n",
       "0  388.246760  265.861254  304.680191\n",
       "1  -14.613780  229.371666  -54.839709\n",
       "2  -99.291296 -137.406606  -78.830682\n",
       "3   70.124828  102.777829   66.346197"
      ]
     },
     "execution_count": 550,
     "metadata": {},
     "output_type": "execute_result"
    }
   ],
   "source": [
    "df_pred = pd.DataFrame(\n",
    "    y_pred, columns=target_names\n",
    ")\n",
    "\n",
    "df_pred.head(4)"
   ]
  },
  {
   "cell_type": "code",
   "execution_count": 551,
   "metadata": {},
   "outputs": [
    {
     "data": {
      "text/html": [
       "<div>\n",
       "<style scoped>\n",
       "    .dataframe tbody tr th:only-of-type {\n",
       "        vertical-align: middle;\n",
       "    }\n",
       "\n",
       "    .dataframe tbody tr th {\n",
       "        vertical-align: top;\n",
       "    }\n",
       "\n",
       "    .dataframe thead th {\n",
       "        text-align: right;\n",
       "    }\n",
       "</style>\n",
       "<table border=\"1\" class=\"dataframe\">\n",
       "  <thead>\n",
       "    <tr style=\"text-align: right;\">\n",
       "      <th></th>\n",
       "      <th>Target # 0</th>\n",
       "      <th>Target # 1</th>\n",
       "      <th>Target # 2</th>\n",
       "    </tr>\n",
       "  </thead>\n",
       "  <tbody>\n",
       "    <tr>\n",
       "      <th>count</th>\n",
       "      <td>125.000000</td>\n",
       "      <td>125.000000</td>\n",
       "      <td>125.000000</td>\n",
       "    </tr>\n",
       "    <tr>\n",
       "      <th>mean</th>\n",
       "      <td>-6.321237</td>\n",
       "      <td>-2.894993</td>\n",
       "      <td>11.095910</td>\n",
       "    </tr>\n",
       "    <tr>\n",
       "      <th>std</th>\n",
       "      <td>138.403445</td>\n",
       "      <td>145.645776</td>\n",
       "      <td>175.687486</td>\n",
       "    </tr>\n",
       "    <tr>\n",
       "      <th>min</th>\n",
       "      <td>-453.102572</td>\n",
       "      <td>-438.465922</td>\n",
       "      <td>-448.537570</td>\n",
       "    </tr>\n",
       "    <tr>\n",
       "      <th>25%</th>\n",
       "      <td>-104.854652</td>\n",
       "      <td>-90.421777</td>\n",
       "      <td>-88.148752</td>\n",
       "    </tr>\n",
       "    <tr>\n",
       "      <th>50%</th>\n",
       "      <td>7.229997</td>\n",
       "      <td>-6.481535</td>\n",
       "      <td>20.461999</td>\n",
       "    </tr>\n",
       "    <tr>\n",
       "      <th>75%</th>\n",
       "      <td>90.195058</td>\n",
       "      <td>106.442328</td>\n",
       "      <td>122.109468</td>\n",
       "    </tr>\n",
       "    <tr>\n",
       "      <th>max</th>\n",
       "      <td>388.246760</td>\n",
       "      <td>322.595498</td>\n",
       "      <td>380.896983</td>\n",
       "    </tr>\n",
       "  </tbody>\n",
       "</table>\n",
       "</div>"
      ],
      "text/plain": [
       "       Target # 0  Target # 1  Target # 2\n",
       "count  125.000000  125.000000  125.000000\n",
       "mean    -6.321237   -2.894993   11.095910\n",
       "std    138.403445  145.645776  175.687486\n",
       "min   -453.102572 -438.465922 -448.537570\n",
       "25%   -104.854652  -90.421777  -88.148752\n",
       "50%      7.229997   -6.481535   20.461999\n",
       "75%     90.195058  106.442328  122.109468\n",
       "max    388.246760  322.595498  380.896983"
      ]
     },
     "execution_count": 551,
     "metadata": {},
     "output_type": "execute_result"
    }
   ],
   "source": [
    "df_pred.describe()"
   ]
  },
  {
   "cell_type": "code",
   "execution_count": 552,
   "metadata": {},
   "outputs": [
    {
     "name": "stderr",
     "output_type": "stream",
     "text": [
      "/Users/tarek/anaconda3/envs/scikitbook/lib/python3.6/site-packages/ipykernel_launcher.py:10: UserWarning: Matplotlib is currently using module://ipykernel.pylab.backend_inline, which is a non-GUI backend, so cannot show the figure.\n",
      "  # Remove the CWD from sys.path while we load stuff.\n"
     ]
    },
    {
     "data": {
      "image/png": "[encoded data removed]",
      "text/plain": [
       "<Figure size 1080x576 with 1 Axes>"
      ]
     },
     "metadata": {
      "needs_background": "light"
     },
     "output_type": "display_data"
    }
   ],
   "source": [
    "fig, ax = plt.subplots(1, 1, figsize=(15, 8))\n",
    "\n",
    "df_pred.plot(\n",
    "    title='Predictions',\n",
    "    kind='box',\n",
    "    color='k',\n",
    "    ax=ax\n",
    ")\n",
    "\n",
    "fig.show()"
   ]
  },
  {
   "cell_type": "code",
   "execution_count": 553,
   "metadata": {},
   "outputs": [
    {
     "name": "stdout",
     "output_type": "stream",
     "text": [
      "Target # 0: MAE=14.70, R2=0.69\n",
      "Target # 1: MAE=31.19, R2=0.91\n",
      "Target # 2: MAE=14.35, R2=-0.05\n"
     ]
    }
   ],
   "source": [
    "from sklearn.metrics import mean_absolute_error\n",
    "from sklearn.metrics import r2_score\n",
    "\n",
    "for t in range(y_train.shape[1]):\n",
    "    print(\n",
    "        'Target # {}: MAE={:.2f}, R2={:.2f}'.format(\n",
    "            t,\n",
    "            mean_absolute_error(y_test[t], y_pred[t]),\n",
    "            r2_score(y_test[t], y_pred[t]),\n",
    "        )\n",
    "    )"
   ]
  },
  {
   "cell_type": "markdown",
   "metadata": {},
   "source": [
    "## Regressor Chain"
   ]
  },
  {
   "cell_type": "code",
   "execution_count": 554,
   "metadata": {},
   "outputs": [],
   "source": [
    "from sklearn.multioutput import RegressorChain\n",
    "from sklearn.linear_model import Ridge\n",
    "\n",
    "rgr = RegressorChain(\n",
    "    base_estimator=Ridge(\n",
    "        alpha=1\n",
    "    ), \n",
    "    order=[0,1,2],\n",
    ")\n",
    "rgr.fit(x_train, y_train)\n",
    "y_pred = rgr.predict(x_test)"
   ]
  },
  {
   "cell_type": "code",
   "execution_count": 555,
   "metadata": {},
   "outputs": [
    {
     "data": {
      "text/html": [
       "<div>\n",
       "<style scoped>\n",
       "    .dataframe tbody tr th:only-of-type {\n",
       "        vertical-align: middle;\n",
       "    }\n",
       "\n",
       "    .dataframe tbody tr th {\n",
       "        vertical-align: top;\n",
       "    }\n",
       "\n",
       "    .dataframe thead th {\n",
       "        text-align: right;\n",
       "    }\n",
       "</style>\n",
       "<table border=\"1\" class=\"dataframe\">\n",
       "  <thead>\n",
       "    <tr style=\"text-align: right;\">\n",
       "      <th></th>\n",
       "      <th>Target # 0</th>\n",
       "      <th>Target # 1</th>\n",
       "      <th>Target # 2</th>\n",
       "    </tr>\n",
       "  </thead>\n",
       "  <tbody>\n",
       "    <tr>\n",
       "      <th>0</th>\n",
       "      <td>387.104197</td>\n",
       "      <td>265.167365</td>\n",
       "      <td>303.593918</td>\n",
       "    </tr>\n",
       "    <tr>\n",
       "      <th>1</th>\n",
       "      <td>-14.625026</td>\n",
       "      <td>228.614278</td>\n",
       "      <td>-54.647947</td>\n",
       "    </tr>\n",
       "    <tr>\n",
       "      <th>2</th>\n",
       "      <td>-99.105470</td>\n",
       "      <td>-137.019174</td>\n",
       "      <td>-78.690924</td>\n",
       "    </tr>\n",
       "    <tr>\n",
       "      <th>3</th>\n",
       "      <td>69.916189</td>\n",
       "      <td>102.628805</td>\n",
       "      <td>66.052427</td>\n",
       "    </tr>\n",
       "    <tr>\n",
       "      <th>4</th>\n",
       "      <td>-9.471532</td>\n",
       "      <td>-50.476765</td>\n",
       "      <td>-35.556791</td>\n",
       "    </tr>\n",
       "  </tbody>\n",
       "</table>\n",
       "</div>"
      ],
      "text/plain": [
       "   Target # 0  Target # 1  Target # 2\n",
       "0  387.104197  265.167365  303.593918\n",
       "1  -14.625026  228.614278  -54.647947\n",
       "2  -99.105470 -137.019174  -78.690924\n",
       "3   69.916189  102.628805   66.052427\n",
       "4   -9.471532  -50.476765  -35.556791"
      ]
     },
     "execution_count": 555,
     "metadata": {},
     "output_type": "execute_result"
    }
   ],
   "source": [
    "df_pred = pd.DataFrame(\n",
    "    y_pred, columns=[f'Target # {i}' for i in range(y.shape[1])]\n",
    ")\n",
    "\n",
    "df_pred.head(5)"
   ]
  },
  {
   "cell_type": "code",
   "execution_count": 556,
   "metadata": {},
   "outputs": [
    {
     "data": {
      "text/html": [
       "<div>\n",
       "<style scoped>\n",
       "    .dataframe tbody tr th:only-of-type {\n",
       "        vertical-align: middle;\n",
       "    }\n",
       "\n",
       "    .dataframe tbody tr th {\n",
       "        vertical-align: top;\n",
       "    }\n",
       "\n",
       "    .dataframe thead th {\n",
       "        text-align: right;\n",
       "    }\n",
       "</style>\n",
       "<table border=\"1\" class=\"dataframe\">\n",
       "  <thead>\n",
       "    <tr style=\"text-align: right;\">\n",
       "      <th></th>\n",
       "      <th>Target # 0</th>\n",
       "      <th>Target # 1</th>\n",
       "      <th>Target # 2</th>\n",
       "    </tr>\n",
       "  </thead>\n",
       "  <tbody>\n",
       "    <tr>\n",
       "      <th>count</th>\n",
       "      <td>125.000000</td>\n",
       "      <td>125.000000</td>\n",
       "      <td>125.000000</td>\n",
       "    </tr>\n",
       "    <tr>\n",
       "      <th>mean</th>\n",
       "      <td>-6.399924</td>\n",
       "      <td>-2.874063</td>\n",
       "      <td>10.938459</td>\n",
       "    </tr>\n",
       "    <tr>\n",
       "      <th>std</th>\n",
       "      <td>138.015465</td>\n",
       "      <td>145.252443</td>\n",
       "      <td>175.230760</td>\n",
       "    </tr>\n",
       "    <tr>\n",
       "      <th>min</th>\n",
       "      <td>-452.289156</td>\n",
       "      <td>-437.354509</td>\n",
       "      <td>-447.399992</td>\n",
       "    </tr>\n",
       "    <tr>\n",
       "      <th>25%</th>\n",
       "      <td>-105.235770</td>\n",
       "      <td>-89.957469</td>\n",
       "      <td>-88.167254</td>\n",
       "    </tr>\n",
       "    <tr>\n",
       "      <th>50%</th>\n",
       "      <td>7.067715</td>\n",
       "      <td>-6.434888</td>\n",
       "      <td>20.448758</td>\n",
       "    </tr>\n",
       "    <tr>\n",
       "      <th>75%</th>\n",
       "      <td>90.005280</td>\n",
       "      <td>105.966721</td>\n",
       "      <td>121.561737</td>\n",
       "    </tr>\n",
       "    <tr>\n",
       "      <th>max</th>\n",
       "      <td>387.104197</td>\n",
       "      <td>321.824953</td>\n",
       "      <td>379.912155</td>\n",
       "    </tr>\n",
       "  </tbody>\n",
       "</table>\n",
       "</div>"
      ],
      "text/plain": [
       "       Target # 0  Target # 1  Target # 2\n",
       "count  125.000000  125.000000  125.000000\n",
       "mean    -6.399924   -2.874063   10.938459\n",
       "std    138.015465  145.252443  175.230760\n",
       "min   -452.289156 -437.354509 -447.399992\n",
       "25%   -105.235770  -89.957469  -88.167254\n",
       "50%      7.067715   -6.434888   20.448758\n",
       "75%     90.005280  105.966721  121.561737\n",
       "max    387.104197  321.824953  379.912155"
      ]
     },
     "execution_count": 556,
     "metadata": {},
     "output_type": "execute_result"
    }
   ],
   "source": [
    "df_pred.describe()"
   ]
  },
  {
   "cell_type": "code",
   "execution_count": 557,
   "metadata": {},
   "outputs": [
    {
     "name": "stdout",
     "output_type": "stream",
     "text": [
      "Target # 0: MAE=14.80, R2=0.685697\n",
      "Target # 1: MAE=31.01, R2=0.908830\n",
      "Target # 2: MAE=14.23, R2=-0.027262\n"
     ]
    }
   ],
   "source": [
    "from sklearn.metrics import mean_absolute_error\n",
    "from sklearn.metrics import r2_score\n",
    "\n",
    "for t in range(y_train.shape[1]):\n",
    "    print(\n",
    "        'Target # {}: MAE={:.2f}, R2={:2f}'.format(\n",
    "            t,\n",
    "            mean_absolute_error(y_test[t], y_pred[t]),\n",
    "            r2_score(y_test[t], y_pred[t]),\n",
    "        )\n",
    "    )"
   ]
  },
  {
   "cell_type": "code",
   "execution_count": 558,
   "metadata": {},
   "outputs": [
    {
     "name": "stdout",
     "output_type": "stream",
     "text": [
      "\n",
      "Estimator for Target # 0:\n",
      "       Coeff      Feature\n",
      "0  79.918255  Feature # 0\n",
      "1  54.445405  Feature # 1\n",
      "2   8.751636  Feature # 2\n",
      "3  70.475604  Feature # 3\n",
      "4  55.110842  Feature # 4\n",
      "5  32.234095  Feature # 5\n",
      "6  10.481355  Feature # 6\n",
      "7  12.246104  Feature # 7\n",
      "\n",
      "Estimator for Target # 1:\n",
      "       Coeff      Feature\n",
      "0  39.483124  Feature # 0\n",
      "1  14.649653  Feature # 1\n",
      "2  15.149074  Feature # 2\n",
      "3  36.561750  Feature # 3\n",
      "4  92.613430  Feature # 4\n",
      "5  29.281277  Feature # 5\n",
      "6  56.292321  Feature # 6\n",
      "7  77.943212  Feature # 7\n",
      "8   0.037757   Target # 0\n",
      "\n",
      "Estimator for Target # 2:\n",
      "       Coeff      Feature\n",
      "0  70.360386  Feature # 0\n",
      "1   1.835239  Feature # 1\n",
      "2  92.844093  Feature # 2\n",
      "3  89.221276  Feature # 3\n",
      "4  41.716647  Feature # 4\n",
      "5  70.822408  Feature # 5\n",
      "6  27.621890  Feature # 6\n",
      "7  14.965828  Feature # 7\n",
      "8   0.090121   Target # 0\n",
      "9  -0.026836   Target # 1\n"
     ]
    }
   ],
   "source": [
    "for t, estimator in enumerate(rgr.estimators_):\n",
    "    print(f'\\nEstimator for Target # {t}:')\n",
    "    df_coef = pd.DataFrame(\n",
    "        zip(\n",
    "            rgr.estimators_[t].coef_, \n",
    "            feature_names + target_names\n",
    "        ),\n",
    "        columns=['Coeff', 'Feature']\n",
    "    )\n",
    "    print(df_coef)"
   ]
  },
  {
   "cell_type": "code",
   "execution_count": 559,
   "metadata": {},
   "outputs": [
    {
     "data": {
      "text/html": [
       "<style  type=\"text/css\" >\n",
       "    #T_863e48d8_612c_11ea_acd4_784f43517922row0_col1 {\n",
       "            width:  10em;\n",
       "             height:  80%;\n",
       "            background:  linear-gradient(90deg,#AAAAAA 100.0%, transparent 100.0%);\n",
       "        }    #T_863e48d8_612c_11ea_acd4_784f43517922row1_col1 {\n",
       "            width:  10em;\n",
       "             height:  80%;\n",
       "            background:  linear-gradient(90deg,#AAAAAA 68.1%, transparent 68.1%);\n",
       "        }    #T_863e48d8_612c_11ea_acd4_784f43517922row2_col1 {\n",
       "            width:  10em;\n",
       "             height:  80%;\n",
       "            background:  linear-gradient(90deg,#AAAAAA 11.0%, transparent 11.0%);\n",
       "        }    #T_863e48d8_612c_11ea_acd4_784f43517922row3_col1 {\n",
       "            width:  10em;\n",
       "             height:  80%;\n",
       "            background:  linear-gradient(90deg,#AAAAAA 88.2%, transparent 88.2%);\n",
       "        }    #T_863e48d8_612c_11ea_acd4_784f43517922row4_col1 {\n",
       "            width:  10em;\n",
       "             height:  80%;\n",
       "            background:  linear-gradient(90deg,#AAAAAA 69.0%, transparent 69.0%);\n",
       "        }    #T_863e48d8_612c_11ea_acd4_784f43517922row5_col1 {\n",
       "            width:  10em;\n",
       "             height:  80%;\n",
       "            background:  linear-gradient(90deg,#AAAAAA 40.3%, transparent 40.3%);\n",
       "        }    #T_863e48d8_612c_11ea_acd4_784f43517922row6_col1 {\n",
       "            width:  10em;\n",
       "             height:  80%;\n",
       "            background:  linear-gradient(90deg,#AAAAAA 13.1%, transparent 13.1%);\n",
       "        }    #T_863e48d8_612c_11ea_acd4_784f43517922row7_col1 {\n",
       "            width:  10em;\n",
       "             height:  80%;\n",
       "            background:  linear-gradient(90deg,#AAAAAA 15.3%, transparent 15.3%);\n",
       "        }</style><table id=\"T_863e48d8_612c_11ea_acd4_784f43517922\" ><thead>    <tr>        <th class=\"blank level0\" ></th>        <th class=\"col_heading level0 col0\" >Feature</th>        <th class=\"col_heading level0 col1\" >Coeff</th>    </tr></thead><tbody>\n",
       "                <tr>\n",
       "                        <th id=\"T_863e48d8_612c_11ea_acd4_784f43517922level0_row0\" class=\"row_heading level0 row0\" >0</th>\n",
       "                        <td id=\"T_863e48d8_612c_11ea_acd4_784f43517922row0_col0\" class=\"data row0 col0\" >Feature # 0</td>\n",
       "                        <td id=\"T_863e48d8_612c_11ea_acd4_784f43517922row0_col1\" class=\"data row0 col1\" >79.9183</td>\n",
       "            </tr>\n",
       "            <tr>\n",
       "                        <th id=\"T_863e48d8_612c_11ea_acd4_784f43517922level0_row1\" class=\"row_heading level0 row1\" >1</th>\n",
       "                        <td id=\"T_863e48d8_612c_11ea_acd4_784f43517922row1_col0\" class=\"data row1 col0\" >Feature # 1</td>\n",
       "                        <td id=\"T_863e48d8_612c_11ea_acd4_784f43517922row1_col1\" class=\"data row1 col1\" >54.4454</td>\n",
       "            </tr>\n",
       "            <tr>\n",
       "                        <th id=\"T_863e48d8_612c_11ea_acd4_784f43517922level0_row2\" class=\"row_heading level0 row2\" >2</th>\n",
       "                        <td id=\"T_863e48d8_612c_11ea_acd4_784f43517922row2_col0\" class=\"data row2 col0\" >Feature # 2</td>\n",
       "                        <td id=\"T_863e48d8_612c_11ea_acd4_784f43517922row2_col1\" class=\"data row2 col1\" >8.75164</td>\n",
       "            </tr>\n",
       "            <tr>\n",
       "                        <th id=\"T_863e48d8_612c_11ea_acd4_784f43517922level0_row3\" class=\"row_heading level0 row3\" >3</th>\n",
       "                        <td id=\"T_863e48d8_612c_11ea_acd4_784f43517922row3_col0\" class=\"data row3 col0\" >Feature # 3</td>\n",
       "                        <td id=\"T_863e48d8_612c_11ea_acd4_784f43517922row3_col1\" class=\"data row3 col1\" >70.4756</td>\n",
       "            </tr>\n",
       "            <tr>\n",
       "                        <th id=\"T_863e48d8_612c_11ea_acd4_784f43517922level0_row4\" class=\"row_heading level0 row4\" >4</th>\n",
       "                        <td id=\"T_863e48d8_612c_11ea_acd4_784f43517922row4_col0\" class=\"data row4 col0\" >Feature # 4</td>\n",
       "                        <td id=\"T_863e48d8_612c_11ea_acd4_784f43517922row4_col1\" class=\"data row4 col1\" >55.1108</td>\n",
       "            </tr>\n",
       "            <tr>\n",
       "                        <th id=\"T_863e48d8_612c_11ea_acd4_784f43517922level0_row5\" class=\"row_heading level0 row5\" >5</th>\n",
       "                        <td id=\"T_863e48d8_612c_11ea_acd4_784f43517922row5_col0\" class=\"data row5 col0\" >Feature # 5</td>\n",
       "                        <td id=\"T_863e48d8_612c_11ea_acd4_784f43517922row5_col1\" class=\"data row5 col1\" >32.2341</td>\n",
       "            </tr>\n",
       "            <tr>\n",
       "                        <th id=\"T_863e48d8_612c_11ea_acd4_784f43517922level0_row6\" class=\"row_heading level0 row6\" >6</th>\n",
       "                        <td id=\"T_863e48d8_612c_11ea_acd4_784f43517922row6_col0\" class=\"data row6 col0\" >Feature # 6</td>\n",
       "                        <td id=\"T_863e48d8_612c_11ea_acd4_784f43517922row6_col1\" class=\"data row6 col1\" >10.4814</td>\n",
       "            </tr>\n",
       "            <tr>\n",
       "                        <th id=\"T_863e48d8_612c_11ea_acd4_784f43517922level0_row7\" class=\"row_heading level0 row7\" >7</th>\n",
       "                        <td id=\"T_863e48d8_612c_11ea_acd4_784f43517922row7_col0\" class=\"data row7 col0\" >Feature # 7</td>\n",
       "                        <td id=\"T_863e48d8_612c_11ea_acd4_784f43517922row7_col1\" class=\"data row7 col1\" >12.2461</td>\n",
       "            </tr>\n",
       "    </tbody></table>"
      ],
      "text/plain": [
       "<pandas.io.formats.style.Styler at 0x1a1a786a58>"
      ]
     },
     "execution_count": 559,
     "metadata": {},
     "output_type": "execute_result"
    }
   ],
   "source": [
    "pd.DataFrame(\n",
    "    zip(\n",
    "        rgr.estimators_[0].coef_, \n",
    "        feature_names + target_names\n",
    "    ),\n",
    "    columns=['Coeff', 'Feature']\n",
    ")[\n",
    "    ['Feature', 'Coeff']\n",
    "].style.bar(\n",
    "    subset=['Coeff'], align='mid', color='#AAAAAA'\n",
    ")"
   ]
  },
  {
   "cell_type": "code",
   "execution_count": 560,
   "metadata": {},
   "outputs": [
    {
     "data": {
      "text/html": [
       "<style  type=\"text/css\" >\n",
       "    #T_865c83d4_612c_11ea_b773_784f43517922row0_col1 {\n",
       "            width:  10em;\n",
       "             height:  80%;\n",
       "            background:  linear-gradient(90deg, transparent 0.0%, #AAAAAA 0.0%, #AAAAAA 75.8%, transparent 75.8%);\n",
       "        }    #T_865c83d4_612c_11ea_b773_784f43517922row1_col1 {\n",
       "            width:  10em;\n",
       "             height:  80%;\n",
       "            background:  linear-gradient(90deg, transparent 0.0%, #AAAAAA 0.0%, #AAAAAA 2.0%, transparent 2.0%);\n",
       "        }    #T_865c83d4_612c_11ea_b773_784f43517922row2_col1 {\n",
       "            width:  10em;\n",
       "             height:  80%;\n",
       "            background:  linear-gradient(90deg, transparent 0.0%, #AAAAAA 0.0%, #AAAAAA 100.0%, transparent 100.0%);\n",
       "        }    #T_865c83d4_612c_11ea_b773_784f43517922row3_col1 {\n",
       "            width:  10em;\n",
       "             height:  80%;\n",
       "            background:  linear-gradient(90deg, transparent 0.0%, #AAAAAA 0.0%, #AAAAAA 96.1%, transparent 96.1%);\n",
       "        }    #T_865c83d4_612c_11ea_b773_784f43517922row4_col1 {\n",
       "            width:  10em;\n",
       "             height:  80%;\n",
       "            background:  linear-gradient(90deg, transparent 0.0%, #AAAAAA 0.0%, #AAAAAA 44.9%, transparent 44.9%);\n",
       "        }    #T_865c83d4_612c_11ea_b773_784f43517922row5_col1 {\n",
       "            width:  10em;\n",
       "             height:  80%;\n",
       "            background:  linear-gradient(90deg, transparent 0.0%, #AAAAAA 0.0%, #AAAAAA 76.3%, transparent 76.3%);\n",
       "        }    #T_865c83d4_612c_11ea_b773_784f43517922row6_col1 {\n",
       "            width:  10em;\n",
       "             height:  80%;\n",
       "            background:  linear-gradient(90deg, transparent 0.0%, #AAAAAA 0.0%, #AAAAAA 29.8%, transparent 29.8%);\n",
       "        }    #T_865c83d4_612c_11ea_b773_784f43517922row7_col1 {\n",
       "            width:  10em;\n",
       "             height:  80%;\n",
       "            background:  linear-gradient(90deg, transparent 0.0%, #AAAAAA 0.0%, #AAAAAA 16.1%, transparent 16.1%);\n",
       "        }    #T_865c83d4_612c_11ea_b773_784f43517922row8_col1 {\n",
       "            width:  10em;\n",
       "             height:  80%;\n",
       "            background:  linear-gradient(90deg, transparent 0.0%, #AAAAAA 0.0%, #AAAAAA 0.1%, transparent 0.1%);\n",
       "        }    #T_865c83d4_612c_11ea_b773_784f43517922row9_col1 {\n",
       "            width:  10em;\n",
       "             height:  80%;\n",
       "            background:  linear-gradient(90deg,#AAAAAA 0.0%, transparent 0.0%);\n",
       "        }</style><table id=\"T_865c83d4_612c_11ea_b773_784f43517922\" ><thead>    <tr>        <th class=\"blank level0\" ></th>        <th class=\"col_heading level0 col0\" >Feature</th>        <th class=\"col_heading level0 col1\" >Coeff</th>    </tr></thead><tbody>\n",
       "                <tr>\n",
       "                        <th id=\"T_865c83d4_612c_11ea_b773_784f43517922level0_row0\" class=\"row_heading level0 row0\" >0</th>\n",
       "                        <td id=\"T_865c83d4_612c_11ea_b773_784f43517922row0_col0\" class=\"data row0 col0\" >Feature # 0</td>\n",
       "                        <td id=\"T_865c83d4_612c_11ea_b773_784f43517922row0_col1\" class=\"data row0 col1\" >70.3604</td>\n",
       "            </tr>\n",
       "            <tr>\n",
       "                        <th id=\"T_865c83d4_612c_11ea_b773_784f43517922level0_row1\" class=\"row_heading level0 row1\" >1</th>\n",
       "                        <td id=\"T_865c83d4_612c_11ea_b773_784f43517922row1_col0\" class=\"data row1 col0\" >Feature # 1</td>\n",
       "                        <td id=\"T_865c83d4_612c_11ea_b773_784f43517922row1_col1\" class=\"data row1 col1\" >1.83524</td>\n",
       "            </tr>\n",
       "            <tr>\n",
       "                        <th id=\"T_865c83d4_612c_11ea_b773_784f43517922level0_row2\" class=\"row_heading level0 row2\" >2</th>\n",
       "                        <td id=\"T_865c83d4_612c_11ea_b773_784f43517922row2_col0\" class=\"data row2 col0\" >Feature # 2</td>\n",
       "                        <td id=\"T_865c83d4_612c_11ea_b773_784f43517922row2_col1\" class=\"data row2 col1\" >92.8441</td>\n",
       "            </tr>\n",
       "            <tr>\n",
       "                        <th id=\"T_865c83d4_612c_11ea_b773_784f43517922level0_row3\" class=\"row_heading level0 row3\" >3</th>\n",
       "                        <td id=\"T_865c83d4_612c_11ea_b773_784f43517922row3_col0\" class=\"data row3 col0\" >Feature # 3</td>\n",
       "                        <td id=\"T_865c83d4_612c_11ea_b773_784f43517922row3_col1\" class=\"data row3 col1\" >89.2213</td>\n",
       "            </tr>\n",
       "            <tr>\n",
       "                        <th id=\"T_865c83d4_612c_11ea_b773_784f43517922level0_row4\" class=\"row_heading level0 row4\" >4</th>\n",
       "                        <td id=\"T_865c83d4_612c_11ea_b773_784f43517922row4_col0\" class=\"data row4 col0\" >Feature # 4</td>\n",
       "                        <td id=\"T_865c83d4_612c_11ea_b773_784f43517922row4_col1\" class=\"data row4 col1\" >41.7166</td>\n",
       "            </tr>\n",
       "            <tr>\n",
       "                        <th id=\"T_865c83d4_612c_11ea_b773_784f43517922level0_row5\" class=\"row_heading level0 row5\" >5</th>\n",
       "                        <td id=\"T_865c83d4_612c_11ea_b773_784f43517922row5_col0\" class=\"data row5 col0\" >Feature # 5</td>\n",
       "                        <td id=\"T_865c83d4_612c_11ea_b773_784f43517922row5_col1\" class=\"data row5 col1\" >70.8224</td>\n",
       "            </tr>\n",
       "            <tr>\n",
       "                        <th id=\"T_865c83d4_612c_11ea_b773_784f43517922level0_row6\" class=\"row_heading level0 row6\" >6</th>\n",
       "                        <td id=\"T_865c83d4_612c_11ea_b773_784f43517922row6_col0\" class=\"data row6 col0\" >Feature # 6</td>\n",
       "                        <td id=\"T_865c83d4_612c_11ea_b773_784f43517922row6_col1\" class=\"data row6 col1\" >27.6219</td>\n",
       "            </tr>\n",
       "            <tr>\n",
       "                        <th id=\"T_865c83d4_612c_11ea_b773_784f43517922level0_row7\" class=\"row_heading level0 row7\" >7</th>\n",
       "                        <td id=\"T_865c83d4_612c_11ea_b773_784f43517922row7_col0\" class=\"data row7 col0\" >Feature # 7</td>\n",
       "                        <td id=\"T_865c83d4_612c_11ea_b773_784f43517922row7_col1\" class=\"data row7 col1\" >14.9658</td>\n",
       "            </tr>\n",
       "            <tr>\n",
       "                        <th id=\"T_865c83d4_612c_11ea_b773_784f43517922level0_row8\" class=\"row_heading level0 row8\" >8</th>\n",
       "                        <td id=\"T_865c83d4_612c_11ea_b773_784f43517922row8_col0\" class=\"data row8 col0\" >Target # 0</td>\n",
       "                        <td id=\"T_865c83d4_612c_11ea_b773_784f43517922row8_col1\" class=\"data row8 col1\" >0.0901208</td>\n",
       "            </tr>\n",
       "            <tr>\n",
       "                        <th id=\"T_865c83d4_612c_11ea_b773_784f43517922level0_row9\" class=\"row_heading level0 row9\" >9</th>\n",
       "                        <td id=\"T_865c83d4_612c_11ea_b773_784f43517922row9_col0\" class=\"data row9 col0\" >Target # 1</td>\n",
       "                        <td id=\"T_865c83d4_612c_11ea_b773_784f43517922row9_col1\" class=\"data row9 col1\" >-0.0268364</td>\n",
       "            </tr>\n",
       "    </tbody></table>"
      ],
      "text/plain": [
       "<pandas.io.formats.style.Styler at 0x1a1a786b38>"
      ]
     },
     "execution_count": 560,
     "metadata": {},
     "output_type": "execute_result"
    }
   ],
   "source": [
    "pd.DataFrame(\n",
    "    zip(\n",
    "        rgr.estimators_[-1].coef_, \n",
    "        feature_names + target_names\n",
    "    ),\n",
    "    columns=['Coeff', 'Feature']\n",
    ")[\n",
    "    ['Feature', 'Coeff']\n",
    "].style.bar(\n",
    "    subset=['Coeff'], align='mid', color='#AAAAAA'\n",
    ")"
   ]
  },
  {
   "cell_type": "markdown",
   "metadata": {},
   "source": [
    "# Multi-target Regression\n"
   ]
  },
  {
   "cell_type": "markdown",
   "metadata": {},
   "source": [
    "**Multiclass classification:** classification task with more than two classes. Each sample can only be labelled as one class. For example, classification using features extracted from a set of images of fruit, where each image may either be of an orange, an apple, or a pear. Each image is one sample and is labelled as one of the 3 possible classes. \n",
    "\n",
    "**Multilabel classification:** classification task labelling each sample with x labels from n_classes. For example, prediction of the topics relevant to a text document or video. The document or video may be about one of ‘religion’, ‘politics’, ‘finance’ or ‘education’, several of the topic classes or all of the topic classes."
   ]
  },
  {
   "cell_type": "code",
   "execution_count": 592,
   "metadata": {},
   "outputs": [],
   "source": [
    "from sklearn.datasets import make_multilabel_classification\n",
    "\n",
    "x, y = make_multilabel_classification(\n",
    "    n_samples=500, n_features=8, n_classes=3, n_labels=2\n",
    ")"
   ]
  },
  {
   "cell_type": "code",
   "execution_count": 593,
   "metadata": {},
   "outputs": [
    {
     "data": {
      "text/plain": [
       "((500, 8), (500, 3))"
      ]
     },
     "execution_count": 593,
     "metadata": {},
     "output_type": "execute_result"
    }
   ],
   "source": [
    "x.shape, y.shape"
   ]
  },
  {
   "cell_type": "code",
   "execution_count": 596,
   "metadata": {},
   "outputs": [
    {
     "data": {
      "text/plain": [
       "array([0, 1])"
      ]
     },
     "execution_count": 596,
     "metadata": {},
     "output_type": "execute_result"
    }
   ],
   "source": [
    "np.unique(y)"
   ]
  },
  {
   "cell_type": "code",
   "execution_count": 597,
   "metadata": {},
   "outputs": [],
   "source": [
    "y[:,-1] = y[:,0]"
   ]
  },
  {
   "cell_type": "code",
   "execution_count": 598,
   "metadata": {},
   "outputs": [],
   "source": [
    "feature_names = [f'Feature # {i}' for i in range(x.shape[1])]\n",
    "target_names = [f'Target # {i}' for i in range(y.shape[1])]"
   ]
  },
  {
   "cell_type": "code",
   "execution_count": 599,
   "metadata": {},
   "outputs": [],
   "source": [
    "from sklearn.model_selection import train_test_split\n",
    "\n",
    "x_train, x_test, y_train, y_test = train_test_split(x, y, test_size=0.25)"
   ]
  },
  {
   "cell_type": "code",
   "execution_count": 600,
   "metadata": {},
   "outputs": [
    {
     "ename": "ValueError",
     "evalue": "bad input shape (375, 3)",
     "output_type": "error",
     "traceback": [
      "\u001b[0;31m---------------------------------------------------------------------------\u001b[0m",
      "\u001b[0;31mValueError\u001b[0m                                Traceback (most recent call last)",
      "\u001b[0;32m<ipython-input-600-812cf83af533>\u001b[0m in \u001b[0;36m<module>\u001b[0;34m\u001b[0m\n\u001b[1;32m      2\u001b[0m \u001b[0;34m\u001b[0m\u001b[0m\n\u001b[1;32m      3\u001b[0m \u001b[0mclf\u001b[0m \u001b[0;34m=\u001b[0m \u001b[0mGradientBoostingClassifier\u001b[0m\u001b[0;34m(\u001b[0m\u001b[0;34m)\u001b[0m\u001b[0;34m\u001b[0m\u001b[0;34m\u001b[0m\u001b[0m\n\u001b[0;32m----> 4\u001b[0;31m \u001b[0mclf\u001b[0m\u001b[0;34m.\u001b[0m\u001b[0mfit\u001b[0m\u001b[0;34m(\u001b[0m\u001b[0mx_train\u001b[0m\u001b[0;34m,\u001b[0m \u001b[0my_train\u001b[0m\u001b[0;34m)\u001b[0m\u001b[0;34m\u001b[0m\u001b[0;34m\u001b[0m\u001b[0m\n\u001b[0m\u001b[1;32m      5\u001b[0m \u001b[0my_pred\u001b[0m \u001b[0;34m=\u001b[0m \u001b[0mclf\u001b[0m\u001b[0;34m.\u001b[0m\u001b[0mpredict\u001b[0m\u001b[0;34m(\u001b[0m\u001b[0mx_test\u001b[0m\u001b[0;34m)\u001b[0m\u001b[0;34m\u001b[0m\u001b[0;34m\u001b[0m\u001b[0m\n",
      "\u001b[0;32m~/anaconda3/envs/scikitbook/lib/python3.6/site-packages/sklearn/ensemble/_gb.py\u001b[0m in \u001b[0;36mfit\u001b[0;34m(self, X, y, sample_weight, monitor)\u001b[0m\n\u001b[1;32m   1452\u001b[0m \u001b[0;34m\u001b[0m\u001b[0m\n\u001b[1;32m   1453\u001b[0m         \u001b[0my\u001b[0m \u001b[0;34m=\u001b[0m \u001b[0mcheck_array\u001b[0m\u001b[0;34m(\u001b[0m\u001b[0my\u001b[0m\u001b[0;34m,\u001b[0m \u001b[0maccept_sparse\u001b[0m\u001b[0;34m=\u001b[0m\u001b[0;34m'csc'\u001b[0m\u001b[0;34m,\u001b[0m \u001b[0mensure_2d\u001b[0m\u001b[0;34m=\u001b[0m\u001b[0;32mFalse\u001b[0m\u001b[0;34m,\u001b[0m \u001b[0mdtype\u001b[0m\u001b[0;34m=\u001b[0m\u001b[0;32mNone\u001b[0m\u001b[0;34m)\u001b[0m\u001b[0;34m\u001b[0m\u001b[0;34m\u001b[0m\u001b[0m\n\u001b[0;32m-> 1454\u001b[0;31m         \u001b[0my\u001b[0m \u001b[0;34m=\u001b[0m \u001b[0mcolumn_or_1d\u001b[0m\u001b[0;34m(\u001b[0m\u001b[0my\u001b[0m\u001b[0;34m,\u001b[0m \u001b[0mwarn\u001b[0m\u001b[0;34m=\u001b[0m\u001b[0;32mTrue\u001b[0m\u001b[0;34m)\u001b[0m\u001b[0;34m\u001b[0m\u001b[0;34m\u001b[0m\u001b[0m\n\u001b[0m\u001b[1;32m   1455\u001b[0m         \u001b[0my\u001b[0m \u001b[0;34m=\u001b[0m \u001b[0mself\u001b[0m\u001b[0;34m.\u001b[0m\u001b[0m_validate_y\u001b[0m\u001b[0;34m(\u001b[0m\u001b[0my\u001b[0m\u001b[0;34m,\u001b[0m \u001b[0msample_weight\u001b[0m\u001b[0;34m)\u001b[0m\u001b[0;34m\u001b[0m\u001b[0;34m\u001b[0m\u001b[0m\n\u001b[1;32m   1456\u001b[0m \u001b[0;34m\u001b[0m\u001b[0m\n",
      "\u001b[0;32m~/anaconda3/envs/scikitbook/lib/python3.6/site-packages/sklearn/utils/validation.py\u001b[0m in \u001b[0;36mcolumn_or_1d\u001b[0;34m(y, warn)\u001b[0m\n\u001b[1;32m    779\u001b[0m         \u001b[0;32mreturn\u001b[0m \u001b[0mnp\u001b[0m\u001b[0;34m.\u001b[0m\u001b[0mravel\u001b[0m\u001b[0;34m(\u001b[0m\u001b[0my\u001b[0m\u001b[0;34m)\u001b[0m\u001b[0;34m\u001b[0m\u001b[0;34m\u001b[0m\u001b[0m\n\u001b[1;32m    780\u001b[0m \u001b[0;34m\u001b[0m\u001b[0m\n\u001b[0;32m--> 781\u001b[0;31m     \u001b[0;32mraise\u001b[0m \u001b[0mValueError\u001b[0m\u001b[0;34m(\u001b[0m\u001b[0;34m\"bad input shape {0}\"\u001b[0m\u001b[0;34m.\u001b[0m\u001b[0mformat\u001b[0m\u001b[0;34m(\u001b[0m\u001b[0mshape\u001b[0m\u001b[0;34m)\u001b[0m\u001b[0;34m)\u001b[0m\u001b[0;34m\u001b[0m\u001b[0;34m\u001b[0m\u001b[0m\n\u001b[0m\u001b[1;32m    782\u001b[0m \u001b[0;34m\u001b[0m\u001b[0m\n\u001b[1;32m    783\u001b[0m \u001b[0;34m\u001b[0m\u001b[0m\n",
      "\u001b[0;31mValueError\u001b[0m: bad input shape (375, 3)"
     ]
    }
   ],
   "source": [
    "from sklearn.ensemble import GradientBoostingClassifier\n",
    "\n",
    "clf = GradientBoostingClassifier()\n",
    "clf.fit(x_train, y_train)\n",
    "y_pred = clf.predict(x_test)"
   ]
  },
  {
   "cell_type": "code",
   "execution_count": 602,
   "metadata": {},
   "outputs": [],
   "source": [
    "from sklearn.multioutput import MultiOutputClassifier\n",
    "from sklearn.ensemble import GradientBoostingClassifier\n",
    "\n",
    "clf = MultiOutputClassifier(\n",
    "    estimator=GradientBoostingClassifier(\n",
    "        n_estimators=500,\n",
    "        learning_rate=0.01,\n",
    "        subsample=0.8,\n",
    "    ),\n",
    "    n_jobs=-1\n",
    ")\n",
    "clf.fit(x_train, y_train)\n",
    "y_pred_multioutput = clf.predict(x_test)"
   ]
  },
  {
   "cell_type": "code",
   "execution_count": 603,
   "metadata": {},
   "outputs": [],
   "source": [
    "from sklearn.multioutput import ClassifierChain\n",
    "from sklearn.ensemble import GradientBoostingClassifier\n",
    "\n",
    "clf = ClassifierChain(\n",
    "    base_estimator=GradientBoostingClassifier(\n",
    "        n_estimators=500,\n",
    "        learning_rate=0.01,\n",
    "        subsample=0.8,\n",
    "    ),\n",
    "    order=[0,1,2]\n",
    ")\n",
    "clf.fit(x_train, y_train)\n",
    "y_pred_chain = clf.predict(x_test)"
   ]
  },
  {
   "cell_type": "code",
   "execution_count": 604,
   "metadata": {},
   "outputs": [
    {
     "data": {
      "text/html": [
       "<style  type=\"text/css\" >\n",
       "    #T_4a9e5dd2_6144_11ea_9e82_784f43517922row0_col1 {\n",
       "            width:  10em;\n",
       "             height:  80%;\n",
       "            background:  linear-gradient(90deg,#AAAAAA 22.3%, transparent 22.3%);\n",
       "        }    #T_4a9e5dd2_6144_11ea_9e82_784f43517922row1_col1 {\n",
       "            width:  10em;\n",
       "             height:  80%;\n",
       "            background:  linear-gradient(90deg,#AAAAAA 15.2%, transparent 15.2%);\n",
       "        }    #T_4a9e5dd2_6144_11ea_9e82_784f43517922row2_col1 {\n",
       "            width:  10em;\n",
       "             height:  80%;\n",
       "            background:  linear-gradient(90deg,#AAAAAA 39.0%, transparent 39.0%);\n",
       "        }    #T_4a9e5dd2_6144_11ea_9e82_784f43517922row3_col1 {\n",
       "            width:  10em;\n",
       "             height:  80%;\n",
       "            background:  linear-gradient(90deg,#AAAAAA 50.9%, transparent 50.9%);\n",
       "        }    #T_4a9e5dd2_6144_11ea_9e82_784f43517922row4_col1 {\n",
       "            width:  10em;\n",
       "             height:  80%;\n",
       "            background:  linear-gradient(90deg,#AAAAAA 15.7%, transparent 15.7%);\n",
       "        }    #T_4a9e5dd2_6144_11ea_9e82_784f43517922row5_col1 {\n",
       "            width:  10em;\n",
       "             height:  80%;\n",
       "            background:  linear-gradient(90deg,#AAAAAA 42.0%, transparent 42.0%);\n",
       "        }    #T_4a9e5dd2_6144_11ea_9e82_784f43517922row6_col1 {\n",
       "            width:  10em;\n",
       "             height:  80%;\n",
       "            background:  linear-gradient(90deg,#AAAAAA 22.5%, transparent 22.5%);\n",
       "        }    #T_4a9e5dd2_6144_11ea_9e82_784f43517922row7_col1 {\n",
       "            width:  10em;\n",
       "             height:  80%;\n",
       "            background:  linear-gradient(90deg,#AAAAAA 100.0%, transparent 100.0%);\n",
       "        }    #T_4a9e5dd2_6144_11ea_9e82_784f43517922row8_col1 {\n",
       "            width:  10em;\n",
       "             height:  80%;\n",
       "            background:  linear-gradient(90deg,#AAAAAA 41.8%, transparent 41.8%);\n",
       "        }</style><table id=\"T_4a9e5dd2_6144_11ea_9e82_784f43517922\" ><thead>    <tr>        <th class=\"blank level0\" ></th>        <th class=\"col_heading level0 col0\" >Feature</th>        <th class=\"col_heading level0 col1\" >Coeff</th>    </tr></thead><tbody>\n",
       "                <tr>\n",
       "                        <th id=\"T_4a9e5dd2_6144_11ea_9e82_784f43517922level0_row0\" class=\"row_heading level0 row0\" >0</th>\n",
       "                        <td id=\"T_4a9e5dd2_6144_11ea_9e82_784f43517922row0_col0\" class=\"data row0 col0\" >Feature # 0</td>\n",
       "                        <td id=\"T_4a9e5dd2_6144_11ea_9e82_784f43517922row0_col1\" class=\"data row0 col1\" >0.0637737</td>\n",
       "            </tr>\n",
       "            <tr>\n",
       "                        <th id=\"T_4a9e5dd2_6144_11ea_9e82_784f43517922level0_row1\" class=\"row_heading level0 row1\" >1</th>\n",
       "                        <td id=\"T_4a9e5dd2_6144_11ea_9e82_784f43517922row1_col0\" class=\"data row1 col0\" >Feature # 1</td>\n",
       "                        <td id=\"T_4a9e5dd2_6144_11ea_9e82_784f43517922row1_col1\" class=\"data row1 col1\" >0.043504</td>\n",
       "            </tr>\n",
       "            <tr>\n",
       "                        <th id=\"T_4a9e5dd2_6144_11ea_9e82_784f43517922level0_row2\" class=\"row_heading level0 row2\" >2</th>\n",
       "                        <td id=\"T_4a9e5dd2_6144_11ea_9e82_784f43517922row2_col0\" class=\"data row2 col0\" >Feature # 2</td>\n",
       "                        <td id=\"T_4a9e5dd2_6144_11ea_9e82_784f43517922row2_col1\" class=\"data row2 col1\" >0.111602</td>\n",
       "            </tr>\n",
       "            <tr>\n",
       "                        <th id=\"T_4a9e5dd2_6144_11ea_9e82_784f43517922level0_row3\" class=\"row_heading level0 row3\" >3</th>\n",
       "                        <td id=\"T_4a9e5dd2_6144_11ea_9e82_784f43517922row3_col0\" class=\"data row3 col0\" >Feature # 3</td>\n",
       "                        <td id=\"T_4a9e5dd2_6144_11ea_9e82_784f43517922row3_col1\" class=\"data row3 col1\" >0.145739</td>\n",
       "            </tr>\n",
       "            <tr>\n",
       "                        <th id=\"T_4a9e5dd2_6144_11ea_9e82_784f43517922level0_row4\" class=\"row_heading level0 row4\" >4</th>\n",
       "                        <td id=\"T_4a9e5dd2_6144_11ea_9e82_784f43517922row4_col0\" class=\"data row4 col0\" >Feature # 4</td>\n",
       "                        <td id=\"T_4a9e5dd2_6144_11ea_9e82_784f43517922row4_col1\" class=\"data row4 col1\" >0.044972</td>\n",
       "            </tr>\n",
       "            <tr>\n",
       "                        <th id=\"T_4a9e5dd2_6144_11ea_9e82_784f43517922level0_row5\" class=\"row_heading level0 row5\" >5</th>\n",
       "                        <td id=\"T_4a9e5dd2_6144_11ea_9e82_784f43517922row5_col0\" class=\"data row5 col0\" >Feature # 5</td>\n",
       "                        <td id=\"T_4a9e5dd2_6144_11ea_9e82_784f43517922row5_col1\" class=\"data row5 col1\" >0.120289</td>\n",
       "            </tr>\n",
       "            <tr>\n",
       "                        <th id=\"T_4a9e5dd2_6144_11ea_9e82_784f43517922level0_row6\" class=\"row_heading level0 row6\" >6</th>\n",
       "                        <td id=\"T_4a9e5dd2_6144_11ea_9e82_784f43517922row6_col0\" class=\"data row6 col0\" >Feature # 6</td>\n",
       "                        <td id=\"T_4a9e5dd2_6144_11ea_9e82_784f43517922row6_col1\" class=\"data row6 col1\" >0.0643232</td>\n",
       "            </tr>\n",
       "            <tr>\n",
       "                        <th id=\"T_4a9e5dd2_6144_11ea_9e82_784f43517922level0_row7\" class=\"row_heading level0 row7\" >7</th>\n",
       "                        <td id=\"T_4a9e5dd2_6144_11ea_9e82_784f43517922row7_col0\" class=\"data row7 col0\" >Feature # 7</td>\n",
       "                        <td id=\"T_4a9e5dd2_6144_11ea_9e82_784f43517922row7_col1\" class=\"data row7 col1\" >0.286162</td>\n",
       "            </tr>\n",
       "            <tr>\n",
       "                        <th id=\"T_4a9e5dd2_6144_11ea_9e82_784f43517922level0_row8\" class=\"row_heading level0 row8\" >8</th>\n",
       "                        <td id=\"T_4a9e5dd2_6144_11ea_9e82_784f43517922row8_col0\" class=\"data row8 col0\" >Target # 0</td>\n",
       "                        <td id=\"T_4a9e5dd2_6144_11ea_9e82_784f43517922row8_col1\" class=\"data row8 col1\" >0.119635</td>\n",
       "            </tr>\n",
       "    </tbody></table>"
      ],
      "text/plain": [
       "<pandas.io.formats.style.Styler at 0x1a190e1278>"
      ]
     },
     "execution_count": 604,
     "metadata": {},
     "output_type": "execute_result"
    }
   ],
   "source": [
    "pd.DataFrame(\n",
    "    zip(\n",
    "        clf.estimators_[-2].feature_importances_, \n",
    "        feature_names + target_names\n",
    "    ),\n",
    "    columns=['Coeff', 'Feature']\n",
    ")[\n",
    "    ['Feature', 'Coeff']\n",
    "].style.bar(\n",
    "    subset=['Coeff'], align='mid', color='#AAAAAA'\n",
    ")"
   ]
  },
  {
   "cell_type": "code",
   "execution_count": 605,
   "metadata": {},
   "outputs": [
    {
     "data": {
      "text/html": [
       "<style  type=\"text/css\" >\n",
       "    #T_4aa3bde8_6144_11ea_97ce_784f43517922row0_col1 {\n",
       "            width:  10em;\n",
       "             height:  80%;\n",
       "        }    #T_4aa3bde8_6144_11ea_97ce_784f43517922row1_col1 {\n",
       "            width:  10em;\n",
       "             height:  80%;\n",
       "        }    #T_4aa3bde8_6144_11ea_97ce_784f43517922row2_col1 {\n",
       "            width:  10em;\n",
       "             height:  80%;\n",
       "        }    #T_4aa3bde8_6144_11ea_97ce_784f43517922row3_col1 {\n",
       "            width:  10em;\n",
       "             height:  80%;\n",
       "        }    #T_4aa3bde8_6144_11ea_97ce_784f43517922row4_col1 {\n",
       "            width:  10em;\n",
       "             height:  80%;\n",
       "        }    #T_4aa3bde8_6144_11ea_97ce_784f43517922row5_col1 {\n",
       "            width:  10em;\n",
       "             height:  80%;\n",
       "        }    #T_4aa3bde8_6144_11ea_97ce_784f43517922row6_col1 {\n",
       "            width:  10em;\n",
       "             height:  80%;\n",
       "        }    #T_4aa3bde8_6144_11ea_97ce_784f43517922row7_col1 {\n",
       "            width:  10em;\n",
       "             height:  80%;\n",
       "        }    #T_4aa3bde8_6144_11ea_97ce_784f43517922row8_col1 {\n",
       "            width:  10em;\n",
       "             height:  80%;\n",
       "            background:  linear-gradient(90deg,#AAAAAA 100.0%, transparent 100.0%);\n",
       "        }    #T_4aa3bde8_6144_11ea_97ce_784f43517922row9_col1 {\n",
       "            width:  10em;\n",
       "             height:  80%;\n",
       "        }</style><table id=\"T_4aa3bde8_6144_11ea_97ce_784f43517922\" ><thead>    <tr>        <th class=\"blank level0\" ></th>        <th class=\"col_heading level0 col0\" >Feature</th>        <th class=\"col_heading level0 col1\" >Coeff</th>    </tr></thead><tbody>\n",
       "                <tr>\n",
       "                        <th id=\"T_4aa3bde8_6144_11ea_97ce_784f43517922level0_row0\" class=\"row_heading level0 row0\" >0</th>\n",
       "                        <td id=\"T_4aa3bde8_6144_11ea_97ce_784f43517922row0_col0\" class=\"data row0 col0\" >Feature # 0</td>\n",
       "                        <td id=\"T_4aa3bde8_6144_11ea_97ce_784f43517922row0_col1\" class=\"data row0 col1\" >0</td>\n",
       "            </tr>\n",
       "            <tr>\n",
       "                        <th id=\"T_4aa3bde8_6144_11ea_97ce_784f43517922level0_row1\" class=\"row_heading level0 row1\" >1</th>\n",
       "                        <td id=\"T_4aa3bde8_6144_11ea_97ce_784f43517922row1_col0\" class=\"data row1 col0\" >Feature # 1</td>\n",
       "                        <td id=\"T_4aa3bde8_6144_11ea_97ce_784f43517922row1_col1\" class=\"data row1 col1\" >0</td>\n",
       "            </tr>\n",
       "            <tr>\n",
       "                        <th id=\"T_4aa3bde8_6144_11ea_97ce_784f43517922level0_row2\" class=\"row_heading level0 row2\" >2</th>\n",
       "                        <td id=\"T_4aa3bde8_6144_11ea_97ce_784f43517922row2_col0\" class=\"data row2 col0\" >Feature # 2</td>\n",
       "                        <td id=\"T_4aa3bde8_6144_11ea_97ce_784f43517922row2_col1\" class=\"data row2 col1\" >0</td>\n",
       "            </tr>\n",
       "            <tr>\n",
       "                        <th id=\"T_4aa3bde8_6144_11ea_97ce_784f43517922level0_row3\" class=\"row_heading level0 row3\" >3</th>\n",
       "                        <td id=\"T_4aa3bde8_6144_11ea_97ce_784f43517922row3_col0\" class=\"data row3 col0\" >Feature # 3</td>\n",
       "                        <td id=\"T_4aa3bde8_6144_11ea_97ce_784f43517922row3_col1\" class=\"data row3 col1\" >0</td>\n",
       "            </tr>\n",
       "            <tr>\n",
       "                        <th id=\"T_4aa3bde8_6144_11ea_97ce_784f43517922level0_row4\" class=\"row_heading level0 row4\" >4</th>\n",
       "                        <td id=\"T_4aa3bde8_6144_11ea_97ce_784f43517922row4_col0\" class=\"data row4 col0\" >Feature # 4</td>\n",
       "                        <td id=\"T_4aa3bde8_6144_11ea_97ce_784f43517922row4_col1\" class=\"data row4 col1\" >0</td>\n",
       "            </tr>\n",
       "            <tr>\n",
       "                        <th id=\"T_4aa3bde8_6144_11ea_97ce_784f43517922level0_row5\" class=\"row_heading level0 row5\" >5</th>\n",
       "                        <td id=\"T_4aa3bde8_6144_11ea_97ce_784f43517922row5_col0\" class=\"data row5 col0\" >Feature # 5</td>\n",
       "                        <td id=\"T_4aa3bde8_6144_11ea_97ce_784f43517922row5_col1\" class=\"data row5 col1\" >0</td>\n",
       "            </tr>\n",
       "            <tr>\n",
       "                        <th id=\"T_4aa3bde8_6144_11ea_97ce_784f43517922level0_row6\" class=\"row_heading level0 row6\" >6</th>\n",
       "                        <td id=\"T_4aa3bde8_6144_11ea_97ce_784f43517922row6_col0\" class=\"data row6 col0\" >Feature # 6</td>\n",
       "                        <td id=\"T_4aa3bde8_6144_11ea_97ce_784f43517922row6_col1\" class=\"data row6 col1\" >0</td>\n",
       "            </tr>\n",
       "            <tr>\n",
       "                        <th id=\"T_4aa3bde8_6144_11ea_97ce_784f43517922level0_row7\" class=\"row_heading level0 row7\" >7</th>\n",
       "                        <td id=\"T_4aa3bde8_6144_11ea_97ce_784f43517922row7_col0\" class=\"data row7 col0\" >Feature # 7</td>\n",
       "                        <td id=\"T_4aa3bde8_6144_11ea_97ce_784f43517922row7_col1\" class=\"data row7 col1\" >0</td>\n",
       "            </tr>\n",
       "            <tr>\n",
       "                        <th id=\"T_4aa3bde8_6144_11ea_97ce_784f43517922level0_row8\" class=\"row_heading level0 row8\" >8</th>\n",
       "                        <td id=\"T_4aa3bde8_6144_11ea_97ce_784f43517922row8_col0\" class=\"data row8 col0\" >Target # 0</td>\n",
       "                        <td id=\"T_4aa3bde8_6144_11ea_97ce_784f43517922row8_col1\" class=\"data row8 col1\" >1</td>\n",
       "            </tr>\n",
       "            <tr>\n",
       "                        <th id=\"T_4aa3bde8_6144_11ea_97ce_784f43517922level0_row9\" class=\"row_heading level0 row9\" >9</th>\n",
       "                        <td id=\"T_4aa3bde8_6144_11ea_97ce_784f43517922row9_col0\" class=\"data row9 col0\" >Target # 1</td>\n",
       "                        <td id=\"T_4aa3bde8_6144_11ea_97ce_784f43517922row9_col1\" class=\"data row9 col1\" >0</td>\n",
       "            </tr>\n",
       "    </tbody></table>"
      ],
      "text/plain": [
       "<pandas.io.formats.style.Styler at 0x1a190e15c0>"
      ]
     },
     "execution_count": 605,
     "metadata": {},
     "output_type": "execute_result"
    }
   ],
   "source": [
    "pd.DataFrame(\n",
    "    zip(\n",
    "        clf.estimators_[-1].feature_importances_, \n",
    "        feature_names + target_names\n",
    "    ),\n",
    "    columns=['Coeff', 'Feature']\n",
    ")[\n",
    "    ['Feature', 'Coeff']\n",
    "].style.bar(\n",
    "    subset=['Coeff'], align='mid', color='#AAAAAA'\n",
    ")"
   ]
  },
  {
   "cell_type": "code",
   "execution_count": 606,
   "metadata": {},
   "outputs": [
    {
     "name": "stdout",
     "output_type": "stream",
     "text": [
      "F1-Score; MultiOutputClassifier=0.85, ClassifierChain=0.86\n"
     ]
    }
   ],
   "source": [
    "from sklearn.metrics import f1_score\n",
    "\n",
    "print(\n",
    "    'F1-Score; MultiOutputClassifier={:.2f}, ClassifierChain={:.2f}'.format(\n",
    "        f1_score(y_test, y_pred_multioutput, average='macro'),\n",
    "        f1_score(y_test, y_pred_chain, average='macro'),\n",
    "    )\n",
    ")"
   ]
  },
  {
   "cell_type": "markdown",
   "metadata": {},
   "source": [
    "## One-Vs-The-Rest"
   ]
  },
  {
   "cell_type": "code",
   "execution_count": 569,
   "metadata": {},
   "outputs": [],
   "source": [
    "from sklearn.datasets import make_classification\n",
    "\n",
    "x, y = make_classification(\n",
    "    n_samples=5000, n_features=15, n_informative=8, n_redundant=2, n_classes=4, class_sep=0.5, # 0.005,\n",
    ")"
   ]
  },
  {
   "cell_type": "code",
   "execution_count": 570,
   "metadata": {},
   "outputs": [
    {
     "data": {
      "text/plain": [
       "((5000, 15), (5000,))"
      ]
     },
     "execution_count": 570,
     "metadata": {},
     "output_type": "execute_result"
    }
   ],
   "source": [
    "x.shape, y.shape"
   ]
  },
  {
   "cell_type": "code",
   "execution_count": 571,
   "metadata": {},
   "outputs": [],
   "source": [
    "from sklearn.model_selection import train_test_split\n",
    "\n",
    "x_train, x_test, y_train, y_test = train_test_split(x, y, test_size=0.25)"
   ]
  },
  {
   "cell_type": "code",
   "execution_count": 572,
   "metadata": {},
   "outputs": [
    {
     "data": {
      "text/plain": [
       "0.4432"
      ]
     },
     "execution_count": 572,
     "metadata": {},
     "output_type": "execute_result"
    }
   ],
   "source": [
    "from sklearn.linear_model import LogisticRegression\n",
    "from sklearn.multiclass import OneVsRestClassifier\n",
    "from sklearn.metrics import accuracy_score\n",
    "\n",
    "clf = OneVsRestClassifier(\n",
    "    estimator=LogisticRegression(solver='saga')\n",
    ")\n",
    "clf.fit(x_train, y_train)\n",
    "y_pred = clf.predict(x_test)\n",
    "\n",
    "accuracy_score(y_test, y_pred)"
   ]
  },
  {
   "cell_type": "code",
   "execution_count": 573,
   "metadata": {},
   "outputs": [
    {
     "data": {
      "text/plain": [
       "0.464"
      ]
     },
     "execution_count": 573,
     "metadata": {},
     "output_type": "execute_result"
    }
   ],
   "source": [
    "from sklearn.linear_model import LogisticRegression\n",
    "from sklearn.multiclass import OneVsOneClassifier\n",
    "\n",
    "clf = OneVsOneClassifier(\n",
    "    estimator=LogisticRegression(solver='saga')\n",
    ")\n",
    "clf.fit(x_train, y_train)\n",
    "y_pred = clf.predict(x_test)\n",
    "\n",
    "accuracy_score(y_test, y_pred)"
   ]
  },
  {
   "cell_type": "code",
   "execution_count": 578,
   "metadata": {},
   "outputs": [
    {
     "data": {
      "text/plain": [
       "0.3448"
      ]
     },
     "execution_count": 578,
     "metadata": {},
     "output_type": "execute_result"
    }
   ],
   "source": [
    "from sklearn.linear_model import LogisticRegression\n",
    "from sklearn.multiclass import OutputCodeClassifier\n",
    "\n",
    "clf = OutputCodeClassifier(\n",
    "    estimator=LogisticRegression(solver='saga'),\n",
    "    code_size=0.8\n",
    ")\n",
    "clf.fit(x_train, y_train)\n",
    "y_pred = clf.predict(x_test)\n",
    "\n",
    "accuracy_score(y_test, y_pred)"
   ]
  },
  {
   "cell_type": "code",
   "execution_count": 579,
   "metadata": {},
   "outputs": [
    {
     "data": {
      "text/plain": [
       "0.2816"
      ]
     },
     "execution_count": 579,
     "metadata": {},
     "output_type": "execute_result"
    }
   ],
   "source": [
    "from sklearn.linear_model import LogisticRegression\n",
    "from sklearn.multiclass import OutputCodeClassifier\n",
    "\n",
    "clf = OutputCodeClassifier(\n",
    "    estimator=LogisticRegression(solver='saga'),\n",
    "    code_size=0.6\n",
    ")\n",
    "clf.fit(x_train, y_train)\n",
    "y_pred = clf.predict(x_test)\n",
    "\n",
    "accuracy_score(y_test, y_pred)"
   ]
  },
  {
   "cell_type": "code",
   "execution_count": null,
   "metadata": {},
   "outputs": [],
   "source": []
  },
  {
   "cell_type": "markdown",
   "metadata": {},
   "source": [
    "# Calibration"
   ]
  },
  {
   "cell_type": "code",
   "execution_count": 699,
   "metadata": {},
   "outputs": [
    {
     "name": "stderr",
     "output_type": "stream",
     "text": [
      "/Users/tarek/anaconda3/envs/scikitbook/lib/python3.6/site-packages/ipykernel_launcher.py:18: UserWarning: Matplotlib is currently using module://ipykernel.pylab.backend_inline, which is a non-GUI backend, so cannot show the figure.\n"
     ]
    },
    {
     "data": {
      "image/png": "[encoded data removed]",
      "text/plain": [
       "<Figure size 720x576 with 1 Axes>"
      ]
     },
     "metadata": {
      "needs_background": "light"
     },
     "output_type": "display_data"
    }
   ],
   "source": [
    "from sklearn.calibration import calibration_curve\n",
    "\n",
    "fig, ax = plt.subplots(1, 1, figsize=(10, 8))\n",
    "\n",
    "ax.plot(\n",
    "    [0, 1], [0, 1], \n",
    "    linestyle=':', \n",
    "    lw=2, color='k',\n",
    "    label='Ideal Calibration', alpha=0.5\n",
    ")\n",
    "\n",
    "ax.set_title('Probability Calibration Curve')\n",
    "ax.set_xlabel('Predicted Probability')\n",
    "ax.set_ylabel('% of samples in Class 1')\n",
    "\n",
    "ax.legend(loc=\"upper left\", fontsize='x-large', shadow=True)\n",
    "\n",
    "fig.show()"
   ]
  },
  {
   "cell_type": "code",
   "execution_count": 700,
   "metadata": {},
   "outputs": [
    {
     "data": {
      "text/plain": [
       "((50000, 15), (50000,))"
      ]
     },
     "execution_count": 700,
     "metadata": {},
     "output_type": "execute_result"
    }
   ],
   "source": [
    "from sklearn.datasets import make_classification\n",
    "\n",
    "x, y = make_classification(\n",
    "    n_samples=50000, n_features=15, n_informative=5, n_redundant=10, n_classes=2, class_sep=0.001\n",
    ")\n",
    "\n",
    "x.shape, y.shape"
   ]
  },
  {
   "cell_type": "code",
   "execution_count": 701,
   "metadata": {},
   "outputs": [],
   "source": [
    "from sklearn.model_selection import train_test_split\n",
    "\n",
    "x_train, x_test, y_train, y_test = train_test_split(x, y, test_size=0.25)"
   ]
  },
  {
   "cell_type": "code",
   "execution_count": 702,
   "metadata": {},
   "outputs": [],
   "source": [
    "from sklearn.naive_bayes import GaussianNB\n",
    "\n",
    "clf = GaussianNB()\n",
    "clf.fit(x_train, y_train)\n",
    "y_pred = clf.predict(x_test)\n",
    "y_pred_proba = clf.predict_proba(x_test)[:,-1]"
   ]
  },
  {
   "cell_type": "code",
   "execution_count": 703,
   "metadata": {},
   "outputs": [
    {
     "name": "stderr",
     "output_type": "stream",
     "text": [
      "/Users/tarek/anaconda3/envs/scikitbook/lib/python3.6/site-packages/ipykernel_launcher.py:26: UserWarning: Matplotlib is currently using module://ipykernel.pylab.backend_inline, which is a non-GUI backend, so cannot show the figure.\n"
     ]
    },
    {
     "data": {
      "image/png": "[encoded data removed]",
      "text/plain": [
       "<Figure size 720x576 with 1 Axes>"
      ]
     },
     "metadata": {
      "needs_background": "light"
     },
     "output_type": "display_data"
    }
   ],
   "source": [
    "from sklearn.calibration import calibration_curve\n",
    "\n",
    "fraction_of_positives, mean_predicted_value = calibration_curve(y_test, y_pred_proba, n_bins=10)\n",
    "\n",
    "fig, ax = plt.subplots(1, 1, figsize=(10, 8))\n",
    "\n",
    "ax.plot(\n",
    "    [0, 1], [0, 1], \n",
    "    linestyle=':', \n",
    "    lw=2, color='k',\n",
    "    label='Ideal Calibration', alpha=0.5\n",
    ")\n",
    "\n",
    "ax.plot(\n",
    "    mean_predicted_value, fraction_of_positives, \"--\", label='Uncalibrated GaussianNB', color='k'\n",
    ")\n",
    "\n",
    "ax.set_title('Probability Calibration Curve')\n",
    "ax.set_xlabel('Predicted Probability')\n",
    "ax.set_ylabel('% of samples in Class 1')\n",
    "ax.set_xlim((0,1))\n",
    "ax.set_ylim((0,1))\n",
    "\n",
    "ax.legend(loc=\"upper left\", fontsize='x-large', shadow=True)\n",
    "\n",
    "fig.show()"
   ]
  },
  {
   "cell_type": "code",
   "execution_count": 704,
   "metadata": {},
   "outputs": [],
   "source": [
    "from sklearn.calibration import CalibratedClassifierCV\n",
    "from sklearn.naive_bayes import GaussianNB\n",
    "\n",
    "clf_calib = CalibratedClassifierCV(GaussianNB(), cv=3, method='isotonic')\n",
    "clf_calib.fit(x_train, y_train)\n",
    "y_pred_calib = clf_calib.predict(x_test)\n",
    "y_pred_proba_calib = clf_calib.predict_proba(x_test)[:,-1]"
   ]
  },
  {
   "cell_type": "code",
   "execution_count": 705,
   "metadata": {},
   "outputs": [
    {
     "name": "stderr",
     "output_type": "stream",
     "text": [
      "/Users/tarek/anaconda3/envs/scikitbook/lib/python3.6/site-packages/ipykernel_launcher.py:30: UserWarning: Matplotlib is currently using module://ipykernel.pylab.backend_inline, which is a non-GUI backend, so cannot show the figure.\n"
     ]
    },
    {
     "data": {
      "image/png": "[encoded data removed]",
      "text/plain": [
       "<Figure size 720x576 with 1 Axes>"
      ]
     },
     "metadata": {
      "needs_background": "light"
     },
     "output_type": "display_data"
    }
   ],
   "source": [
    "from sklearn.calibration import calibration_curve\n",
    "\n",
    "fig, ax = plt.subplots(1, 1, figsize=(10, 8))\n",
    "\n",
    "ax.plot(\n",
    "    [0, 1], [0, 1], \n",
    "    linestyle=':', \n",
    "    lw=2, color='k',\n",
    "    label='Ideal Calibration', alpha=0.5\n",
    ")\n",
    "\n",
    "fraction_of_positives, mean_predicted_value = calibration_curve(y_test, y_pred_proba, n_bins=10)\n",
    "\n",
    "ax.plot(\n",
    "    mean_predicted_value, fraction_of_positives, \"--\", label='Uncalibrated GaussianNB', color='k', alpha=0.85\n",
    ")\n",
    "\n",
    "fraction_of_positives, mean_predicted_value = calibration_curve(y_test, y_pred_proba_calib, n_bins=10)\n",
    "\n",
    "ax.plot(\n",
    "    mean_predicted_value, fraction_of_positives, \"-\", label='Calibrated GaussianNB', color='k', alpha=0.85\n",
    ")\n",
    "\n",
    "ax.set_title('Probability Calibration Curve')\n",
    "ax.set_xlabel('Predicted Probability')\n",
    "ax.set_ylabel('% of samples in Class 1')\n",
    "\n",
    "ax.legend(loc=\"upper left\", fontsize='x-large', shadow=True)\n",
    "\n",
    "fig.show()"
   ]
  },
  {
   "cell_type": "markdown",
   "metadata": {},
   "source": [
    "## Precision @ k"
   ]
  },
  {
   "cell_type": "code",
   "execution_count": 711,
   "metadata": {},
   "outputs": [],
   "source": [
    "def precision_at_k_score(y_true, y_pred_proba, k=1000, pos_label=1):\n",
    "    topk = [\n",
    "        y_true_ == pos_label \n",
    "        for y_true_, y_pred_proba_ \n",
    "        in sorted(\n",
    "            zip(y_true, y_pred_proba), \n",
    "            key=lambda y: y[1], \n",
    "            reverse=True\n",
    "        )[:k]\n",
    "    ]\n",
    "    return sum(topk) / len(topk)"
   ]
  },
  {
   "cell_type": "code",
   "execution_count": 713,
   "metadata": {},
   "outputs": [
    {
     "data": {
      "text/plain": [
       "0.82"
      ]
     },
     "execution_count": 713,
     "metadata": {},
     "output_type": "execute_result"
    }
   ],
   "source": [
    "precision_at_k_score(y_test, y_pred_proba, k=500)"
   ]
  },
  {
   "cell_type": "code",
   "execution_count": 715,
   "metadata": {},
   "outputs": [
    {
     "name": "stdout",
     "output_type": "stream",
     "text": [
      "precision @ k=1,000: 78.10%\n",
      "precision @ k=1,500: 76.20%\n",
      "precision @ k=3,000: 71.70%\n",
      "precision @ k=6,000: 65.60%\n"
     ]
    }
   ],
   "source": [
    "for k in 1000, 1500, 3000, 6000:\n",
    "    print(\n",
    "        'precision @ k={:,}: {:.2%}'.format(\n",
    "            k, precision_at_k_score(y_test, y_pred_proba, k=k)\n",
    "        )\n",
    "    )"
   ]
  },
  {
   "cell_type": "code",
   "execution_count": 717,
   "metadata": {},
   "outputs": [
    {
     "data": {
      "text/plain": [
       "0.621587462082912"
      ]
     },
     "execution_count": 717,
     "metadata": {},
     "output_type": "execute_result"
    }
   ],
   "source": [
    "from sklearn.metrics import precision_score\n",
    "\n",
    "precision_score(y_test, y_pred)"
   ]
  },
  {
   "cell_type": "code",
   "execution_count": null,
   "metadata": {},
   "outputs": [],
   "source": []
  },
  {
   "cell_type": "code",
   "execution_count": null,
   "metadata": {},
   "outputs": [],
   "source": []
  }
 ],
 "metadata": {
  "kernelspec": {
   "display_name": "Python 3",
   "language": "python",
   "name": "python3"
  },
  "language_info": {
   "codemirror_mode": {
    "name": "ipython",
    "version": 3
   },
   "file_extension": ".py",
   "mimetype": "text/x-python",
   "name": "python",
   "nbconvert_exporter": "python",
   "pygments_lexer": "ipython3",
   "version": "3.6.9"
  }
 },
 "nbformat": 4,
 "nbformat_minor": 2
}

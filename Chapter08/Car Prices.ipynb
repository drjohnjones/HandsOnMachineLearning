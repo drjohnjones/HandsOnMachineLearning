{
 "cells": [
  {
   "cell_type": "markdown",
   "metadata": {},
   "source": [
    "# Car Prices"
   ]
  },
  {
   "cell_type": "code",
   "execution_count": 1,
   "metadata": {},
   "outputs": [],
   "source": [
    "import pandas as pd\n",
    "import matplotlib.pyplot as plt"
   ]
  },
  {
   "cell_type": "code",
   "execution_count": 2,
   "metadata": {},
   "outputs": [],
   "source": [
    "import requests\n",
    "\n",
    "# UC Irvine Machine Learning Repository\n",
    "# http://archive.ics.uci.edu/ml/datasets/Automobile\n",
    "\n",
    "url = 'http://archive.ics.uci.edu/ml/machine-learning-databases/autos/imports-85.data'"
   ]
  },
  {
   "cell_type": "code",
   "execution_count": 3,
   "metadata": {},
   "outputs": [],
   "source": [
    "header = [\n",
    "    'symboling',\n",
    "    'normalized-losses',\n",
    "    'make',\n",
    "    'fuel-type',\n",
    "    'aspiration',\n",
    "    'num-of-doors',\n",
    "    'body-style',\n",
    "    'drive-wheels',\n",
    "    'engine-location',\n",
    "    'wheel-base',\n",
    "    'length',\n",
    "    'width',\n",
    "    'height',\n",
    "    'curb-weight',\n",
    "    'engine-type',\n",
    "    'num-of-cylinders',\n",
    "    'engine-size',\n",
    "    'fuel-system',\n",
    "    'bore',\n",
    "    'stroke',\n",
    "    'compression-ratio',\n",
    "    'horsepower',\n",
    "    'peak-rpm',\n",
    "    'city-mpg',\n",
    "    'highway-mpg',\n",
    "    'price',\n",
    "\n",
    "]"
   ]
  },
  {
   "cell_type": "code",
   "execution_count": 4,
   "metadata": {},
   "outputs": [],
   "source": [
    "df = pd.read_csv(url, names=header, na_values='?') "
   ]
  },
  {
   "cell_type": "code",
   "execution_count": 5,
   "metadata": {},
   "outputs": [
    {
     "data": {
      "text/html": [
       "<div>\n",
       "<style scoped>\n",
       "    .dataframe tbody tr th:only-of-type {\n",
       "        vertical-align: middle;\n",
       "    }\n",
       "\n",
       "    .dataframe tbody tr th {\n",
       "        vertical-align: top;\n",
       "    }\n",
       "\n",
       "    .dataframe thead th {\n",
       "        text-align: right;\n",
       "    }\n",
       "</style>\n",
       "<table border=\"1\" class=\"dataframe\">\n",
       "  <thead>\n",
       "    <tr style=\"text-align: right;\">\n",
       "      <th></th>\n",
       "      <th>symboling</th>\n",
       "      <th>normalized-losses</th>\n",
       "      <th>make</th>\n",
       "      <th>fuel-type</th>\n",
       "      <th>aspiration</th>\n",
       "      <th>num-of-doors</th>\n",
       "      <th>body-style</th>\n",
       "      <th>drive-wheels</th>\n",
       "      <th>engine-location</th>\n",
       "      <th>wheel-base</th>\n",
       "      <th>...</th>\n",
       "      <th>engine-size</th>\n",
       "      <th>fuel-system</th>\n",
       "      <th>bore</th>\n",
       "      <th>stroke</th>\n",
       "      <th>compression-ratio</th>\n",
       "      <th>horsepower</th>\n",
       "      <th>peak-rpm</th>\n",
       "      <th>city-mpg</th>\n",
       "      <th>highway-mpg</th>\n",
       "      <th>price</th>\n",
       "    </tr>\n",
       "  </thead>\n",
       "  <tbody>\n",
       "    <tr>\n",
       "      <th>0</th>\n",
       "      <td>3</td>\n",
       "      <td>NaN</td>\n",
       "      <td>alfa-romero</td>\n",
       "      <td>gas</td>\n",
       "      <td>std</td>\n",
       "      <td>two</td>\n",
       "      <td>convertible</td>\n",
       "      <td>rwd</td>\n",
       "      <td>front</td>\n",
       "      <td>88.6</td>\n",
       "      <td>...</td>\n",
       "      <td>130</td>\n",
       "      <td>mpfi</td>\n",
       "      <td>3.47</td>\n",
       "      <td>2.68</td>\n",
       "      <td>9.0</td>\n",
       "      <td>111.0</td>\n",
       "      <td>5000.0</td>\n",
       "      <td>21</td>\n",
       "      <td>27</td>\n",
       "      <td>13495.0</td>\n",
       "    </tr>\n",
       "    <tr>\n",
       "      <th>1</th>\n",
       "      <td>3</td>\n",
       "      <td>NaN</td>\n",
       "      <td>alfa-romero</td>\n",
       "      <td>gas</td>\n",
       "      <td>std</td>\n",
       "      <td>two</td>\n",
       "      <td>convertible</td>\n",
       "      <td>rwd</td>\n",
       "      <td>front</td>\n",
       "      <td>88.6</td>\n",
       "      <td>...</td>\n",
       "      <td>130</td>\n",
       "      <td>mpfi</td>\n",
       "      <td>3.47</td>\n",
       "      <td>2.68</td>\n",
       "      <td>9.0</td>\n",
       "      <td>111.0</td>\n",
       "      <td>5000.0</td>\n",
       "      <td>21</td>\n",
       "      <td>27</td>\n",
       "      <td>16500.0</td>\n",
       "    </tr>\n",
       "    <tr>\n",
       "      <th>2</th>\n",
       "      <td>1</td>\n",
       "      <td>NaN</td>\n",
       "      <td>alfa-romero</td>\n",
       "      <td>gas</td>\n",
       "      <td>std</td>\n",
       "      <td>two</td>\n",
       "      <td>hatchback</td>\n",
       "      <td>rwd</td>\n",
       "      <td>front</td>\n",
       "      <td>94.5</td>\n",
       "      <td>...</td>\n",
       "      <td>152</td>\n",
       "      <td>mpfi</td>\n",
       "      <td>2.68</td>\n",
       "      <td>3.47</td>\n",
       "      <td>9.0</td>\n",
       "      <td>154.0</td>\n",
       "      <td>5000.0</td>\n",
       "      <td>19</td>\n",
       "      <td>26</td>\n",
       "      <td>16500.0</td>\n",
       "    </tr>\n",
       "    <tr>\n",
       "      <th>3</th>\n",
       "      <td>2</td>\n",
       "      <td>164.0</td>\n",
       "      <td>audi</td>\n",
       "      <td>gas</td>\n",
       "      <td>std</td>\n",
       "      <td>four</td>\n",
       "      <td>sedan</td>\n",
       "      <td>fwd</td>\n",
       "      <td>front</td>\n",
       "      <td>99.8</td>\n",
       "      <td>...</td>\n",
       "      <td>109</td>\n",
       "      <td>mpfi</td>\n",
       "      <td>3.19</td>\n",
       "      <td>3.40</td>\n",
       "      <td>10.0</td>\n",
       "      <td>102.0</td>\n",
       "      <td>5500.0</td>\n",
       "      <td>24</td>\n",
       "      <td>30</td>\n",
       "      <td>13950.0</td>\n",
       "    </tr>\n",
       "  </tbody>\n",
       "</table>\n",
       "<p>4 rows × 26 columns</p>\n",
       "</div>"
      ],
      "text/plain": [
       "   symboling  normalized-losses         make fuel-type aspiration  \\\n",
       "0          3                NaN  alfa-romero       gas        std   \n",
       "1          3                NaN  alfa-romero       gas        std   \n",
       "2          1                NaN  alfa-romero       gas        std   \n",
       "3          2              164.0         audi       gas        std   \n",
       "\n",
       "  num-of-doors   body-style drive-wheels engine-location  wheel-base  ...  \\\n",
       "0          two  convertible          rwd           front        88.6  ...   \n",
       "1          two  convertible          rwd           front        88.6  ...   \n",
       "2          two    hatchback          rwd           front        94.5  ...   \n",
       "3         four        sedan          fwd           front        99.8  ...   \n",
       "\n",
       "   engine-size  fuel-system  bore  stroke compression-ratio horsepower  \\\n",
       "0          130         mpfi  3.47    2.68               9.0      111.0   \n",
       "1          130         mpfi  3.47    2.68               9.0      111.0   \n",
       "2          152         mpfi  2.68    3.47               9.0      154.0   \n",
       "3          109         mpfi  3.19    3.40              10.0      102.0   \n",
       "\n",
       "   peak-rpm city-mpg  highway-mpg    price  \n",
       "0    5000.0       21           27  13495.0  \n",
       "1    5000.0       21           27  16500.0  \n",
       "2    5000.0       19           26  16500.0  \n",
       "3    5500.0       24           30  13950.0  \n",
       "\n",
       "[4 rows x 26 columns]"
      ]
     },
     "execution_count": 5,
     "metadata": {},
     "output_type": "execute_result"
    }
   ],
   "source": [
    "df.head(4)"
   ]
  },
  {
   "cell_type": "code",
   "execution_count": 6,
   "metadata": {},
   "outputs": [
    {
     "name": "stdout",
     "output_type": "stream",
     "text": [
      "<class 'pandas.core.frame.DataFrame'>\n",
      "RangeIndex: 205 entries, 0 to 204\n",
      "Data columns (total 26 columns):\n",
      "symboling            205 non-null int64\n",
      "normalized-losses    164 non-null float64\n",
      "make                 205 non-null object\n",
      "fuel-type            205 non-null object\n",
      "aspiration           205 non-null object\n",
      "num-of-doors         203 non-null object\n",
      "body-style           205 non-null object\n",
      "drive-wheels         205 non-null object\n",
      "engine-location      205 non-null object\n",
      "wheel-base           205 non-null float64\n",
      "length               205 non-null float64\n",
      "width                205 non-null float64\n",
      "height               205 non-null float64\n",
      "curb-weight          205 non-null int64\n",
      "engine-type          205 non-null object\n",
      "num-of-cylinders     205 non-null object\n",
      "engine-size          205 non-null int64\n",
      "fuel-system          205 non-null object\n",
      "bore                 201 non-null float64\n",
      "stroke               201 non-null float64\n",
      "compression-ratio    205 non-null float64\n",
      "horsepower           203 non-null float64\n",
      "peak-rpm             203 non-null float64\n",
      "city-mpg             205 non-null int64\n",
      "highway-mpg          205 non-null int64\n",
      "price                201 non-null float64\n",
      "dtypes: float64(11), int64(5), object(10)\n",
      "memory usage: 41.8+ KB\n"
     ]
    }
   ],
   "source": [
    "df.info()"
   ]
  },
  {
   "cell_type": "code",
   "execution_count": 7,
   "metadata": {},
   "outputs": [],
   "source": [
    "df = df.applymap(\n",
    "    lambda cell: np.nan if cell == '?' else cell\n",
    ")"
   ]
  },
  {
   "cell_type": "code",
   "execution_count": 8,
   "metadata": {},
   "outputs": [],
   "source": [
    "# cols_with_missing = df.isna().sum()\n",
    "cols_with_missing = df.isnull().sum()"
   ]
  },
  {
   "cell_type": "code",
   "execution_count": 9,
   "metadata": {},
   "outputs": [
    {
     "data": {
      "text/plain": [
       "normalized-losses    41\n",
       "num-of-doors          2\n",
       "bore                  4\n",
       "stroke                4\n",
       "horsepower            2\n",
       "peak-rpm              2\n",
       "price                 4\n",
       "dtype: int64"
      ]
     },
     "execution_count": 9,
     "metadata": {},
     "output_type": "execute_result"
    }
   ],
   "source": [
    "cols_with_missing[\n",
    "    cols_with_missing > 0\n",
    "]"
   ]
  },
  {
   "cell_type": "code",
   "execution_count": 10,
   "metadata": {},
   "outputs": [],
   "source": [
    "df = df[~df['price'].isnull()]"
   ]
  },
  {
   "cell_type": "code",
   "execution_count": 11,
   "metadata": {},
   "outputs": [],
   "source": [
    "df.drop(labels=['normalized-losses'], axis=1, inplace=True)"
   ]
  },
  {
   "cell_type": "code",
   "execution_count": 12,
   "metadata": {},
   "outputs": [
    {
     "data": {
      "text/plain": [
       "Index(['symboling', 'make', 'fuel-type', 'aspiration', 'num-of-doors',\n",
       "       'body-style', 'drive-wheels', 'engine-location', 'wheel-base', 'length',\n",
       "       'width', 'height', 'curb-weight', 'engine-type', 'num-of-cylinders',\n",
       "       'engine-size', 'fuel-system', 'bore', 'stroke', 'compression-ratio',\n",
       "       'horsepower', 'peak-rpm', 'city-mpg', 'highway-mpg', 'price'],\n",
       "      dtype='object')"
      ]
     },
     "execution_count": 12,
     "metadata": {},
     "output_type": "execute_result"
    }
   ],
   "source": [
    "df.columns"
   ]
  },
  {
   "cell_type": "code",
   "execution_count": 13,
   "metadata": {},
   "outputs": [],
   "source": [
    "# pd.set_option('display.max_columns', None)\n",
    "pd.set_option('display.max_columns', 10)"
   ]
  },
  {
   "cell_type": "code",
   "execution_count": 14,
   "metadata": {},
   "outputs": [
    {
     "data": {
      "text/html": [
       "<div>\n",
       "<style scoped>\n",
       "    .dataframe tbody tr th:only-of-type {\n",
       "        vertical-align: middle;\n",
       "    }\n",
       "\n",
       "    .dataframe tbody tr th {\n",
       "        vertical-align: top;\n",
       "    }\n",
       "\n",
       "    .dataframe thead th {\n",
       "        text-align: right;\n",
       "    }\n",
       "</style>\n",
       "<table border=\"1\" class=\"dataframe\">\n",
       "  <thead>\n",
       "    <tr style=\"text-align: right;\">\n",
       "      <th></th>\n",
       "      <th>symboling</th>\n",
       "      <th>make</th>\n",
       "      <th>fuel-type</th>\n",
       "      <th>aspiration</th>\n",
       "      <th>num-of-doors</th>\n",
       "      <th>...</th>\n",
       "      <th>horsepower</th>\n",
       "      <th>peak-rpm</th>\n",
       "      <th>city-mpg</th>\n",
       "      <th>highway-mpg</th>\n",
       "      <th>price</th>\n",
       "    </tr>\n",
       "  </thead>\n",
       "  <tbody>\n",
       "    <tr>\n",
       "      <th>0</th>\n",
       "      <td>3</td>\n",
       "      <td>alfa-romero</td>\n",
       "      <td>gas</td>\n",
       "      <td>std</td>\n",
       "      <td>two</td>\n",
       "      <td>...</td>\n",
       "      <td>111.0</td>\n",
       "      <td>5000.0</td>\n",
       "      <td>21</td>\n",
       "      <td>27</td>\n",
       "      <td>13495.0</td>\n",
       "    </tr>\n",
       "    <tr>\n",
       "      <th>1</th>\n",
       "      <td>3</td>\n",
       "      <td>alfa-romero</td>\n",
       "      <td>gas</td>\n",
       "      <td>std</td>\n",
       "      <td>two</td>\n",
       "      <td>...</td>\n",
       "      <td>111.0</td>\n",
       "      <td>5000.0</td>\n",
       "      <td>21</td>\n",
       "      <td>27</td>\n",
       "      <td>16500.0</td>\n",
       "    </tr>\n",
       "    <tr>\n",
       "      <th>2</th>\n",
       "      <td>1</td>\n",
       "      <td>alfa-romero</td>\n",
       "      <td>gas</td>\n",
       "      <td>std</td>\n",
       "      <td>two</td>\n",
       "      <td>...</td>\n",
       "      <td>154.0</td>\n",
       "      <td>5000.0</td>\n",
       "      <td>19</td>\n",
       "      <td>26</td>\n",
       "      <td>16500.0</td>\n",
       "    </tr>\n",
       "    <tr>\n",
       "      <th>3</th>\n",
       "      <td>2</td>\n",
       "      <td>audi</td>\n",
       "      <td>gas</td>\n",
       "      <td>std</td>\n",
       "      <td>four</td>\n",
       "      <td>...</td>\n",
       "      <td>102.0</td>\n",
       "      <td>5500.0</td>\n",
       "      <td>24</td>\n",
       "      <td>30</td>\n",
       "      <td>13950.0</td>\n",
       "    </tr>\n",
       "    <tr>\n",
       "      <th>4</th>\n",
       "      <td>2</td>\n",
       "      <td>audi</td>\n",
       "      <td>gas</td>\n",
       "      <td>std</td>\n",
       "      <td>four</td>\n",
       "      <td>...</td>\n",
       "      <td>115.0</td>\n",
       "      <td>5500.0</td>\n",
       "      <td>18</td>\n",
       "      <td>22</td>\n",
       "      <td>17450.0</td>\n",
       "    </tr>\n",
       "  </tbody>\n",
       "</table>\n",
       "<p>5 rows × 25 columns</p>\n",
       "</div>"
      ],
      "text/plain": [
       "   symboling         make fuel-type aspiration num-of-doors  ... horsepower  \\\n",
       "0          3  alfa-romero       gas        std          two  ...      111.0   \n",
       "1          3  alfa-romero       gas        std          two  ...      111.0   \n",
       "2          1  alfa-romero       gas        std          two  ...      154.0   \n",
       "3          2         audi       gas        std         four  ...      102.0   \n",
       "4          2         audi       gas        std         four  ...      115.0   \n",
       "\n",
       "  peak-rpm city-mpg  highway-mpg    price  \n",
       "0   5000.0       21           27  13495.0  \n",
       "1   5000.0       21           27  16500.0  \n",
       "2   5000.0       19           26  16500.0  \n",
       "3   5500.0       24           30  13950.0  \n",
       "4   5500.0       18           22  17450.0  \n",
       "\n",
       "[5 rows x 25 columns]"
      ]
     },
     "execution_count": 14,
     "metadata": {},
     "output_type": "execute_result"
    }
   ],
   "source": [
    "df.head(5)"
   ]
  },
  {
   "cell_type": "code",
   "execution_count": 15,
   "metadata": {},
   "outputs": [],
   "source": [
    "features = {\n",
    "    'categorical': [\n",
    "        'make', 'fuel-type', 'aspiration', 'num-of-doors', \n",
    "        'body-style', 'drive-wheels', 'engine-location', \n",
    "        'engine-type', 'num-of-cylinders', 'fuel-system',\n",
    "        \n",
    "    ],\n",
    "    'numerical': [\n",
    "        'symboling', 'wheel-base', 'length', 'width', 'height', \n",
    "        'curb-weight', 'engine-size', 'bore', 'stroke', \n",
    "        'compression-ratio', 'horsepower', 'peak-rpm', \n",
    "        'city-mpg', 'highway-mpg', \n",
    "    ],\n",
    "}\n",
    "\n",
    "features['all'] = features['categorical'] + features['numerical']\n",
    "\n",
    "target = 'price'"
   ]
  },
  {
   "cell_type": "code",
   "execution_count": 16,
   "metadata": {},
   "outputs": [],
   "source": [
    "df[target] = df[target].astype(np.float64) / 1000"
   ]
  },
  {
   "cell_type": "code",
   "execution_count": 17,
   "metadata": {},
   "outputs": [
    {
     "data": {
      "text/html": [
       "<div>\n",
       "<style scoped>\n",
       "    .dataframe tbody tr th:only-of-type {\n",
       "        vertical-align: middle;\n",
       "    }\n",
       "\n",
       "    .dataframe tbody tr th {\n",
       "        vertical-align: top;\n",
       "    }\n",
       "\n",
       "    .dataframe thead th {\n",
       "        text-align: right;\n",
       "    }\n",
       "</style>\n",
       "<table border=\"1\" class=\"dataframe\">\n",
       "  <thead>\n",
       "    <tr style=\"text-align: right;\">\n",
       "      <th></th>\n",
       "      <th>make</th>\n",
       "      <th>fuel-type</th>\n",
       "      <th>aspiration</th>\n",
       "      <th>num-of-doors</th>\n",
       "      <th>body-style</th>\n",
       "      <th>drive-wheels</th>\n",
       "      <th>engine-location</th>\n",
       "      <th>engine-type</th>\n",
       "      <th>num-of-cylinders</th>\n",
       "      <th>fuel-system</th>\n",
       "    </tr>\n",
       "  </thead>\n",
       "  <tbody>\n",
       "    <tr>\n",
       "      <th>98</th>\n",
       "      <td>nissan</td>\n",
       "      <td>gas</td>\n",
       "      <td>std</td>\n",
       "      <td>two</td>\n",
       "      <td>hardtop</td>\n",
       "      <td>fwd</td>\n",
       "      <td>front</td>\n",
       "      <td>ohc</td>\n",
       "      <td>four</td>\n",
       "      <td>2bbl</td>\n",
       "    </tr>\n",
       "    <tr>\n",
       "      <th>16</th>\n",
       "      <td>bmw</td>\n",
       "      <td>gas</td>\n",
       "      <td>std</td>\n",
       "      <td>two</td>\n",
       "      <td>sedan</td>\n",
       "      <td>rwd</td>\n",
       "      <td>front</td>\n",
       "      <td>ohc</td>\n",
       "      <td>six</td>\n",
       "      <td>mpfi</td>\n",
       "    </tr>\n",
       "    <tr>\n",
       "      <th>31</th>\n",
       "      <td>honda</td>\n",
       "      <td>gas</td>\n",
       "      <td>std</td>\n",
       "      <td>two</td>\n",
       "      <td>hatchback</td>\n",
       "      <td>fwd</td>\n",
       "      <td>front</td>\n",
       "      <td>ohc</td>\n",
       "      <td>four</td>\n",
       "      <td>1bbl</td>\n",
       "    </tr>\n",
       "  </tbody>\n",
       "</table>\n",
       "</div>"
      ],
      "text/plain": [
       "      make fuel-type aspiration num-of-doors body-style drive-wheels  \\\n",
       "98  nissan       gas        std          two    hardtop          fwd   \n",
       "16     bmw       gas        std          two      sedan          rwd   \n",
       "31   honda       gas        std          two  hatchback          fwd   \n",
       "\n",
       "   engine-location engine-type num-of-cylinders fuel-system  \n",
       "98           front         ohc             four        2bbl  \n",
       "16           front         ohc              six        mpfi  \n",
       "31           front         ohc             four        1bbl  "
      ]
     },
     "execution_count": 17,
     "metadata": {},
     "output_type": "execute_result"
    }
   ],
   "source": [
    "df[features['categorical']].sample(n=3, random_state=42)"
   ]
  },
  {
   "cell_type": "code",
   "execution_count": 18,
   "metadata": {},
   "outputs": [
    {
     "data": {
      "text/html": [
       "<div>\n",
       "<style scoped>\n",
       "    .dataframe tbody tr th:only-of-type {\n",
       "        vertical-align: middle;\n",
       "    }\n",
       "\n",
       "    .dataframe tbody tr th {\n",
       "        vertical-align: top;\n",
       "    }\n",
       "\n",
       "    .dataframe thead th {\n",
       "        text-align: right;\n",
       "    }\n",
       "</style>\n",
       "<table border=\"1\" class=\"dataframe\">\n",
       "  <thead>\n",
       "    <tr style=\"text-align: right;\">\n",
       "      <th></th>\n",
       "      <th>symboling</th>\n",
       "      <th>wheel-base</th>\n",
       "      <th>length</th>\n",
       "      <th>width</th>\n",
       "      <th>height</th>\n",
       "      <th>...</th>\n",
       "      <th>compression-ratio</th>\n",
       "      <th>horsepower</th>\n",
       "      <th>peak-rpm</th>\n",
       "      <th>city-mpg</th>\n",
       "      <th>highway-mpg</th>\n",
       "    </tr>\n",
       "  </thead>\n",
       "  <tbody>\n",
       "    <tr>\n",
       "      <th>0</th>\n",
       "      <td>3</td>\n",
       "      <td>88.6</td>\n",
       "      <td>168.8</td>\n",
       "      <td>64.1</td>\n",
       "      <td>48.8</td>\n",
       "      <td>...</td>\n",
       "      <td>9.0</td>\n",
       "      <td>111.0</td>\n",
       "      <td>5000.0</td>\n",
       "      <td>21</td>\n",
       "      <td>27</td>\n",
       "    </tr>\n",
       "    <tr>\n",
       "      <th>1</th>\n",
       "      <td>3</td>\n",
       "      <td>88.6</td>\n",
       "      <td>168.8</td>\n",
       "      <td>64.1</td>\n",
       "      <td>48.8</td>\n",
       "      <td>...</td>\n",
       "      <td>9.0</td>\n",
       "      <td>111.0</td>\n",
       "      <td>5000.0</td>\n",
       "      <td>21</td>\n",
       "      <td>27</td>\n",
       "    </tr>\n",
       "    <tr>\n",
       "      <th>2</th>\n",
       "      <td>1</td>\n",
       "      <td>94.5</td>\n",
       "      <td>171.2</td>\n",
       "      <td>65.5</td>\n",
       "      <td>52.4</td>\n",
       "      <td>...</td>\n",
       "      <td>9.0</td>\n",
       "      <td>154.0</td>\n",
       "      <td>5000.0</td>\n",
       "      <td>19</td>\n",
       "      <td>26</td>\n",
       "    </tr>\n",
       "  </tbody>\n",
       "</table>\n",
       "<p>3 rows × 14 columns</p>\n",
       "</div>"
      ],
      "text/plain": [
       "   symboling  wheel-base  length  width  height  ...  compression-ratio  \\\n",
       "0          3        88.6   168.8   64.1    48.8  ...                9.0   \n",
       "1          3        88.6   168.8   64.1    48.8  ...                9.0   \n",
       "2          1        94.5   171.2   65.5    52.4  ...                9.0   \n",
       "\n",
       "   horsepower  peak-rpm  city-mpg  highway-mpg  \n",
       "0       111.0    5000.0        21           27  \n",
       "1       111.0    5000.0        21           27  \n",
       "2       154.0    5000.0        19           26  \n",
       "\n",
       "[3 rows x 14 columns]"
      ]
     },
     "execution_count": 18,
     "metadata": {},
     "output_type": "execute_result"
    }
   ],
   "source": [
    "df[features['numerical']].head(3)"
   ]
  },
  {
   "cell_type": "code",
   "execution_count": 19,
   "metadata": {},
   "outputs": [],
   "source": [
    "from sklearn.model_selection import train_test_split\n",
    "\n",
    "df_train, df_test = train_test_split(df, test_size=0.25, random_state=22)"
   ]
  },
  {
   "cell_type": "code",
   "execution_count": 20,
   "metadata": {},
   "outputs": [],
   "source": [
    "x_train = df_train[features['all']]\n",
    "x_test  = df_test[features['all']]\n",
    "\n",
    "y_train = df_train[target]\n",
    "y_test  = df_test[target]"
   ]
  },
  {
   "cell_type": "code",
   "execution_count": 21,
   "metadata": {},
   "outputs": [
    {
     "data": {
      "text/plain": [
       "count    150.000000\n",
       "mean      13.724267\n",
       "std        8.224519\n",
       "min        5.118000\n",
       "25%        7.961500\n",
       "50%       11.072000\n",
       "75%       16.678750\n",
       "max       45.400000\n",
       "Name: price, dtype: float64"
      ]
     },
     "execution_count": 21,
     "metadata": {},
     "output_type": "execute_result"
    }
   ],
   "source": [
    "y_train.describe()"
   ]
  },
  {
   "cell_type": "code",
   "execution_count": 22,
   "metadata": {},
   "outputs": [
    {
     "name": "stderr",
     "output_type": "stream",
     "text": [
      "/Users/tarek/anaconda3/envs/scikitbook/lib/python3.6/site-packages/ipykernel_launcher.py:13: UserWarning: Matplotlib is currently using module://ipykernel.pylab.backend_inline, which is a non-GUI backend, so cannot show the figure.\n",
      "  del sys.path[0]\n"
     ]
    },
    {
     "data": {
      "image/png": "[encoded data removed]",
      "text/plain": [
       "<Figure size 1152x360 with 1 Axes>"
      ]
     },
     "metadata": {
      "needs_background": "light"
     },
     "output_type": "display_data"
    }
   ],
   "source": [
    "fig, ax = plt.subplots(1, 1, figsize=(16, 5), sharey=False)\n",
    "\n",
    "y_train.plot(\n",
    "    title=\"Distribution of Car Prices (in 1000's)\",\n",
    "    kind='hist', \n",
    "    bins=11,\n",
    "    color='k',\n",
    "    ax=ax\n",
    ")\n",
    "\n",
    "ax.set_xlabel('Car Price / 1000')\n",
    "\n",
    "fig.show()"
   ]
  },
  {
   "cell_type": "code",
   "execution_count": 23,
   "metadata": {},
   "outputs": [],
   "source": [
    "from sklearn.impute import SimpleImputer\n",
    "\n",
    "imp = SimpleImputer(missing_values=np.nan, strategy='most_frequent')\n",
    "\n",
    "x_train = imp.fit_transform(x_train)\n",
    "x_test = imp.transform(x_test)\n",
    "\n",
    "x_train = pd.DataFrame(x_train, columns=features['all'])\n",
    "x_test = pd.DataFrame(x_test, columns=features['all'])"
   ]
  },
  {
   "cell_type": "code",
   "execution_count": 24,
   "metadata": {},
   "outputs": [],
   "source": [
    "from sklearn.base import BaseEstimator, TransformerMixin\n",
    "\n",
    "class ColumnNamesKeeper(TransformerMixin, BaseEstimator):\n",
    "    \n",
    "    def __init__(self, transformer):\n",
    "        self._columns = None\n",
    "        self.transformer = transformer\n",
    "        \n",
    "    def __repr__(self):\n",
    "        return repr(self.transformer)\n",
    "    \n",
    "    def fit(self, x, y=None):\n",
    "        self._columns = x.columns\n",
    "        self.transformer.fit(x)\n",
    "    \n",
    "    def transform(self, x, y=None):\n",
    "        x = self.transformer.transform(x)\n",
    "        return pd.DataFrame(x, columns=self._columns)\n",
    "        \n",
    "    def fit_transform(self, x, y=None):\n",
    "        self.fit(x, y)\n",
    "        return self.transform(x)"
   ]
  },
  {
   "cell_type": "code",
   "execution_count": 25,
   "metadata": {},
   "outputs": [],
   "source": [
    "from sklearn.impute import SimpleImputer\n",
    "\n",
    "imp = ColumnNamesKeeper(\n",
    "    SimpleImputer(missing_values=np.nan, strategy='most_frequent')\n",
    ")\n",
    "\n",
    "x_train = imp.fit_transform(x_train)\n",
    "x_test = imp.transform(x_test)"
   ]
  },
  {
   "cell_type": "code",
   "execution_count": 26,
   "metadata": {},
   "outputs": [
    {
     "name": "stdout",
     "output_type": "stream",
     "text": [
      "Missing values in train: 0, and in test: 0\n"
     ]
    }
   ],
   "source": [
    "print(\n",
    "    'Missing values in train: {}, and in test: {}'.format(\n",
    "        x_train.isnull().sum().sum(),\n",
    "        x_test.isnull().sum().sum(),\n",
    "    )\n",
    ") "
   ]
  },
  {
   "cell_type": "code",
   "execution_count": 27,
   "metadata": {},
   "outputs": [
    {
     "data": {
      "text/html": [
       "<div>\n",
       "<style scoped>\n",
       "    .dataframe tbody tr th:only-of-type {\n",
       "        vertical-align: middle;\n",
       "    }\n",
       "\n",
       "    .dataframe tbody tr th {\n",
       "        vertical-align: top;\n",
       "    }\n",
       "\n",
       "    .dataframe thead th {\n",
       "        text-align: right;\n",
       "    }\n",
       "</style>\n",
       "<table border=\"1\" class=\"dataframe\">\n",
       "  <thead>\n",
       "    <tr style=\"text-align: right;\">\n",
       "      <th></th>\n",
       "      <th>make</th>\n",
       "      <th>fuel-type</th>\n",
       "      <th>aspiration</th>\n",
       "      <th>num-of-doors</th>\n",
       "      <th>body-style</th>\n",
       "      <th>...</th>\n",
       "      <th>compression-ratio</th>\n",
       "      <th>horsepower</th>\n",
       "      <th>peak-rpm</th>\n",
       "      <th>city-mpg</th>\n",
       "      <th>highway-mpg</th>\n",
       "    </tr>\n",
       "  </thead>\n",
       "  <tbody>\n",
       "    <tr>\n",
       "      <th>0</th>\n",
       "      <td>volkswagen</td>\n",
       "      <td>diesel</td>\n",
       "      <td>std</td>\n",
       "      <td>four</td>\n",
       "      <td>sedan</td>\n",
       "      <td>...</td>\n",
       "      <td>23</td>\n",
       "      <td>52</td>\n",
       "      <td>4800</td>\n",
       "      <td>37</td>\n",
       "      <td>46</td>\n",
       "    </tr>\n",
       "    <tr>\n",
       "      <th>1</th>\n",
       "      <td>mercury</td>\n",
       "      <td>gas</td>\n",
       "      <td>turbo</td>\n",
       "      <td>two</td>\n",
       "      <td>hatchback</td>\n",
       "      <td>...</td>\n",
       "      <td>8</td>\n",
       "      <td>175</td>\n",
       "      <td>5000</td>\n",
       "      <td>19</td>\n",
       "      <td>24</td>\n",
       "    </tr>\n",
       "    <tr>\n",
       "      <th>2</th>\n",
       "      <td>nissan</td>\n",
       "      <td>gas</td>\n",
       "      <td>std</td>\n",
       "      <td>four</td>\n",
       "      <td>wagon</td>\n",
       "      <td>...</td>\n",
       "      <td>9.4</td>\n",
       "      <td>69</td>\n",
       "      <td>5200</td>\n",
       "      <td>31</td>\n",
       "      <td>37</td>\n",
       "    </tr>\n",
       "    <tr>\n",
       "      <th>3</th>\n",
       "      <td>toyota</td>\n",
       "      <td>gas</td>\n",
       "      <td>std</td>\n",
       "      <td>two</td>\n",
       "      <td>hatchback</td>\n",
       "      <td>...</td>\n",
       "      <td>9.3</td>\n",
       "      <td>161</td>\n",
       "      <td>5200</td>\n",
       "      <td>20</td>\n",
       "      <td>24</td>\n",
       "    </tr>\n",
       "  </tbody>\n",
       "</table>\n",
       "<p>4 rows × 24 columns</p>\n",
       "</div>"
      ],
      "text/plain": [
       "         make fuel-type aspiration num-of-doors body-style  ...  \\\n",
       "0  volkswagen    diesel        std         four      sedan  ...   \n",
       "1     mercury       gas      turbo          two  hatchback  ...   \n",
       "2      nissan       gas        std         four      wagon  ...   \n",
       "3      toyota       gas        std          two  hatchback  ...   \n",
       "\n",
       "  compression-ratio horsepower peak-rpm city-mpg highway-mpg  \n",
       "0                23         52     4800       37          46  \n",
       "1                 8        175     5000       19          24  \n",
       "2               9.4         69     5200       31          37  \n",
       "3               9.3        161     5200       20          24  \n",
       "\n",
       "[4 rows x 24 columns]"
      ]
     },
     "execution_count": 27,
     "metadata": {},
     "output_type": "execute_result"
    }
   ],
   "source": [
    "x_train.head(4)"
   ]
  },
  {
   "cell_type": "code",
   "execution_count": 28,
   "metadata": {},
   "outputs": [],
   "source": [
    "from category_encoders.ordinal import OrdinalEncoder\n",
    "\n",
    "enc = OrdinalEncoder(\n",
    "    cols=features['categorical'],\n",
    "    handle_unknown='value'\n",
    ")\n",
    "\n",
    "x_train = enc.fit_transform(x_train)\n",
    "x_test = enc.transform(x_test)"
   ]
  },
  {
   "cell_type": "code",
   "execution_count": 29,
   "metadata": {},
   "outputs": [
    {
     "data": {
      "text/html": [
       "<div>\n",
       "<style scoped>\n",
       "    .dataframe tbody tr th:only-of-type {\n",
       "        vertical-align: middle;\n",
       "    }\n",
       "\n",
       "    .dataframe tbody tr th {\n",
       "        vertical-align: top;\n",
       "    }\n",
       "\n",
       "    .dataframe thead th {\n",
       "        text-align: right;\n",
       "    }\n",
       "</style>\n",
       "<table border=\"1\" class=\"dataframe\">\n",
       "  <thead>\n",
       "    <tr style=\"text-align: right;\">\n",
       "      <th></th>\n",
       "      <th>make</th>\n",
       "      <th>fuel-type</th>\n",
       "      <th>aspiration</th>\n",
       "      <th>num-of-doors</th>\n",
       "      <th>body-style</th>\n",
       "      <th>...</th>\n",
       "      <th>compression-ratio</th>\n",
       "      <th>horsepower</th>\n",
       "      <th>peak-rpm</th>\n",
       "      <th>city-mpg</th>\n",
       "      <th>highway-mpg</th>\n",
       "    </tr>\n",
       "  </thead>\n",
       "  <tbody>\n",
       "    <tr>\n",
       "      <th>0</th>\n",
       "      <td>1</td>\n",
       "      <td>1</td>\n",
       "      <td>1</td>\n",
       "      <td>1</td>\n",
       "      <td>1</td>\n",
       "      <td>...</td>\n",
       "      <td>23</td>\n",
       "      <td>52</td>\n",
       "      <td>4800</td>\n",
       "      <td>37</td>\n",
       "      <td>46</td>\n",
       "    </tr>\n",
       "    <tr>\n",
       "      <th>1</th>\n",
       "      <td>2</td>\n",
       "      <td>2</td>\n",
       "      <td>2</td>\n",
       "      <td>2</td>\n",
       "      <td>2</td>\n",
       "      <td>...</td>\n",
       "      <td>8</td>\n",
       "      <td>175</td>\n",
       "      <td>5000</td>\n",
       "      <td>19</td>\n",
       "      <td>24</td>\n",
       "    </tr>\n",
       "    <tr>\n",
       "      <th>2</th>\n",
       "      <td>3</td>\n",
       "      <td>2</td>\n",
       "      <td>1</td>\n",
       "      <td>1</td>\n",
       "      <td>3</td>\n",
       "      <td>...</td>\n",
       "      <td>9.4</td>\n",
       "      <td>69</td>\n",
       "      <td>5200</td>\n",
       "      <td>31</td>\n",
       "      <td>37</td>\n",
       "    </tr>\n",
       "    <tr>\n",
       "      <th>3</th>\n",
       "      <td>4</td>\n",
       "      <td>2</td>\n",
       "      <td>1</td>\n",
       "      <td>2</td>\n",
       "      <td>2</td>\n",
       "      <td>...</td>\n",
       "      <td>9.3</td>\n",
       "      <td>161</td>\n",
       "      <td>5200</td>\n",
       "      <td>20</td>\n",
       "      <td>24</td>\n",
       "    </tr>\n",
       "  </tbody>\n",
       "</table>\n",
       "<p>4 rows × 24 columns</p>\n",
       "</div>"
      ],
      "text/plain": [
       "   make  fuel-type  aspiration  num-of-doors  body-style  ...  \\\n",
       "0     1          1           1             1           1  ...   \n",
       "1     2          2           2             2           2  ...   \n",
       "2     3          2           1             1           3  ...   \n",
       "3     4          2           1             2           2  ...   \n",
       "\n",
       "   compression-ratio  horsepower  peak-rpm  city-mpg  highway-mpg  \n",
       "0                 23          52      4800        37           46  \n",
       "1                  8         175      5000        19           24  \n",
       "2                9.4          69      5200        31           37  \n",
       "3                9.3         161      5200        20           24  \n",
       "\n",
       "[4 rows x 24 columns]"
      ]
     },
     "execution_count": 29,
     "metadata": {},
     "output_type": "execute_result"
    }
   ],
   "source": [
    "x_train.head(4)"
   ]
  },
  {
   "cell_type": "markdown",
   "metadata": {},
   "source": [
    "## Random Forest"
   ]
  },
  {
   "cell_type": "code",
   "execution_count": 30,
   "metadata": {},
   "outputs": [],
   "source": [
    "from sklearn.ensemble import RandomForestRegressor\n",
    "\n",
    "rgr = RandomForestRegressor(n_jobs=-1)\n",
    "\n",
    "rgr.fit(x_train, y_train)\n",
    "y_test_pred = rgr.predict(x_test)"
   ]
  },
  {
   "cell_type": "code",
   "execution_count": 31,
   "metadata": {},
   "outputs": [
    {
     "name": "stdout",
     "output_type": "stream",
     "text": [
      "RandomForestRegressor(bootstrap=True, ccp_alpha=0.0, criterion='mse',\n",
      "                      max_depth=None, max_features='auto', max_leaf_nodes=None,\n",
      "                      max_samples=None, min_impurity_decrease=0.0,\n",
      "                      min_impurity_split=None, min_samples_leaf=1,\n",
      "                      min_samples_split=2, min_weight_fraction_leaf=0.0,\n",
      "                      n_estimators=100, n_jobs=-1, oob_score=False,\n",
      "                      random_state=None, verbose=0, warm_start=False)\n"
     ]
    }
   ],
   "source": [
    "print(rgr)"
   ]
  },
  {
   "cell_type": "code",
   "execution_count": 32,
   "metadata": {},
   "outputs": [
    {
     "name": "stdout",
     "output_type": "stream",
     "text": [
      "R2: 0.90, MSE: 4.61, RMSE: 2.15, MAE 1.38\n"
     ]
    }
   ],
   "source": [
    "from sklearn.metrics import (\n",
    "    mean_squared_error, mean_absolute_error, median_absolute_error, r2_score\n",
    ")\n",
    "\n",
    "print(\n",
    "    'R2: {:.2f}, MSE: {:.2f}, RMSE: {:.2f}, MAE {:.2f}'.format(\n",
    "        r2_score(y_test, y_test_pred),\n",
    "        mean_squared_error(y_test, y_test_pred),\n",
    "        np.sqrt(mean_squared_error(y_test, y_test_pred)),\n",
    "        mean_absolute_error(y_test, y_test_pred),\n",
    "    )\n",
    ")"
   ]
  },
  {
   "cell_type": "code",
   "execution_count": 33,
   "metadata": {},
   "outputs": [
    {
     "name": "stderr",
     "output_type": "stream",
     "text": [
      "/Users/tarek/anaconda3/envs/scikitbook/lib/python3.6/site-packages/ipykernel_launcher.py:30: UserWarning: Matplotlib is currently using module://ipykernel.pylab.backend_inline, which is a non-GUI backend, so cannot show the figure.\n"
     ]
    },
    {
     "data": {
      "image/png": "[encoded data removed]",
      "text/plain": [
       "<Figure size 1152x360 with 2 Axes>"
      ]
     },
     "metadata": {
      "needs_background": "light"
     },
     "output_type": "display_data"
    }
   ],
   "source": [
    "df_pred = pd.DataFrame(\n",
    "    {\n",
    "        'actuals': y_test,\n",
    "        'predictions': y_test_pred,\n",
    "    }\n",
    ")\n",
    "\n",
    "df_pred['error'] = np.abs(y_test - y_test_pred)\n",
    "\n",
    "fig, axs = plt.subplots(1, 2, figsize=(16, 5), sharey=False)\n",
    "\n",
    "df_pred.plot(\n",
    "    title='Actuals vs Predictions',\n",
    "    kind='scatter',\n",
    "    x='actuals',\n",
    "    y='predictions',\n",
    "    color='k',\n",
    "    ax=axs[0],\n",
    ")\n",
    "\n",
    "df_pred['error'].plot(\n",
    "    title='Distribution of Error',\n",
    "    kind='hist',\n",
    "    color='k',\n",
    "    ax=axs[1],\n",
    ")\n",
    "\n",
    "axs[1].set_xlabel('Absolute Error')\n",
    "\n",
    "fig.show()"
   ]
  },
  {
   "cell_type": "code",
   "execution_count": 34,
   "metadata": {},
   "outputs": [],
   "source": [
    "pd.set_option('display.max_rows', 8)"
   ]
  },
  {
   "cell_type": "code",
   "execution_count": 35,
   "metadata": {},
   "outputs": [
    {
     "data": {
      "text/html": [
       "<div>\n",
       "<style scoped>\n",
       "    .dataframe tbody tr th:only-of-type {\n",
       "        vertical-align: middle;\n",
       "    }\n",
       "\n",
       "    .dataframe tbody tr th {\n",
       "        vertical-align: top;\n",
       "    }\n",
       "\n",
       "    .dataframe thead th {\n",
       "        text-align: right;\n",
       "    }\n",
       "</style>\n",
       "<table border=\"1\" class=\"dataframe\">\n",
       "  <thead>\n",
       "    <tr style=\"text-align: right;\">\n",
       "      <th></th>\n",
       "      <th>Feature</th>\n",
       "      <th>Importance</th>\n",
       "    </tr>\n",
       "  </thead>\n",
       "  <tbody>\n",
       "    <tr>\n",
       "      <th>16</th>\n",
       "      <td>engine-size</td>\n",
       "      <td>0.655914</td>\n",
       "    </tr>\n",
       "    <tr>\n",
       "      <th>15</th>\n",
       "      <td>curb-weight</td>\n",
       "      <td>0.224738</td>\n",
       "    </tr>\n",
       "    <tr>\n",
       "      <th>23</th>\n",
       "      <td>highway-mpg</td>\n",
       "      <td>0.024662</td>\n",
       "    </tr>\n",
       "    <tr>\n",
       "      <th>13</th>\n",
       "      <td>width</td>\n",
       "      <td>0.016323</td>\n",
       "    </tr>\n",
       "    <tr>\n",
       "      <th>...</th>\n",
       "      <td>...</td>\n",
       "      <td>...</td>\n",
       "    </tr>\n",
       "    <tr>\n",
       "      <th>7</th>\n",
       "      <td>engine-type</td>\n",
       "      <td>0.000939</td>\n",
       "    </tr>\n",
       "    <tr>\n",
       "      <th>8</th>\n",
       "      <td>num-of-cylinders</td>\n",
       "      <td>0.000753</td>\n",
       "    </tr>\n",
       "    <tr>\n",
       "      <th>1</th>\n",
       "      <td>fuel-type</td>\n",
       "      <td>0.000747</td>\n",
       "    </tr>\n",
       "    <tr>\n",
       "      <th>6</th>\n",
       "      <td>engine-location</td>\n",
       "      <td>0.000014</td>\n",
       "    </tr>\n",
       "  </tbody>\n",
       "</table>\n",
       "<p>24 rows × 2 columns</p>\n",
       "</div>"
      ],
      "text/plain": [
       "             Feature  Importance\n",
       "16       engine-size    0.655914\n",
       "15       curb-weight    0.224738\n",
       "23       highway-mpg    0.024662\n",
       "13             width    0.016323\n",
       "..               ...         ...\n",
       "7        engine-type    0.000939\n",
       "8   num-of-cylinders    0.000753\n",
       "1          fuel-type    0.000747\n",
       "6    engine-location    0.000014\n",
       "\n",
       "[24 rows x 2 columns]"
      ]
     },
     "execution_count": 35,
     "metadata": {},
     "output_type": "execute_result"
    }
   ],
   "source": [
    "df_feature_importances = pd.DataFrame(\n",
    "    {\n",
    "        'Feature': x_train.columns,\n",
    "        'Importance': rgr.feature_importances_,\n",
    "    }\n",
    ").sort_values(\n",
    "    'Importance', ascending=False\n",
    ")\n",
    "\n",
    "df_feature_importances"
   ]
  },
  {
   "cell_type": "code",
   "execution_count": 36,
   "metadata": {},
   "outputs": [],
   "source": [
    "pd.set_option('display.max_rows', 50)"
   ]
  },
  {
   "cell_type": "code",
   "execution_count": 37,
   "metadata": {},
   "outputs": [
    {
     "name": "stderr",
     "output_type": "stream",
     "text": [
      "/Users/tarek/anaconda3/envs/scikitbook/lib/python3.6/site-packages/ipykernel_launcher.py:18: UserWarning: Matplotlib is currently using module://ipykernel.pylab.backend_inline, which is a non-GUI backend, so cannot show the figure.\n"
     ]
    },
    {
     "data": {
      "image/png": "[encoded data removed]",
      "text/plain": [
       "<Figure size 1080x504 with 7 Axes>"
      ]
     },
     "metadata": {
      "needs_background": "light"
     },
     "output_type": "display_data"
    }
   ],
   "source": [
    "from sklearn.inspection import plot_partial_dependence\n",
    "\n",
    "fig, ax = plt.subplots(1, 1, figsize=(15, 7), sharey=False)\n",
    "\n",
    "top_features = df_feature_importances['Feature'].head(6)\n",
    "\n",
    "plot_partial_dependence(\n",
    "    rgr, x_train, \n",
    "    features=top_features,\n",
    "    n_cols=3, \n",
    "    n_jobs=-1,\n",
    "    line_kw={'color': 'k'},\n",
    "    ax=ax\n",
    ") \n",
    "\n",
    "ax.set_title('Partial Dependence')\n",
    "\n",
    "fig.show()"
   ]
  },
  {
   "cell_type": "code",
   "execution_count": 38,
   "metadata": {},
   "outputs": [],
   "source": [
    "# Shall I also write about permutation_importance.\n",
    "# Tip: impurity-based feature importance can inflate the importance of numerical features.\n",
    "# https://scikit-learn.org/stable/auto_examples/inspection/plot_permutation_importance.html"
   ]
  },
  {
   "cell_type": "code",
   "execution_count": null,
   "metadata": {},
   "outputs": [],
   "source": []
  },
  {
   "cell_type": "code",
   "execution_count": 39,
   "metadata": {},
   "outputs": [],
   "source": [
    "from sklearn.ensemble import RandomForestRegressor\n",
    "from sklearn.metrics import (\n",
    "    mean_squared_error, mean_absolute_error, median_absolute_error, r2_score\n",
    ")\n",
    "\n",
    "\n",
    "mae = []\n",
    "mse = []\n",
    "\n",
    "n_estimators_options = [5, 500, 5000]\n",
    "\n",
    "for n_estimators in n_estimators_options:\n",
    "\n",
    "    rgr = RandomForestRegressor(\n",
    "        n_estimators=n_estimators,\n",
    "        bootstrap=True,\n",
    "        max_features=0.75,\n",
    "        max_samples=0.75,\n",
    "        n_jobs=-1,\n",
    "    )\n",
    "\n",
    "    rgr.fit(x_train, y_train)\n",
    "    y_test_pred = rgr.predict(x_test)\n",
    "    \n",
    "    mae.append(mean_absolute_error(y_test, y_test_pred))\n",
    "    mse.append(mean_squared_error(y_test, y_test_pred))\n",
    "    \n",
    "df_error = pd.DataFrame(\n",
    "    {\n",
    "        'n_estimators': n_estimators_options,\n",
    "        'MAE': mae,\n",
    "        'MSE': mse\n",
    "    }\n",
    ").set_index('n_estimators')"
   ]
  },
  {
   "cell_type": "code",
   "execution_count": 40,
   "metadata": {},
   "outputs": [
    {
     "data": {
      "text/html": [
       "<div>\n",
       "<style scoped>\n",
       "    .dataframe tbody tr th:only-of-type {\n",
       "        vertical-align: middle;\n",
       "    }\n",
       "\n",
       "    .dataframe tbody tr th {\n",
       "        vertical-align: top;\n",
       "    }\n",
       "\n",
       "    .dataframe thead th {\n",
       "        text-align: right;\n",
       "    }\n",
       "</style>\n",
       "<table border=\"1\" class=\"dataframe\">\n",
       "  <thead>\n",
       "    <tr style=\"text-align: right;\">\n",
       "      <th></th>\n",
       "      <th>MAE</th>\n",
       "      <th>MSE</th>\n",
       "    </tr>\n",
       "    <tr>\n",
       "      <th>n_estimators</th>\n",
       "      <th></th>\n",
       "      <th></th>\n",
       "    </tr>\n",
       "  </thead>\n",
       "  <tbody>\n",
       "    <tr>\n",
       "      <th>5</th>\n",
       "      <td>1.876188</td>\n",
       "      <td>7.494696</td>\n",
       "    </tr>\n",
       "    <tr>\n",
       "      <th>500</th>\n",
       "      <td>1.375638</td>\n",
       "      <td>4.395651</td>\n",
       "    </tr>\n",
       "    <tr>\n",
       "      <th>5000</th>\n",
       "      <td>1.388308</td>\n",
       "      <td>4.339096</td>\n",
       "    </tr>\n",
       "  </tbody>\n",
       "</table>\n",
       "</div>"
      ],
      "text/plain": [
       "                   MAE       MSE\n",
       "n_estimators                    \n",
       "5             1.876188  7.494696\n",
       "500           1.375638  4.395651\n",
       "5000          1.388308  4.339096"
      ]
     },
     "execution_count": 40,
     "metadata": {},
     "output_type": "execute_result"
    }
   ],
   "source": [
    "df_error"
   ]
  },
  {
   "cell_type": "code",
   "execution_count": 41,
   "metadata": {},
   "outputs": [
    {
     "name": "stderr",
     "output_type": "stream",
     "text": [
      "/Users/tarek/anaconda3/envs/scikitbook/lib/python3.6/site-packages/ipykernel_launcher.py:13: UserWarning: Matplotlib is currently using module://ipykernel.pylab.backend_inline, which is a non-GUI backend, so cannot show the figure.\n",
      "  del sys.path[0]\n"
     ]
    },
    {
     "data": {
      "image/png": "[encoded data removed]",
      "text/plain": [
       "<Figure size 1152x360 with 1 Axes>"
      ]
     },
     "metadata": {
      "needs_background": "light"
     },
     "output_type": "display_data"
    }
   ],
   "source": [
    "fig, ax = plt.subplots(1, 1, figsize=(16, 5), sharey=False)\n",
    "\n",
    "df_error['MAE'].plot(\n",
    "    title=\"Mean Absolute Error (Random Forest)\",\n",
    "    kind='bar',\n",
    "    ylim=(1.1,1.7),\n",
    "    color='k',\n",
    "    ax=ax\n",
    ")\n",
    "\n",
    "ax.set_ylabel('MAE')\n",
    "\n",
    "fig.show()"
   ]
  },
  {
   "cell_type": "markdown",
   "metadata": {},
   "source": [
    "## Bagging Regressor"
   ]
  },
  {
   "cell_type": "code",
   "execution_count": 42,
   "metadata": {},
   "outputs": [],
   "source": [
    "from sklearn.ensemble import BaggingRegressor\n",
    "from sklearn.neighbors import KNeighborsRegressor\n",
    "\n",
    "# Compare to when K > 1; performance is worse then\n",
    "rgr = BaggingRegressor(\n",
    "    base_estimator=KNeighborsRegressor(n_neighbors=1),\n",
    "    n_estimators=200,\n",
    ")\n",
    "\n",
    "rgr.fit(x_train, y_train)\n",
    "y_test_pred = rgr.predict(x_test)"
   ]
  },
  {
   "cell_type": "code",
   "execution_count": 43,
   "metadata": {},
   "outputs": [
    {
     "name": "stdout",
     "output_type": "stream",
     "text": [
      "R2: 0.81, MSE: 8.80, MAE: 1.82\n"
     ]
    }
   ],
   "source": [
    "from sklearn.metrics import (\n",
    "    mean_squared_error, mean_absolute_error, median_absolute_error, r2_score\n",
    ")\n",
    "\n",
    "print(\n",
    "    'R2: {:.2f}, MSE: {:.2f}, MAE: {:.2f}'.format(\n",
    "        r2_score(df_test[target], y_test_pred),\n",
    "        mean_squared_error(df_test[target], y_test_pred),\n",
    "        mean_absolute_error(df_test[target], y_test_pred),\n",
    "    )\n",
    ")"
   ]
  },
  {
   "cell_type": "code",
   "execution_count": 44,
   "metadata": {},
   "outputs": [],
   "source": [
    "class ColumnNamesKeeper:\n",
    "    \n",
    "    def __init__(self, transformer):\n",
    "        self._columns = None\n",
    "        self.transformer = transformer\n",
    "        \n",
    "    def __repr__(self):\n",
    "        return repr(self.transformer)\n",
    "    \n",
    "    def fit(self, x, y=None):\n",
    "        self._columns = x.columns\n",
    "        self.transformer.fit(x)\n",
    "    \n",
    "    def transform(self, x, y=None):\n",
    "        x = self.transformer.transform(x)\n",
    "        return pd.DataFrame(x, columns=self._columns)\n",
    "        \n",
    "    def fit_transform(self, x, y=None):\n",
    "        self.fit(x, y)\n",
    "        return self.transform(x)"
   ]
  },
  {
   "cell_type": "code",
   "execution_count": 45,
   "metadata": {
    "scrolled": false
   },
   "outputs": [],
   "source": [
    "from sklearn.impute import SimpleImputer\n",
    "from category_encoders.one_hot import OneHotEncoder\n",
    "from sklearn.preprocessing import MinMaxScaler\n",
    "from sklearn.pipeline import Pipeline\n",
    "\n",
    "numerical_mputer = ColumnNamesKeeper(\n",
    "    SimpleImputer(\n",
    "        missing_values=np.nan, \n",
    "        strategy='median'\n",
    "    )\n",
    ")\n",
    "\n",
    "categorical_mputer = ColumnNamesKeeper(\n",
    "    SimpleImputer(\n",
    "        missing_values=np.nan, \n",
    "        strategy='most_frequent'\n",
    "    )\n",
    ")\n",
    "\n",
    "minmax_scaler = ColumnNamesKeeper(\n",
    "    MinMaxScaler()\n",
    ") \n",
    "\n",
    "onehot_encoder = OneHotEncoder(\n",
    "    cols=features['categorical'],\n",
    "    handle_unknown='value'\n",
    ")\n",
    "\n",
    "numerical_pipeline = Pipeline(\n",
    "    [\n",
    "        ('numerical_mputer', numerical_mputer), \n",
    "        ('minmax_scaler', minmax_scaler)\n",
    "    ]\n",
    ")\n",
    "\n",
    "categorical_pipeline = Pipeline(\n",
    "    [\n",
    "        ('categorical_mputer', categorical_mputer), \n",
    "        ('onehot_encoder', onehot_encoder)\n",
    "    ]\n",
    ")\n",
    "\n",
    "x_train_knn = pd.concat(\n",
    "    [\n",
    "        numerical_pipeline.fit_transform(df_train[features['numerical']]), \n",
    "        categorical_pipeline.fit_transform(df_train[features['categorical']]),\n",
    "    ],\n",
    "    axis=1\n",
    ")\n",
    "\n",
    "x_test_knn = pd.concat(\n",
    "    [\n",
    "        numerical_pipeline.transform(df_test[features['numerical']]), \n",
    "        categorical_pipeline.transform(df_test[features['categorical']]),\n",
    "    ],\n",
    "    axis=1\n",
    ")"
   ]
  },
  {
   "cell_type": "code",
   "execution_count": 46,
   "metadata": {},
   "outputs": [],
   "source": [
    "from sklearn.ensemble import BaggingRegressor\n",
    "from sklearn.neighbors import KNeighborsRegressor\n",
    "\n",
    "rgr = BaggingRegressor(\n",
    "    base_estimator=KNeighborsRegressor(\n",
    "        n_neighbors=1\n",
    "    ),\n",
    "    n_estimators=400,\n",
    ")\n",
    "\n",
    "rgr.fit(x_train_knn, y_train)\n",
    "y_test_pred = rgr.predict(x_test_knn)"
   ]
  },
  {
   "cell_type": "code",
   "execution_count": 47,
   "metadata": {},
   "outputs": [
    {
     "name": "stdout",
     "output_type": "stream",
     "text": [
      "R2: 0.87, MSE: 6.31, MAE: 1.75\n"
     ]
    }
   ],
   "source": [
    "from sklearn.metrics import (\n",
    "    mean_squared_error, mean_absolute_error, median_absolute_error, r2_score\n",
    ")\n",
    "\n",
    "print(\n",
    "    'R2: {:.2f}, MSE: {:.2f}, MAE: {:.2f}'.format(\n",
    "        r2_score(df_test[target], y_test_pred),\n",
    "        mean_squared_error(df_test[target], y_test_pred),\n",
    "        mean_absolute_error(df_test[target], y_test_pred),\n",
    "    )\n",
    ")"
   ]
  },
  {
   "cell_type": "code",
   "execution_count": 48,
   "metadata": {},
   "outputs": [],
   "source": [
    "rgr = KNeighborsRegressor(\n",
    "    n_neighbors=3\n",
    ")\n",
    "\n",
    "rgr.fit(x_train_knn, y_train)\n",
    "y_test_pred = rgr.predict(x_test_knn)"
   ]
  },
  {
   "cell_type": "code",
   "execution_count": 49,
   "metadata": {},
   "outputs": [
    {
     "name": "stdout",
     "output_type": "stream",
     "text": [
      "R2: 0.87, MSE: 6.09, MAE: 1.84\n"
     ]
    }
   ],
   "source": [
    "from sklearn.metrics import (\n",
    "    mean_squared_error, mean_absolute_error, median_absolute_error, r2_score\n",
    ")\n",
    "\n",
    "print(\n",
    "    'R2: {:.2f}, MSE: {:.2f}, MAE: {:.2f}'.format(\n",
    "        r2_score(df_test[target], y_test_pred),\n",
    "        mean_squared_error(df_test[target], y_test_pred),\n",
    "        mean_absolute_error(df_test[target], y_test_pred),\n",
    "    )\n",
    ")"
   ]
  },
  {
   "cell_type": "raw",
   "metadata": {},
   "source": [
    "## Bias Varias <- Seems like bad implementation here, needs more research\n",
    "\n",
    "def calculate_bias_variance(y_true, y_pred):\n",
    "    bias = ((y_true -  y_pred.mean()) ** 2).mean()\n",
    "    variance = ((y_pred -  y_pred.mean()) ** 2).mean()\n",
    "    total = bias + variance\n",
    "    return bias / total, variance / total\n",
    "\n",
    "calculate_bias_variance(y_test, y_test_pred)"
   ]
  },
  {
   "cell_type": "raw",
   "metadata": {},
   "source": [
    "n_estimators = []\n",
    "bias_ratios = []\n",
    "variance_ratios = []\n",
    "\n",
    "for n in range(1, 22, 4):\n",
    "    rgr = BaggingRegressor(\n",
    "        n_estimators=n,\n",
    "        n_jobs=-1,\n",
    "    )\n",
    "\n",
    "    rgr.fit(x_train, y_train)\n",
    "    y_test_pred = rgr.predict(x_test)\n",
    "\n",
    "    b, v = calculate_bias_variance(y_test, y_test_pred)\n",
    "    \n",
    "    n_estimators.append(n)\n",
    "    bias_ratios.append(b)\n",
    "    variance_ratios.append(v)\n",
    "    \n",
    "df_bias_variance = pd.DataFrame(\n",
    "    {\n",
    "        'n_estimators': n_estimators,\n",
    "        'bias_ratio': bias_ratios,\n",
    "        'variance_ratio': variance_ratios,\n",
    "    }\n",
    ")"
   ]
  },
  {
   "cell_type": "raw",
   "metadata": {},
   "source": [
    "df_bias_variance.set_index('n_estimators').plot(kind='line')"
   ]
  },
  {
   "cell_type": "markdown",
   "metadata": {},
   "source": [
    "## Gradient Boosting"
   ]
  },
  {
   "cell_type": "code",
   "execution_count": 50,
   "metadata": {},
   "outputs": [],
   "source": [
    "from sklearn.ensemble import GradientBoostingRegressor\n",
    "\n",
    "rgr = GradientBoostingRegressor(n_estimators=1000, max_depth=3, learning_rate=0.01, loss='ls')\n",
    "\n",
    "rgr.fit(x_train, y_train)\n",
    "y_test_pred = rgr.predict(x_test)"
   ]
  },
  {
   "cell_type": "code",
   "execution_count": 51,
   "metadata": {},
   "outputs": [
    {
     "name": "stdout",
     "output_type": "stream",
     "text": [
      "R2: 0.92, MSE: 3.93, RMSE: 1.98, MAE: 1.42\n"
     ]
    }
   ],
   "source": [
    "from sklearn.metrics import (\n",
    "    mean_squared_error, mean_absolute_error, median_absolute_error, r2_score\n",
    ")\n",
    "\n",
    "print(\n",
    "    'R2: {:.2f}, MSE: {:.2f}, RMSE: {:.2f}, MAE: {:.2f}'.format(\n",
    "        r2_score(y_test, y_test_pred),\n",
    "        mean_squared_error(y_test, y_test_pred),\n",
    "        np.sqrt(mean_squared_error(y_test, y_test_pred)),\n",
    "        mean_absolute_error(y_test, y_test_pred),\n",
    "    )\n",
    ")"
   ]
  },
  {
   "cell_type": "code",
   "execution_count": 52,
   "metadata": {},
   "outputs": [],
   "source": [
    "# Random Forest\n",
    "# R2: 0.91, MSE: 4.16, RMSE: 2.04, MAE 1.31"
   ]
  },
  {
   "cell_type": "code",
   "execution_count": 53,
   "metadata": {},
   "outputs": [
    {
     "name": "stderr",
     "output_type": "stream",
     "text": [
      "/Users/tarek/anaconda3/envs/scikitbook/lib/python3.6/site-packages/ipykernel_launcher.py:28: UserWarning: Matplotlib is currently using module://ipykernel.pylab.backend_inline, which is a non-GUI backend, so cannot show the figure.\n"
     ]
    },
    {
     "data": {
      "image/png": "[encoded data removed]",
      "text/plain": [
       "<Figure size 1152x360 with 2 Axes>"
      ]
     },
     "metadata": {
      "needs_background": "light"
     },
     "output_type": "display_data"
    }
   ],
   "source": [
    "df_pred = pd.DataFrame(\n",
    "    {\n",
    "        'actuals': y_test,\n",
    "        'predictions': y_test_pred,\n",
    "    }\n",
    ")\n",
    "\n",
    "df_pred['error'] = np.abs(y_test - y_test_pred)\n",
    "\n",
    "fig, axs = plt.subplots(1, 2, figsize=(16, 5), sharey=False)\n",
    "\n",
    "df_pred.plot(\n",
    "    title='Actuals vs Predictions',\n",
    "    kind='scatter',\n",
    "    x='actuals',\n",
    "    y='predictions',\n",
    "    color='k',\n",
    "    ax=axs[0],\n",
    ")\n",
    "\n",
    "df_pred['error'].plot(\n",
    "    title='Distribution of Error',\n",
    "    kind='hist',\n",
    "    color='k',\n",
    "    ax=axs[1],\n",
    ")\n",
    "\n",
    "fig.show()"
   ]
  },
  {
   "cell_type": "code",
   "execution_count": 54,
   "metadata": {},
   "outputs": [
    {
     "data": {
      "text/html": [
       "<div>\n",
       "<style scoped>\n",
       "    .dataframe tbody tr th:only-of-type {\n",
       "        vertical-align: middle;\n",
       "    }\n",
       "\n",
       "    .dataframe tbody tr th {\n",
       "        vertical-align: top;\n",
       "    }\n",
       "\n",
       "    .dataframe thead th {\n",
       "        text-align: right;\n",
       "    }\n",
       "</style>\n",
       "<table border=\"1\" class=\"dataframe\">\n",
       "  <thead>\n",
       "    <tr style=\"text-align: right;\">\n",
       "      <th></th>\n",
       "      <th>Feature</th>\n",
       "      <th>Importance</th>\n",
       "    </tr>\n",
       "  </thead>\n",
       "  <tbody>\n",
       "    <tr>\n",
       "      <th>16</th>\n",
       "      <td>engine-size</td>\n",
       "      <td>0.669384</td>\n",
       "    </tr>\n",
       "    <tr>\n",
       "      <th>15</th>\n",
       "      <td>curb-weight</td>\n",
       "      <td>0.185760</td>\n",
       "    </tr>\n",
       "    <tr>\n",
       "      <th>20</th>\n",
       "      <td>horsepower</td>\n",
       "      <td>0.028542</td>\n",
       "    </tr>\n",
       "    <tr>\n",
       "      <th>23</th>\n",
       "      <td>highway-mpg</td>\n",
       "      <td>0.019564</td>\n",
       "    </tr>\n",
       "    <tr>\n",
       "      <th>9</th>\n",
       "      <td>fuel-system</td>\n",
       "      <td>0.018312</td>\n",
       "    </tr>\n",
       "    <tr>\n",
       "      <th>22</th>\n",
       "      <td>city-mpg</td>\n",
       "      <td>0.013506</td>\n",
       "    </tr>\n",
       "    <tr>\n",
       "      <th>13</th>\n",
       "      <td>width</td>\n",
       "      <td>0.011792</td>\n",
       "    </tr>\n",
       "    <tr>\n",
       "      <th>12</th>\n",
       "      <td>length</td>\n",
       "      <td>0.007373</td>\n",
       "    </tr>\n",
       "  </tbody>\n",
       "</table>\n",
       "</div>"
      ],
      "text/plain": [
       "        Feature  Importance\n",
       "16  engine-size    0.669384\n",
       "15  curb-weight    0.185760\n",
       "20   horsepower    0.028542\n",
       "23  highway-mpg    0.019564\n",
       "9   fuel-system    0.018312\n",
       "22     city-mpg    0.013506\n",
       "13        width    0.011792\n",
       "12       length    0.007373"
      ]
     },
     "execution_count": 54,
     "metadata": {},
     "output_type": "execute_result"
    }
   ],
   "source": [
    "df_feature_importances = pd.DataFrame(\n",
    "    {\n",
    "        'Feature': x_train.columns,\n",
    "        'Importance': rgr.feature_importances_,\n",
    "    }\n",
    ").sort_values(\n",
    "    'Importance', ascending=False\n",
    ")\n",
    "\n",
    "df_feature_importances.head(8)"
   ]
  },
  {
   "cell_type": "code",
   "execution_count": 55,
   "metadata": {},
   "outputs": [
    {
     "name": "stderr",
     "output_type": "stream",
     "text": [
      "/Users/tarek/anaconda3/envs/scikitbook/lib/python3.6/site-packages/ipykernel_launcher.py:18: UserWarning: Matplotlib is currently using module://ipykernel.pylab.backend_inline, which is a non-GUI backend, so cannot show the figure.\n"
     ]
    },
    {
     "data": {
      "image/png": "[encoded data removed]",
      "text/plain": [
       "<Figure size 1080x504 with 7 Axes>"
      ]
     },
     "metadata": {
      "needs_background": "light"
     },
     "output_type": "display_data"
    }
   ],
   "source": [
    "from sklearn.inspection import plot_partial_dependence\n",
    "\n",
    "fig, ax = plt.subplots(1, 1, figsize=(15, 7), sharey=False)\n",
    "\n",
    "top_features = df_feature_importances['Feature'].head(6)\n",
    "\n",
    "plot_partial_dependence(\n",
    "    rgr, x_train, \n",
    "    features=top_features,\n",
    "    n_cols=3, \n",
    "    n_jobs=-1,\n",
    "    line_kw={'color': 'k'},\n",
    "    ax=ax\n",
    ") \n",
    "\n",
    "ax.set_title('Partial Dependence')\n",
    "\n",
    "fig.show()"
   ]
  },
  {
   "cell_type": "markdown",
   "metadata": {},
   "source": [
    "## Deviance"
   ]
  },
  {
   "cell_type": "code",
   "execution_count": 56,
   "metadata": {},
   "outputs": [
    {
     "name": "stdout",
     "output_type": "stream",
     "text": [
      "MSE: 4.293669881061453\n"
     ]
    }
   ],
   "source": [
    "from sklearn.ensemble import GradientBoostingRegressor\n",
    "\n",
    "rgr = GradientBoostingRegressor(n_estimators=250, learning_rate=0.02, loss='ls')\n",
    "rgr.fit(x_train, y_train)\n",
    "y_test_pred = rgr.predict(x_test)\n",
    "\n",
    "print(f'MSE: {mean_squared_error(y_test, y_test_pred)}')"
   ]
  },
  {
   "cell_type": "code",
   "execution_count": 57,
   "metadata": {},
   "outputs": [],
   "source": [
    "def calculate_deviance(estimator, x_test, y_test):\n",
    "\n",
    "    train_errors = estimator.train_score_\n",
    "    test_errors = [\n",
    "        estimator.loss_(y_test, y_pred_staged) # mean_squared_error(y_test, y_pred_staged)\n",
    "        for y_pred_staged in estimator.staged_predict(x_test)\n",
    "    ]\n",
    "\n",
    "    return pd.DataFrame(\n",
    "        {\n",
    "            'n_estimators': range(1, estimator.estimators_.shape[0]+1),\n",
    "            'train_error': train_errors,\n",
    "            'test_error': test_errors,\n",
    "        }\n",
    "    ).set_index('n_estimators')"
   ]
  },
  {
   "cell_type": "code",
   "execution_count": 58,
   "metadata": {},
   "outputs": [
    {
     "name": "stderr",
     "output_type": "stream",
     "text": [
      "/Users/tarek/anaconda3/envs/scikitbook/lib/python3.6/site-packages/ipykernel_launcher.py:23: UserWarning: Matplotlib is currently using module://ipykernel.pylab.backend_inline, which is a non-GUI backend, so cannot show the figure.\n"
     ]
    },
    {
     "data": {
      "image/png": "[encoded data removed]",
      "text/plain": [
       "<Figure size 1152x360 with 1 Axes>"
      ]
     },
     "metadata": {
      "needs_background": "light"
     },
     "output_type": "display_data"
    }
   ],
   "source": [
    "fig, ax = plt.subplots(1, 1, figsize=(16, 5), sharey=False)\n",
    "\n",
    "df_deviance = calculate_deviance(rgr, x_test, y_test)\n",
    "\n",
    "df_deviance['train_error'].plot(\n",
    "    kind='line',\n",
    "    color='k',\n",
    "    linestyle=':',\n",
    "    ax=ax\n",
    ")\n",
    "\n",
    "df_deviance['test_error'].plot(\n",
    "    kind='line',\n",
    "    color='k',\n",
    "    linestyle='-',\n",
    "    ax=ax\n",
    ")\n",
    "\n",
    "ax.set_title('Gradient Boosting - Deviance; comparing train and test errors vs n_estimators')\n",
    "\n",
    "ax.legend(ncol=2, fontsize='x-large', shadow=True)\n",
    "\n",
    "fig.show()"
   ]
  },
  {
   "cell_type": "code",
   "execution_count": 59,
   "metadata": {},
   "outputs": [
    {
     "name": "stderr",
     "output_type": "stream",
     "text": [
      "/Users/tarek/anaconda3/envs/scikitbook/lib/python3.6/site-packages/ipykernel_launcher.py:35: UserWarning: Matplotlib is currently using module://ipykernel.pylab.backend_inline, which is a non-GUI backend, so cannot show the figure.\n"
     ]
    },
    {
     "data": {
      "image/png": "[encoded data removed]",
      "text/plain": [
       "<Figure size 1152x360 with 3 Axes>"
      ]
     },
     "metadata": {
      "needs_background": "light"
     },
     "output_type": "display_data"
    }
   ],
   "source": [
    "learning_rates = [1, 0.1, 0.01]\n",
    "\n",
    "fig, axs = plt.subplots(1, len(learning_rates), figsize=(16, 5), sharey=True)\n",
    "\n",
    "for i, learning_rate in enumerate(learning_rates):\n",
    "    \n",
    "    rgr = GradientBoostingRegressor(n_estimators=500, learning_rate=learning_rate, loss='ls')\n",
    "    rgr.fit(x_train, y_train)\n",
    "    y_test_pred = rgr.predict(x_test)\n",
    "\n",
    "    final_test_error = mean_squared_error(y_test, y_test_pred)\n",
    "\n",
    "    df_deviance = calculate_deviance(rgr, x_test, y_test)\n",
    "\n",
    "    df_deviance['train_error'].plot(\n",
    "        title='Gradient Boosting - Deviance',\n",
    "        kind='line',\n",
    "        color='k',\n",
    "        linestyle=':',\n",
    "        ax=axs[i]\n",
    "    )\n",
    "\n",
    "    df_deviance['test_error'].plot(\n",
    "        title=f'Gradient Boosting - Deviance\\nlearning_rate={learning_rate}\\nfinal_test_error={final_test_error:.2f}',\n",
    "        kind='line',\n",
    "        color='k',\n",
    "        linestyle='-',\n",
    "        ax=axs[i]\n",
    "    )\n",
    "\n",
    "    axs[i].set_ylabel('Loss')\n",
    "\n",
    "    axs[i].legend(ncol=2, fontsize='x-large', shadow=True)\n",
    "\n",
    "fig.show()"
   ]
  },
  {
   "cell_type": "code",
   "execution_count": 60,
   "metadata": {},
   "outputs": [
    {
     "name": "stderr",
     "output_type": "stream",
     "text": [
      "/Users/tarek/anaconda3/envs/scikitbook/lib/python3.6/site-packages/ipykernel_launcher.py:38: UserWarning: Matplotlib is currently using module://ipykernel.pylab.backend_inline, which is a non-GUI backend, so cannot show the figure.\n"
     ]
    },
    {
     "data": {
      "image/png": "[encoded data removed]",
      "text/plain": [
       "<Figure size 1152x360 with 3 Axes>"
      ]
     },
     "metadata": {
      "needs_background": "light"
     },
     "output_type": "display_data"
    }
   ],
   "source": [
    "subsamples = [1.0, 0.8, 0.6]\n",
    "\n",
    "fig, axs = plt.subplots(1, len(subsamples), figsize=(16, 5), sharey=True)\n",
    "\n",
    "for i, subsample in enumerate(subsamples):\n",
    "    \n",
    "    loss = 'lad'\n",
    "    learning_rate = 0.01\n",
    "    \n",
    "    rgr = GradientBoostingRegressor(\n",
    "        n_estimators=1000, subsample=subsample, learning_rate=learning_rate, loss=loss\n",
    "    )\n",
    "    rgr.fit(x_train, y_train)\n",
    "    y_test_pred = rgr.predict(x_test)\n",
    "\n",
    "    final_test_error = mean_squared_error(y_test, y_test_pred)\n",
    "\n",
    "    df_deviance = calculate_deviance(rgr, x_test, y_test)\n",
    "\n",
    "    df_deviance['train_error'].plot(\n",
    "        title='Gradient Boosting - Deviance',\n",
    "        kind='line',\n",
    "        color='k',\n",
    "        linestyle=':',\n",
    "        ax=axs[i]\n",
    "    )\n",
    "\n",
    "    df_deviance['test_error'].plot(\n",
    "        title=f'Gradient Boosting Deviance\\n(Loss={loss.upper()} & LR={learning_rate})\\nsubsample={subsample}\\nfinal_test_error={final_test_error:.2f}',\n",
    "        kind='line',\n",
    "        color='k',\n",
    "        linestyle='-',\n",
    "        ax=axs[i]\n",
    "    )\n",
    "\n",
    "    axs[i].legend(ncol=2, fontsize='x-large', shadow=True)\n",
    "\n",
    "fig.show()"
   ]
  },
  {
   "cell_type": "markdown",
   "metadata": {},
   "source": [
    "## Early Stopping\n",
    "n_iter_no_change, tol"
   ]
  },
  {
   "cell_type": "markdown",
   "metadata": {},
   "source": [
    "## Dynamic Learning Rate"
   ]
  },
  {
   "cell_type": "code",
   "execution_count": 61,
   "metadata": {},
   "outputs": [],
   "source": [
    "def lr_changer(n, estimator, params):\n",
    "    if n % 10:\n",
    "        estimator.learning_rate = 0.01\n",
    "    else:\n",
    "        estimator.learning_rate = 0.1\n",
    "    return False"
   ]
  },
  {
   "cell_type": "code",
   "execution_count": 62,
   "metadata": {},
   "outputs": [
    {
     "name": "stdout",
     "output_type": "stream",
     "text": [
      "MSE: 27.05501619731945\n"
     ]
    }
   ],
   "source": [
    "from sklearn.ensemble import GradientBoostingRegressor\n",
    "\n",
    "rgr = GradientBoostingRegressor(n_estimators=50, learning_rate=0.01, loss='ls')\n",
    "rgr.fit(x_train, y_train, monitor=lr_changer)\n",
    "y_test_pred = rgr.predict(x_test)\n",
    "\n",
    "print(f'MSE: {mean_squared_error(y_test, y_test_pred)}')"
   ]
  },
  {
   "cell_type": "code",
   "execution_count": 63,
   "metadata": {},
   "outputs": [
    {
     "name": "stderr",
     "output_type": "stream",
     "text": [
      "/Users/tarek/anaconda3/envs/scikitbook/lib/python3.6/site-packages/ipykernel_launcher.py:23: UserWarning: Matplotlib is currently using module://ipykernel.pylab.backend_inline, which is a non-GUI backend, so cannot show the figure.\n"
     ]
    },
    {
     "data": {
      "image/png": "[encoded data removed]",
      "text/plain": [
       "<Figure size 1152x360 with 1 Axes>"
      ]
     },
     "metadata": {
      "needs_background": "light"
     },
     "output_type": "display_data"
    }
   ],
   "source": [
    "fig, ax = plt.subplots(1, 1, figsize=(16, 5), sharey=False)\n",
    "\n",
    "df_deviance = calculate_deviance(rgr, x_test, y_test)\n",
    "\n",
    "df_deviance['train_error'].plot(\n",
    "    kind='line',\n",
    "    color='k',\n",
    "    linestyle=':',\n",
    "    ax=ax\n",
    ")\n",
    "\n",
    "df_deviance['test_error'].plot(\n",
    "    kind='line',\n",
    "    color='k',\n",
    "    linestyle='-',\n",
    "    ax=ax\n",
    ")\n",
    "\n",
    "ax.set_title('Gradient Boosting - Deviance; comparing train and test errors vs n_estimators')\n",
    "\n",
    "ax.legend(ncol=2, fontsize='x-large', shadow=True)\n",
    "\n",
    "fig.show()"
   ]
  },
  {
   "cell_type": "markdown",
   "metadata": {},
   "source": [
    "## Regression Ranges"
   ]
  },
  {
   "cell_type": "code",
   "execution_count": 64,
   "metadata": {},
   "outputs": [
    {
     "name": "stderr",
     "output_type": "stream",
     "text": [
      "/Users/tarek/anaconda3/envs/scikitbook/lib/python3.6/site-packages/ipykernel_launcher.py:18: UserWarning: Matplotlib is currently using module://ipykernel.pylab.backend_inline, which is a non-GUI backend, so cannot show the figure.\n"
     ]
    },
    {
     "data": {
      "image/png": "[encoded data removed]",
      "text/plain": [
       "<Figure size 864x576 with 1 Axes>"
      ]
     },
     "metadata": {
      "needs_background": "light"
     },
     "output_type": "display_data"
    }
   ],
   "source": [
    "x_sample = np.arange(-10, 10, 0.05)\n",
    "y_sample = np.random.normal(loc=0, scale=25, size=x_sample.shape[0]) \n",
    "y_sample *= x_sample \n",
    "\n",
    "pd_random_samples = pd.DataFrame(\n",
    "    {\n",
    "        'x': x_sample,\n",
    "        'y': y_sample\n",
    "    }\n",
    ")\n",
    "\n",
    "fig, ax = plt.subplots(1, 1, figsize=(12, 8), sharey=False)\n",
    "\n",
    "pd_random_samples.plot(\n",
    "    title='Regression Ranges', kind='scatter', x='x', y='y', color='k', alpha=0.95, ax=ax\n",
    ")\n",
    "\n",
    "fig.show()"
   ]
  },
  {
   "cell_type": "code",
   "execution_count": 65,
   "metadata": {},
   "outputs": [
    {
     "data": {
      "text/plain": [
       "(400, 2)"
      ]
     },
     "execution_count": 65,
     "metadata": {},
     "output_type": "execute_result"
    }
   ],
   "source": [
    "pd_random_samples.shape"
   ]
  },
  {
   "cell_type": "code",
   "execution_count": 66,
   "metadata": {},
   "outputs": [
    {
     "data": {
      "text/plain": [
       "(17.333333333333332, 20.0)"
      ]
     },
     "execution_count": 66,
     "metadata": {},
     "output_type": "execute_result"
    }
   ],
   "source": [
    "np.mean([10,20,22]), np.median([10,20,22])"
   ]
  },
  {
   "cell_type": "code",
   "execution_count": 67,
   "metadata": {},
   "outputs": [
    {
     "name": "stderr",
     "output_type": "stream",
     "text": [
      "/Users/tarek/anaconda3/envs/scikitbook/lib/python3.6/site-packages/ipykernel_launcher.py:21: UserWarning: Matplotlib is currently using module://ipykernel.pylab.backend_inline, which is a non-GUI backend, so cannot show the figure.\n"
     ]
    },
    {
     "data": {
      "image/png": "[encoded data removed]",
      "text/plain": [
       "<Figure size 864x576 with 1 Axes>"
      ]
     },
     "metadata": {
      "needs_background": "light"
     },
     "output_type": "display_data"
    }
   ],
   "source": [
    "from sklearn.ensemble import GradientBoostingRegressor\n",
    "\n",
    "fig, ax = plt.subplots(1, 1, figsize=(12, 8), sharey=False)\n",
    "\n",
    "pd_random_samples.plot(\n",
    "    title='50th Quantile Regression', kind='scatter', x='x', y='y', color='k', alpha=0.95, ax=ax\n",
    ")\n",
    "\n",
    "for quantile in [0.5]:\n",
    "    \n",
    "    rgr = GradientBoostingRegressor(n_estimators=10, loss='quantile', alpha=quantile)\n",
    "    rgr.fit(pd_random_samples[['x']], pd_random_samples['y'])\n",
    "    pd_random_samples[f'pred_q{quantile}'] = rgr.predict(pd_random_samples[['x']])\n",
    "    \n",
    "    pd_random_samples.plot(\n",
    "        kind='line', x='x', y=f'pred_q{quantile}', linestyle='-', alpha=0.75, color='k', ax=ax\n",
    "    )\n",
    "    \n",
    "ax.legend(ncol=1, fontsize='x-large', shadow=True)\n",
    "\n",
    "fig.show()\n",
    "    "
   ]
  },
  {
   "cell_type": "code",
   "execution_count": 68,
   "metadata": {
    "scrolled": false
   },
   "outputs": [
    {
     "name": "stderr",
     "output_type": "stream",
     "text": [
      "/Users/tarek/anaconda3/envs/scikitbook/lib/python3.6/site-packages/ipykernel_launcher.py:21: UserWarning: Matplotlib is currently using module://ipykernel.pylab.backend_inline, which is a non-GUI backend, so cannot show the figure.\n"
     ]
    },
    {
     "data": {
      "image/png": "[encoded data removed]",
      "text/plain": [
       "<Figure size 864x576 with 1 Axes>"
      ]
     },
     "metadata": {
      "needs_background": "light"
     },
     "output_type": "display_data"
    }
   ],
   "source": [
    "from sklearn.ensemble import GradientBoostingRegressor\n",
    "\n",
    "fig, ax = plt.subplots(1, 1, figsize=(12, 8), sharey=False)\n",
    "\n",
    "pd_random_samples.plot(\n",
    "    title='Regression Ranges [10th & 90th Quantiles]', kind='scatter', x='x', y='y', color='k', alpha=0.95, ax=ax\n",
    ")\n",
    "\n",
    "for quantile in [0.1, 0.9]:\n",
    "    \n",
    "    rgr = GradientBoostingRegressor(n_estimators=10, loss='quantile', alpha=quantile)\n",
    "    rgr.fit(pd_random_samples[['x']], pd_random_samples['y'])\n",
    "    pd_random_samples[f'pred_q{quantile}'] = rgr.predict(pd_random_samples[['x']])\n",
    "    \n",
    "    pd_random_samples.plot(\n",
    "        kind='line', x='x', y=f'pred_q{quantile}', linestyle='-', alpha=0.75, color='k', ax=ax\n",
    "    )\n",
    "    \n",
    "ax.legend(ncol=1, fontsize='x-large', shadow=True)\n",
    "\n",
    "fig.show()\n",
    "    "
   ]
  },
  {
   "cell_type": "code",
   "execution_count": 69,
   "metadata": {},
   "outputs": [],
   "source": [
    "## "
   ]
  },
  {
   "cell_type": "code",
   "execution_count": 70,
   "metadata": {},
   "outputs": [],
   "source": [
    "from sklearn.ensemble import GradientBoostingRegressor\n",
    "\n",
    "rgr_min = GradientBoostingRegressor(n_estimators=50, loss='quantile', alpha=0.25)\n",
    "rgr_max = GradientBoostingRegressor(n_estimators=50, loss='quantile', alpha=0.75)\n",
    "\n",
    "rgr_min.fit(x_train, y_train, monitor=lr_changer)\n",
    "rgr_max.fit(x_train, y_train, monitor=lr_changer)\n",
    "\n",
    "y_test_pred_min = rgr_min.predict(x_test)\n",
    "y_test_pred_max = rgr_max.predict(x_test)\n",
    "\n",
    "df_pred_range = pd.DataFrame(\n",
    "    {\n",
    "        'Actuals': y_test,\n",
    "        'Pred_min': y_test_pred_min,\n",
    "        'Pred_max': y_test_pred_max,\n",
    "    }\n",
    ")"
   ]
  },
  {
   "cell_type": "code",
   "execution_count": 71,
   "metadata": {},
   "outputs": [],
   "source": [
    "df_pred_range['Actuals in Range?'] = df_pred_range.apply(\n",
    "    lambda row: 1 if row['Actuals'] >= row['Pred_min'] and row['Actuals'] <= row['Pred_max'] else 0,\n",
    "    axis=1\n",
    ")"
   ]
  },
  {
   "cell_type": "code",
   "execution_count": 72,
   "metadata": {},
   "outputs": [
    {
     "data": {
      "text/plain": [
       "0.5098039215686274"
      ]
     },
     "execution_count": 72,
     "metadata": {},
     "output_type": "execute_result"
    }
   ],
   "source": [
    "df_pred_range['Actuals in Range?'].mean()"
   ]
  },
  {
   "cell_type": "code",
   "execution_count": 73,
   "metadata": {},
   "outputs": [
    {
     "data": {
      "text/html": [
       "<div>\n",
       "<style scoped>\n",
       "    .dataframe tbody tr th:only-of-type {\n",
       "        vertical-align: middle;\n",
       "    }\n",
       "\n",
       "    .dataframe tbody tr th {\n",
       "        vertical-align: top;\n",
       "    }\n",
       "\n",
       "    .dataframe thead th {\n",
       "        text-align: right;\n",
       "    }\n",
       "</style>\n",
       "<table border=\"1\" class=\"dataframe\">\n",
       "  <thead>\n",
       "    <tr style=\"text-align: right;\">\n",
       "      <th></th>\n",
       "      <th>Actuals</th>\n",
       "      <th>Pred_min</th>\n",
       "      <th>Pred_max</th>\n",
       "      <th>Actuals in Range?</th>\n",
       "    </tr>\n",
       "  </thead>\n",
       "  <tbody>\n",
       "    <tr>\n",
       "      <th>31</th>\n",
       "      <td>6.855</td>\n",
       "      <td>7.484626</td>\n",
       "      <td>14.393532</td>\n",
       "      <td>0</td>\n",
       "    </tr>\n",
       "    <tr>\n",
       "      <th>85</th>\n",
       "      <td>6.989</td>\n",
       "      <td>8.285103</td>\n",
       "      <td>14.393532</td>\n",
       "      <td>0</td>\n",
       "    </tr>\n",
       "    <tr>\n",
       "      <th>95</th>\n",
       "      <td>7.799</td>\n",
       "      <td>7.677105</td>\n",
       "      <td>14.393532</td>\n",
       "      <td>1</td>\n",
       "    </tr>\n",
       "    <tr>\n",
       "      <th>101</th>\n",
       "      <td>13.499</td>\n",
       "      <td>9.704785</td>\n",
       "      <td>16.737428</td>\n",
       "      <td>1</td>\n",
       "    </tr>\n",
       "    <tr>\n",
       "      <th>139</th>\n",
       "      <td>7.053</td>\n",
       "      <td>7.588599</td>\n",
       "      <td>14.458438</td>\n",
       "      <td>0</td>\n",
       "    </tr>\n",
       "    <tr>\n",
       "      <th>107</th>\n",
       "      <td>11.900</td>\n",
       "      <td>9.704785</td>\n",
       "      <td>16.699463</td>\n",
       "      <td>1</td>\n",
       "    </tr>\n",
       "    <tr>\n",
       "      <th>181</th>\n",
       "      <td>15.750</td>\n",
       "      <td>9.704785</td>\n",
       "      <td>16.739880</td>\n",
       "      <td>1</td>\n",
       "    </tr>\n",
       "    <tr>\n",
       "      <th>156</th>\n",
       "      <td>6.938</td>\n",
       "      <td>7.724013</td>\n",
       "      <td>14.393532</td>\n",
       "      <td>0</td>\n",
       "    </tr>\n",
       "  </tbody>\n",
       "</table>\n",
       "</div>"
      ],
      "text/plain": [
       "     Actuals  Pred_min   Pred_max  Actuals in Range?\n",
       "31     6.855  7.484626  14.393532                  0\n",
       "85     6.989  8.285103  14.393532                  0\n",
       "95     7.799  7.677105  14.393532                  1\n",
       "101   13.499  9.704785  16.737428                  1\n",
       "139    7.053  7.588599  14.458438                  0\n",
       "107   11.900  9.704785  16.699463                  1\n",
       "181   15.750  9.704785  16.739880                  1\n",
       "156    6.938  7.724013  14.393532                  0"
      ]
     },
     "execution_count": 73,
     "metadata": {},
     "output_type": "execute_result"
    }
   ],
   "source": [
    "df_pred_range.sample(n=8)"
   ]
  },
  {
   "cell_type": "code",
   "execution_count": 74,
   "metadata": {},
   "outputs": [
    {
     "data": {
      "text/html": [
       "<div>\n",
       "<style scoped>\n",
       "    .dataframe tbody tr th:only-of-type {\n",
       "        vertical-align: middle;\n",
       "    }\n",
       "\n",
       "    .dataframe tbody tr th {\n",
       "        vertical-align: top;\n",
       "    }\n",
       "\n",
       "    .dataframe thead th {\n",
       "        text-align: right;\n",
       "    }\n",
       "</style>\n",
       "<table border=\"1\" class=\"dataframe\">\n",
       "  <thead>\n",
       "    <tr style=\"text-align: right;\">\n",
       "      <th></th>\n",
       "      <th>Actuals</th>\n",
       "      <th>Pred_min</th>\n",
       "      <th>Pred_max</th>\n",
       "      <th>Actuals in Range?</th>\n",
       "    </tr>\n",
       "  </thead>\n",
       "  <tbody>\n",
       "    <tr>\n",
       "      <th>148</th>\n",
       "      <td>8.013</td>\n",
       "      <td>8.378825</td>\n",
       "      <td>15.625670</td>\n",
       "      <td>0</td>\n",
       "    </tr>\n",
       "    <tr>\n",
       "      <th>162</th>\n",
       "      <td>9.258</td>\n",
       "      <td>7.854222</td>\n",
       "      <td>14.393532</td>\n",
       "      <td>1</td>\n",
       "    </tr>\n",
       "    <tr>\n",
       "      <th>33</th>\n",
       "      <td>6.529</td>\n",
       "      <td>7.558752</td>\n",
       "      <td>14.393532</td>\n",
       "      <td>0</td>\n",
       "    </tr>\n",
       "    <tr>\n",
       "      <th>101</th>\n",
       "      <td>13.499</td>\n",
       "      <td>9.704785</td>\n",
       "      <td>16.737428</td>\n",
       "      <td>1</td>\n",
       "    </tr>\n",
       "    <tr>\n",
       "      <th>168</th>\n",
       "      <td>9.639</td>\n",
       "      <td>8.383130</td>\n",
       "      <td>15.974935</td>\n",
       "      <td>1</td>\n",
       "    </tr>\n",
       "  </tbody>\n",
       "</table>\n",
       "</div>"
      ],
      "text/plain": [
       "     Actuals  Pred_min   Pred_max  Actuals in Range?\n",
       "148    8.013  8.378825  15.625670                  0\n",
       "162    9.258  7.854222  14.393532                  1\n",
       "33     6.529  7.558752  14.393532                  0\n",
       "101   13.499  9.704785  16.737428                  1\n",
       "168    9.639  8.383130  15.974935                  1"
      ]
     },
     "execution_count": 74,
     "metadata": {},
     "output_type": "execute_result"
    }
   ],
   "source": [
    "df_pred_range.head(5)"
   ]
  },
  {
   "cell_type": "code",
   "execution_count": 75,
   "metadata": {},
   "outputs": [
    {
     "data": {
      "text/plain": [
       "148    0.864900\n",
       "162    0.832585\n",
       "33     0.904221\n",
       "101    0.724657\n",
       "168    0.905605\n",
       "dtype: float64"
      ]
     },
     "execution_count": 75,
     "metadata": {},
     "output_type": "execute_result"
    }
   ],
   "source": [
    "(\n",
    "    (\n",
    "        df_pred_range['Pred_max'] - df_pred_range['Pred_min']\n",
    "    ) / (\n",
    "        df_pred_range['Pred_min']\n",
    "    )\n",
    ").head(5)"
   ]
  },
  {
   "cell_type": "code",
   "execution_count": 76,
   "metadata": {},
   "outputs": [
    {
     "data": {
      "text/plain": [
       "0.8583335110739386"
      ]
     },
     "execution_count": 76,
     "metadata": {},
     "output_type": "execute_result"
    }
   ],
   "source": [
    "# How big is the range ? [0.8 => 180% x min]\n",
    "\n",
    "(\n",
    "    (\n",
    "        df_pred_range['Pred_max'] - df_pred_range['Pred_min']\n",
    "    ) / (\n",
    "        df_pred_range['Pred_min']\n",
    "    )\n",
    ").mean()"
   ]
  },
  {
   "cell_type": "markdown",
   "metadata": {},
   "source": [
    "## Ada Boost"
   ]
  },
  {
   "cell_type": "code",
   "execution_count": 77,
   "metadata": {},
   "outputs": [],
   "source": [
    "from sklearn.ensemble import AdaBoostRegressor"
   ]
  },
  {
   "cell_type": "code",
   "execution_count": 78,
   "metadata": {},
   "outputs": [
    {
     "name": "stdout",
     "output_type": "stream",
     "text": [
      "MSE: 5.619648305310852\n"
     ]
    }
   ],
   "source": [
    "rgr = AdaBoostRegressor(n_estimators=100)\n",
    "\n",
    "rgr.fit(x_train, y_train)\n",
    "y_test_pred = rgr.predict(x_test)\n",
    "\n",
    "print(f'MSE: {mean_squared_error(y_test, y_test_pred)}')"
   ]
  },
  {
   "cell_type": "code",
   "execution_count": 79,
   "metadata": {},
   "outputs": [
    {
     "name": "stderr",
     "output_type": "stream",
     "text": [
      "/Users/tarek/anaconda3/envs/scikitbook/lib/python3.6/site-packages/ipykernel_launcher.py:20: UserWarning: Matplotlib is currently using module://ipykernel.pylab.backend_inline, which is a non-GUI backend, so cannot show the figure.\n"
     ]
    },
    {
     "data": {
      "image/png": "[encoded data removed]",
      "text/plain": [
       "<Figure size 1152x360 with 1 Axes>"
      ]
     },
     "metadata": {
      "needs_background": "light"
     },
     "output_type": "display_data"
    }
   ],
   "source": [
    "fig, ax = plt.subplots(1, 1, figsize=(16, 5), sharey=True)\n",
    "\n",
    "pd.DataFrame(\n",
    "    [\n",
    "        (n, mean_squared_error(y_test, y_pred_staged))\n",
    "        for n, y_pred_staged in enumerate(rgr.staged_predict(x_test), 1)\n",
    "    ],\n",
    "    columns=['n', 'Test Error']\n",
    ").set_index('n').plot(\n",
    "    title=f'Ada Boost: Test Error vs n_estimators',\n",
    "    kind='line',\n",
    "    color='k',\n",
    "    linestyle='-',\n",
    "    ax=ax\n",
    ")\n",
    "\n",
    "ax.set_xlabel('n_estimators')\n",
    "ax.set_ylabel('Mean Squared Error (MSE)')\n",
    "\n",
    "fig.show()\n"
   ]
  },
  {
   "cell_type": "markdown",
   "metadata": {},
   "source": [
    "## Random Trees Embedding"
   ]
  },
  {
   "cell_type": "code",
   "execution_count": 81,
   "metadata": {},
   "outputs": [
    {
     "name": "stdout",
     "output_type": "stream",
     "text": [
      "MSE: 3.3908791046254887\n"
     ]
    }
   ],
   "source": [
    "from sklearn.ensemble import RandomTreesEmbedding\n",
    "from sklearn.linear_model import Ridge\n",
    "from sklearn.pipeline import make_pipeline\n",
    "\n",
    "rgr = make_pipeline(RandomTreesEmbedding(), Ridge())\n",
    "rgr.fit(x_train, y_train)\n",
    "y_test_pred = rgr.predict(x_test)\n",
    "\n",
    "print(f'MSE: {mean_squared_error(y_test, y_test_pred)}')"
   ]
  },
  {
   "cell_type": "code",
   "execution_count": 82,
   "metadata": {},
   "outputs": [
    {
     "name": "stdout",
     "output_type": "stream",
     "text": [
      "R2: 0.93, MSE: 3.39, MAE: 1.44\n"
     ]
    }
   ],
   "source": [
    "from sklearn.metrics import (\n",
    "    mean_squared_error, mean_absolute_error, median_absolute_error, r2_score\n",
    ")\n",
    "\n",
    "print(\n",
    "    'R2: {:.2f}, MSE: {:.2f}, MAE: {:.2f}'.format(\n",
    "        r2_score(y_test, y_test_pred),\n",
    "        mean_squared_error(y_test, y_test_pred),\n",
    "        mean_absolute_error(y_test, y_test_pred),\n",
    "    )\n",
    ")"
   ]
  },
  {
   "cell_type": "code",
   "execution_count": 83,
   "metadata": {},
   "outputs": [
    {
     "name": "stderr",
     "output_type": "stream",
     "text": [
      "/Users/tarek/anaconda3/envs/scikitbook/lib/python3.6/site-packages/ipykernel_launcher.py:28: UserWarning: Matplotlib is currently using module://ipykernel.pylab.backend_inline, which is a non-GUI backend, so cannot show the figure.\n"
     ]
    },
    {
     "data": {
      "image/png": "[encoded data removed]",
      "text/plain": [
       "<Figure size 1152x360 with 2 Axes>"
      ]
     },
     "metadata": {
      "needs_background": "light"
     },
     "output_type": "display_data"
    }
   ],
   "source": [
    "df_pred = pd.DataFrame(\n",
    "    {\n",
    "        'actuals': y_test,\n",
    "        'predictions': y_test_pred,\n",
    "    }\n",
    ")\n",
    "\n",
    "df_pred['error'] = np.abs(y_test - y_test_pred)\n",
    "\n",
    "fig, axs = plt.subplots(1, 2, figsize=(16, 5), sharey=False)\n",
    "\n",
    "df_pred.plot(\n",
    "    title='Actuals vs Predictions',\n",
    "    kind='scatter',\n",
    "    x='actuals',\n",
    "    y='predictions',\n",
    "    color='k',\n",
    "    ax=axs[0],\n",
    ")\n",
    "\n",
    "df_pred['error'].plot(\n",
    "    title='Distribution of Error',\n",
    "    kind='hist',\n",
    "    color='k',\n",
    "    ax=axs[1],\n",
    ")\n",
    "\n",
    "fig.show()"
   ]
  },
  {
   "cell_type": "code",
   "execution_count": null,
   "metadata": {},
   "outputs": [],
   "source": []
  },
  {
   "cell_type": "code",
   "execution_count": null,
   "metadata": {},
   "outputs": [],
   "source": []
  },
  {
   "cell_type": "code",
   "execution_count": null,
   "metadata": {},
   "outputs": [],
   "source": []
  }
 ],
 "metadata": {
  "kernelspec": {
   "display_name": "Python 3",
   "language": "python",
   "name": "python3"
  },
  "language_info": {
   "codemirror_mode": {
    "name": "ipython",
    "version": 3
   },
   "file_extension": ".py",
   "mimetype": "text/x-python",
   "name": "python",
   "nbconvert_exporter": "python",
   "pygments_lexer": "ipython3",
   "version": "3.6.9"
  }
 },
 "nbformat": 4,
 "nbformat_minor": 2
}

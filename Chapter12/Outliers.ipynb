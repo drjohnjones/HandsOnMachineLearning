{
 "cells": [
  {
   "cell_type": "markdown",
   "metadata": {},
   "source": [
    "# Outliers"
   ]
  },
  {
   "cell_type": "code",
   "execution_count": 1,
   "metadata": {},
   "outputs": [],
   "source": [
    "import matplotlib\n",
    "import matplotlib.pyplot as plt\n",
    "\n",
    "%matplotlib inline"
   ]
  },
  {
   "cell_type": "code",
   "execution_count": 2,
   "metadata": {},
   "outputs": [],
   "source": [
    "hourly_traffic = [\n",
    "    120, 123, 124, 119, 196, \n",
    "    121, 118, 117, 500, 132\n",
    "]"
   ]
  },
  {
   "cell_type": "code",
   "execution_count": 3,
   "metadata": {},
   "outputs": [
    {
     "data": {
      "text/plain": [
       "0    False\n",
       "1    False\n",
       "2    False\n",
       "3    False\n",
       "4    False\n",
       "5    False\n",
       "6    False\n",
       "7    False\n",
       "8     True\n",
       "9    False\n",
       "dtype: bool"
      ]
     },
     "execution_count": 3,
     "metadata": {},
     "output_type": "execute_result"
    }
   ],
   "source": [
    "pd.Series(hourly_traffic) > pd.Series(hourly_traffic).quantile(0.95)"
   ]
  },
  {
   "cell_type": "code",
   "execution_count": 4,
   "metadata": {},
   "outputs": [],
   "source": [
    "class PercentileDetection:\n",
    "    \n",
    "    def __init__(self, percentile=0.9):\n",
    "        self.percentile = percentile\n",
    "        \n",
    "    def fit(self, x, y=None):\n",
    "        self.threshold = pd.Series(x).quantile(self.percentile)\n",
    "        \n",
    "    def predict(self, x, y=None):\n",
    "        return (pd.Series(x) > self.threshold).values\n",
    "    \n",
    "    def fit_predict(self, x, y=None):\n",
    "        self.fit(x)\n",
    "        return self.predict(x)"
   ]
  },
  {
   "cell_type": "code",
   "execution_count": 5,
   "metadata": {},
   "outputs": [
    {
     "data": {
      "text/plain": [
       "array([False, False, False, False, False, False, False, False,  True,\n",
       "       False])"
      ]
     },
     "execution_count": 5,
     "metadata": {},
     "output_type": "execute_result"
    }
   ],
   "source": [
    "outlierd = PercentileDetection(percentile=0.9)\n",
    "outlierd.fit_predict(hourly_traffic)"
   ]
  },
  {
   "cell_type": "code",
   "execution_count": 6,
   "metadata": {},
   "outputs": [
    {
     "data": {
      "text/html": [
       "<style  type=\"text/css\" >\n",
       "    #T_d444aa82_c5d0_11ea_8468_784f43517922row0_col0 {\n",
       "            font-weight:  normal;\n",
       "        }    #T_d444aa82_c5d0_11ea_8468_784f43517922row0_col1 {\n",
       "            font-weight:  normal;\n",
       "        }    #T_d444aa82_c5d0_11ea_8468_784f43517922row1_col0 {\n",
       "            font-weight:  normal;\n",
       "        }    #T_d444aa82_c5d0_11ea_8468_784f43517922row1_col1 {\n",
       "            font-weight:  normal;\n",
       "        }    #T_d444aa82_c5d0_11ea_8468_784f43517922row2_col0 {\n",
       "            font-weight:  normal;\n",
       "        }    #T_d444aa82_c5d0_11ea_8468_784f43517922row2_col1 {\n",
       "            font-weight:  normal;\n",
       "        }    #T_d444aa82_c5d0_11ea_8468_784f43517922row3_col0 {\n",
       "            font-weight:  normal;\n",
       "        }    #T_d444aa82_c5d0_11ea_8468_784f43517922row3_col1 {\n",
       "            font-weight:  normal;\n",
       "        }    #T_d444aa82_c5d0_11ea_8468_784f43517922row4_col0 {\n",
       "            font-weight:  normal;\n",
       "        }    #T_d444aa82_c5d0_11ea_8468_784f43517922row4_col1 {\n",
       "            font-weight:  normal;\n",
       "        }    #T_d444aa82_c5d0_11ea_8468_784f43517922row5_col0 {\n",
       "            font-weight:  normal;\n",
       "        }    #T_d444aa82_c5d0_11ea_8468_784f43517922row5_col1 {\n",
       "            font-weight:  normal;\n",
       "        }    #T_d444aa82_c5d0_11ea_8468_784f43517922row6_col0 {\n",
       "            font-weight:  normal;\n",
       "        }    #T_d444aa82_c5d0_11ea_8468_784f43517922row6_col1 {\n",
       "            font-weight:  normal;\n",
       "        }    #T_d444aa82_c5d0_11ea_8468_784f43517922row7_col0 {\n",
       "            font-weight:  normal;\n",
       "        }    #T_d444aa82_c5d0_11ea_8468_784f43517922row7_col1 {\n",
       "            font-weight:  normal;\n",
       "        }    #T_d444aa82_c5d0_11ea_8468_784f43517922row8_col0 {\n",
       "            font-weight:  bold;\n",
       "        }    #T_d444aa82_c5d0_11ea_8468_784f43517922row8_col1 {\n",
       "            font-weight:  bold;\n",
       "        }    #T_d444aa82_c5d0_11ea_8468_784f43517922row9_col0 {\n",
       "            font-weight:  normal;\n",
       "        }    #T_d444aa82_c5d0_11ea_8468_784f43517922row9_col1 {\n",
       "            font-weight:  normal;\n",
       "        }</style><table id=\"T_d444aa82_c5d0_11ea_8468_784f43517922\" ><thead>    <tr>        <th class=\"blank level0\" ></th>        <th class=\"col_heading level0 col0\" >hourly_traffic</th>        <th class=\"col_heading level0 col1\" >is_outlier</th>    </tr></thead><tbody>\n",
       "                <tr>\n",
       "                        <th id=\"T_d444aa82_c5d0_11ea_8468_784f43517922level0_row0\" class=\"row_heading level0 row0\" >0</th>\n",
       "                        <td id=\"T_d444aa82_c5d0_11ea_8468_784f43517922row0_col0\" class=\"data row0 col0\" >120</td>\n",
       "                        <td id=\"T_d444aa82_c5d0_11ea_8468_784f43517922row0_col1\" class=\"data row0 col1\" >False</td>\n",
       "            </tr>\n",
       "            <tr>\n",
       "                        <th id=\"T_d444aa82_c5d0_11ea_8468_784f43517922level0_row1\" class=\"row_heading level0 row1\" >1</th>\n",
       "                        <td id=\"T_d444aa82_c5d0_11ea_8468_784f43517922row1_col0\" class=\"data row1 col0\" >123</td>\n",
       "                        <td id=\"T_d444aa82_c5d0_11ea_8468_784f43517922row1_col1\" class=\"data row1 col1\" >False</td>\n",
       "            </tr>\n",
       "            <tr>\n",
       "                        <th id=\"T_d444aa82_c5d0_11ea_8468_784f43517922level0_row2\" class=\"row_heading level0 row2\" >2</th>\n",
       "                        <td id=\"T_d444aa82_c5d0_11ea_8468_784f43517922row2_col0\" class=\"data row2 col0\" >124</td>\n",
       "                        <td id=\"T_d444aa82_c5d0_11ea_8468_784f43517922row2_col1\" class=\"data row2 col1\" >False</td>\n",
       "            </tr>\n",
       "            <tr>\n",
       "                        <th id=\"T_d444aa82_c5d0_11ea_8468_784f43517922level0_row3\" class=\"row_heading level0 row3\" >3</th>\n",
       "                        <td id=\"T_d444aa82_c5d0_11ea_8468_784f43517922row3_col0\" class=\"data row3 col0\" >119</td>\n",
       "                        <td id=\"T_d444aa82_c5d0_11ea_8468_784f43517922row3_col1\" class=\"data row3 col1\" >False</td>\n",
       "            </tr>\n",
       "            <tr>\n",
       "                        <th id=\"T_d444aa82_c5d0_11ea_8468_784f43517922level0_row4\" class=\"row_heading level0 row4\" >4</th>\n",
       "                        <td id=\"T_d444aa82_c5d0_11ea_8468_784f43517922row4_col0\" class=\"data row4 col0\" >196</td>\n",
       "                        <td id=\"T_d444aa82_c5d0_11ea_8468_784f43517922row4_col1\" class=\"data row4 col1\" >False</td>\n",
       "            </tr>\n",
       "            <tr>\n",
       "                        <th id=\"T_d444aa82_c5d0_11ea_8468_784f43517922level0_row5\" class=\"row_heading level0 row5\" >5</th>\n",
       "                        <td id=\"T_d444aa82_c5d0_11ea_8468_784f43517922row5_col0\" class=\"data row5 col0\" >121</td>\n",
       "                        <td id=\"T_d444aa82_c5d0_11ea_8468_784f43517922row5_col1\" class=\"data row5 col1\" >False</td>\n",
       "            </tr>\n",
       "            <tr>\n",
       "                        <th id=\"T_d444aa82_c5d0_11ea_8468_784f43517922level0_row6\" class=\"row_heading level0 row6\" >6</th>\n",
       "                        <td id=\"T_d444aa82_c5d0_11ea_8468_784f43517922row6_col0\" class=\"data row6 col0\" >118</td>\n",
       "                        <td id=\"T_d444aa82_c5d0_11ea_8468_784f43517922row6_col1\" class=\"data row6 col1\" >False</td>\n",
       "            </tr>\n",
       "            <tr>\n",
       "                        <th id=\"T_d444aa82_c5d0_11ea_8468_784f43517922level0_row7\" class=\"row_heading level0 row7\" >7</th>\n",
       "                        <td id=\"T_d444aa82_c5d0_11ea_8468_784f43517922row7_col0\" class=\"data row7 col0\" >117</td>\n",
       "                        <td id=\"T_d444aa82_c5d0_11ea_8468_784f43517922row7_col1\" class=\"data row7 col1\" >False</td>\n",
       "            </tr>\n",
       "            <tr>\n",
       "                        <th id=\"T_d444aa82_c5d0_11ea_8468_784f43517922level0_row8\" class=\"row_heading level0 row8\" >8</th>\n",
       "                        <td id=\"T_d444aa82_c5d0_11ea_8468_784f43517922row8_col0\" class=\"data row8 col0\" >500</td>\n",
       "                        <td id=\"T_d444aa82_c5d0_11ea_8468_784f43517922row8_col1\" class=\"data row8 col1\" >True</td>\n",
       "            </tr>\n",
       "            <tr>\n",
       "                        <th id=\"T_d444aa82_c5d0_11ea_8468_784f43517922level0_row9\" class=\"row_heading level0 row9\" >9</th>\n",
       "                        <td id=\"T_d444aa82_c5d0_11ea_8468_784f43517922row9_col0\" class=\"data row9 col0\" >132</td>\n",
       "                        <td id=\"T_d444aa82_c5d0_11ea_8468_784f43517922row9_col1\" class=\"data row9 col1\" >False</td>\n",
       "            </tr>\n",
       "    </tbody></table>"
      ],
      "text/plain": [
       "<pandas.io.formats.style.Styler at 0x7f907b0c66a0>"
      ]
     },
     "execution_count": 6,
     "metadata": {},
     "output_type": "execute_result"
    }
   ],
   "source": [
    "outlierd = PercentileDetection(percentile=0.95)\n",
    "\n",
    "pd.DataFrame(\n",
    "    {\n",
    "        'hourly_traffic': hourly_traffic,\n",
    "        'is_outlier': outlierd.fit_predict(hourly_traffic)\n",
    "    }\n",
    ").style.apply(\n",
    "    lambda row: ['font-weight: bold'] * len(row) \n",
    "        if row['is_outlier'] == True \n",
    "        else ['font-weight: normal'] * len(row),\n",
    "    axis=1\n",
    ")"
   ]
  },
  {
   "cell_type": "markdown",
   "metadata": {},
   "source": [
    "# KDD Cup 99"
   ]
  },
  {
   "cell_type": "code",
   "execution_count": 7,
   "metadata": {},
   "outputs": [],
   "source": [
    "from sklearn.datasets import fetch_kddcup99\n",
    "\n",
    "data = fetch_kddcup99(subset='http')"
   ]
  },
  {
   "cell_type": "code",
   "execution_count": 8,
   "metadata": {},
   "outputs": [],
   "source": [
    "x = data['data']\n",
    "y = data['target'] != b'normal.'"
   ]
  },
  {
   "cell_type": "markdown",
   "metadata": {},
   "source": [
    "# Synth Dataset"
   ]
  },
  {
   "cell_type": "code",
   "execution_count": 9,
   "metadata": {},
   "outputs": [],
   "source": [
    "from sklearn.datasets import make_classification\n",
    "\n",
    "x, y = make_classification(\n",
    "    n_samples=1000, n_features=2, n_informative=2, n_redundant=0, n_repeated=0, \n",
    "    n_classes=2, n_clusters_per_class=2, weights=[0.98, ], class_sep=0.5, \n",
    "    scale=1.0, shuffle=True, flip_y=0, random_state=0\n",
    ")"
   ]
  },
  {
   "cell_type": "code",
   "execution_count": 10,
   "metadata": {},
   "outputs": [
    {
     "data": {
      "text/plain": [
       "((1000, 2), (1000,))"
      ]
     },
     "execution_count": 10,
     "metadata": {},
     "output_type": "execute_result"
    }
   ],
   "source": [
    "x.shape, y.shape"
   ]
  },
  {
   "cell_type": "code",
   "execution_count": 11,
   "metadata": {},
   "outputs": [
    {
     "name": "stdout",
     "output_type": "stream",
     "text": [
      "% of Anomalous Traffic: 2.00%\n"
     ]
    }
   ],
   "source": [
    "print(f'% of Anomalous Traffic: {y.mean():.2%}')"
   ]
  },
  {
   "cell_type": "code",
   "execution_count": 12,
   "metadata": {},
   "outputs": [],
   "source": [
    "# from sklearn.model_selection import train_test_split\n",
    "\n",
    "# x_train, x_test, y_train, y_test = train_test_split(x, y, test_size=0.25, random_state=42)"
   ]
  },
  {
   "cell_type": "code",
   "execution_count": 13,
   "metadata": {},
   "outputs": [
    {
     "data": {
      "image/png": "[encoded data removed]",
      "text/plain": [
       "<Figure size 1080x504 with 2 Axes>"
      ]
     },
     "metadata": {
      "needs_background": "light"
     },
     "output_type": "display_data"
    }
   ],
   "source": [
    "fig, axs = plt.subplots(1, 2, figsize=(15, 7), sharex=True, sharey=True)\n",
    "\n",
    "for i, yval in enumerate(np.unique(y)):\n",
    "    \n",
    "    pd.DataFrame(x, columns=['x1', 'x2'])[\n",
    "        y == yval\n",
    "    ].plot(\n",
    "        title=f'Synthetic Dataset',\n",
    "        kind='scatter',\n",
    "        x='x1', y='x2',\n",
    "        color='k',\n",
    "        marker=f'${yval}$',\n",
    "        s=44,\n",
    "        alpha=0.5,\n",
    "        ax=axs[0]\n",
    "    )\n",
    "    "
   ]
  },
  {
   "cell_type": "code",
   "execution_count": 14,
   "metadata": {},
   "outputs": [
    {
     "data": {
      "image/png": "[encoded data removed]",
      "text/plain": [
       "<Figure size 1080x864 with 4 Axes>"
      ]
     },
     "metadata": {
      "needs_background": "light"
     },
     "output_type": "display_data"
    }
   ],
   "source": [
    "fig, axs = plt.subplots(x.shape[1], 2, figsize=(15, 12), sharey=True)\n",
    "\n",
    "for i in range(x.shape[1]):\n",
    "    \n",
    "    pd.DataFrame(x)[\n",
    "        y == 0\n",
    "    ][i].plot(\n",
    "        title=f'Feature#{i} @ Y = 0',\n",
    "        kind='box',\n",
    "        whis=(2, 98),\n",
    "        color='k',\n",
    "        grid=True,\n",
    "        ax=axs[i][0]\n",
    "    )\n",
    "    \n",
    "    pd.DataFrame(x)[\n",
    "        y == 1\n",
    "    ][i].plot(\n",
    "        title=f'Feature#{i} @ Y = 1',\n",
    "        kind='box',\n",
    "        whis=(2, 98),\n",
    "        color='k',\n",
    "        grid=True,\n",
    "        ax=axs[i][1]\n",
    "    )\n",
    "    \n",
    "    axs[i][0].set_xlabel(f'Feature#{i}')\n",
    "    axs[i][1].set_xlabel(f'Feature#{i}')\n",
    "    \n",
    "    axs[i][0].set_ylabel(f'Feature Values')\n",
    "    axs[i][1].set_ylabel(f'Feature Values')"
   ]
  },
  {
   "cell_type": "markdown",
   "metadata": {},
   "source": [
    "# Percentile Detection"
   ]
  },
  {
   "cell_type": "code",
   "execution_count": 15,
   "metadata": {},
   "outputs": [],
   "source": [
    "class PercentileDetection:\n",
    "    \n",
    "    def __init__(self, percentile=0.9):\n",
    "        self.percentile = percentile\n",
    "        \n",
    "    def fit(self, x, y=None):\n",
    "        self.threshold = pd.Series(x).quantile(self.percentile)\n",
    "        \n",
    "    def predict(self, x, y=None):\n",
    "        return (pd.Series(x) > self.threshold).values\n",
    "    \n",
    "    def fit_predict(self, x, y=None):\n",
    "        self.fit(x)\n",
    "        return self.predict(x)"
   ]
  },
  {
   "cell_type": "code",
   "execution_count": 16,
   "metadata": {},
   "outputs": [
    {
     "name": "stdout",
     "output_type": "stream",
     "text": [
      "Threshold: 0.96, 2.00%\n"
     ]
    }
   ],
   "source": [
    "outlierd = PercentileDetection(percentile=0.98)\n",
    "y_pred = outlierd.fit_predict(x[:,0])\n",
    "\n",
    "print(\n",
    "    f'Threshold: {outlierd.threshold:.2f}, {y_pred.mean():.2%}'\n",
    ")"
   ]
  },
  {
   "cell_type": "code",
   "execution_count": 17,
   "metadata": {},
   "outputs": [
    {
     "name": "stdout",
     "output_type": "stream",
     "text": [
      "Precision: 5.00%, Recall: 5.00% [Percentile Detection]\n"
     ]
    }
   ],
   "source": [
    "from sklearn.metrics import precision_score, recall_score\n",
    "\n",
    "print(\n",
    "    'Precision: {:.02%}, Recall: {:.02%} [Percentile Detection]'.format(\n",
    "        precision_score(y, y_pred, pos_label=1),\n",
    "        recall_score(y, y_pred, pos_label=1),\n",
    "    )\n",
    ")"
   ]
  },
  {
   "cell_type": "code",
   "execution_count": 18,
   "metadata": {},
   "outputs": [
    {
     "name": "stdout",
     "output_type": "stream",
     "text": [
      "Threshold: 1.82, 2.00%\n"
     ]
    }
   ],
   "source": [
    "outlierd = PercentileDetection(percentile=0.98)\n",
    "y_pred = outlierd.fit_predict(x[:,1])\n",
    "\n",
    "print(\n",
    "    f'Threshold: {outlierd.threshold:.2f}, {y_pred.mean():.2%}'\n",
    ")"
   ]
  },
  {
   "cell_type": "code",
   "execution_count": 19,
   "metadata": {},
   "outputs": [
    {
     "name": "stdout",
     "output_type": "stream",
     "text": [
      "Precision: 0.00%, Recall: 0.00% [Percentile Detection]\n"
     ]
    }
   ],
   "source": [
    "from sklearn.metrics import precision_score, recall_score\n",
    "\n",
    "print(\n",
    "    'Precision: {:.02%}, Recall: {:.02%} [Percentile Detection]'.format(\n",
    "        precision_score(y, y_pred, pos_label=1),\n",
    "        recall_score(y, y_pred, pos_label=1),\n",
    "    )\n",
    ")"
   ]
  },
  {
   "cell_type": "code",
   "execution_count": 20,
   "metadata": {},
   "outputs": [],
   "source": [
    "class PercentileDetection:\n",
    "    \n",
    "    def __init__(self, percentile=0.9):\n",
    "        self.percentile = percentile\n",
    "        \n",
    "    def fit(self, x, y=None):\n",
    "        self.thresholds = [\n",
    "            pd.Series(x[:,i]).quantile(self.percentile)\n",
    "            for i in range(x.shape[1])\n",
    "        ]\n",
    "        \n",
    "    def predict(self, x, y=None):\n",
    "        return (x > self.thresholds).max(axis=1)\n",
    "    \n",
    "    def fit_predict(self, x, y=None):\n",
    "        self.fit(x)\n",
    "        return self.predict(x)"
   ]
  },
  {
   "cell_type": "code",
   "execution_count": 21,
   "metadata": {},
   "outputs": [],
   "source": [
    "outlierd = PercentileDetection(percentile=0.98)\n",
    "y_pred = outlierd.fit_predict(x) "
   ]
  },
  {
   "cell_type": "code",
   "execution_count": 22,
   "metadata": {},
   "outputs": [
    {
     "name": "stdout",
     "output_type": "stream",
     "text": [
      "% of Anomalous Traffic: 2.00%, Detected As Anomalous 2.50%\n"
     ]
    }
   ],
   "source": [
    "print(f'% of Anomalous Traffic: {y.mean():.2%}, Detected As Anomalous {y_pred.mean():.2%}')"
   ]
  },
  {
   "cell_type": "code",
   "execution_count": 23,
   "metadata": {},
   "outputs": [
    {
     "name": "stdout",
     "output_type": "stream",
     "text": [
      "Precision: 4.00%, Recall: 5.00% [Percentile Detection]\n"
     ]
    }
   ],
   "source": [
    "from sklearn.metrics import precision_score, recall_score\n",
    "\n",
    "print(\n",
    "    'Precision: {:.02%}, Recall: {:.02%} [Percentile Detection]'.format(\n",
    "        precision_score(y, y_pred, pos_label=1),\n",
    "        recall_score(y, y_pred, pos_label=1),\n",
    "    )\n",
    ")"
   ]
  },
  {
   "cell_type": "markdown",
   "metadata": {},
   "source": [
    "# Elliptic Envelope"
   ]
  },
  {
   "cell_type": "code",
   "execution_count": 24,
   "metadata": {},
   "outputs": [],
   "source": [
    "from sklearn.covariance import EllipticEnvelope\n",
    "\n",
    "ee = EllipticEnvelope(random_state=0)\n",
    "y_pred = ee.fit_predict(x) == -1"
   ]
  },
  {
   "cell_type": "code",
   "execution_count": 25,
   "metadata": {},
   "outputs": [
    {
     "name": "stdout",
     "output_type": "stream",
     "text": [
      "% of Anomalous Traffic: 2.00%, Detected As Anomalous 10.00%\n"
     ]
    }
   ],
   "source": [
    "print(f'% of Anomalous Traffic: {y.mean():.2%}, Detected As Anomalous {y_pred.mean():.2%}')"
   ]
  },
  {
   "cell_type": "code",
   "execution_count": 26,
   "metadata": {},
   "outputs": [
    {
     "name": "stdout",
     "output_type": "stream",
     "text": [
      "Precision: 9.00%, Recall: 45.00% [LocalOutlierFactor]\n"
     ]
    }
   ],
   "source": [
    "from sklearn.metrics import precision_score, recall_score\n",
    "\n",
    "print(\n",
    "    'Precision: {:.02%}, Recall: {:.02%} [LocalOutlierFactor]'.format(\n",
    "        precision_score(y, y_pred, pos_label=1),\n",
    "        recall_score(y, y_pred, pos_label=1),\n",
    "    )\n",
    ")"
   ]
  },
  {
   "cell_type": "markdown",
   "metadata": {},
   "source": [
    "# Local Outlier Factor"
   ]
  },
  {
   "cell_type": "code",
   "execution_count": 27,
   "metadata": {},
   "outputs": [],
   "source": [
    "from sklearn.neighbors import LocalOutlierFactor\n",
    "\n",
    "lof = LocalOutlierFactor(n_neighbors=50)\n",
    "y_pred = lof.fit_predict(x) == -1"
   ]
  },
  {
   "cell_type": "code",
   "execution_count": 28,
   "metadata": {},
   "outputs": [
    {
     "name": "stdout",
     "output_type": "stream",
     "text": [
      "% of Anomalous Traffic: 2.00%, Detected As Anomalous 5.00%\n"
     ]
    }
   ],
   "source": [
    "print(f'% of Anomalous Traffic: {y.mean():.2%}, Detected As Anomalous {y_pred.mean():.2%}')\n"
   ]
  },
  {
   "cell_type": "code",
   "execution_count": 29,
   "metadata": {},
   "outputs": [
    {
     "name": "stdout",
     "output_type": "stream",
     "text": [
      "Precision: 26.00%, Recall: 65.00% [LocalOutlierFactor]\n"
     ]
    }
   ],
   "source": [
    "from sklearn.metrics import precision_score, recall_score\n",
    "\n",
    "print(\n",
    "    'Precision: {:.02%}, Recall: {:.02%} [LocalOutlierFactor]'.format(\n",
    "        precision_score(y, y_pred, pos_label=1),\n",
    "        recall_score(y, y_pred, pos_label=1),\n",
    "    )\n",
    ")"
   ]
  },
  {
   "cell_type": "code",
   "execution_count": 30,
   "metadata": {},
   "outputs": [
    {
     "data": {
      "text/plain": [
       "count    1000.000000\n",
       "mean       -1.108791\n",
       "std         0.280413\n",
       "min        -4.862432\n",
       "25%        -1.108732\n",
       "50%        -1.030691\n",
       "75%        -0.993094\n",
       "max        -0.955223\n",
       "dtype: float64"
      ]
     },
     "execution_count": 30,
     "metadata": {},
     "output_type": "execute_result"
    }
   ],
   "source": [
    "pd.Series(lof.negative_outlier_factor_).describe()"
   ]
  },
  {
   "cell_type": "code",
   "execution_count": 31,
   "metadata": {},
   "outputs": [
    {
     "name": "stdout",
     "output_type": "stream",
     "text": [
      "LOF: Precision: 80.00%, Recall: 40.00% [Quantile=1%]\n",
      "LOF: Precision: 50.00%, Recall: 50.00% [Quantile=2%]\n",
      "LOF: Precision: 14.00%, Recall: 70.00% [Quantile=10%]\n"
     ]
    }
   ],
   "source": [
    "from sklearn.metrics import precision_score, recall_score\n",
    "\n",
    "lof = LocalOutlierFactor(n_neighbors=50)\n",
    "lof.fit(x)\n",
    "\n",
    "for quantile in [0.01, 0.02, 0.1]:\n",
    "    \n",
    "    y_pred = lof.negative_outlier_factor_ < np.quantile(\n",
    "        lof.negative_outlier_factor_, quantile\n",
    "    ) \n",
    "    \n",
    "    print(\n",
    "        'LOF: Precision: {:.02%}, Recall: {:.02%} [Quantile={:.0%}]'.format(\n",
    "            precision_score(y, y_pred, pos_label=1),\n",
    "            recall_score(y, y_pred, pos_label=1),\n",
    "            quantile\n",
    "        )\n",
    "    )"
   ]
  },
  {
   "cell_type": "code",
   "execution_count": 32,
   "metadata": {},
   "outputs": [
    {
     "name": "stdout",
     "output_type": "stream",
     "text": [
      "Precision: 25.00%, Recall: 65.00% [LocalOutlierFactor; p=1]\n",
      "Precision: 26.00%, Recall: 65.00% [LocalOutlierFactor; p=2]\n",
      "Precision: 24.53%, Recall: 65.00% [LocalOutlierFactor; p=100]\n"
     ]
    }
   ],
   "source": [
    "from sklearn.metrics import precision_score, recall_score\n",
    "\n",
    "for p in [1, 2, 100]:\n",
    "    \n",
    "    lof = LocalOutlierFactor(n_neighbors=50, p=p)\n",
    "    y_pred = lof.fit_predict(x) == -1 \n",
    "    \n",
    "    print(\n",
    "        'Precision: {:.02%}, Recall: {:.02%} [LocalOutlierFactor; p={}]'.format(\n",
    "            precision_score(y, y_pred, pos_label=1),\n",
    "            recall_score(y, y_pred, pos_label=1),\n",
    "            p\n",
    "        )\n",
    "    )"
   ]
  },
  {
   "cell_type": "code",
   "execution_count": 33,
   "metadata": {},
   "outputs": [
    {
     "name": "stdout",
     "output_type": "stream",
     "text": [
      "Precision: 12.90%, Recall: 40.00% [LocalOutlierFactor; p=1]\n",
      "Precision: 12.90%, Recall: 40.00% [LocalOutlierFactor; p=2]\n",
      "Precision: 13.79%, Recall: 40.00% [LocalOutlierFactor; p=100]\n"
     ]
    }
   ],
   "source": [
    "from sklearn.metrics import precision_score, recall_score\n",
    "\n",
    "for p in [1, 2, 100]:\n",
    "    \n",
    "    lof = LocalOutlierFactor(n_neighbors=3, p=p)\n",
    "    y_pred = lof.fit_predict(x) == -1 \n",
    "    \n",
    "    print(\n",
    "        'Precision: {:.02%}, Recall: {:.02%} [LocalOutlierFactor; p={}]'.format(\n",
    "            precision_score(y, y_pred, pos_label=1),\n",
    "            recall_score(y, y_pred, pos_label=1),\n",
    "            p\n",
    "        )\n",
    "    )"
   ]
  },
  {
   "cell_type": "code",
   "execution_count": 34,
   "metadata": {},
   "outputs": [
    {
     "name": "stdout",
     "output_type": "stream",
     "text": [
      "Precision: 80.00%, Recall: 40.00% [LocalOutlierFactor; contamination=0.01]\n",
      "Precision: 60.00%, Recall: 60.00% [LocalOutlierFactor; contamination=0.02]\n",
      "Precision: 28.00%, Recall: 70.00% [LocalOutlierFactor; contamination=0.05]\n",
      "Precision: 15.00%, Recall: 75.00% [LocalOutlierFactor; contamination=0.1]\n",
      "Precision: 7.50%, Recall: 75.00% [LocalOutlierFactor; contamination=0.2]\n"
     ]
    }
   ],
   "source": [
    "from sklearn.metrics import precision_score, recall_score\n",
    "\n",
    "for contamination in [0.01, 0.02, 0.05, 0.1, 0.2]:\n",
    "    \n",
    "    lof = LocalOutlierFactor(n_neighbors=10, contamination=contamination)\n",
    "    y_pred = lof.fit_predict(x) == -1\n",
    "    \n",
    "    print(\n",
    "        'Precision: {:.02%}, Recall: {:.02%} [LocalOutlierFactor; contamination={}]'.format(\n",
    "            precision_score(y, y_pred, pos_label=1),\n",
    "            recall_score(y, y_pred, pos_label=1),\n",
    "            contamination\n",
    "        )\n",
    "    )\n",
    "    \n",
    "    "
   ]
  },
  {
   "cell_type": "code",
   "execution_count": 35,
   "metadata": {},
   "outputs": [
    {
     "name": "stdout",
     "output_type": "stream",
     "text": [
      "Precision: 2.23%, Recall: 25.00% [LocalOutlierFactor; n_neighbors=1]\n",
      "Precision: 44.83%, Recall: 65.00% [LocalOutlierFactor; n_neighbors=10]\n",
      "Precision: 32.50%, Recall: 65.00% [LocalOutlierFactor; n_neighbors=20]\n",
      "Precision: 25.00%, Recall: 65.00% [LocalOutlierFactor; n_neighbors=50]\n",
      "Precision: 14.10%, Recall: 55.00% [LocalOutlierFactor; n_neighbors=100]\n",
      "Precision: 8.77%, Recall: 50.00% [LocalOutlierFactor; n_neighbors=200]\n"
     ]
    }
   ],
   "source": [
    "from sklearn.metrics import precision_score, recall_score\n",
    "\n",
    "for n_neighbors in [1, 10, 20, 50, 100, 200]:\n",
    "    \n",
    "    lof = LocalOutlierFactor(n_neighbors=n_neighbors, p=1)\n",
    "    y_pred = lof.fit_predict(x) == -1\n",
    "    \n",
    "    print(\n",
    "        'Precision: {:.02%}, Recall: {:.02%} [LocalOutlierFactor; n_neighbors={}]'.format(\n",
    "            precision_score(y, y_pred, pos_label=1),\n",
    "            recall_score(y, y_pred, pos_label=1),\n",
    "            n_neighbors\n",
    "        )\n",
    "    )"
   ]
  },
  {
   "cell_type": "markdown",
   "metadata": {},
   "source": [
    "## Novelty LOF"
   ]
  },
  {
   "cell_type": "code",
   "execution_count": 36,
   "metadata": {},
   "outputs": [],
   "source": [
    "from sklearn.neighbors import LocalOutlierFactor\n",
    "\n",
    "x_inliers = x[y==0]\n",
    "\n",
    "lof = LocalOutlierFactor(n_neighbors=50, novelty=True)\n",
    "lof.fit(x_inliers)\n",
    "y_pred = lof.predict(x) == -1"
   ]
  },
  {
   "cell_type": "code",
   "execution_count": 37,
   "metadata": {},
   "outputs": [
    {
     "name": "stdout",
     "output_type": "stream",
     "text": [
      "% of Anomalous Traffic: 2.00%, Detected As Anomalous 4.90%\n"
     ]
    }
   ],
   "source": [
    "print(f'% of Anomalous Traffic: {y.mean():.2%}, Detected As Anomalous {y_pred.mean():.2%}')"
   ]
  },
  {
   "cell_type": "code",
   "execution_count": 38,
   "metadata": {},
   "outputs": [
    {
     "name": "stdout",
     "output_type": "stream",
     "text": [
      "Precision: 26.53%, Recall: 65.00% [LocalOutlierFactor]\n"
     ]
    }
   ],
   "source": [
    "from sklearn.metrics import precision_score, recall_score\n",
    "\n",
    "print(\n",
    "    'Precision: {:.02%}, Recall: {:.02%} [LocalOutlierFactor]'.format(\n",
    "        precision_score(y, y_pred, pos_label=1),\n",
    "        recall_score(y, y_pred, pos_label=1),\n",
    "    )\n",
    ")"
   ]
  },
  {
   "cell_type": "markdown",
   "metadata": {},
   "source": [
    "# Isolation Forest"
   ]
  },
  {
   "cell_type": "code",
   "execution_count": 39,
   "metadata": {},
   "outputs": [],
   "source": [
    "from sklearn.ensemble import IsolationForest\n",
    "\n",
    "iforest = IsolationForest(n_estimators=200, n_jobs=-1, random_state=10)\n",
    "y_pred = iforest.fit_predict(x) == -1"
   ]
  },
  {
   "cell_type": "code",
   "execution_count": 40,
   "metadata": {},
   "outputs": [
    {
     "name": "stdout",
     "output_type": "stream",
     "text": [
      "% of Anomalous Traffic: 2.00%, Detected As Anomalous 18.50%\n"
     ]
    }
   ],
   "source": [
    "print(f'% of Anomalous Traffic: {y.mean():.2%}, Detected As Anomalous {y_pred.mean():.2%}')\n"
   ]
  },
  {
   "cell_type": "code",
   "execution_count": 41,
   "metadata": {},
   "outputs": [
    {
     "name": "stdout",
     "output_type": "stream",
     "text": [
      "Precision: 6.49%, Recall: 60.00% [LocalOutlierFactor]\n"
     ]
    }
   ],
   "source": [
    "from sklearn.metrics import precision_score, recall_score\n",
    "\n",
    "print(\n",
    "    'Precision: {:.02%}, Recall: {:.02%} [LocalOutlierFactor]'.format(\n",
    "        precision_score(y, y_pred, pos_label=1),\n",
    "        recall_score(y, y_pred, pos_label=1),\n",
    "    )\n",
    ")"
   ]
  },
  {
   "cell_type": "code",
   "execution_count": 42,
   "metadata": {},
   "outputs": [
    {
     "name": "stdout",
     "output_type": "stream",
     "text": [
      "Precision: 6.35%, Recall: 60.00% [LocalOutlierFactor; bootstrap=False]\n",
      "Precision: 5.83%, Recall: 65.00% [LocalOutlierFactor; bootstrap=True]\n"
     ]
    }
   ],
   "source": [
    "from sklearn.ensemble import IsolationForest\n",
    "from sklearn.metrics import precision_score, recall_score\n",
    "\n",
    "bootstrap_options = [False, True]\n",
    "\n",
    "for bootstrap_option in bootstrap_options:\n",
    "    \n",
    "    iforest = IsolationForest(n_estimators=200, bootstrap=bootstrap_option, n_jobs=-1)\n",
    "    y_pred = iforest.fit_predict(x) == -1\n",
    "    \n",
    "    print(\n",
    "        'Precision: {:.02%}, Recall: {:.02%} [LocalOutlierFactor; bootstrap={}]'.format(\n",
    "            precision_score(y, y_pred, pos_label=1),\n",
    "            recall_score(y, y_pred, pos_label=1),\n",
    "            bootstrap_option\n",
    "        )\n",
    "    )\n"
   ]
  },
  {
   "cell_type": "code",
   "execution_count": 43,
   "metadata": {},
   "outputs": [
    {
     "name": "stdout",
     "output_type": "stream",
     "text": [
      "Precision: 10.00%, Recall: 5.00% [LocalOutlierFactor; Quantile=0.01]\n",
      "Precision: 5.00%, Recall: 5.00% [LocalOutlierFactor; Quantile=0.02]\n",
      "Precision: 10.00%, Recall: 25.00% [LocalOutlierFactor; Quantile=0.05]\n",
      "Precision: 9.00%, Recall: 45.00% [LocalOutlierFactor; Quantile=0.1]\n",
      "Precision: 6.00%, Recall: 60.00% [LocalOutlierFactor; Quantile=0.2]\n",
      "Precision: 3.20%, Recall: 80.00% [LocalOutlierFactor; Quantile=0.5]\n"
     ]
    }
   ],
   "source": [
    "from sklearn.ensemble import IsolationForest\n",
    "from sklearn.metrics import precision_score, recall_score\n",
    "\n",
    "iforest = IsolationForest(n_jobs=-1)\n",
    "iforest.fit(x)\n",
    "\n",
    "for quantile in [0.01, 0.02, 0.05, 0.1, 0.2, 0.5]:\n",
    "    \n",
    "    anomaly_score = iforest.decision_function(x)\n",
    "    y_pred = anomaly_score < np.quantile(anomaly_score, quantile)\n",
    "    \n",
    "    print(\n",
    "        'Precision: {:.02%}, Recall: {:.02%} [LocalOutlierFactor; Quantile={}]'.format(\n",
    "            precision_score(y, y_pred, pos_label=1),\n",
    "            recall_score(y, y_pred, pos_label=1),\n",
    "            quantile\n",
    "        )\n",
    "    )\n",
    "    "
   ]
  },
  {
   "cell_type": "code",
   "execution_count": 44,
   "metadata": {},
   "outputs": [
    {
     "name": "stdout",
     "output_type": "stream",
     "text": [
      "Precision: 10.00%, Recall: 5.00% [LocalOutlierFactor; contamination=0.01]\n",
      "Precision: 10.00%, Recall: 25.00% [LocalOutlierFactor; contamination=0.05]\n",
      "Precision: 11.00%, Recall: 55.00% [LocalOutlierFactor; contamination=0.1]\n",
      "Precision: 6.50%, Recall: 65.00% [LocalOutlierFactor; contamination=0.2]\n"
     ]
    }
   ],
   "source": [
    "from sklearn.ensemble import IsolationForest\n",
    "from sklearn.metrics import precision_score, recall_score\n",
    "\n",
    "for contamination in [0.01, 0.05, 0.1, 0.2]:\n",
    "    \n",
    "    iforest = IsolationForest(contamination=contamination, n_jobs=-1)\n",
    "    y_pred = iforest.fit_predict(x) == -1\n",
    "    \n",
    "    print(\n",
    "        'Precision: {:.02%}, Recall: {:.02%} [LocalOutlierFactor; contamination={}]'.format(\n",
    "            precision_score(y, y_pred, pos_label=1),\n",
    "            recall_score(y, y_pred, pos_label=1),\n",
    "            contamination\n",
    "        )\n",
    "    )\n",
    "    "
   ]
  },
  {
   "cell_type": "code",
   "execution_count": null,
   "metadata": {},
   "outputs": [],
   "source": []
  },
  {
   "cell_type": "code",
   "execution_count": null,
   "metadata": {},
   "outputs": [],
   "source": []
  },
  {
   "cell_type": "code",
   "execution_count": null,
   "metadata": {},
   "outputs": [],
   "source": []
  }
 ],
 "metadata": {
  "kernelspec": {
   "display_name": "Python 3",
   "language": "python",
   "name": "python3"
  },
  "language_info": {
   "codemirror_mode": {
    "name": "ipython",
    "version": 3
   },
   "file_extension": ".py",
   "mimetype": "text/x-python",
   "name": "python",
   "nbconvert_exporter": "python",
   "pygments_lexer": "ipython3",
   "version": "3.6.9"
  }
 },
 "nbformat": 4,
 "nbformat_minor": 2
}

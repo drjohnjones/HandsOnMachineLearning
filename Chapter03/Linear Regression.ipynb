{
 "cells": [
  {
   "cell_type": "markdown",
   "metadata": {},
   "source": [
    "# Linear Regression"
   ]
  },
  {
   "cell_type": "code",
   "execution_count": 84,
   "metadata": {},
   "outputs": [],
   "source": [
    "import pandas as pd\n",
    "\n",
    "df_sim = pd.DataFrame(\n",
    "    {\n",
    "        'Kilometres': [1, 2, 3, 4, 5],\n",
    "        'Meter': [7.5, 10, 12.5, 15, 17.5],\n",
    "        'Paid (incl. tips)': [8, 10, 14, 15, 20],\n",
    "    }\n",
    ")"
   ]
  },
  {
   "cell_type": "code",
   "execution_count": 85,
   "metadata": {},
   "outputs": [
    {
     "data": {
      "text/html": [
       "<div>\n",
       "<style scoped>\n",
       "    .dataframe tbody tr th:only-of-type {\n",
       "        vertical-align: middle;\n",
       "    }\n",
       "\n",
       "    .dataframe tbody tr th {\n",
       "        vertical-align: top;\n",
       "    }\n",
       "\n",
       "    .dataframe thead th {\n",
       "        text-align: right;\n",
       "    }\n",
       "</style>\n",
       "<table border=\"1\" class=\"dataframe\">\n",
       "  <thead>\n",
       "    <tr style=\"text-align: right;\">\n",
       "      <th></th>\n",
       "      <th>Meter</th>\n",
       "    </tr>\n",
       "    <tr>\n",
       "      <th>Kilometres</th>\n",
       "      <th></th>\n",
       "    </tr>\n",
       "  </thead>\n",
       "  <tbody>\n",
       "    <tr>\n",
       "      <th>1</th>\n",
       "      <td>7.5</td>\n",
       "    </tr>\n",
       "    <tr>\n",
       "      <th>2</th>\n",
       "      <td>10.0</td>\n",
       "    </tr>\n",
       "    <tr>\n",
       "      <th>3</th>\n",
       "      <td>12.5</td>\n",
       "    </tr>\n",
       "    <tr>\n",
       "      <th>4</th>\n",
       "      <td>15.0</td>\n",
       "    </tr>\n",
       "    <tr>\n",
       "      <th>5</th>\n",
       "      <td>17.5</td>\n",
       "    </tr>\n",
       "  </tbody>\n",
       "</table>\n",
       "</div>"
      ],
      "text/plain": [
       "            Meter\n",
       "Kilometres       \n",
       "1             7.5\n",
       "2            10.0\n",
       "3            12.5\n",
       "4            15.0\n",
       "5            17.5"
      ]
     },
     "execution_count": 85,
     "metadata": {},
     "output_type": "execute_result"
    }
   ],
   "source": [
    "df_sim.set_index('Kilometres')[['Meter']]"
   ]
  },
  {
   "cell_type": "code",
   "execution_count": 86,
   "metadata": {},
   "outputs": [
    {
     "data": {
      "text/html": [
       "<div>\n",
       "<style scoped>\n",
       "    .dataframe tbody tr th:only-of-type {\n",
       "        vertical-align: middle;\n",
       "    }\n",
       "\n",
       "    .dataframe tbody tr th {\n",
       "        vertical-align: top;\n",
       "    }\n",
       "\n",
       "    .dataframe thead th {\n",
       "        text-align: right;\n",
       "    }\n",
       "</style>\n",
       "<table border=\"1\" class=\"dataframe\">\n",
       "  <thead>\n",
       "    <tr style=\"text-align: right;\">\n",
       "      <th></th>\n",
       "      <th>Meter</th>\n",
       "      <th>Paid (incl. tips)</th>\n",
       "    </tr>\n",
       "    <tr>\n",
       "      <th>Kilometres</th>\n",
       "      <th></th>\n",
       "      <th></th>\n",
       "    </tr>\n",
       "  </thead>\n",
       "  <tbody>\n",
       "    <tr>\n",
       "      <th>1</th>\n",
       "      <td>7.5</td>\n",
       "      <td>8</td>\n",
       "    </tr>\n",
       "    <tr>\n",
       "      <th>2</th>\n",
       "      <td>10.0</td>\n",
       "      <td>10</td>\n",
       "    </tr>\n",
       "    <tr>\n",
       "      <th>3</th>\n",
       "      <td>12.5</td>\n",
       "      <td>14</td>\n",
       "    </tr>\n",
       "    <tr>\n",
       "      <th>4</th>\n",
       "      <td>15.0</td>\n",
       "      <td>15</td>\n",
       "    </tr>\n",
       "    <tr>\n",
       "      <th>5</th>\n",
       "      <td>17.5</td>\n",
       "      <td>20</td>\n",
       "    </tr>\n",
       "  </tbody>\n",
       "</table>\n",
       "</div>"
      ],
      "text/plain": [
       "            Meter  Paid (incl. tips)\n",
       "Kilometres                          \n",
       "1             7.5                  8\n",
       "2            10.0                 10\n",
       "3            12.5                 14\n",
       "4            15.0                 15\n",
       "5            17.5                 20"
      ]
     },
     "execution_count": 86,
     "metadata": {},
     "output_type": "execute_result"
    }
   ],
   "source": [
    "df_sim.set_index('Kilometres')[['Meter', 'Paid (incl. tips)']]"
   ]
  },
  {
   "cell_type": "code",
   "execution_count": 4,
   "metadata": {},
   "outputs": [
    {
     "name": "stderr",
     "output_type": "stream",
     "text": [
      "/Users/tarek/anaconda3/envs/scikitbook/lib/python3.6/site-packages/ipykernel_launcher.py:20: UserWarning: Matplotlib is currently using module://ipykernel.pylab.backend_inline, which is a non-GUI backend, so cannot show the figure.\n"
     ]
    },
    {
     "data": {
      "image/png": "[encoded data removed]",
      "text/plain": [
       "<Figure size 1152x360 with 2 Axes>"
      ]
     },
     "metadata": {
      "needs_background": "light"
     },
     "output_type": "display_data"
    }
   ],
   "source": [
    "fig, axs = plt.subplots(1, 2, figsize=(16, 5), sharex=False, sharey=False)\n",
    "\n",
    "df_sim.set_index('Kilometres')['Meter'].plot(title='Meter', kind='line', marker='o', zorder=1, ax=axs[0], grid=True)\n",
    "df_sim.set_index('Kilometres')['Paid (incl. tips)'].plot(title='Paid (incl. tips)', kind='line', marker='o', linestyle='--', ax=axs[1], grid=True)\n",
    "\n",
    "axs[0].set_xlabel('Kilometres')\n",
    "axs[1].set_xlabel('Kilometres')\n",
    "\n",
    "axs[0].set_ylabel('Amount ($)')\n",
    "axs[1].set_ylabel('Amount ($)')\n",
    "\n",
    "axs[0].set_xlim((-0.1,5.1))\n",
    "axs[0].set_ylim((-0.1,20.5))\n",
    "\n",
    "axs[1].set_xlim((-0.1,5.1))\n",
    "axs[1].set_ylim((-0.1,20.5))\n",
    "\n",
    "# axs[0].plot([0,1], [5,7.5], linestyle='--', color='k', zorder=0, alpha=0.6)\n",
    "\n",
    "fig.show()"
   ]
  },
  {
   "cell_type": "code",
   "execution_count": 5,
   "metadata": {},
   "outputs": [],
   "source": [
    "df_taxi = df_sim"
   ]
  },
  {
   "cell_type": "code",
   "execution_count": 6,
   "metadata": {},
   "outputs": [
    {
     "data": {
      "text/html": [
       "<div>\n",
       "<style scoped>\n",
       "    .dataframe tbody tr th:only-of-type {\n",
       "        vertical-align: middle;\n",
       "    }\n",
       "\n",
       "    .dataframe tbody tr th {\n",
       "        vertical-align: top;\n",
       "    }\n",
       "\n",
       "    .dataframe thead th {\n",
       "        text-align: right;\n",
       "    }\n",
       "</style>\n",
       "<table border=\"1\" class=\"dataframe\">\n",
       "  <thead>\n",
       "    <tr style=\"text-align: right;\">\n",
       "      <th></th>\n",
       "      <th>Kilometres</th>\n",
       "      <th>Meter</th>\n",
       "      <th>Paid (incl. tips)</th>\n",
       "    </tr>\n",
       "  </thead>\n",
       "  <tbody>\n",
       "    <tr>\n",
       "      <th>0</th>\n",
       "      <td>1</td>\n",
       "      <td>7.5</td>\n",
       "      <td>8</td>\n",
       "    </tr>\n",
       "    <tr>\n",
       "      <th>1</th>\n",
       "      <td>2</td>\n",
       "      <td>10.0</td>\n",
       "      <td>10</td>\n",
       "    </tr>\n",
       "    <tr>\n",
       "      <th>2</th>\n",
       "      <td>3</td>\n",
       "      <td>12.5</td>\n",
       "      <td>14</td>\n",
       "    </tr>\n",
       "    <tr>\n",
       "      <th>3</th>\n",
       "      <td>4</td>\n",
       "      <td>15.0</td>\n",
       "      <td>15</td>\n",
       "    </tr>\n",
       "    <tr>\n",
       "      <th>4</th>\n",
       "      <td>5</td>\n",
       "      <td>17.5</td>\n",
       "      <td>20</td>\n",
       "    </tr>\n",
       "  </tbody>\n",
       "</table>\n",
       "</div>"
      ],
      "text/plain": [
       "   Kilometres  Meter  Paid (incl. tips)\n",
       "0           1    7.5                  8\n",
       "1           2   10.0                 10\n",
       "2           3   12.5                 14\n",
       "3           4   15.0                 15\n",
       "4           5   17.5                 20"
      ]
     },
     "execution_count": 6,
     "metadata": {},
     "output_type": "execute_result"
    }
   ],
   "source": [
    "df_taxi"
   ]
  },
  {
   "cell_type": "markdown",
   "metadata": {},
   "source": [
    "## Running Linear Regression"
   ]
  },
  {
   "cell_type": "code",
   "execution_count": 7,
   "metadata": {},
   "outputs": [],
   "source": [
    "from sklearn.linear_model import LinearRegression\n",
    "\n",
    "reg = LinearRegression()\n",
    "reg.fit(df_taxi[['Kilometres']], df_taxi['Paid (incl. tips)'])\n",
    "\n",
    "df_taxi['Paid (Predicted)'] = reg.predict(df_taxi[['Kilometres']])"
   ]
  },
  {
   "cell_type": "code",
   "execution_count": 8,
   "metadata": {},
   "outputs": [
    {
     "name": "stdout",
     "output_type": "stream",
     "text": [
      "Amount Paid = 4.7 + 2.9 * Distance\n"
     ]
    }
   ],
   "source": [
    "print(\n",
    "    'Amount Paid = {:.1f} + {:.1f} * Distance'.format(\n",
    "        reg.intercept_, reg.coef_[0], \n",
    "    )\n",
    ") "
   ]
  },
  {
   "cell_type": "markdown",
   "metadata": {},
   "source": [
    "## Plotting the Regressed Line \n",
    "\n",
    "In higher dimensions, the line will be a hyperplane"
   ]
  },
  {
   "cell_type": "code",
   "execution_count": 87,
   "metadata": {},
   "outputs": [
    {
     "name": "stderr",
     "output_type": "stream",
     "text": [
      "/Users/tarek/anaconda3/envs/scikitbook/lib/python3.6/site-packages/ipykernel_launcher.py:28: UserWarning: Matplotlib is currently using module://ipykernel.pylab.backend_inline, which is a non-GUI backend, so cannot show the figure.\n"
     ]
    },
    {
     "data": {
      "image/png": "[encoded data removed]",
      "text/plain": [
       "<Figure size 720x576 with 1 Axes>"
      ]
     },
     "metadata": {
      "needs_background": "light"
     },
     "output_type": "display_data"
    }
   ],
   "source": [
    "fig, ax = plt.subplots(1, 1, figsize=(10, 8), sharex=False, sharey=False)\n",
    "\n",
    "df_taxi.tail(5).plot(\n",
    "    label='actual', kind='scatter', x='Kilometres', y='Paid (incl. tips)',\n",
    "    marker='o', alpha=0.95, ax=ax\n",
    ")\n",
    "\n",
    "df_taxi.tail(5).set_index('Kilometres')['Paid (Predicted)'].plot(\n",
    "    title='Paid (incl. tips)', label='estimated', kind='line', \n",
    "    marker='o', linestyle='--', color='k', alpha=0.95, ax=ax\n",
    ")\n",
    "\n",
    "x_min, m_max = 0.8, 5.2\n",
    "y_min, y_max = 5, 22\n",
    "\n",
    "ax.set_xlim((x_min, m_max))\n",
    "ax.set_ylim((y_min, y_max))\n",
    "\n",
    "for x, y1, y2 in df_taxi.tail(5)[\n",
    "    ['Kilometres', 'Paid (incl. tips)', 'Paid (Predicted)']\n",
    "].values.tolist():\n",
    "    ymin, ymax = min(y1, y2), max(y1, y2)\n",
    "    ymin, ymax = (ymin-y_min)/(y_max-y_min) , (ymax-y_min)/(y_max-y_min)\n",
    "    ax.axvline(x=x, ymin=ymin, ymax=ymax, color='k')\n",
    "\n",
    "ax.legend(loc='lower right', fontsize='xx-large')\n",
    "\n",
    "fig.show()"
   ]
  },
  {
   "cell_type": "code",
   "execution_count": 88,
   "metadata": {},
   "outputs": [
    {
     "name": "stderr",
     "output_type": "stream",
     "text": [
      "/Users/tarek/anaconda3/envs/scikitbook/lib/python3.6/site-packages/ipykernel_launcher.py:33: UserWarning: Matplotlib is currently using module://ipykernel.pylab.backend_inline, which is a non-GUI backend, so cannot show the figure.\n"
     ]
    },
    {
     "data": {
      "image/png": "[encoded data removed]",
      "text/plain": [
       "<Figure size 1152x360 with 2 Axes>"
      ]
     },
     "metadata": {
      "needs_background": "light"
     },
     "output_type": "display_data"
    }
   ],
   "source": [
    "fig, axs = plt.subplots(1, 2, figsize=(16, 5), sharex=False, sharey=False)\n",
    "\n",
    "df_taxi.set_index('Kilometres')['Meter'].plot(\n",
    "    title='Meter', kind='line', \n",
    "    marker='o', alpha=0.75, ax=axs[0]\n",
    ")\n",
    "df_taxi.set_index('Kilometres')['Paid (incl. tips)'].plot(\n",
    "    label='actual', kind='line', \n",
    "    marker='o', linestyle='--', alpha=0.75, ax=axs[1]\n",
    ")\n",
    "\n",
    "df_taxi.set_index('Kilometres')['Paid (Predicted)'].plot(\n",
    "    title='Paid (incl. tips)', label='estimated', kind='line', \n",
    "    marker='o', linestyle='-.', color='k', alpha=0.75, ax=axs[1]\n",
    ")\n",
    "\n",
    "axs[0].set_xlabel('Kilometres')\n",
    "axs[1].set_xlabel('Kilometres')\n",
    "\n",
    "axs[0].set_ylabel('Amount ($)')\n",
    "axs[1].set_ylabel('Amount ($)')\n",
    "\n",
    "axs[0].set_xlim((-0.1,5.1))\n",
    "axs[0].set_ylim((-0.1,20.5))\n",
    "\n",
    "axs[1].set_xlim((-0.1,5.1))\n",
    "axs[1].set_ylim((-0.1,20.5))\n",
    "\n",
    "axs[1].legend(\n",
    "    markerscale=0.01, loc='lower right', fontsize='xx-large'\n",
    ")\n",
    "\n",
    "fig.show()"
   ]
  },
  {
   "cell_type": "code",
   "execution_count": 89,
   "metadata": {},
   "outputs": [
    {
     "name": "stdout",
     "output_type": "stream",
     "text": [
      "Amount Paid =  0.0 + 0.0 * Distance\n"
     ]
    }
   ],
   "source": [
    "print(\n",
    "    'Amount Paid =  {:.1f} + {:.1f} * Distance'.format(\n",
    "        reg.intercept_, reg.coef_[0], \n",
    "    )\n",
    ") "
   ]
  },
  {
   "cell_type": "markdown",
   "metadata": {},
   "source": [
    "## Anscombe Data (not in the book)\n",
    "\n",
    "This is an interesting dataset, all 3 y's have the same means and standard deviation, yet they require different regression models to fit each of them."
   ]
  },
  {
   "cell_type": "code",
   "execution_count": 92,
   "metadata": {},
   "outputs": [],
   "source": [
    "import pandas as pd"
   ]
  },
  {
   "cell_type": "code",
   "execution_count": 93,
   "metadata": {},
   "outputs": [],
   "source": [
    "df_anscombe = pd.DataFrame(\n",
    "    [[10, 8, 13, 9, 11, 14, 6, 4, 12, 7, 5],\n",
    "     [8.04, 6.95, 7.58, 8.81, 8.33, 9.96, 7.24, 4.26, 10.84, 4.82, 5.68],\n",
    "     [9.14, 8.14, 8.74, 8.77, 9.26, 8.10, 6.13, 3.10, 9.13, 7.26, 4.74],\n",
    "     [7.46, 6.77, 12.74, 7.11, 7.81, 8.84, 6.08, 5.39, 8.15, 6.42, 5.73]]\n",
    ").T\n",
    "\n",
    "df_anscombe.columns = ['x', 'y1', 'y2', 'y3']"
   ]
  },
  {
   "cell_type": "code",
   "execution_count": 94,
   "metadata": {},
   "outputs": [
    {
     "data": {
      "text/html": [
       "<div>\n",
       "<style scoped>\n",
       "    .dataframe tbody tr th:only-of-type {\n",
       "        vertical-align: middle;\n",
       "    }\n",
       "\n",
       "    .dataframe tbody tr th {\n",
       "        vertical-align: top;\n",
       "    }\n",
       "\n",
       "    .dataframe thead th {\n",
       "        text-align: right;\n",
       "    }\n",
       "</style>\n",
       "<table border=\"1\" class=\"dataframe\">\n",
       "  <thead>\n",
       "    <tr style=\"text-align: right;\">\n",
       "      <th></th>\n",
       "      <th>y1</th>\n",
       "      <th>y2</th>\n",
       "      <th>y3</th>\n",
       "    </tr>\n",
       "    <tr>\n",
       "      <th>x</th>\n",
       "      <th></th>\n",
       "      <th></th>\n",
       "      <th></th>\n",
       "    </tr>\n",
       "  </thead>\n",
       "  <tbody>\n",
       "    <tr>\n",
       "      <th>10.0</th>\n",
       "      <td>8.04</td>\n",
       "      <td>9.14</td>\n",
       "      <td>7.46</td>\n",
       "    </tr>\n",
       "    <tr>\n",
       "      <th>8.0</th>\n",
       "      <td>6.95</td>\n",
       "      <td>8.14</td>\n",
       "      <td>6.77</td>\n",
       "    </tr>\n",
       "    <tr>\n",
       "      <th>13.0</th>\n",
       "      <td>7.58</td>\n",
       "      <td>8.74</td>\n",
       "      <td>12.74</td>\n",
       "    </tr>\n",
       "    <tr>\n",
       "      <th>9.0</th>\n",
       "      <td>8.81</td>\n",
       "      <td>8.77</td>\n",
       "      <td>7.11</td>\n",
       "    </tr>\n",
       "    <tr>\n",
       "      <th>11.0</th>\n",
       "      <td>8.33</td>\n",
       "      <td>9.26</td>\n",
       "      <td>7.81</td>\n",
       "    </tr>\n",
       "    <tr>\n",
       "      <th>14.0</th>\n",
       "      <td>9.96</td>\n",
       "      <td>8.10</td>\n",
       "      <td>8.84</td>\n",
       "    </tr>\n",
       "    <tr>\n",
       "      <th>6.0</th>\n",
       "      <td>7.24</td>\n",
       "      <td>6.13</td>\n",
       "      <td>6.08</td>\n",
       "    </tr>\n",
       "    <tr>\n",
       "      <th>4.0</th>\n",
       "      <td>4.26</td>\n",
       "      <td>3.10</td>\n",
       "      <td>5.39</td>\n",
       "    </tr>\n",
       "    <tr>\n",
       "      <th>12.0</th>\n",
       "      <td>10.84</td>\n",
       "      <td>9.13</td>\n",
       "      <td>8.15</td>\n",
       "    </tr>\n",
       "    <tr>\n",
       "      <th>7.0</th>\n",
       "      <td>4.82</td>\n",
       "      <td>7.26</td>\n",
       "      <td>6.42</td>\n",
       "    </tr>\n",
       "    <tr>\n",
       "      <th>5.0</th>\n",
       "      <td>5.68</td>\n",
       "      <td>4.74</td>\n",
       "      <td>5.73</td>\n",
       "    </tr>\n",
       "  </tbody>\n",
       "</table>\n",
       "</div>"
      ],
      "text/plain": [
       "         y1    y2     y3\n",
       "x                       \n",
       "10.0   8.04  9.14   7.46\n",
       "8.0    6.95  8.14   6.77\n",
       "13.0   7.58  8.74  12.74\n",
       "9.0    8.81  8.77   7.11\n",
       "11.0   8.33  9.26   7.81\n",
       "14.0   9.96  8.10   8.84\n",
       "6.0    7.24  6.13   6.08\n",
       "4.0    4.26  3.10   5.39\n",
       "12.0  10.84  9.13   8.15\n",
       "7.0    4.82  7.26   6.42\n",
       "5.0    5.68  4.74   5.73"
      ]
     },
     "execution_count": 94,
     "metadata": {},
     "output_type": "execute_result"
    }
   ],
   "source": [
    "df_anscombe.set_index('x')"
   ]
  },
  {
   "cell_type": "code",
   "execution_count": 95,
   "metadata": {},
   "outputs": [
    {
     "data": {
      "text/html": [
       "<div>\n",
       "<style scoped>\n",
       "    .dataframe tbody tr th:only-of-type {\n",
       "        vertical-align: middle;\n",
       "    }\n",
       "\n",
       "    .dataframe tbody tr th {\n",
       "        vertical-align: top;\n",
       "    }\n",
       "\n",
       "    .dataframe thead th {\n",
       "        text-align: right;\n",
       "    }\n",
       "</style>\n",
       "<table border=\"1\" class=\"dataframe\">\n",
       "  <thead>\n",
       "    <tr style=\"text-align: right;\">\n",
       "      <th></th>\n",
       "      <th>y1</th>\n",
       "      <th>y2</th>\n",
       "      <th>y3</th>\n",
       "    </tr>\n",
       "  </thead>\n",
       "  <tbody>\n",
       "    <tr>\n",
       "      <th>mean</th>\n",
       "      <td>7.500909</td>\n",
       "      <td>7.500909</td>\n",
       "      <td>7.500000</td>\n",
       "    </tr>\n",
       "    <tr>\n",
       "      <th>std</th>\n",
       "      <td>2.031568</td>\n",
       "      <td>2.031657</td>\n",
       "      <td>2.030424</td>\n",
       "    </tr>\n",
       "  </tbody>\n",
       "</table>\n",
       "</div>"
      ],
      "text/plain": [
       "            y1        y2        y3\n",
       "mean  7.500909  7.500909  7.500000\n",
       "std   2.031568  2.031657  2.030424"
      ]
     },
     "execution_count": 95,
     "metadata": {},
     "output_type": "execute_result"
    }
   ],
   "source": [
    "df_anscombe[['y1', 'y2', 'y3']].apply([np.mean, np.std])"
   ]
  },
  {
   "cell_type": "code",
   "execution_count": 96,
   "metadata": {},
   "outputs": [
    {
     "name": "stderr",
     "output_type": "stream",
     "text": [
      "/Users/tarek/anaconda3/envs/scikitbook/lib/python3.6/site-packages/ipykernel_launcher.py:9: UserWarning: Matplotlib is currently using module://ipykernel.pylab.backend_inline, which is a non-GUI backend, so cannot show the figure.\n",
      "  if __name__ == '__main__':\n"
     ]
    },
    {
     "data": {
      "image/png": "[encoded data removed]",
      "text/plain": [
       "<Figure size 1152x360 with 3 Axes>"
      ]
     },
     "metadata": {
      "needs_background": "light"
     },
     "output_type": "display_data"
    }
   ],
   "source": [
    "fig, axs = plt.subplots(1, 3, figsize=(16, 5), sharey=True)\n",
    "\n",
    "for i in range(3):\n",
    "\n",
    "    df_anscombe.plot(\n",
    "        kind='scatter', x='x', y=f'y{i+1}', ax=axs[i]\n",
    "    )\n",
    "    \n",
    "fig.show()"
   ]
  },
  {
   "cell_type": "code",
   "execution_count": 97,
   "metadata": {},
   "outputs": [
    {
     "name": "stdout",
     "output_type": "stream",
     "text": [
      "R2: 0.67, MSE: 1.25, MAE: 0.84,  MdAE: 0.74   @ target=y1\n",
      "R2: 0.67, MSE: 1.25, MAE: 0.97,  MdAE: 0.76   @ target=y2\n",
      "R2: 0.67, MSE: 1.25, MAE: 0.72,  MdAE: 0.39   @ target=y3\n"
     ]
    },
    {
     "data": {
      "image/png": "[encoded data removed]",
      "text/plain": [
       "<Figure size 1152x360 with 3 Axes>"
      ]
     },
     "metadata": {
      "needs_background": "light"
     },
     "output_type": "display_data"
    }
   ],
   "source": [
    "from sklearn.linear_model import LinearRegression\n",
    "from sklearn.metrics import (\n",
    "    mean_squared_error, mean_absolute_error, median_absolute_error, r2_score\n",
    ")\n",
    "\n",
    "fig, axs = plt.subplots(1, 3, figsize=(16, 5), sharey=False)\n",
    "\n",
    "for i, target in enumerate(['y1', 'y2', 'y3']):\n",
    "\n",
    "    reg = LinearRegression()\n",
    "    reg.fit(df_anscombe[['x']], df_anscombe[target])\n",
    "    df_anscombe[f'{target}_pred'] = reg.predict(df_anscombe[['x']])\n",
    "    \n",
    "    df_anscombe.plot(\n",
    "        title=f'{target} vs predicted {target}', kind='scatter', x='x', y=target, ax=axs[i], marker='o', ylim=(0,15), alpha=0.5\n",
    "    )\n",
    "    \n",
    "    # df_anscombe.set_index('x')[f'{target}_pred'].plot(kind='line', ax=axs[i], color='r')\n",
    "    df_anscombe.plot(\n",
    "        kind='scatter', x='x', y=f'{target}_pred', ax=axs[i], marker='*', color='k'\n",
    "    )\n",
    "\n",
    "    \n",
    "    print(\n",
    "        'R2: {:.2f}, MSE: {:.2f}, MAE: {:.2f},  MdAE: {:.2f}   @ target={}'.format(\n",
    "            r2_score(df_anscombe[target], df_anscombe[f'{target}_pred']),\n",
    "            mean_squared_error(df_anscombe[target], df_anscombe[f'{target}_pred']),\n",
    "            mean_absolute_error(df_anscombe[target], df_anscombe[f'{target}_pred']),\n",
    "            median_absolute_error(df_anscombe[target], df_anscombe[f'{target}_pred']),\n",
    "            target\n",
    "        )\n",
    "    )"
   ]
  },
  {
   "cell_type": "code",
   "execution_count": 98,
   "metadata": {},
   "outputs": [
    {
     "name": "stdout",
     "output_type": "stream",
     "text": [
      "MSE: 1.31, MAE: 1.01 @ target=y1\n",
      "MSE: 0.72, MAE: 0.68 @ target=y2\n",
      "MSE: 1.34, MAE: 0.98 @ target=y3\n"
     ]
    },
    {
     "data": {
      "image/png": "[encoded data removed]",
      "text/plain": [
       "<Figure size 1152x360 with 3 Axes>"
      ]
     },
     "metadata": {
      "needs_background": "light"
     },
     "output_type": "display_data"
    }
   ],
   "source": [
    "from sklearn.tree import DecisionTreeRegressor\n",
    "from sklearn.tree import export_text\n",
    "from sklearn.metrics import mean_squared_error, mean_absolute_error\n",
    "\n",
    "fig, axs = plt.subplots(1, 3, figsize=(16, 5), sharey=False)\n",
    "\n",
    "for i, target in enumerate(['y1', 'y2', 'y3']):\n",
    "\n",
    "    reg = DecisionTreeRegressor(max_depth=1)\n",
    "    reg.fit(df_anscombe[['x']], df_anscombe[target])\n",
    "    df_anscombe[f'{target}_pred'] = reg.predict(df_anscombe[['x']])\n",
    "    \n",
    "    df_anscombe.plot(\n",
    "        kind='scatter', x='x', y=target, ax=axs[i], marker='o', ylim=(0,15), alpha=0.5\n",
    "    )\n",
    "    \n",
    "    # df_anscombe.set_index('x')[f'{target}_pred'].plot(kind='line', ax=axs[i], color='r')\n",
    "    df_anscombe.plot(\n",
    "        kind='scatter', x='x', y=f'{target}_pred', ax=axs[i], marker='*', color='k'\n",
    "    )\n",
    "    \n",
    "    print(\n",
    "        'MSE: {:.2f}, MAE: {:.2f} @ target={}'.format(\n",
    "            mean_squared_error(df_anscombe[target], df_anscombe[f'{target}_pred']),\n",
    "            mean_absolute_error(df_anscombe[target], df_anscombe[f'{target}_pred']),\n",
    "            target\n",
    "        )\n",
    "    )"
   ]
  },
  {
   "cell_type": "code",
   "execution_count": 99,
   "metadata": {},
   "outputs": [
    {
     "name": "stdout",
     "output_type": "stream",
     "text": [
      "|--- x <= 12.5\n",
      "|   |--- value: [6.8]\n",
      "|--- x >  12.5\n",
      "|   |--- value: [10.8]\n",
      "\n"
     ]
    }
   ],
   "source": [
    " print(export_text(reg, feature_names=['x'], spacing=3, decimals=1))"
   ]
  },
  {
   "cell_type": "markdown",
   "metadata": {},
   "source": [
    "# Boston Dataset"
   ]
  },
  {
   "cell_type": "code",
   "execution_count": 34,
   "metadata": {},
   "outputs": [],
   "source": [
    "from sklearn.datasets import load_boston\n",
    "\n",
    "boston = load_boston()\n",
    "\n",
    "df_dataset = pd.DataFrame(\n",
    "    boston.data,\n",
    "    columns=boston.feature_names,\n",
    ")\n",
    "\n",
    "df_dataset['target'] = boston.target"
   ]
  },
  {
   "cell_type": "markdown",
   "metadata": {},
   "source": [
    "The next code allows me to switch between 3 different datasets "
   ]
  },
  {
   "cell_type": "code",
   "execution_count": 35,
   "metadata": {},
   "outputs": [],
   "source": [
    "from sklearn.datasets import load_boston, fetch_california_housing, load_diabetes\n",
    "\n",
    "dataset_selection = ['boston', 'california', 'diabetes'][0]\n",
    "\n",
    "if dataset_selection == 'diabetes':\n",
    "    _dataset = load_diabetes()\n",
    "elif dataset_selection == 'boston':\n",
    "    _dataset = load_boston()\n",
    "else:\n",
    "    _dataset = fetch_california_housing()\n",
    "\n",
    "\n",
    "df_dataset = pd.DataFrame(\n",
    "    _dataset.data,\n",
    "    columns=_dataset.feature_names,\n",
    ")\n",
    "\n",
    "df_dataset['target'] = _dataset.target"
   ]
  },
  {
   "cell_type": "code",
   "execution_count": 36,
   "metadata": {},
   "outputs": [
    {
     "name": "stdout",
     "output_type": "stream",
     "text": [
      ".. _boston_dataset:\n",
      "\n",
      "Boston house prices dataset\n",
      "---------------------------\n",
      "\n",
      "**Data Set Characteristics:**  \n",
      "\n",
      "    :Number of Instances: 506 \n",
      "\n",
      "    :Number of Attributes: 13 numeric/categorical predictive. Median Value (attribute 14) is usually the target.\n",
      "\n",
      "    :Attribute Information (in order):\n",
      "        - CRIM     per capita crime rate by town\n",
      "        - ZN       proportion of residential land zoned for lots over 25,000 sq.ft.\n",
      "        - INDUS    proportion of non-retail business acres per town\n",
      "        - CHAS     Charles River dummy variable (= 1 if tract bounds river; 0 otherwise)\n",
      "        - NOX      nitric oxides concentration (parts per 10 million)\n",
      "        - RM       average number of rooms per dwelling\n",
      "        - AGE      proportion of owner-occupied units built prior to 1940\n",
      "        - DIS      weighted distances to five Boston employment centres\n",
      "        - RAD      index of accessibility to radial highways\n",
      "        - TAX      full-value property-tax rate per $10,000\n",
      "        - PTRATIO  pupil-teacher ratio by town\n",
      "        - B        1000(Bk - 0.63)^2 where Bk is the proportion of blacks by town\n",
      "        - LSTAT    % lower status of the population\n",
      "        - MEDV     Median value of owner-occupied homes in $1000's\n",
      "\n",
      "    :Missing Attribute Values: None\n",
      "\n",
      "    :Creator: Harrison, D. and Rubinfeld, D.L.\n",
      "\n",
      "This is a copy of UCI ML housing dataset.\n",
      "https://archive.ics.uci.edu/ml/machine-learning-databases/housing/\n",
      "\n",
      "\n",
      "This dataset was taken from the StatLib library which is maintained at Carnegie Mellon University.\n",
      "\n",
      "The Boston house-price data of Harrison, D. and Rubinfeld, D.L. 'Hedonic\n",
      "prices and the demand for clean air', J. Environ. Economics & Management,\n",
      "vol.5, 81-102, 1978.   Used in Belsley, Kuh & Welsch, 'Regression diagnostics\n",
      "...', Wiley, 1980.   N.B. Various transformations are used in the table on\n",
      "pages 244-261 of the latter.\n",
      "\n",
      "The Boston house-price data has been used in many machine learning papers that address regression\n",
      "problems.   \n",
      "     \n",
      ".. topic:: References\n",
      "\n",
      "   - Belsley, Kuh & Welsch, 'Regression diagnostics: Identifying Influential Data and Sources of Collinearity', Wiley, 1980. 244-261.\n",
      "   - Quinlan,R. (1993). Combining Instance-Based and Model-Based Learning. In Proceedings on the Tenth International Conference of Machine Learning, 236-243, University of Massachusetts, Amherst. Morgan Kaufmann.\n",
      "\n"
     ]
    }
   ],
   "source": [
    "print(_dataset.DESCR)"
   ]
  },
  {
   "cell_type": "code",
   "execution_count": 37,
   "metadata": {},
   "outputs": [
    {
     "data": {
      "text/html": [
       "<div>\n",
       "<style scoped>\n",
       "    .dataframe tbody tr th:only-of-type {\n",
       "        vertical-align: middle;\n",
       "    }\n",
       "\n",
       "    .dataframe tbody tr th {\n",
       "        vertical-align: top;\n",
       "    }\n",
       "\n",
       "    .dataframe thead th {\n",
       "        text-align: right;\n",
       "    }\n",
       "</style>\n",
       "<table border=\"1\" class=\"dataframe\">\n",
       "  <thead>\n",
       "    <tr style=\"text-align: right;\">\n",
       "      <th></th>\n",
       "      <th>CRIM</th>\n",
       "      <th>ZN</th>\n",
       "      <th>INDUS</th>\n",
       "      <th>CHAS</th>\n",
       "      <th>NOX</th>\n",
       "      <th>RM</th>\n",
       "      <th>AGE</th>\n",
       "      <th>DIS</th>\n",
       "      <th>RAD</th>\n",
       "      <th>TAX</th>\n",
       "      <th>PTRATIO</th>\n",
       "      <th>B</th>\n",
       "      <th>LSTAT</th>\n",
       "      <th>target</th>\n",
       "    </tr>\n",
       "  </thead>\n",
       "  <tbody>\n",
       "    <tr>\n",
       "      <th>0</th>\n",
       "      <td>0.00632</td>\n",
       "      <td>18.0</td>\n",
       "      <td>2.31</td>\n",
       "      <td>0.0</td>\n",
       "      <td>0.538</td>\n",
       "      <td>6.575</td>\n",
       "      <td>65.2</td>\n",
       "      <td>4.0900</td>\n",
       "      <td>1.0</td>\n",
       "      <td>296.0</td>\n",
       "      <td>15.3</td>\n",
       "      <td>396.90</td>\n",
       "      <td>4.98</td>\n",
       "      <td>24.0</td>\n",
       "    </tr>\n",
       "    <tr>\n",
       "      <th>1</th>\n",
       "      <td>0.02731</td>\n",
       "      <td>0.0</td>\n",
       "      <td>7.07</td>\n",
       "      <td>0.0</td>\n",
       "      <td>0.469</td>\n",
       "      <td>6.421</td>\n",
       "      <td>78.9</td>\n",
       "      <td>4.9671</td>\n",
       "      <td>2.0</td>\n",
       "      <td>242.0</td>\n",
       "      <td>17.8</td>\n",
       "      <td>396.90</td>\n",
       "      <td>9.14</td>\n",
       "      <td>21.6</td>\n",
       "    </tr>\n",
       "    <tr>\n",
       "      <th>2</th>\n",
       "      <td>0.02729</td>\n",
       "      <td>0.0</td>\n",
       "      <td>7.07</td>\n",
       "      <td>0.0</td>\n",
       "      <td>0.469</td>\n",
       "      <td>7.185</td>\n",
       "      <td>61.1</td>\n",
       "      <td>4.9671</td>\n",
       "      <td>2.0</td>\n",
       "      <td>242.0</td>\n",
       "      <td>17.8</td>\n",
       "      <td>392.83</td>\n",
       "      <td>4.03</td>\n",
       "      <td>34.7</td>\n",
       "    </tr>\n",
       "    <tr>\n",
       "      <th>3</th>\n",
       "      <td>0.03237</td>\n",
       "      <td>0.0</td>\n",
       "      <td>2.18</td>\n",
       "      <td>0.0</td>\n",
       "      <td>0.458</td>\n",
       "      <td>6.998</td>\n",
       "      <td>45.8</td>\n",
       "      <td>6.0622</td>\n",
       "      <td>3.0</td>\n",
       "      <td>222.0</td>\n",
       "      <td>18.7</td>\n",
       "      <td>394.63</td>\n",
       "      <td>2.94</td>\n",
       "      <td>33.4</td>\n",
       "    </tr>\n",
       "    <tr>\n",
       "      <th>4</th>\n",
       "      <td>0.06905</td>\n",
       "      <td>0.0</td>\n",
       "      <td>2.18</td>\n",
       "      <td>0.0</td>\n",
       "      <td>0.458</td>\n",
       "      <td>7.147</td>\n",
       "      <td>54.2</td>\n",
       "      <td>6.0622</td>\n",
       "      <td>3.0</td>\n",
       "      <td>222.0</td>\n",
       "      <td>18.7</td>\n",
       "      <td>396.90</td>\n",
       "      <td>5.33</td>\n",
       "      <td>36.2</td>\n",
       "    </tr>\n",
       "  </tbody>\n",
       "</table>\n",
       "</div>"
      ],
      "text/plain": [
       "      CRIM    ZN  INDUS  CHAS    NOX     RM   AGE     DIS  RAD    TAX  \\\n",
       "0  0.00632  18.0   2.31   0.0  0.538  6.575  65.2  4.0900  1.0  296.0   \n",
       "1  0.02731   0.0   7.07   0.0  0.469  6.421  78.9  4.9671  2.0  242.0   \n",
       "2  0.02729   0.0   7.07   0.0  0.469  7.185  61.1  4.9671  2.0  242.0   \n",
       "3  0.03237   0.0   2.18   0.0  0.458  6.998  45.8  6.0622  3.0  222.0   \n",
       "4  0.06905   0.0   2.18   0.0  0.458  7.147  54.2  6.0622  3.0  222.0   \n",
       "\n",
       "   PTRATIO       B  LSTAT  target  \n",
       "0     15.3  396.90   4.98    24.0  \n",
       "1     17.8  396.90   9.14    21.6  \n",
       "2     17.8  392.83   4.03    34.7  \n",
       "3     18.7  394.63   2.94    33.4  \n",
       "4     18.7  396.90   5.33    36.2  "
      ]
     },
     "execution_count": 37,
     "metadata": {},
     "output_type": "execute_result"
    }
   ],
   "source": [
    "df_dataset.head()"
   ]
  },
  {
   "cell_type": "code",
   "execution_count": 38,
   "metadata": {},
   "outputs": [
    {
     "data": {
      "text/plain": [
       "CRIM         3.613524\n",
       "ZN          11.363636\n",
       "INDUS       11.136779\n",
       "CHAS         0.069170\n",
       "NOX          0.554695\n",
       "RM           6.284634\n",
       "AGE         68.574901\n",
       "DIS          3.795043\n",
       "RAD          9.549407\n",
       "TAX        408.237154\n",
       "PTRATIO     18.455534\n",
       "B          356.674032\n",
       "LSTAT       12.653063\n",
       "dtype: float64"
      ]
     },
     "execution_count": 38,
     "metadata": {},
     "output_type": "execute_result"
    }
   ],
   "source": [
    "df_dataset[boston.feature_names].mean()"
   ]
  },
  {
   "cell_type": "markdown",
   "metadata": {},
   "source": [
    "## Data Exploration"
   ]
  },
  {
   "cell_type": "code",
   "execution_count": 100,
   "metadata": {},
   "outputs": [
    {
     "data": {
      "text/plain": [
       "0"
      ]
     },
     "execution_count": 100,
     "metadata": {},
     "output_type": "execute_result"
    }
   ],
   "source": [
    "# Checking if we have null values \n",
    "\n",
    "df_dataset.isnull().sum().sum()"
   ]
  },
  {
   "cell_type": "code",
   "execution_count": 101,
   "metadata": {},
   "outputs": [
    {
     "data": {
      "text/plain": [
       "count    506.000000\n",
       "mean      22.532806\n",
       "std        9.197104\n",
       "min        5.000000\n",
       "50%       21.200000\n",
       "90%       34.800000\n",
       "95%       43.400000\n",
       "99%       50.000000\n",
       "max       50.000000\n",
       "Name: target, dtype: float64"
      ]
     },
     "execution_count": 101,
     "metadata": {},
     "output_type": "execute_result"
    }
   ],
   "source": [
    "# Checking the target's distribution\n",
    "\n",
    "df_dataset['target'].describe(percentiles=[.9, .95, .99])"
   ]
  },
  {
   "cell_type": "code",
   "execution_count": 102,
   "metadata": {},
   "outputs": [
    {
     "data": {
      "text/html": [
       "<div>\n",
       "<style scoped>\n",
       "    .dataframe tbody tr th:only-of-type {\n",
       "        vertical-align: middle;\n",
       "    }\n",
       "\n",
       "    .dataframe tbody tr th {\n",
       "        vertical-align: top;\n",
       "    }\n",
       "\n",
       "    .dataframe thead th {\n",
       "        text-align: right;\n",
       "    }\n",
       "</style>\n",
       "<table border=\"1\" class=\"dataframe\">\n",
       "  <thead>\n",
       "    <tr style=\"text-align: right;\">\n",
       "      <th></th>\n",
       "      <th>count</th>\n",
       "      <th>mean</th>\n",
       "      <th>std</th>\n",
       "      <th>min</th>\n",
       "      <th>25%</th>\n",
       "      <th>50%</th>\n",
       "      <th>75%</th>\n",
       "      <th>max</th>\n",
       "    </tr>\n",
       "  </thead>\n",
       "  <tbody>\n",
       "    <tr>\n",
       "      <th>CRIM</th>\n",
       "      <td>506.0</td>\n",
       "      <td>3.613524</td>\n",
       "      <td>8.601545</td>\n",
       "      <td>0.00632</td>\n",
       "      <td>0.082045</td>\n",
       "      <td>0.25651</td>\n",
       "      <td>3.677083</td>\n",
       "      <td>88.9762</td>\n",
       "    </tr>\n",
       "    <tr>\n",
       "      <th>ZN</th>\n",
       "      <td>506.0</td>\n",
       "      <td>11.363636</td>\n",
       "      <td>23.322453</td>\n",
       "      <td>0.00000</td>\n",
       "      <td>0.000000</td>\n",
       "      <td>0.00000</td>\n",
       "      <td>12.500000</td>\n",
       "      <td>100.0000</td>\n",
       "    </tr>\n",
       "    <tr>\n",
       "      <th>INDUS</th>\n",
       "      <td>506.0</td>\n",
       "      <td>11.136779</td>\n",
       "      <td>6.860353</td>\n",
       "      <td>0.46000</td>\n",
       "      <td>5.190000</td>\n",
       "      <td>9.69000</td>\n",
       "      <td>18.100000</td>\n",
       "      <td>27.7400</td>\n",
       "    </tr>\n",
       "    <tr>\n",
       "      <th>CHAS</th>\n",
       "      <td>506.0</td>\n",
       "      <td>0.069170</td>\n",
       "      <td>0.253994</td>\n",
       "      <td>0.00000</td>\n",
       "      <td>0.000000</td>\n",
       "      <td>0.00000</td>\n",
       "      <td>0.000000</td>\n",
       "      <td>1.0000</td>\n",
       "    </tr>\n",
       "    <tr>\n",
       "      <th>NOX</th>\n",
       "      <td>506.0</td>\n",
       "      <td>0.554695</td>\n",
       "      <td>0.115878</td>\n",
       "      <td>0.38500</td>\n",
       "      <td>0.449000</td>\n",
       "      <td>0.53800</td>\n",
       "      <td>0.624000</td>\n",
       "      <td>0.8710</td>\n",
       "    </tr>\n",
       "    <tr>\n",
       "      <th>RM</th>\n",
       "      <td>506.0</td>\n",
       "      <td>6.284634</td>\n",
       "      <td>0.702617</td>\n",
       "      <td>3.56100</td>\n",
       "      <td>5.885500</td>\n",
       "      <td>6.20850</td>\n",
       "      <td>6.623500</td>\n",
       "      <td>8.7800</td>\n",
       "    </tr>\n",
       "    <tr>\n",
       "      <th>AGE</th>\n",
       "      <td>506.0</td>\n",
       "      <td>68.574901</td>\n",
       "      <td>28.148861</td>\n",
       "      <td>2.90000</td>\n",
       "      <td>45.025000</td>\n",
       "      <td>77.50000</td>\n",
       "      <td>94.075000</td>\n",
       "      <td>100.0000</td>\n",
       "    </tr>\n",
       "    <tr>\n",
       "      <th>DIS</th>\n",
       "      <td>506.0</td>\n",
       "      <td>3.795043</td>\n",
       "      <td>2.105710</td>\n",
       "      <td>1.12960</td>\n",
       "      <td>2.100175</td>\n",
       "      <td>3.20745</td>\n",
       "      <td>5.188425</td>\n",
       "      <td>12.1265</td>\n",
       "    </tr>\n",
       "    <tr>\n",
       "      <th>RAD</th>\n",
       "      <td>506.0</td>\n",
       "      <td>9.549407</td>\n",
       "      <td>8.707259</td>\n",
       "      <td>1.00000</td>\n",
       "      <td>4.000000</td>\n",
       "      <td>5.00000</td>\n",
       "      <td>24.000000</td>\n",
       "      <td>24.0000</td>\n",
       "    </tr>\n",
       "    <tr>\n",
       "      <th>TAX</th>\n",
       "      <td>506.0</td>\n",
       "      <td>408.237154</td>\n",
       "      <td>168.537116</td>\n",
       "      <td>187.00000</td>\n",
       "      <td>279.000000</td>\n",
       "      <td>330.00000</td>\n",
       "      <td>666.000000</td>\n",
       "      <td>711.0000</td>\n",
       "    </tr>\n",
       "    <tr>\n",
       "      <th>PTRATIO</th>\n",
       "      <td>506.0</td>\n",
       "      <td>18.455534</td>\n",
       "      <td>2.164946</td>\n",
       "      <td>12.60000</td>\n",
       "      <td>17.400000</td>\n",
       "      <td>19.05000</td>\n",
       "      <td>20.200000</td>\n",
       "      <td>22.0000</td>\n",
       "    </tr>\n",
       "    <tr>\n",
       "      <th>B</th>\n",
       "      <td>506.0</td>\n",
       "      <td>356.674032</td>\n",
       "      <td>91.294864</td>\n",
       "      <td>0.32000</td>\n",
       "      <td>375.377500</td>\n",
       "      <td>391.44000</td>\n",
       "      <td>396.225000</td>\n",
       "      <td>396.9000</td>\n",
       "    </tr>\n",
       "    <tr>\n",
       "      <th>LSTAT</th>\n",
       "      <td>506.0</td>\n",
       "      <td>12.653063</td>\n",
       "      <td>7.141062</td>\n",
       "      <td>1.73000</td>\n",
       "      <td>6.950000</td>\n",
       "      <td>11.36000</td>\n",
       "      <td>16.955000</td>\n",
       "      <td>37.9700</td>\n",
       "    </tr>\n",
       "  </tbody>\n",
       "</table>\n",
       "</div>"
      ],
      "text/plain": [
       "         count        mean         std        min         25%        50%  \\\n",
       "CRIM     506.0    3.613524    8.601545    0.00632    0.082045    0.25651   \n",
       "ZN       506.0   11.363636   23.322453    0.00000    0.000000    0.00000   \n",
       "INDUS    506.0   11.136779    6.860353    0.46000    5.190000    9.69000   \n",
       "CHAS     506.0    0.069170    0.253994    0.00000    0.000000    0.00000   \n",
       "NOX      506.0    0.554695    0.115878    0.38500    0.449000    0.53800   \n",
       "RM       506.0    6.284634    0.702617    3.56100    5.885500    6.20850   \n",
       "AGE      506.0   68.574901   28.148861    2.90000   45.025000   77.50000   \n",
       "DIS      506.0    3.795043    2.105710    1.12960    2.100175    3.20745   \n",
       "RAD      506.0    9.549407    8.707259    1.00000    4.000000    5.00000   \n",
       "TAX      506.0  408.237154  168.537116  187.00000  279.000000  330.00000   \n",
       "PTRATIO  506.0   18.455534    2.164946   12.60000   17.400000   19.05000   \n",
       "B        506.0  356.674032   91.294864    0.32000  375.377500  391.44000   \n",
       "LSTAT    506.0   12.653063    7.141062    1.73000    6.950000   11.36000   \n",
       "\n",
       "                75%       max  \n",
       "CRIM       3.677083   88.9762  \n",
       "ZN        12.500000  100.0000  \n",
       "INDUS     18.100000   27.7400  \n",
       "CHAS       0.000000    1.0000  \n",
       "NOX        0.624000    0.8710  \n",
       "RM         6.623500    8.7800  \n",
       "AGE       94.075000  100.0000  \n",
       "DIS        5.188425   12.1265  \n",
       "RAD       24.000000   24.0000  \n",
       "TAX      666.000000  711.0000  \n",
       "PTRATIO   20.200000   22.0000  \n",
       "B        396.225000  396.9000  \n",
       "LSTAT     16.955000   37.9700  "
      ]
     },
     "execution_count": 102,
     "metadata": {},
     "output_type": "execute_result"
    }
   ],
   "source": [
    "# Understanding the loaded features \n",
    "\n",
    "df_dataset[boston.feature_names].describe().T"
   ]
  },
  {
   "cell_type": "code",
   "execution_count": 42,
   "metadata": {},
   "outputs": [
    {
     "name": "stderr",
     "output_type": "stream",
     "text": [
      "/Users/tarek/anaconda3/envs/scikitbook/lib/python3.6/site-packages/ipykernel_launcher.py:8: UserWarning: Matplotlib is currently using module://ipykernel.pylab.backend_inline, which is a non-GUI backend, so cannot show the figure.\n",
      "  \n"
     ]
    },
    {
     "data": {
      "image/png": "[encoded data removed]",
      "text/plain": [
       "<Figure size 1152x576 with 2 Axes>"
      ]
     },
     "metadata": {
      "needs_background": "light"
     },
     "output_type": "display_data"
    }
   ],
   "source": [
    "fig, axs = plt.subplots(1, 2, figsize=(16, 8))\n",
    "\n",
    "df_dataset['target'].plot(title='Distribution of target prices', kind='hist', ax=axs[0])\n",
    "\n",
    "df_dataset[boston.feature_names].mean().plot(title='Mean of features', kind='bar', ax=axs[1])\n",
    "\n",
    "\n",
    "fig.show()"
   ]
  },
  {
   "cell_type": "markdown",
   "metadata": {},
   "source": [
    "## Correlation Plot"
   ]
  },
  {
   "cell_type": "code",
   "execution_count": 43,
   "metadata": {},
   "outputs": [
    {
     "name": "stderr",
     "output_type": "stream",
     "text": [
      "/Users/tarek/anaconda3/envs/scikitbook/lib/python3.6/site-packages/ipykernel_launcher.py:9: UserWarning: Matplotlib is currently using module://ipykernel.pylab.backend_inline, which is a non-GUI backend, so cannot show the figure.\n",
      "  if __name__ == '__main__':\n"
     ]
    },
    {
     "data": {
      "image/png": "[encoded data removed]",
      "text/plain": [
       "<Figure size 1152x576 with 2 Axes>"
      ]
     },
     "metadata": {
      "needs_background": "light"
     },
     "output_type": "display_data"
    }
   ],
   "source": [
    "import seaborn as sns \n",
    "\n",
    "fig, ax = plt.subplots(1, 1, figsize=(16, 8))\n",
    "\n",
    "sns.heatmap(data=df_dataset.corr().abs().round(2), annot=True, cmap=\"YlGnBu\", center=0.5, ax=ax)\n",
    "\n",
    "fig.show()"
   ]
  },
  {
   "cell_type": "markdown",
   "metadata": {},
   "source": [
    "## Splitting the Dataset"
   ]
  },
  {
   "cell_type": "code",
   "execution_count": 110,
   "metadata": {},
   "outputs": [],
   "source": [
    "from sklearn.model_selection import train_test_split\n",
    "\n",
    "df_train, df_test = train_test_split(df_dataset, test_size=0.4)\n",
    "\n",
    "x_train = df_train[_dataset.feature_names]\n",
    "x_test  = df_test[_dataset.feature_names]\n",
    "\n",
    "y_train = df_train['target']\n",
    "y_test  = df_test['target']"
   ]
  },
  {
   "cell_type": "code",
   "execution_count": 111,
   "metadata": {},
   "outputs": [
    {
     "data": {
      "text/plain": [
       "(22.532806324110677, 22.21023102310231, 23.014285714285716)"
      ]
     },
     "execution_count": 111,
     "metadata": {},
     "output_type": "execute_result"
    }
   ],
   "source": [
    "df_dataset['target'].mean(), df_train['target'].mean(), df_test['target'].mean()"
   ]
  },
  {
   "cell_type": "code",
   "execution_count": 112,
   "metadata": {},
   "outputs": [
    {
     "data": {
      "text/plain": [
       "(21.2, 21.1, 21.6)"
      ]
     },
     "execution_count": 112,
     "metadata": {},
     "output_type": "execute_result"
    }
   ],
   "source": [
    "df_dataset['target'].median(), df_train['target'].median(), df_test['target'].median()"
   ]
  },
  {
   "cell_type": "markdown",
   "metadata": {},
   "source": [
    "## Baseline Regressor"
   ]
  },
  {
   "cell_type": "code",
   "execution_count": 113,
   "metadata": {},
   "outputs": [],
   "source": [
    "from sklearn.dummy import DummyRegressor\n",
    "\n",
    "baselin = DummyRegressor(strategy='mean')\n",
    "baselin.fit(x_train, y_train)\n",
    "\n",
    "y_test_baselin = baselin.predict(x_test)"
   ]
  },
  {
   "cell_type": "code",
   "execution_count": 114,
   "metadata": {},
   "outputs": [
    {
     "data": {
      "text/plain": [
       "array([22.21023102, 22.21023102, 22.21023102, 22.21023102, 22.21023102])"
      ]
     },
     "execution_count": 114,
     "metadata": {},
     "output_type": "execute_result"
    }
   ],
   "source": [
    "y_test_baselin[:5]"
   ]
  },
  {
   "cell_type": "markdown",
   "metadata": {},
   "source": [
    "## Linear Regressor"
   ]
  },
  {
   "cell_type": "code",
   "execution_count": 115,
   "metadata": {},
   "outputs": [],
   "source": [
    "from sklearn.linear_model import LinearRegression\n",
    "\n",
    "reg = LinearRegression()\n",
    "reg.fit(x_train, y_train)\n",
    "\n",
    "y_test_pred = reg.predict(x_test)"
   ]
  },
  {
   "cell_type": "markdown",
   "metadata": {},
   "source": [
    "## Comparing our Linear Regression to the baseline model"
   ]
  },
  {
   "cell_type": "code",
   "execution_count": 116,
   "metadata": {},
   "outputs": [
    {
     "name": "stdout",
     "output_type": "stream",
     "text": [
      "R2 Regressor = 0.71 vs Baseline = -0.01\n",
      "MAE Regressor = 3.88 vs Baseline = 6.89\n",
      "MSE Regressor = 28.83 vs Baseline = 99.15\n"
     ]
    }
   ],
   "source": [
    "from sklearn.metrics import mean_absolute_error\n",
    "from sklearn.metrics import mean_squared_error\n",
    "from sklearn.metrics import r2_score\n",
    "\n",
    "print(\n",
    "    'R2 Regressor = {:.2f} vs Baseline = {:.2f}'.format(\n",
    "        r2_score(y_test, y_test_pred), \n",
    "        r2_score(y_test, y_test_baselin)\n",
    "    )\n",
    ")\n",
    "print(\n",
    "    'MAE Regressor = {:.2f} vs Baseline = {:.2f}'.format(\n",
    "        mean_absolute_error(y_test, y_test_pred), \n",
    "        mean_absolute_error(y_test, y_test_baselin)\n",
    "    )\n",
    ")\n",
    "\n",
    "print(\n",
    "    'MSE Regressor = {:.2f} vs Baseline = {:.2f}'.format(\n",
    "        mean_squared_error(y_test, y_test_pred), \n",
    "        mean_squared_error(y_test, y_test_baselin)\n",
    "    )\n",
    ")\n"
   ]
  },
  {
   "cell_type": "code",
   "execution_count": 117,
   "metadata": {},
   "outputs": [
    {
     "data": {
      "text/html": [
       "<div>\n",
       "<style scoped>\n",
       "    .dataframe tbody tr th:only-of-type {\n",
       "        vertical-align: middle;\n",
       "    }\n",
       "\n",
       "    .dataframe tbody tr th {\n",
       "        vertical-align: top;\n",
       "    }\n",
       "\n",
       "    .dataframe thead th {\n",
       "        text-align: right;\n",
       "    }\n",
       "</style>\n",
       "<table border=\"1\" class=\"dataframe\">\n",
       "  <thead>\n",
       "    <tr style=\"text-align: right;\">\n",
       "      <th></th>\n",
       "      <th>Coeff</th>\n",
       "      <th>ABS(Coeff)</th>\n",
       "    </tr>\n",
       "    <tr>\n",
       "      <th>Features</th>\n",
       "      <th></th>\n",
       "      <th></th>\n",
       "    </tr>\n",
       "  </thead>\n",
       "  <tbody>\n",
       "    <tr>\n",
       "      <th>CHAS</th>\n",
       "      <td>3.523780</td>\n",
       "      <td>3.523780</td>\n",
       "    </tr>\n",
       "    <tr>\n",
       "      <th>RM</th>\n",
       "      <td>2.138745</td>\n",
       "      <td>2.138745</td>\n",
       "    </tr>\n",
       "    <tr>\n",
       "      <th>RAD</th>\n",
       "      <td>0.269508</td>\n",
       "      <td>0.269508</td>\n",
       "    </tr>\n",
       "    <tr>\n",
       "      <th>ZN</th>\n",
       "      <td>0.055773</td>\n",
       "      <td>0.055773</td>\n",
       "    </tr>\n",
       "    <tr>\n",
       "      <th>B</th>\n",
       "      <td>0.012082</td>\n",
       "      <td>0.012082</td>\n",
       "    </tr>\n",
       "    <tr>\n",
       "      <th>AGE</th>\n",
       "      <td>0.003247</td>\n",
       "      <td>0.003247</td>\n",
       "    </tr>\n",
       "    <tr>\n",
       "      <th>TAX</th>\n",
       "      <td>-0.010670</td>\n",
       "      <td>0.010670</td>\n",
       "    </tr>\n",
       "    <tr>\n",
       "      <th>CRIM</th>\n",
       "      <td>-0.013802</td>\n",
       "      <td>0.013802</td>\n",
       "    </tr>\n",
       "    <tr>\n",
       "      <th>INDUS</th>\n",
       "      <td>-0.018162</td>\n",
       "      <td>0.018162</td>\n",
       "    </tr>\n",
       "    <tr>\n",
       "      <th>LSTAT</th>\n",
       "      <td>-0.641409</td>\n",
       "      <td>0.641409</td>\n",
       "    </tr>\n",
       "    <tr>\n",
       "      <th>PTRATIO</th>\n",
       "      <td>-0.848058</td>\n",
       "      <td>0.848058</td>\n",
       "    </tr>\n",
       "    <tr>\n",
       "      <th>DIS</th>\n",
       "      <td>-1.440938</td>\n",
       "      <td>1.440938</td>\n",
       "    </tr>\n",
       "    <tr>\n",
       "      <th>NOX</th>\n",
       "      <td>-15.764323</td>\n",
       "      <td>15.764323</td>\n",
       "    </tr>\n",
       "  </tbody>\n",
       "</table>\n",
       "</div>"
      ],
      "text/plain": [
       "              Coeff  ABS(Coeff)\n",
       "Features                       \n",
       "CHAS       3.523780    3.523780\n",
       "RM         2.138745    2.138745\n",
       "RAD        0.269508    0.269508\n",
       "ZN         0.055773    0.055773\n",
       "B          0.012082    0.012082\n",
       "AGE        0.003247    0.003247\n",
       "TAX       -0.010670    0.010670\n",
       "CRIM      -0.013802    0.013802\n",
       "INDUS     -0.018162    0.018162\n",
       "LSTAT     -0.641409    0.641409\n",
       "PTRATIO   -0.848058    0.848058\n",
       "DIS       -1.440938    1.440938\n",
       "NOX      -15.764323   15.764323"
      ]
     },
     "execution_count": 117,
     "metadata": {},
     "output_type": "execute_result"
    }
   ],
   "source": [
    "df_feature_importance = pd.DataFrame(\n",
    "    {\n",
    "        'Features': x_train.columns,\n",
    "        'Coeff': reg.coef_,\n",
    "        'ABS(Coeff)': abs(reg.coef_),\n",
    "    }\n",
    ").set_index('Features').sort_values('Coeff', ascending=False)\n",
    "\n",
    "df_feature_importance"
   ]
  },
  {
   "cell_type": "code",
   "execution_count": 118,
   "metadata": {},
   "outputs": [
    {
     "name": "stderr",
     "output_type": "stream",
     "text": [
      "/Users/tarek/anaconda3/envs/scikitbook/lib/python3.6/site-packages/ipykernel_launcher.py:16: UserWarning: Matplotlib is currently using module://ipykernel.pylab.backend_inline, which is a non-GUI backend, so cannot show the figure.\n",
      "  app.launch_new_instance()\n"
     ]
    },
    {
     "data": {
      "image/png": "[encoded data removed]",
      "text/plain": [
       "<Figure size 1152x360 with 6 Axes>"
      ]
     },
     "metadata": {
      "needs_background": "light"
     },
     "output_type": "display_data"
    }
   ],
   "source": [
    "important_featurs = df_feature_importance.sort_values('ABS(Coeff)', ascending=False).index.tolist()[:6]\n",
    "\n",
    "fig, axs = plt.subplots(1, len(important_featurs), figsize=(16, 5), sharey=True)\n",
    "\n",
    "fig.suptitle(\"Featurs vs Target\", fontsize=14)\n",
    "\n",
    "for i, feature in enumerate(important_featurs):\n",
    "\n",
    "    df_dataset.plot(\n",
    "        kind='scatter',\n",
    "        x=feature,\n",
    "        y='target',\n",
    "        ax=axs[i]\n",
    "    )\n",
    "\n",
    "fig.show()"
   ]
  },
  {
   "cell_type": "code",
   "execution_count": 119,
   "metadata": {},
   "outputs": [],
   "source": [
    "from sklearn.linear_model import LinearRegression\n",
    "from sklearn.preprocessing import MinMaxScaler\n",
    "\n",
    "scaler = MinMaxScaler()\n",
    "reg = LinearRegression()\n",
    "\n",
    "scaler.fit(x_train) \n",
    "x_train_scaled = scaler.transform(x_train)\n",
    "x_test_scaled = scaler.transform(x_test)\n",
    "\n",
    "reg.fit(x_train_scaled, y_train)\n",
    "\n",
    "y_test_pred = reg.predict(x_test_scaled)"
   ]
  },
  {
   "cell_type": "code",
   "execution_count": 120,
   "metadata": {},
   "outputs": [
    {
     "name": "stdout",
     "output_type": "stream",
     "text": [
      "R2 Regressor = 0.71 vs Baseline = -0.01\n",
      "MAE Regressor = 3.88 vs Baseline = 6.89\n",
      "MSE Regressor = 28.83 vs Baseline = 99.15\n"
     ]
    }
   ],
   "source": [
    "from sklearn.metrics import mean_absolute_error\n",
    "from sklearn.metrics import mean_squared_error\n",
    "from sklearn.metrics import r2_score\n",
    "\n",
    "print(\n",
    "    'R2 Regressor = {:.2f} vs Baseline = {:.2f}'.format(\n",
    "        r2_score(y_test, y_test_pred), \n",
    "        r2_score(y_test, y_test_baselin)\n",
    "    )\n",
    ")\n",
    "print(\n",
    "    'MAE Regressor = {:.2f} vs Baseline = {:.2f}'.format(\n",
    "        mean_absolute_error(y_test, y_test_pred), \n",
    "        mean_absolute_error(y_test, y_test_baselin)\n",
    "    )\n",
    ")\n",
    "\n",
    "print(\n",
    "    'MSE Regressor = {:.2f} vs Baseline = {:.2f}'.format(\n",
    "        mean_squared_error(y_test, y_test_pred), \n",
    "        mean_squared_error(y_test, y_test_baselin)\n",
    "    )\n",
    ")\n"
   ]
  },
  {
   "cell_type": "code",
   "execution_count": 121,
   "metadata": {},
   "outputs": [
    {
     "data": {
      "text/html": [
       "<div>\n",
       "<style scoped>\n",
       "    .dataframe tbody tr th:only-of-type {\n",
       "        vertical-align: middle;\n",
       "    }\n",
       "\n",
       "    .dataframe tbody tr th {\n",
       "        vertical-align: top;\n",
       "    }\n",
       "\n",
       "    .dataframe thead th {\n",
       "        text-align: right;\n",
       "    }\n",
       "</style>\n",
       "<table border=\"1\" class=\"dataframe\">\n",
       "  <thead>\n",
       "    <tr style=\"text-align: right;\">\n",
       "      <th></th>\n",
       "      <th>Coeff</th>\n",
       "      <th>ABS(Coeff)</th>\n",
       "    </tr>\n",
       "    <tr>\n",
       "      <th>Features</th>\n",
       "      <th></th>\n",
       "      <th></th>\n",
       "    </tr>\n",
       "  </thead>\n",
       "  <tbody>\n",
       "    <tr>\n",
       "      <th>RM</th>\n",
       "      <td>11.162109</td>\n",
       "      <td>11.162109</td>\n",
       "    </tr>\n",
       "    <tr>\n",
       "      <th>RAD</th>\n",
       "      <td>6.198673</td>\n",
       "      <td>6.198673</td>\n",
       "    </tr>\n",
       "    <tr>\n",
       "      <th>ZN</th>\n",
       "      <td>5.577348</td>\n",
       "      <td>5.577348</td>\n",
       "    </tr>\n",
       "    <tr>\n",
       "      <th>B</th>\n",
       "      <td>4.791642</td>\n",
       "      <td>4.791642</td>\n",
       "    </tr>\n",
       "    <tr>\n",
       "      <th>CHAS</th>\n",
       "      <td>3.523780</td>\n",
       "      <td>3.523780</td>\n",
       "    </tr>\n",
       "    <tr>\n",
       "      <th>AGE</th>\n",
       "      <td>0.315264</td>\n",
       "      <td>0.315264</td>\n",
       "    </tr>\n",
       "    <tr>\n",
       "      <th>INDUS</th>\n",
       "      <td>-0.495453</td>\n",
       "      <td>0.495453</td>\n",
       "    </tr>\n",
       "    <tr>\n",
       "      <th>CRIM</th>\n",
       "      <td>-1.014823</td>\n",
       "      <td>1.014823</td>\n",
       "    </tr>\n",
       "    <tr>\n",
       "      <th>TAX</th>\n",
       "      <td>-5.580194</td>\n",
       "      <td>5.580194</td>\n",
       "    </tr>\n",
       "    <tr>\n",
       "      <th>NOX</th>\n",
       "      <td>-7.661461</td>\n",
       "      <td>7.661461</td>\n",
       "    </tr>\n",
       "    <tr>\n",
       "      <th>PTRATIO</th>\n",
       "      <td>-7.971741</td>\n",
       "      <td>7.971741</td>\n",
       "    </tr>\n",
       "    <tr>\n",
       "      <th>DIS</th>\n",
       "      <td>-13.805197</td>\n",
       "      <td>13.805197</td>\n",
       "    </tr>\n",
       "    <tr>\n",
       "      <th>LSTAT</th>\n",
       "      <td>-23.122777</td>\n",
       "      <td>23.122777</td>\n",
       "    </tr>\n",
       "  </tbody>\n",
       "</table>\n",
       "</div>"
      ],
      "text/plain": [
       "              Coeff  ABS(Coeff)\n",
       "Features                       \n",
       "RM        11.162109   11.162109\n",
       "RAD        6.198673    6.198673\n",
       "ZN         5.577348    5.577348\n",
       "B          4.791642    4.791642\n",
       "CHAS       3.523780    3.523780\n",
       "AGE        0.315264    0.315264\n",
       "INDUS     -0.495453    0.495453\n",
       "CRIM      -1.014823    1.014823\n",
       "TAX       -5.580194    5.580194\n",
       "NOX       -7.661461    7.661461\n",
       "PTRATIO   -7.971741    7.971741\n",
       "DIS      -13.805197   13.805197\n",
       "LSTAT    -23.122777   23.122777"
      ]
     },
     "execution_count": 121,
     "metadata": {},
     "output_type": "execute_result"
    }
   ],
   "source": [
    "df_feature_importance = pd.DataFrame(\n",
    "    {\n",
    "        'Features': x_train.columns,\n",
    "        'Coeff': reg.coef_,\n",
    "        'ABS(Coeff)': abs(reg.coef_),\n",
    "    }\n",
    ").set_index('Features').sort_values('Coeff', ascending=False)\n",
    "\n",
    "df_feature_importance"
   ]
  },
  {
   "cell_type": "code",
   "execution_count": 56,
   "metadata": {},
   "outputs": [
    {
     "name": "stderr",
     "output_type": "stream",
     "text": [
      "/Users/tarek/anaconda3/envs/scikitbook/lib/python3.6/site-packages/ipykernel_launcher.py:16: UserWarning: Matplotlib is currently using module://ipykernel.pylab.backend_inline, which is a non-GUI backend, so cannot show the figure.\n",
      "  app.launch_new_instance()\n"
     ]
    },
    {
     "data": {
      "image/png": "[encoded data removed]",
      "text/plain": [
       "<Figure size 1152x360 with 5 Axes>"
      ]
     },
     "metadata": {
      "needs_background": "light"
     },
     "output_type": "display_data"
    }
   ],
   "source": [
    "important_featurs = df_feature_importance.sort_values('ABS(Coeff)', ascending=False).index.tolist()[:5]\n",
    "\n",
    "fig, axs = plt.subplots(1, len(important_featurs), figsize=(16, 5), sharey=True)\n",
    "\n",
    "fig.suptitle(\"Featurs vs Target\", fontsize=14)\n",
    "\n",
    "for i, feature in enumerate(important_featurs):\n",
    "\n",
    "    df_dataset.plot(\n",
    "        kind='scatter',\n",
    "        x=feature,\n",
    "        y='target',\n",
    "        ax=axs[i]\n",
    "    )\n",
    "\n",
    "fig.show()"
   ]
  },
  {
   "cell_type": "markdown",
   "metadata": {},
   "source": [
    "## Adding Polynomial Features"
   ]
  },
  {
   "cell_type": "code",
   "execution_count": 122,
   "metadata": {},
   "outputs": [],
   "source": [
    "from sklearn.preprocessing import PolynomialFeatures\n",
    "\n",
    "poly = PolynomialFeatures(degree=3)\n",
    "x_train_poly = poly.fit_transform(x_train)\n",
    "x_test_poly = poly.transform(x_test)"
   ]
  },
  {
   "cell_type": "code",
   "execution_count": 123,
   "metadata": {},
   "outputs": [],
   "source": [
    "feature_translator = [(f'x{i}', feature) for i, feature in enumerate(x_train.columns, 0)]\n",
    "\n",
    "def translate_feature_names(s):\n",
    "    for key, val in feature_translator:\n",
    "        s = s.replace(key, val)\n",
    "    return s\n",
    "\n",
    "poly_features = [\n",
    "    translate_feature_names(f) for f in poly.get_feature_names()\n",
    "]"
   ]
  },
  {
   "cell_type": "code",
   "execution_count": 124,
   "metadata": {},
   "outputs": [
    {
     "data": {
      "text/plain": [
       "['1', 'CRIM', 'ZN', 'INDUS', 'CHAS']"
      ]
     },
     "execution_count": 124,
     "metadata": {},
     "output_type": "execute_result"
    }
   ],
   "source": [
    "poly_features[:5]"
   ]
  },
  {
   "cell_type": "code",
   "execution_count": 125,
   "metadata": {},
   "outputs": [],
   "source": [
    "x_train_poly = pd.DataFrame(x_train_poly, columns=poly_features)\n",
    "x_test_poly = pd.DataFrame(x_test_poly, columns=poly_features)"
   ]
  },
  {
   "cell_type": "code",
   "execution_count": 126,
   "metadata": {},
   "outputs": [],
   "source": [
    "from sklearn.linear_model import LinearRegression\n",
    "\n",
    "reg = LinearRegression(fit_intercept=False)\n",
    "reg.fit(x_train_poly, y_train)\n",
    "\n",
    "y_test_pred = reg.predict(x_test_poly)"
   ]
  },
  {
   "cell_type": "code",
   "execution_count": 127,
   "metadata": {},
   "outputs": [
    {
     "data": {
      "text/plain": [
       "(303, 560)"
      ]
     },
     "execution_count": 127,
     "metadata": {},
     "output_type": "execute_result"
    }
   ],
   "source": [
    "x_train_poly.shape"
   ]
  },
  {
   "cell_type": "code",
   "execution_count": 128,
   "metadata": {},
   "outputs": [
    {
     "name": "stdout",
     "output_type": "stream",
     "text": [
      "R2 Regressor = -1779.801 vs Baseline = -0.0\n",
      "MAE Regressor = 83.901 vs Baseline = 6.9\n",
      "MSE Regressor = 175416.176 vs Baseline = 99.2\n"
     ]
    }
   ],
   "source": [
    "from sklearn.metrics import mean_absolute_error\n",
    "from sklearn.metrics import mean_squared_error\n",
    "from sklearn.metrics import r2_score\n",
    "\n",
    "print(\n",
    "    'R2 Regressor = {:.3f} vs Baseline = {:.1f}'.format(\n",
    "        r2_score(y_test, y_test_pred), \n",
    "        r2_score(y_test, y_test_baselin)\n",
    "    )\n",
    ")\n",
    "print(\n",
    "    'MAE Regressor = {:.3f} vs Baseline = {:.1f}'.format(\n",
    "        mean_absolute_error(y_test, y_test_pred), \n",
    "        mean_absolute_error(y_test, y_test_baselin)\n",
    "    )\n",
    ")\n",
    "\n",
    "print(\n",
    "    'MSE Regressor = {:.3f} vs Baseline = {:.1f}'.format(\n",
    "        mean_squared_error(y_test, y_test_pred), \n",
    "        mean_squared_error(y_test, y_test_baselin)\n",
    "    )\n",
    ")\n"
   ]
  },
  {
   "cell_type": "code",
   "execution_count": 129,
   "metadata": {},
   "outputs": [
    {
     "data": {
      "text/html": [
       "<div>\n",
       "<style scoped>\n",
       "    .dataframe tbody tr th:only-of-type {\n",
       "        vertical-align: middle;\n",
       "    }\n",
       "\n",
       "    .dataframe tbody tr th {\n",
       "        vertical-align: top;\n",
       "    }\n",
       "\n",
       "    .dataframe thead th {\n",
       "        text-align: right;\n",
       "    }\n",
       "</style>\n",
       "<table border=\"1\" class=\"dataframe\">\n",
       "  <thead>\n",
       "    <tr style=\"text-align: right;\">\n",
       "      <th></th>\n",
       "      <th>1</th>\n",
       "      <th>CRIM</th>\n",
       "      <th>ZN</th>\n",
       "      <th>INDUS</th>\n",
       "      <th>CHAS</th>\n",
       "      <th>NOX</th>\n",
       "      <th>RM</th>\n",
       "      <th>AGE</th>\n",
       "      <th>DIS</th>\n",
       "      <th>RAD</th>\n",
       "      <th>...</th>\n",
       "      <th>ZN0^3</th>\n",
       "      <th>ZN0^2 ZN1</th>\n",
       "      <th>ZN0^2 ZN2</th>\n",
       "      <th>ZN0 ZN1^2</th>\n",
       "      <th>ZN0 ZN1 ZN2</th>\n",
       "      <th>ZN0 ZN2^2</th>\n",
       "      <th>ZN1^3</th>\n",
       "      <th>ZN1^2 ZN2</th>\n",
       "      <th>ZN1 ZN2^2</th>\n",
       "      <th>ZN2^3</th>\n",
       "    </tr>\n",
       "  </thead>\n",
       "  <tbody>\n",
       "    <tr>\n",
       "      <th>1</th>\n",
       "      <td>NaN</td>\n",
       "      <td>NaN</td>\n",
       "      <td>NaN</td>\n",
       "      <td>NaN</td>\n",
       "      <td>NaN</td>\n",
       "      <td>NaN</td>\n",
       "      <td>NaN</td>\n",
       "      <td>NaN</td>\n",
       "      <td>NaN</td>\n",
       "      <td>NaN</td>\n",
       "      <td>...</td>\n",
       "      <td>NaN</td>\n",
       "      <td>NaN</td>\n",
       "      <td>NaN</td>\n",
       "      <td>NaN</td>\n",
       "      <td>NaN</td>\n",
       "      <td>NaN</td>\n",
       "      <td>NaN</td>\n",
       "      <td>NaN</td>\n",
       "      <td>NaN</td>\n",
       "      <td>NaN</td>\n",
       "    </tr>\n",
       "    <tr>\n",
       "      <th>CRIM</th>\n",
       "      <td>NaN</td>\n",
       "      <td>1.000000</td>\n",
       "      <td>-0.223404</td>\n",
       "      <td>0.415626</td>\n",
       "      <td>-0.067407</td>\n",
       "      <td>0.438434</td>\n",
       "      <td>-0.264047</td>\n",
       "      <td>0.398427</td>\n",
       "      <td>-0.409130</td>\n",
       "      <td>0.658170</td>\n",
       "      <td>...</td>\n",
       "      <td>0.323198</td>\n",
       "      <td>-0.289927</td>\n",
       "      <td>0.515537</td>\n",
       "      <td>-0.445567</td>\n",
       "      <td>0.101581</td>\n",
       "      <td>0.514396</td>\n",
       "      <td>-0.529322</td>\n",
       "      <td>-0.016093</td>\n",
       "      <td>0.214623</td>\n",
       "      <td>0.477870</td>\n",
       "    </tr>\n",
       "    <tr>\n",
       "      <th>ZN</th>\n",
       "      <td>NaN</td>\n",
       "      <td>-0.223404</td>\n",
       "      <td>1.000000</td>\n",
       "      <td>-0.546942</td>\n",
       "      <td>-0.076711</td>\n",
       "      <td>-0.526713</td>\n",
       "      <td>0.328753</td>\n",
       "      <td>-0.569498</td>\n",
       "      <td>0.670739</td>\n",
       "      <td>-0.332850</td>\n",
       "      <td>...</td>\n",
       "      <td>-0.350266</td>\n",
       "      <td>-0.091572</td>\n",
       "      <td>-0.429276</td>\n",
       "      <td>0.061411</td>\n",
       "      <td>-0.349521</td>\n",
       "      <td>-0.336015</td>\n",
       "      <td>0.209895</td>\n",
       "      <td>-0.293432</td>\n",
       "      <td>-0.304253</td>\n",
       "      <td>-0.253397</td>\n",
       "    </tr>\n",
       "    <tr>\n",
       "      <th>INDUS</th>\n",
       "      <td>NaN</td>\n",
       "      <td>0.415626</td>\n",
       "      <td>-0.546942</td>\n",
       "      <td>1.000000</td>\n",
       "      <td>0.045772</td>\n",
       "      <td>0.757920</td>\n",
       "      <td>-0.407121</td>\n",
       "      <td>0.666270</td>\n",
       "      <td>-0.729739</td>\n",
       "      <td>0.572268</td>\n",
       "      <td>...</td>\n",
       "      <td>0.407733</td>\n",
       "      <td>-0.012417</td>\n",
       "      <td>0.624719</td>\n",
       "      <td>-0.224279</td>\n",
       "      <td>0.446052</td>\n",
       "      <td>0.547373</td>\n",
       "      <td>-0.399147</td>\n",
       "      <td>0.342261</td>\n",
       "      <td>0.462458</td>\n",
       "      <td>0.448283</td>\n",
       "    </tr>\n",
       "    <tr>\n",
       "      <th>CHAS</th>\n",
       "      <td>NaN</td>\n",
       "      <td>-0.067407</td>\n",
       "      <td>-0.076711</td>\n",
       "      <td>0.045772</td>\n",
       "      <td>1.000000</td>\n",
       "      <td>0.071084</td>\n",
       "      <td>0.126426</td>\n",
       "      <td>0.078795</td>\n",
       "      <td>-0.106944</td>\n",
       "      <td>0.004661</td>\n",
       "      <td>...</td>\n",
       "      <td>-0.108271</td>\n",
       "      <td>-0.010076</td>\n",
       "      <td>-0.126720</td>\n",
       "      <td>0.017174</td>\n",
       "      <td>-0.066676</td>\n",
       "      <td>-0.098913</td>\n",
       "      <td>0.031086</td>\n",
       "      <td>-0.041579</td>\n",
       "      <td>-0.056364</td>\n",
       "      <td>-0.080771</td>\n",
       "    </tr>\n",
       "    <tr>\n",
       "      <th>...</th>\n",
       "      <td>...</td>\n",
       "      <td>...</td>\n",
       "      <td>...</td>\n",
       "      <td>...</td>\n",
       "      <td>...</td>\n",
       "      <td>...</td>\n",
       "      <td>...</td>\n",
       "      <td>...</td>\n",
       "      <td>...</td>\n",
       "      <td>...</td>\n",
       "      <td>...</td>\n",
       "      <td>...</td>\n",
       "      <td>...</td>\n",
       "      <td>...</td>\n",
       "      <td>...</td>\n",
       "      <td>...</td>\n",
       "      <td>...</td>\n",
       "      <td>...</td>\n",
       "      <td>...</td>\n",
       "      <td>...</td>\n",
       "      <td>...</td>\n",
       "    </tr>\n",
       "    <tr>\n",
       "      <th>ZN0 ZN2^2</th>\n",
       "      <td>NaN</td>\n",
       "      <td>0.514396</td>\n",
       "      <td>-0.336015</td>\n",
       "      <td>0.547373</td>\n",
       "      <td>-0.098913</td>\n",
       "      <td>0.538193</td>\n",
       "      <td>-0.530627</td>\n",
       "      <td>0.558034</td>\n",
       "      <td>-0.485305</td>\n",
       "      <td>0.467276</td>\n",
       "      <td>...</td>\n",
       "      <td>0.411844</td>\n",
       "      <td>-0.052867</td>\n",
       "      <td>0.936672</td>\n",
       "      <td>-0.244088</td>\n",
       "      <td>0.659143</td>\n",
       "      <td>1.000000</td>\n",
       "      <td>-0.383285</td>\n",
       "      <td>0.533159</td>\n",
       "      <td>0.807586</td>\n",
       "      <td>0.966147</td>\n",
       "    </tr>\n",
       "    <tr>\n",
       "      <th>ZN1^3</th>\n",
       "      <td>NaN</td>\n",
       "      <td>-0.529322</td>\n",
       "      <td>0.209895</td>\n",
       "      <td>-0.399147</td>\n",
       "      <td>0.031086</td>\n",
       "      <td>-0.440796</td>\n",
       "      <td>0.162205</td>\n",
       "      <td>-0.342146</td>\n",
       "      <td>0.350005</td>\n",
       "      <td>-0.463462</td>\n",
       "      <td>...</td>\n",
       "      <td>-0.187553</td>\n",
       "      <td>0.711408</td>\n",
       "      <td>-0.390007</td>\n",
       "      <td>0.928230</td>\n",
       "      <td>0.251364</td>\n",
       "      <td>-0.383285</td>\n",
       "      <td>1.000000</td>\n",
       "      <td>0.419015</td>\n",
       "      <td>0.068801</td>\n",
       "      <td>-0.339574</td>\n",
       "    </tr>\n",
       "    <tr>\n",
       "      <th>ZN1^2 ZN2</th>\n",
       "      <td>NaN</td>\n",
       "      <td>-0.016093</td>\n",
       "      <td>-0.293432</td>\n",
       "      <td>0.342261</td>\n",
       "      <td>-0.041579</td>\n",
       "      <td>0.286858</td>\n",
       "      <td>-0.507258</td>\n",
       "      <td>0.409186</td>\n",
       "      <td>-0.284093</td>\n",
       "      <td>0.081219</td>\n",
       "      <td>...</td>\n",
       "      <td>0.258771</td>\n",
       "      <td>0.577637</td>\n",
       "      <td>0.564306</td>\n",
       "      <td>0.535625</td>\n",
       "      <td>0.962848</td>\n",
       "      <td>0.533159</td>\n",
       "      <td>0.419015</td>\n",
       "      <td>1.000000</td>\n",
       "      <td>0.887052</td>\n",
       "      <td>0.468602</td>\n",
       "    </tr>\n",
       "    <tr>\n",
       "      <th>ZN1 ZN2^2</th>\n",
       "      <td>NaN</td>\n",
       "      <td>0.214623</td>\n",
       "      <td>-0.304253</td>\n",
       "      <td>0.462458</td>\n",
       "      <td>-0.056364</td>\n",
       "      <td>0.439361</td>\n",
       "      <td>-0.561234</td>\n",
       "      <td>0.497390</td>\n",
       "      <td>-0.405439</td>\n",
       "      <td>0.247726</td>\n",
       "      <td>...</td>\n",
       "      <td>0.284099</td>\n",
       "      <td>0.307160</td>\n",
       "      <td>0.754920</td>\n",
       "      <td>0.196187</td>\n",
       "      <td>0.920995</td>\n",
       "      <td>0.807586</td>\n",
       "      <td>0.068801</td>\n",
       "      <td>0.887052</td>\n",
       "      <td>1.000000</td>\n",
       "      <td>0.780267</td>\n",
       "    </tr>\n",
       "    <tr>\n",
       "      <th>ZN2^3</th>\n",
       "      <td>NaN</td>\n",
       "      <td>0.477870</td>\n",
       "      <td>-0.253397</td>\n",
       "      <td>0.448283</td>\n",
       "      <td>-0.080771</td>\n",
       "      <td>0.478097</td>\n",
       "      <td>-0.484082</td>\n",
       "      <td>0.451311</td>\n",
       "      <td>-0.412170</td>\n",
       "      <td>0.375762</td>\n",
       "      <td>...</td>\n",
       "      <td>0.268354</td>\n",
       "      <td>-0.109420</td>\n",
       "      <td>0.822817</td>\n",
       "      <td>-0.249773</td>\n",
       "      <td>0.568925</td>\n",
       "      <td>0.966147</td>\n",
       "      <td>-0.339574</td>\n",
       "      <td>0.468602</td>\n",
       "      <td>0.780267</td>\n",
       "      <td>1.000000</td>\n",
       "    </tr>\n",
       "  </tbody>\n",
       "</table>\n",
       "<p>560 rows × 560 columns</p>\n",
       "</div>"
      ],
      "text/plain": [
       "            1      CRIM        ZN     INDUS      CHAS       NOX        RM  \\\n",
       "1         NaN       NaN       NaN       NaN       NaN       NaN       NaN   \n",
       "CRIM      NaN  1.000000 -0.223404  0.415626 -0.067407  0.438434 -0.264047   \n",
       "ZN        NaN -0.223404  1.000000 -0.546942 -0.076711 -0.526713  0.328753   \n",
       "INDUS     NaN  0.415626 -0.546942  1.000000  0.045772  0.757920 -0.407121   \n",
       "CHAS      NaN -0.067407 -0.076711  0.045772  1.000000  0.071084  0.126426   \n",
       "...        ..       ...       ...       ...       ...       ...       ...   \n",
       "ZN0 ZN2^2 NaN  0.514396 -0.336015  0.547373 -0.098913  0.538193 -0.530627   \n",
       "ZN1^3     NaN -0.529322  0.209895 -0.399147  0.031086 -0.440796  0.162205   \n",
       "ZN1^2 ZN2 NaN -0.016093 -0.293432  0.342261 -0.041579  0.286858 -0.507258   \n",
       "ZN1 ZN2^2 NaN  0.214623 -0.304253  0.462458 -0.056364  0.439361 -0.561234   \n",
       "ZN2^3     NaN  0.477870 -0.253397  0.448283 -0.080771  0.478097 -0.484082   \n",
       "\n",
       "                AGE       DIS       RAD  ...     ZN0^3  ZN0^2 ZN1  ZN0^2 ZN2  \\\n",
       "1               NaN       NaN       NaN  ...       NaN        NaN        NaN   \n",
       "CRIM       0.398427 -0.409130  0.658170  ...  0.323198  -0.289927   0.515537   \n",
       "ZN        -0.569498  0.670739 -0.332850  ... -0.350266  -0.091572  -0.429276   \n",
       "INDUS      0.666270 -0.729739  0.572268  ...  0.407733  -0.012417   0.624719   \n",
       "CHAS       0.078795 -0.106944  0.004661  ... -0.108271  -0.010076  -0.126720   \n",
       "...             ...       ...       ...  ...       ...        ...        ...   \n",
       "ZN0 ZN2^2  0.558034 -0.485305  0.467276  ...  0.411844  -0.052867   0.936672   \n",
       "ZN1^3     -0.342146  0.350005 -0.463462  ... -0.187553   0.711408  -0.390007   \n",
       "ZN1^2 ZN2  0.409186 -0.284093  0.081219  ...  0.258771   0.577637   0.564306   \n",
       "ZN1 ZN2^2  0.497390 -0.405439  0.247726  ...  0.284099   0.307160   0.754920   \n",
       "ZN2^3      0.451311 -0.412170  0.375762  ...  0.268354  -0.109420   0.822817   \n",
       "\n",
       "           ZN0 ZN1^2  ZN0 ZN1 ZN2  ZN0 ZN2^2     ZN1^3  ZN1^2 ZN2  ZN1 ZN2^2  \\\n",
       "1                NaN          NaN        NaN       NaN        NaN        NaN   \n",
       "CRIM       -0.445567     0.101581   0.514396 -0.529322  -0.016093   0.214623   \n",
       "ZN          0.061411    -0.349521  -0.336015  0.209895  -0.293432  -0.304253   \n",
       "INDUS      -0.224279     0.446052   0.547373 -0.399147   0.342261   0.462458   \n",
       "CHAS        0.017174    -0.066676  -0.098913  0.031086  -0.041579  -0.056364   \n",
       "...              ...          ...        ...       ...        ...        ...   \n",
       "ZN0 ZN2^2  -0.244088     0.659143   1.000000 -0.383285   0.533159   0.807586   \n",
       "ZN1^3       0.928230     0.251364  -0.383285  1.000000   0.419015   0.068801   \n",
       "ZN1^2 ZN2   0.535625     0.962848   0.533159  0.419015   1.000000   0.887052   \n",
       "ZN1 ZN2^2   0.196187     0.920995   0.807586  0.068801   0.887052   1.000000   \n",
       "ZN2^3      -0.249773     0.568925   0.966147 -0.339574   0.468602   0.780267   \n",
       "\n",
       "              ZN2^3  \n",
       "1               NaN  \n",
       "CRIM       0.477870  \n",
       "ZN        -0.253397  \n",
       "INDUS      0.448283  \n",
       "CHAS      -0.080771  \n",
       "...             ...  \n",
       "ZN0 ZN2^2  0.966147  \n",
       "ZN1^3     -0.339574  \n",
       "ZN1^2 ZN2  0.468602  \n",
       "ZN1 ZN2^2  0.780267  \n",
       "ZN2^3      1.000000  \n",
       "\n",
       "[560 rows x 560 columns]"
      ]
     },
     "execution_count": 129,
     "metadata": {},
     "output_type": "execute_result"
    }
   ],
   "source": [
    "x_train_poly.corr()"
   ]
  },
  {
   "cell_type": "markdown",
   "metadata": {},
   "source": [
    "### Showing the Polynomial Features and their coefficients"
   ]
  },
  {
   "cell_type": "code",
   "execution_count": 131,
   "metadata": {},
   "outputs": [
    {
     "data": {
      "text/html": [
       "<div>\n",
       "<style scoped>\n",
       "    .dataframe tbody tr th:only-of-type {\n",
       "        vertical-align: middle;\n",
       "    }\n",
       "\n",
       "    .dataframe tbody tr th {\n",
       "        vertical-align: top;\n",
       "    }\n",
       "\n",
       "    .dataframe thead th {\n",
       "        text-align: right;\n",
       "    }\n",
       "</style>\n",
       "<table border=\"1\" class=\"dataframe\">\n",
       "  <thead>\n",
       "    <tr style=\"text-align: right;\">\n",
       "      <th></th>\n",
       "      <th>Coeff</th>\n",
       "    </tr>\n",
       "    <tr>\n",
       "      <th>Features</th>\n",
       "      <th></th>\n",
       "    </tr>\n",
       "  </thead>\n",
       "  <tbody>\n",
       "    <tr>\n",
       "      <th>CRIM^2 NOX</th>\n",
       "      <td>-2.449692</td>\n",
       "    </tr>\n",
       "    <tr>\n",
       "      <th>RM DIS ZN2</th>\n",
       "      <td>-1.258648</td>\n",
       "    </tr>\n",
       "    <tr>\n",
       "      <th>RM ZN0 ZN2</th>\n",
       "      <td>-0.961161</td>\n",
       "    </tr>\n",
       "    <tr>\n",
       "      <th>RAD ZN0^2</th>\n",
       "      <td>-0.947691</td>\n",
       "    </tr>\n",
       "    <tr>\n",
       "      <th>CRIM NOX ZN2</th>\n",
       "      <td>-0.910405</td>\n",
       "    </tr>\n",
       "    <tr>\n",
       "      <th>...</th>\n",
       "      <td>...</td>\n",
       "    </tr>\n",
       "    <tr>\n",
       "      <th>NOX RAD ZN1</th>\n",
       "      <td>0.596884</td>\n",
       "    </tr>\n",
       "    <tr>\n",
       "      <th>RM RAD ZN2</th>\n",
       "      <td>0.732233</td>\n",
       "    </tr>\n",
       "    <tr>\n",
       "      <th>ZN2^2</th>\n",
       "      <td>0.983744</td>\n",
       "    </tr>\n",
       "    <tr>\n",
       "      <th>ZN AGE</th>\n",
       "      <td>1.008311</td>\n",
       "    </tr>\n",
       "    <tr>\n",
       "      <th>RM^2 ZN2</th>\n",
       "      <td>1.320189</td>\n",
       "    </tr>\n",
       "  </tbody>\n",
       "</table>\n",
       "<p>560 rows × 1 columns</p>\n",
       "</div>"
      ],
      "text/plain": [
       "                 Coeff\n",
       "Features              \n",
       "CRIM^2 NOX   -2.449692\n",
       "RM DIS ZN2   -1.258648\n",
       "RM ZN0 ZN2   -0.961161\n",
       "RAD ZN0^2    -0.947691\n",
       "CRIM NOX ZN2 -0.910405\n",
       "...                ...\n",
       "NOX RAD ZN1   0.596884\n",
       "RM RAD ZN2    0.732233\n",
       "ZN2^2         0.983744\n",
       "ZN AGE        1.008311\n",
       "RM^2 ZN2      1.320189\n",
       "\n",
       "[560 rows x 1 columns]"
      ]
     },
     "execution_count": 131,
     "metadata": {},
     "output_type": "execute_result"
    }
   ],
   "source": [
    "df_features = pd.DataFrame(\n",
    "    {\n",
    "        'Features': x_train_poly.columns,\n",
    "        'Coeff': reg.coef_\n",
    "    }\n",
    ").set_index('Features').sort_values('Coeff')\n",
    "\n",
    "df_features[df_features['Coeff'].abs() > 0]\n"
   ]
  },
  {
   "cell_type": "code",
   "execution_count": 132,
   "metadata": {},
   "outputs": [
    {
     "name": "stderr",
     "output_type": "stream",
     "text": [
      "/Users/tarek/anaconda3/envs/scikitbook/lib/python3.6/site-packages/sklearn/linear_model/_coordinate_descent.py:476: ConvergenceWarning: Objective did not converge. You might want to increase the number of iterations. Duality gap: 790.5744081910345, tolerance: 17.210957\n",
      "  positive)\n"
     ]
    }
   ],
   "source": [
    "from sklearn.linear_model import Ridge, Lasso\n",
    "\n",
    "# reg = Ridge(fit_intercept=False, solver='svd', alpha=1)\n",
    "reg = Lasso(fit_intercept=False)\n",
    "reg.fit(x_train_poly, y_train)\n",
    "\n",
    "y_test_pred = reg.predict(x_test_poly)"
   ]
  },
  {
   "cell_type": "code",
   "execution_count": 133,
   "metadata": {},
   "outputs": [
    {
     "name": "stdout",
     "output_type": "stream",
     "text": [
      "R2 Regressor = 0.725 vs Baseline = -0.0\n",
      "MAE Regressor = 2.879 vs Baseline = 6.9\n",
      "MSE Regressor = 27.113 vs Baseline = 99.2\n"
     ]
    }
   ],
   "source": [
    "from sklearn.metrics import mean_absolute_error\n",
    "from sklearn.metrics import mean_squared_error\n",
    "from sklearn.metrics import r2_score\n",
    "\n",
    "print(\n",
    "    'R2 Regressor = {:.3f} vs Baseline = {:.1f}'.format(\n",
    "        r2_score(y_test, y_test_pred), \n",
    "        r2_score(y_test, y_test_baselin)\n",
    "    )\n",
    ")\n",
    "print(\n",
    "    'MAE Regressor = {:.3f} vs Baseline = {:.1f}'.format(\n",
    "        mean_absolute_error(y_test, y_test_pred), \n",
    "        mean_absolute_error(y_test, y_test_baselin)\n",
    "    )\n",
    ")\n",
    "\n",
    "print(\n",
    "    'MSE Regressor = {:.3f} vs Baseline = {:.1f}'.format(\n",
    "        mean_squared_error(y_test, y_test_pred), \n",
    "        mean_squared_error(y_test, y_test_baselin)\n",
    "    )\n",
    ")\n"
   ]
  },
  {
   "cell_type": "code",
   "execution_count": 134,
   "metadata": {},
   "outputs": [
    {
     "data": {
      "text/html": [
       "<div>\n",
       "<style scoped>\n",
       "    .dataframe tbody tr th:only-of-type {\n",
       "        vertical-align: middle;\n",
       "    }\n",
       "\n",
       "    .dataframe tbody tr th {\n",
       "        vertical-align: top;\n",
       "    }\n",
       "\n",
       "    .dataframe thead th {\n",
       "        text-align: right;\n",
       "    }\n",
       "</style>\n",
       "<table border=\"1\" class=\"dataframe\">\n",
       "  <thead>\n",
       "    <tr style=\"text-align: right;\">\n",
       "      <th></th>\n",
       "      <th>Coeff</th>\n",
       "    </tr>\n",
       "    <tr>\n",
       "      <th>Features</th>\n",
       "      <th></th>\n",
       "    </tr>\n",
       "  </thead>\n",
       "  <tbody>\n",
       "    <tr>\n",
       "      <th>CRIM^2</th>\n",
       "      <td>-0.018273</td>\n",
       "    </tr>\n",
       "    <tr>\n",
       "      <th>CHAS RM TAX</th>\n",
       "      <td>-0.012368</td>\n",
       "    </tr>\n",
       "    <tr>\n",
       "      <th>RM^2 ZN2</th>\n",
       "      <td>-0.011554</td>\n",
       "    </tr>\n",
       "    <tr>\n",
       "      <th>CHAS AGE ZN2</th>\n",
       "      <td>-0.011163</td>\n",
       "    </tr>\n",
       "    <tr>\n",
       "      <th>DIS RAD^2</th>\n",
       "      <td>-0.010329</td>\n",
       "    </tr>\n",
       "    <tr>\n",
       "      <th>...</th>\n",
       "      <td>...</td>\n",
       "    </tr>\n",
       "    <tr>\n",
       "      <th>TAX</th>\n",
       "      <td>0.017263</td>\n",
       "    </tr>\n",
       "    <tr>\n",
       "      <th>DIS RAD ZN2</th>\n",
       "      <td>0.020347</td>\n",
       "    </tr>\n",
       "    <tr>\n",
       "      <th>ZN1</th>\n",
       "      <td>0.026464</td>\n",
       "    </tr>\n",
       "    <tr>\n",
       "      <th>RM^3</th>\n",
       "      <td>0.054097</td>\n",
       "    </tr>\n",
       "    <tr>\n",
       "      <th>AGE</th>\n",
       "      <td>0.183862</td>\n",
       "    </tr>\n",
       "  </tbody>\n",
       "</table>\n",
       "<p>353 rows × 1 columns</p>\n",
       "</div>"
      ],
      "text/plain": [
       "                 Coeff\n",
       "Features              \n",
       "CRIM^2       -0.018273\n",
       "CHAS RM TAX  -0.012368\n",
       "RM^2 ZN2     -0.011554\n",
       "CHAS AGE ZN2 -0.011163\n",
       "DIS RAD^2    -0.010329\n",
       "...                ...\n",
       "TAX           0.017263\n",
       "DIS RAD ZN2   0.020347\n",
       "ZN1           0.026464\n",
       "RM^3          0.054097\n",
       "AGE           0.183862\n",
       "\n",
       "[353 rows x 1 columns]"
      ]
     },
     "execution_count": 134,
     "metadata": {},
     "output_type": "execute_result"
    }
   ],
   "source": [
    "df_features = pd.DataFrame(\n",
    "    {\n",
    "        'Features': x_train_poly.columns,\n",
    "        'Coeff': reg.coef_\n",
    "    }\n",
    ").set_index('Features').sort_values('Coeff')\n",
    "\n",
    "df_features[df_features['Coeff'].abs() > 0]\n"
   ]
  },
  {
   "cell_type": "markdown",
   "metadata": {},
   "source": [
    "## Regularized Linear Model (Lasso + Cross Validation)"
   ]
  },
  {
   "cell_type": "code",
   "execution_count": 135,
   "metadata": {},
   "outputs": [],
   "source": [
    "from sklearn.linear_model import LassoCV\n",
    "\n",
    "alphas = np.logspace(-6, 6, 50)\n",
    "\n",
    "reg = LassoCV(alphas=alphas, fit_intercept=False, cv=5, n_jobs=5)\n",
    "\n",
    "import warnings\n",
    "from sklearn.exceptions import ConvergenceWarning\n",
    "warnings.simplefilter(\"always\", ConvergenceWarning) \n",
    "\n",
    "with warnings.catch_warnings(record=True) as w:\n",
    "    reg.fit(x_train_poly, y_train)\n",
    "\n",
    "y_train_pred = reg.predict(x_train_poly)\n",
    "y_test_pred = reg.predict(x_test_poly)"
   ]
  },
  {
   "cell_type": "code",
   "execution_count": 136,
   "metadata": {},
   "outputs": [
    {
     "data": {
      "text/plain": [
       "'0.000001, 1,000,000'"
      ]
     },
     "execution_count": 136,
     "metadata": {},
     "output_type": "execute_result"
    }
   ],
   "source": [
    "f'{alphas.min():.6f}, {alphas.max():,.0f}'"
   ]
  },
  {
   "cell_type": "code",
   "execution_count": 137,
   "metadata": {},
   "outputs": [
    {
     "name": "stdout",
     "output_type": "stream",
     "text": [
      "LassoCV: Chosen alpha = 68.66488450042998\n"
     ]
    }
   ],
   "source": [
    "print(f\"LassoCV: Chosen alpha = {reg.alpha_}\")"
   ]
  },
  {
   "cell_type": "markdown",
   "metadata": {},
   "source": [
    "### Regularization Plots"
   ]
  },
  {
   "cell_type": "code",
   "execution_count": 140,
   "metadata": {},
   "outputs": [
    {
     "name": "stderr",
     "output_type": "stream",
     "text": [
      "/Users/tarek/anaconda3/envs/scikitbook/lib/python3.6/site-packages/ipykernel_launcher.py:27: UserWarning: Matplotlib is currently using module://ipykernel.pylab.backend_inline, which is a non-GUI backend, so cannot show the figure.\n"
     ]
    },
    {
     "data": {
      "image/png": "[encoded data removed]",
      "text/plain": [
       "<Figure size 1152x576 with 1 Axes>"
      ]
     },
     "metadata": {
      "needs_background": "light"
     },
     "output_type": "display_data"
    }
   ],
   "source": [
    "fig, ax = plt.subplots(1, 1, figsize=(16, 8))\n",
    "\n",
    "n_folds = reg.mse_path_.shape[1]\n",
    "\n",
    "mse_mean = reg.mse_path_.mean(axis=1)\n",
    "mse_std = reg.mse_path_.std(axis=1)\n",
    "mse_std_error = mse_std / np.sqrt(n_folds)\n",
    "\n",
    "pd.DataFrame(\n",
    "    {\n",
    "        'alpha': reg.alphas_,\n",
    "        'Mean MSE': mse_mean,\n",
    "        'Upper Bound MSE': mse_mean + 1.96 * mse_std_error,\n",
    "        'Lower Bound  MSE': mse_mean - 1.96 * mse_std_error,\n",
    "    }\n",
    ").set_index('alpha')[['Mean MSE', 'Upper Bound MSE', 'Lower Bound  MSE']].plot(\n",
    "    title='Regularization plot (MSE vs alpha)', marker='.', logx=True, ax=ax\n",
    ")\n",
    "\n",
    "plt.fill_between(reg.alphas_, mse_mean + 1.96 * mse_std_error, mse_mean - 1.96 * mse_std_error, alpha=0.1)\n",
    "\n",
    "ax.axvline(reg.alpha_,  linestyle='--', color='k', alpha=0.75,)\n",
    "\n",
    "ax.set_xlabel('Alpha')\n",
    "ax.set_ylabel('Mean Squared Error')\n",
    "\n",
    "fig.show()"
   ]
  },
  {
   "cell_type": "code",
   "execution_count": 141,
   "metadata": {},
   "outputs": [],
   "source": [
    "# n_folds equals to 5 here\n",
    "n_folds = reg.mse_path_.shape[1]\n",
    "\n",
    "# Calculate the mean and standard error for MSEs\n",
    "mse_mean = reg.mse_path_.mean(axis=1)\n",
    "mse_std = reg.mse_path_.std(axis=1)\n",
    "# Std Error = Std Deviation / SQRT(number of samples)\n",
    "mse_std_error = mse_std / np.sqrt(n_folds)"
   ]
  },
  {
   "cell_type": "code",
   "execution_count": 142,
   "metadata": {},
   "outputs": [
    {
     "data": {
      "text/plain": [
       "Text(0, 0.5, 'Mean Squared Error')"
      ]
     },
     "execution_count": 142,
     "metadata": {},
     "output_type": "execute_result"
    },
    {
     "data": {
      "image/png": "[encoded data removed]",
      "text/plain": [
       "<Figure size 1152x576 with 1 Axes>"
      ]
     },
     "metadata": {
      "needs_background": "light"
     },
     "output_type": "display_data"
    }
   ],
   "source": [
    "fig, ax = plt.subplots(1, 1, figsize=(16, 8))\n",
    "\n",
    "# We multiply by 1.96 for a 95% Confidence Interval\n",
    "pd.DataFrame(\n",
    "    {\n",
    "        'alpha': reg.alphas_,\n",
    "        'Mean MSE': mse_mean,\n",
    "        'Upper Bound MSE': mse_mean + 1.96 * mse_std_error,\n",
    "        'Lower Bound MSE': mse_mean - 1.96 * mse_std_error,\n",
    "    }\n",
    ").set_index('alpha')[\n",
    "    ['Mean MSE', 'Upper Bound MSE', 'Lower Bound MSE']\n",
    "].plot(\n",
    "    title='Regularization plot (MSE vs alpha)', \n",
    "    marker='.', logx=True, ax=ax\n",
    ")\n",
    "\n",
    "# Color the confidence interval \n",
    "plt.fill_between(\n",
    "    reg.alphas_, \n",
    "    mse_mean + 1.96 * mse_std_error, \n",
    "    mse_mean - 1.96 * mse_std_error, \n",
    ")\n",
    "\n",
    "# Print a vertical line for the chosen alpha\n",
    "ax.axvline(reg.alpha_, linestyle='--', color='k')\n",
    "ax.set_xlabel('Alpha')\n",
    "ax.set_ylabel('Mean Squared Error')"
   ]
  },
  {
   "cell_type": "markdown",
   "metadata": {},
   "source": [
    "### MSE, MAE and R2"
   ]
  },
  {
   "cell_type": "code",
   "execution_count": 143,
   "metadata": {},
   "outputs": [
    {
     "name": "stdout",
     "output_type": "stream",
     "text": [
      "R2 Regressor = -0.134 vs Baseline = -0.0\n",
      "MAE Regressor = 3.943 vs Baseline = 6.9\n",
      "MSE Regressor = 111.683 vs Baseline = 99.2\n"
     ]
    }
   ],
   "source": [
    "from sklearn.metrics import mean_absolute_error\n",
    "from sklearn.metrics import mean_squared_error\n",
    "from sklearn.metrics import r2_score\n",
    "\n",
    "print(\n",
    "    'R2 Regressor = {:.3f} vs Baseline = {:.1f}'.format(\n",
    "        r2_score(y_test, y_test_pred), \n",
    "        r2_score(y_test, y_test_baselin)\n",
    "    )\n",
    ")\n",
    "print(\n",
    "    'MAE Regressor = {:.3f} vs Baseline = {:.1f}'.format(\n",
    "        mean_absolute_error(y_test, y_test_pred), \n",
    "        mean_absolute_error(y_test, y_test_baselin)\n",
    "    )\n",
    ")\n",
    "\n",
    "print(\n",
    "    'MSE Regressor = {:.3f} vs Baseline = {:.1f}'.format(\n",
    "        mean_squared_error(y_test, y_test_pred), \n",
    "        mean_squared_error(y_test, y_test_baselin)\n",
    "    )\n",
    ")\n"
   ]
  },
  {
   "cell_type": "markdown",
   "metadata": {},
   "source": [
    "### Features + Coefficients "
   ]
  },
  {
   "cell_type": "code",
   "execution_count": 144,
   "metadata": {},
   "outputs": [
    {
     "data": {
      "text/html": [
       "<div>\n",
       "<style scoped>\n",
       "    .dataframe tbody tr th:only-of-type {\n",
       "        vertical-align: middle;\n",
       "    }\n",
       "\n",
       "    .dataframe tbody tr th {\n",
       "        vertical-align: top;\n",
       "    }\n",
       "\n",
       "    .dataframe thead th {\n",
       "        text-align: right;\n",
       "    }\n",
       "</style>\n",
       "<table border=\"1\" class=\"dataframe\">\n",
       "  <thead>\n",
       "    <tr style=\"text-align: right;\">\n",
       "      <th></th>\n",
       "      <th>Coeff</th>\n",
       "    </tr>\n",
       "    <tr>\n",
       "      <th>Features</th>\n",
       "      <th></th>\n",
       "    </tr>\n",
       "  </thead>\n",
       "  <tbody>\n",
       "    <tr>\n",
       "      <th>RAD TAX</th>\n",
       "      <td>-0.001212</td>\n",
       "    </tr>\n",
       "    <tr>\n",
       "      <th>INDUS NOX TAX</th>\n",
       "      <td>-0.001069</td>\n",
       "    </tr>\n",
       "    <tr>\n",
       "      <th>INDUS^2 RAD</th>\n",
       "      <td>-0.000876</td>\n",
       "    </tr>\n",
       "    <tr>\n",
       "      <th>CRIM DIS TAX</th>\n",
       "      <td>-0.000486</td>\n",
       "    </tr>\n",
       "    <tr>\n",
       "      <th>CRIM RM ZN1</th>\n",
       "      <td>-0.000463</td>\n",
       "    </tr>\n",
       "    <tr>\n",
       "      <th>...</th>\n",
       "      <td>...</td>\n",
       "    </tr>\n",
       "    <tr>\n",
       "      <th>ZN TAX</th>\n",
       "      <td>0.001189</td>\n",
       "    </tr>\n",
       "    <tr>\n",
       "      <th>RM^2 ZN1</th>\n",
       "      <td>0.001321</td>\n",
       "    </tr>\n",
       "    <tr>\n",
       "      <th>INDUS TAX</th>\n",
       "      <td>0.002115</td>\n",
       "    </tr>\n",
       "    <tr>\n",
       "      <th>RM ZN1</th>\n",
       "      <td>0.003271</td>\n",
       "    </tr>\n",
       "    <tr>\n",
       "      <th>CRIM CHAS TAX</th>\n",
       "      <td>0.005300</td>\n",
       "    </tr>\n",
       "  </tbody>\n",
       "</table>\n",
       "<p>176 rows × 1 columns</p>\n",
       "</div>"
      ],
      "text/plain": [
       "                  Coeff\n",
       "Features               \n",
       "RAD TAX       -0.001212\n",
       "INDUS NOX TAX -0.001069\n",
       "INDUS^2 RAD   -0.000876\n",
       "CRIM DIS TAX  -0.000486\n",
       "CRIM RM ZN1   -0.000463\n",
       "...                 ...\n",
       "ZN TAX         0.001189\n",
       "RM^2 ZN1       0.001321\n",
       "INDUS TAX      0.002115\n",
       "RM ZN1         0.003271\n",
       "CRIM CHAS TAX  0.005300\n",
       "\n",
       "[176 rows x 1 columns]"
      ]
     },
     "execution_count": 144,
     "metadata": {},
     "output_type": "execute_result"
    }
   ],
   "source": [
    "df_features = pd.DataFrame(\n",
    "    {\n",
    "        'Features': x_train_poly.columns,\n",
    "        'Coeff': reg.coef_\n",
    "    }\n",
    ").set_index('Features').sort_values('Coeff')\n",
    "\n",
    "df_features[df_features['Coeff'].abs() > 0]\n"
   ]
  },
  {
   "cell_type": "markdown",
   "metadata": {},
   "source": [
    "# Regression Ranges"
   ]
  },
  {
   "cell_type": "code",
   "execution_count": 145,
   "metadata": {},
   "outputs": [
    {
     "name": "stderr",
     "output_type": "stream",
     "text": [
      "/Users/tarek/anaconda3/envs/scikitbook/lib/python3.6/site-packages/ipykernel_launcher.py:3: DeprecationWarning: This function is deprecated. Please call randint(0, 30 + 1) instead\n",
      "  This is separate from the ipykernel package so we can avoid doing imports until\n"
     ]
    }
   ],
   "source": [
    "df_noisy = pd.DataFrame(\n",
    "    {\n",
    "        'x': np.random.random_integers(0, 30, size=150),\n",
    "        'noise': np.random.normal(loc=0.0, scale=5.0, size=150)\n",
    "    }\n",
    ")\n",
    "\n",
    "df_noisy['y'] = df_noisy['x'] + df_noisy['noise']\n"
   ]
  },
  {
   "cell_type": "code",
   "execution_count": 146,
   "metadata": {},
   "outputs": [
    {
     "data": {
      "text/plain": [
       "<matplotlib.axes._subplots.AxesSubplot at 0x7fa37398a240>"
      ]
     },
     "execution_count": 146,
     "metadata": {},
     "output_type": "execute_result"
    },
    {
     "data": {
      "image/png": "[encoded data removed]",
      "text/plain": [
       "<Figure size 432x288 with 1 Axes>"
      ]
     },
     "metadata": {
      "needs_background": "light"
     },
     "output_type": "display_data"
    }
   ],
   "source": [
    "df_noisy.plot(\n",
    "    kind='scatter', x='x', y='y'\n",
    ")"
   ]
  },
  {
   "cell_type": "code",
   "execution_count": 147,
   "metadata": {},
   "outputs": [],
   "source": [
    "from sklearn.linear_model import LinearRegression\n",
    "from sklearn.linear_model import BayesianRidge\n",
    "    \n",
    "lr = LinearRegression()\n",
    "br = BayesianRidge()\n",
    "\n",
    "lr.fit(df_noisy[['x']], df_noisy['y'])\n",
    "df_noisy['y_lr_pred'] = lr.predict(df_noisy[['x']])\n",
    "\n",
    "\n",
    "br.fit(df_noisy[['x']], df_noisy['y'])\n",
    "df_noisy['y_br_pred'], df_noisy['y_br_std'] = br.predict(df_noisy[['x']], return_std=True)"
   ]
  },
  {
   "cell_type": "code",
   "execution_count": 148,
   "metadata": {},
   "outputs": [
    {
     "name": "stderr",
     "output_type": "stream",
     "text": [
      "/Users/tarek/anaconda3/envs/scikitbook/lib/python3.6/site-packages/ipykernel_launcher.py:38: UserWarning: Matplotlib is currently using module://ipykernel.pylab.backend_inline, which is a non-GUI backend, so cannot show the figure.\n"
     ]
    },
    {
     "data": {
      "image/png": "[encoded data removed]",
      "text/plain": [
       "<Figure size 1152x432 with 3 Axes>"
      ]
     },
     "metadata": {
      "needs_background": "light"
     },
     "output_type": "display_data"
    }
   ],
   "source": [
    "fig, axs = plt.subplots(1, 3, figsize=(16, 6), sharex=True, sharey=True)\n",
    "\n",
    "\n",
    "df_noisy.sort_values('x').plot(\n",
    "    title='Data', kind='scatter', x='x', y='y', ax=axs[0]\n",
    ")\n",
    "    \n",
    "df_noisy.sort_values('x').plot(\n",
    "    kind='scatter', x='x', y='y', ax=axs[1], marker='o', alpha=0.25\n",
    ")\n",
    "\n",
    "axs[2].fill_between(\n",
    "    df_noisy.sort_values('x')['x'], \n",
    "    df_noisy.sort_values('x')['y_br_pred'] - 1.96 * df_noisy.sort_values('x')['y_br_std'], \n",
    "    df_noisy.sort_values('x')['y_br_pred'] + 1.96 * df_noisy.sort_values('x')['y_br_std'],\n",
    "    color=\"k\", alpha=0.2, label=\"Predictions +/- 1.96 * Std Dev\"\n",
    ")\n",
    "\n",
    "df_noisy.sort_values('x').plot(\n",
    "    kind='scatter', x='x', y='y', ax=axs[2], marker='o', alpha=0.25\n",
    ")\n",
    "\n",
    "df_noisy.sort_values('x').plot(\n",
    "    title='LinearRegression', kind='scatter', x='x', y='y_lr_pred', \n",
    "    ax=axs[1], marker='o', color='k', label='Predictions'\n",
    ")\n",
    "\n",
    "df_noisy.sort_values('x').plot(\n",
    "    title='BayesianRidge', kind='scatter', x='x', y='y_br_pred', \n",
    "    ax=axs[2], marker='o', color='k', label='Predictions'\n",
    ")\n",
    "\n",
    "\n",
    "axs[1].legend()\n",
    "axs[2].legend()\n",
    "\n",
    "    \n",
    "fig.show()"
   ]
  },
  {
   "cell_type": "code",
   "execution_count": 149,
   "metadata": {},
   "outputs": [
    {
     "name": "stderr",
     "output_type": "stream",
     "text": [
      "/Users/tarek/anaconda3/envs/scikitbook/lib/python3.6/site-packages/ipykernel_launcher.py:35: UserWarning: Matplotlib is currently using module://ipykernel.pylab.backend_inline, which is a non-GUI backend, so cannot show the figure.\n"
     ]
    },
    {
     "data": {
      "image/png": "[encoded data removed]",
      "text/plain": [
       "<Figure size 1152x432 with 3 Axes>"
      ]
     },
     "metadata": {
      "needs_background": "light"
     },
     "output_type": "display_data"
    }
   ],
   "source": [
    "fig, axs = plt.subplots(1, 3, figsize=(16, 6), sharex=True, sharey=True)\n",
    "\n",
    "# We plot the data 3 times\n",
    "df_noisy.sort_values('x').plot(\n",
    "    title='Data', kind='scatter', x='x', y='y', ax=axs[0]\n",
    ")\n",
    "df_noisy.sort_values('x').plot(\n",
    "    kind='scatter', x='x', y='y', ax=axs[1], marker='o', alpha=0.25\n",
    ")\n",
    "df_noisy.sort_values('x').plot(\n",
    "    kind='scatter', x='x', y='y', ax=axs[2], marker='o', alpha=0.25\n",
    ")\n",
    "\n",
    "# Here we plot the Linear Regression predictions\n",
    "df_noisy.sort_values('x').plot(\n",
    "    title='LinearRegression', kind='scatter', x='x', y='y_lr_pred', \n",
    "    ax=axs[1], marker='o', color='k', label='Predictions'\n",
    ")\n",
    "\n",
    "# Here we plot the Bayesian Ridge predictions\n",
    "df_noisy.sort_values('x').plot(\n",
    "    title='BayesianRidge', kind='scatter', x='x', y='y_br_pred', \n",
    "    ax=axs[2], marker='o', color='k', label='Predictions'\n",
    ")\n",
    "\n",
    "# Here we plot the range around the expected values\n",
    "# We multiply by 1.96 for a 95% Confidence Interval\n",
    "axs[2].fill_between(\n",
    "    df_noisy.sort_values('x')['x'], \n",
    "    df_noisy.sort_values('x')['y_br_pred'] - 1.96 * df_noisy.sort_values('x')['y_br_std'], \n",
    "    df_noisy.sort_values('x')['y_br_pred'] + 1.96 * df_noisy.sort_values('x')['y_br_std'],\n",
    "    color=\"k\", alpha=0.2, label=\"Predictions +/- 1.96 * Std Dev\"\n",
    ")\n",
    "\n",
    "fig.show()"
   ]
  }
 ],
 "metadata": {
  "kernelspec": {
   "display_name": "Python 3",
   "language": "python",
   "name": "python3"
  },
  "language_info": {
   "codemirror_mode": {
    "name": "ipython",
    "version": 3
   },
   "file_extension": ".py",
   "mimetype": "text/x-python",
   "name": "python",
   "nbconvert_exporter": "python",
   "pygments_lexer": "ipython3",
   "version": "3.6.9"
  }
 },
 "nbformat": 4,
 "nbformat_minor": 2
}

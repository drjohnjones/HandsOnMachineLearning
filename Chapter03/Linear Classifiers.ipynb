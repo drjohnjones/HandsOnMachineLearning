{
 "cells": [
  {
   "cell_type": "markdown",
   "metadata": {},
   "source": [
    "# Logistic Function"
   ]
  },
  {
   "cell_type": "code",
   "execution_count": 1,
   "metadata": {},
   "outputs": [],
   "source": [
    "%matplotlib inline  "
   ]
  },
  {
   "cell_type": "code",
   "execution_count": 2,
   "metadata": {},
   "outputs": [
    {
     "name": "stderr",
     "output_type": "stream",
     "text": [
      "/Users/tarek/anaconda3/envs/scikitbook/lib/python3.6/site-packages/ipykernel_launcher.py:22: UserWarning: Matplotlib is currently using module://ipykernel.pylab.backend_inline, which is a non-GUI backend, so cannot show the figure.\n"
     ]
    },
    {
     "data": {
      "image/png": "[encoded data removed]",
      "text/plain": [
       "<Figure size 1152x576 with 1 Axes>"
      ]
     },
     "metadata": {
      "needs_background": "light"
     },
     "output_type": "display_data"
    }
   ],
   "source": [
    "import numpy as np\n",
    "import pandas as pd\n",
    "\n",
    "fig, ax = plt.subplots(1, 1, figsize=(16, 8))\n",
    "\n",
    "theta = np.arange(-10, 10, 0.05)\n",
    "y = 1 / (1 + np.exp(-1 * theta))\n",
    "\n",
    "pd.DataFrame(\n",
    "    {\n",
    "        'theta': theta,\n",
    "        'y': y\n",
    "    }\n",
    ").plot(\n",
    "    title='Logistic Function', \n",
    "    kind='scatter', x='theta', y='y', \n",
    "    ax=ax\n",
    ")\n",
    "\n",
    "ax.set_yticks(np.arange(0, 1.25, step=0.5))\n",
    "\n",
    "fig.show()"
   ]
  },
  {
   "cell_type": "markdown",
   "metadata": {},
   "source": [
    "# Iris Dataset"
   ]
  },
  {
   "cell_type": "code",
   "execution_count": 3,
   "metadata": {},
   "outputs": [],
   "source": [
    "import pandas as pd\n",
    "from sklearn import datasets\n",
    "iris = datasets.load_iris()"
   ]
  },
  {
   "cell_type": "code",
   "execution_count": 21,
   "metadata": {},
   "outputs": [],
   "source": [
    "# It's customary to call dataframes df\n",
    "\n",
    "df = pd.DataFrame(\n",
    "    iris.data,\n",
    "    columns=iris.feature_names\n",
    ")\n",
    "\n",
    "df['target'] = pd.Series(\n",
    "    iris.target\n",
    ")"
   ]
  },
  {
   "cell_type": "code",
   "execution_count": 22,
   "metadata": {},
   "outputs": [
    {
     "data": {
      "text/html": [
       "<div>\n",
       "<style scoped>\n",
       "    .dataframe tbody tr th:only-of-type {\n",
       "        vertical-align: middle;\n",
       "    }\n",
       "\n",
       "    .dataframe tbody tr th {\n",
       "        vertical-align: top;\n",
       "    }\n",
       "\n",
       "    .dataframe thead th {\n",
       "        text-align: right;\n",
       "    }\n",
       "</style>\n",
       "<table border=\"1\" class=\"dataframe\">\n",
       "  <thead>\n",
       "    <tr style=\"text-align: right;\">\n",
       "      <th></th>\n",
       "      <th>sepal length (cm)</th>\n",
       "      <th>sepal width (cm)</th>\n",
       "      <th>petal length (cm)</th>\n",
       "      <th>petal width (cm)</th>\n",
       "      <th>target</th>\n",
       "    </tr>\n",
       "  </thead>\n",
       "  <tbody>\n",
       "    <tr>\n",
       "      <th>69</th>\n",
       "      <td>5.6</td>\n",
       "      <td>2.5</td>\n",
       "      <td>3.9</td>\n",
       "      <td>1.1</td>\n",
       "      <td>1</td>\n",
       "    </tr>\n",
       "    <tr>\n",
       "      <th>11</th>\n",
       "      <td>4.8</td>\n",
       "      <td>3.4</td>\n",
       "      <td>1.6</td>\n",
       "      <td>0.2</td>\n",
       "      <td>0</td>\n",
       "    </tr>\n",
       "    <tr>\n",
       "      <th>0</th>\n",
       "      <td>5.1</td>\n",
       "      <td>3.5</td>\n",
       "      <td>1.4</td>\n",
       "      <td>0.2</td>\n",
       "      <td>0</td>\n",
       "    </tr>\n",
       "  </tbody>\n",
       "</table>\n",
       "</div>"
      ],
      "text/plain": [
       "    sepal length (cm)  sepal width (cm)  petal length (cm)  petal width (cm)  \\\n",
       "69                5.6               2.5                3.9               1.1   \n",
       "11                4.8               3.4                1.6               0.2   \n",
       "0                 5.1               3.5                1.4               0.2   \n",
       "\n",
       "    target  \n",
       "69       1  \n",
       "11       0  \n",
       "0        0  "
      ]
     },
     "execution_count": 22,
     "metadata": {},
     "output_type": "execute_result"
    }
   ],
   "source": [
    "df.sample(n=3)"
   ]
  },
  {
   "cell_type": "code",
   "execution_count": 23,
   "metadata": {},
   "outputs": [],
   "source": [
    "from sklearn.model_selection import train_test_split\n",
    "\n",
    "df_train, df_test = train_test_split(df, test_size=0.3, random_state=22)"
   ]
  },
  {
   "cell_type": "code",
   "execution_count": 24,
   "metadata": {},
   "outputs": [],
   "source": [
    "x_train = df_train[iris.feature_names]\n",
    "x_test  = df_test[iris.feature_names]\n",
    "\n",
    "y_train = df_train['target']\n",
    "y_test  = df_test['target']"
   ]
  },
  {
   "cell_type": "code",
   "execution_count": 25,
   "metadata": {},
   "outputs": [
    {
     "name": "stdout",
     "output_type": "stream",
     "text": [
      "Logistic Regression: Accuracy (6-fold): 0.94 ~ 0.99\n"
     ]
    }
   ],
   "source": [
    "from sklearn.linear_model import LogisticRegression\n",
    "from sklearn.model_selection import cross_validate\n",
    "\n",
    "\n",
    "num_folds = 6\n",
    "\n",
    "clf = LogisticRegression(solver='lbfgs', multi_class='multinomial', max_iter=1000)\n",
    "\n",
    "accuracy_scores = cross_validate(clf, df[iris.feature_names], df['target'], cv=num_folds, scoring=['accuracy'])\n",
    "\n",
    "accuracy_mean = pd.Series(accuracy_scores['test_accuracy']).mean()\n",
    "accuracy_std = pd.Series(accuracy_scores['test_accuracy']).std()\n",
    "accuracy_sterror = accuracy_std / np.sqrt(num_folds)\n",
    "\n",
    "print(\n",
    "    'Logistic Regression: Accuracy ({}-fold): {:.2f} ~ {:.2f}'.format(\n",
    "        num_folds,\n",
    "        (accuracy_mean - 1.96 * accuracy_sterror),\n",
    "        (accuracy_mean + 1.96 * accuracy_sterror),\n",
    "    )\n",
    ")"
   ]
  },
  {
   "cell_type": "code",
   "execution_count": 26,
   "metadata": {},
   "outputs": [],
   "source": [
    "clf.fit(x_train, y_train)\n",
    "\n",
    "# We use dictionary comprehension instead of a for-loop\n",
    "df_coef = pd.DataFrame(\n",
    "   {\n",
    "        f'Coef [Class {class_id}]': clf.coef_[class_id]\n",
    "        for class_id in range(clf.coef_.shape[0])\n",
    "    },\n",
    "    index=iris.feature_names\n",
    ")\n",
    "df_coef.loc['intercept', :] = clf.intercept_"
   ]
  },
  {
   "cell_type": "code",
   "execution_count": 27,
   "metadata": {},
   "outputs": [
    {
     "data": {
      "text/html": [
       "<div>\n",
       "<style scoped>\n",
       "    .dataframe tbody tr th:only-of-type {\n",
       "        vertical-align: middle;\n",
       "    }\n",
       "\n",
       "    .dataframe tbody tr th {\n",
       "        vertical-align: top;\n",
       "    }\n",
       "\n",
       "    .dataframe thead th {\n",
       "        text-align: right;\n",
       "    }\n",
       "</style>\n",
       "<table border=\"1\" class=\"dataframe\">\n",
       "  <thead>\n",
       "    <tr style=\"text-align: right;\">\n",
       "      <th></th>\n",
       "      <th>Coef [Class 0]</th>\n",
       "      <th>Coef [Class 1]</th>\n",
       "      <th>Coef [Class 2]</th>\n",
       "    </tr>\n",
       "  </thead>\n",
       "  <tbody>\n",
       "    <tr>\n",
       "      <th>sepal length (cm)</th>\n",
       "      <td>-0.403139</td>\n",
       "      <td>0.447732</td>\n",
       "      <td>-0.044593</td>\n",
       "    </tr>\n",
       "    <tr>\n",
       "      <th>sepal width (cm)</th>\n",
       "      <td>0.854393</td>\n",
       "      <td>-0.520388</td>\n",
       "      <td>-0.334005</td>\n",
       "    </tr>\n",
       "    <tr>\n",
       "      <th>petal length (cm)</th>\n",
       "      <td>-2.246269</td>\n",
       "      <td>-0.166679</td>\n",
       "      <td>2.412948</td>\n",
       "    </tr>\n",
       "    <tr>\n",
       "      <th>petal width (cm)</th>\n",
       "      <td>-0.974846</td>\n",
       "      <td>-0.680131</td>\n",
       "      <td>1.654976</td>\n",
       "    </tr>\n",
       "    <tr>\n",
       "      <th>intercept</th>\n",
       "      <td>8.869417</td>\n",
       "      <td>2.572456</td>\n",
       "      <td>-11.441873</td>\n",
       "    </tr>\n",
       "  </tbody>\n",
       "</table>\n",
       "</div>"
      ],
      "text/plain": [
       "                   Coef [Class 0]  Coef [Class 1]  Coef [Class 2]\n",
       "sepal length (cm)       -0.403139        0.447732       -0.044593\n",
       "sepal width (cm)         0.854393       -0.520388       -0.334005\n",
       "petal length (cm)       -2.246269       -0.166679        2.412948\n",
       "petal width (cm)        -0.974846       -0.680131        1.654976\n",
       "intercept                8.869417        2.572456      -11.441873"
      ]
     },
     "execution_count": 27,
     "metadata": {},
     "output_type": "execute_result"
    }
   ],
   "source": [
    "df_coef"
   ]
  },
  {
   "cell_type": "code",
   "execution_count": 28,
   "metadata": {},
   "outputs": [
    {
     "name": "stdout",
     "output_type": "stream",
     "text": [
      "Decision Tree Classifier: Accuracy (6-fold): 0.92 ~ 0.98\n"
     ]
    }
   ],
   "source": [
    "from sklearn.tree import DecisionTreeClassifier\n",
    "from sklearn.model_selection import cross_validate\n",
    "\n",
    "num_folds = 6\n",
    "\n",
    "clf = DecisionTreeClassifier(max_depth=3)\n",
    "accuracy_scores = cross_validate(clf, df[iris.feature_names], df['target'], cv=num_folds, scoring=['accuracy'])\n",
    "\n",
    "accuracy_mean = pd.Series(accuracy_scores['test_accuracy']).mean()\n",
    "accuracy_std = pd.Series(accuracy_scores['test_accuracy']).std()\n",
    "accuracy_sterror = accuracy_std / np.sqrt(num_folds)\n",
    "\n",
    "print(\n",
    "    'Decision Tree Classifier: Accuracy ({}-fold): {:.2f} ~ {:.2f}'.format(\n",
    "        num_folds,\n",
    "        (accuracy_mean - 1.96 * accuracy_sterror),\n",
    "        (accuracy_mean + 1.96 * accuracy_sterror),\n",
    "    )\n",
    ")"
   ]
  },
  {
   "cell_type": "code",
   "execution_count": 29,
   "metadata": {},
   "outputs": [],
   "source": [
    "# Function to Plot the Decision Boundaries\n",
    "\n",
    "def plot_decision_boundary(clf, x, y, ax, title):\n",
    "    \n",
    "    cmap='Paired_r'\n",
    "    \n",
    "    feature_names = x.columns\n",
    "    x, y = x.values, y.values\n",
    "    \n",
    "    x_min, x_max = x[:,0].min(), x[:,0].max()\n",
    "    y_min, y_max = x[:,1].min(), x[:,1].max()\n",
    "    \n",
    "    step = 0.02\n",
    "    \n",
    "    xx, yy = np.meshgrid(\n",
    "        np.arange(x_min, x_max, step),\n",
    "        np.arange(y_min, y_max, step)\n",
    "    )\n",
    "    Z = clf.predict(np.c_[xx.ravel(), yy.ravel()])\n",
    "    Z = Z.reshape(xx.shape)\n",
    "\n",
    "    ax.contourf(xx, yy, Z, cmap=cmap, alpha=0.25)\n",
    "    ax.contour(xx, yy, Z, colors='k', linewidths=0.7)\n",
    "    ax.scatter(x[:,0], x[:,1], c=y, edgecolors='k')\n",
    "    ax.set_title(title)\n",
    "    ax.set_xlabel(feature_names[0])\n",
    "    ax.set_ylabel(feature_names[1])"
   ]
  },
  {
   "cell_type": "code",
   "execution_count": 30,
   "metadata": {},
   "outputs": [],
   "source": [
    "from sklearn.model_selection import train_test_split\n",
    "\n",
    "df_train, df_test = train_test_split(df, test_size=0.3, random_state=22)\n",
    "\n",
    "x_train = df_test[iris.feature_names]\n",
    "x_test  = df_test[iris.feature_names]\n",
    "\n",
    "y_train = df_train['target']\n",
    "y_test  = df_test['target']"
   ]
  },
  {
   "cell_type": "code",
   "execution_count": 31,
   "metadata": {},
   "outputs": [
    {
     "name": "stderr",
     "output_type": "stream",
     "text": [
      "/Users/tarek/anaconda3/envs/scikitbook/lib/python3.6/site-packages/ipykernel_launcher.py:30: UserWarning: Matplotlib is currently using module://ipykernel.pylab.backend_inline, which is a non-GUI backend, so cannot show the figure.\n"
     ]
    },
    {
     "data": {
      "image/png": "[encoded data removed]",
      "text/plain": [
       "<Figure size 864x432 with 2 Axes>"
      ]
     },
     "metadata": {
      "needs_background": "light"
     },
     "output_type": "display_data"
    }
   ],
   "source": [
    "from sklearn.metrics import accuracy_score\n",
    "    \n",
    "fig, axs = plt.subplots(1, 2, figsize=(12, 6))\n",
    "\n",
    "two_features = ['petal width (cm)', 'petal length (cm)']\n",
    "\n",
    "\n",
    "clf_lr = LogisticRegression()\n",
    "clf_lr.fit(df_train[two_features], df_train['target'])\n",
    "accuracy = accuracy_score(\n",
    "    df_test['target'], \n",
    "    clf_lr.predict(df_test[two_features])\n",
    ")\n",
    "plot_decision_boundary(\n",
    "    clf_lr, df_test[two_features], df_test['target'], ax=axs[0], \n",
    "    title=f'Logistic Regression Classifier\\nAccuracy: {accuracy:.2%}'\n",
    ")\n",
    "\n",
    "clf_dt = DecisionTreeClassifier(max_depth=3)\n",
    "clf_dt.fit(df_train[two_features], df_train['target'])\n",
    "accuracy = accuracy_score(\n",
    "    df_test['target'], \n",
    "    clf_dt.predict(df_test[two_features])\n",
    ")\n",
    "plot_decision_boundary(\n",
    "    clf_dt, df_test[two_features], df_test['target'], ax=axs[1], \n",
    "    title=f'Decision Tree Classifier\\nAccuracy: {accuracy:.2%}'\n",
    ")\n",
    "\n",
    "fig.show()"
   ]
  },
  {
   "cell_type": "code",
   "execution_count": 32,
   "metadata": {},
   "outputs": [
    {
     "name": "stdout",
     "output_type": "stream",
     "text": [
      "Class 0 Boundary: 1e+01 - 1.1 * petal width (cm) - 2.5 * petal length (cm)\n",
      "Class 1 Boundary: 2.7 - 0.66 * petal width (cm) + 0.088 * petal length (cm)\n",
      "Class 2 Boundary: -1.3e+01 + 1.7 * petal width (cm) + 2.4 * petal length (cm)\n"
     ]
    }
   ],
   "source": [
    "coef_sign = lambda c: '+' if c >= 0 else '-'\n",
    "\n",
    "for i, coef_pair in enumerate(clf_lr.coef_):\n",
    "    print(\n",
    "        'Class {class_id} Boundary: {intercept} {coef0} {coef1}'.format(\n",
    "            class_id=i,\n",
    "            intercept=f'{clf_lr.intercept_[i]:.2}',\n",
    "            coef0=f'{coef_sign(coef_pair[0])} {abs(coef_pair[0]):.2} * {two_features[0]}',\n",
    "            coef1=f'{coef_sign(coef_pair[1])} {abs(coef_pair[1]):.2} * {two_features[1]}',\n",
    "        )\n",
    "    )"
   ]
  },
  {
   "cell_type": "code",
   "execution_count": null,
   "metadata": {},
   "outputs": [],
   "source": []
  },
  {
   "cell_type": "code",
   "execution_count": null,
   "metadata": {},
   "outputs": [],
   "source": []
  }
 ],
 "metadata": {
  "kernelspec": {
   "display_name": "Python 3",
   "language": "python",
   "name": "python3"
  },
  "language_info": {
   "codemirror_mode": {
    "name": "ipython",
    "version": 3
   },
   "file_extension": ".py",
   "mimetype": "text/x-python",
   "name": "python",
   "nbconvert_exporter": "python",
   "pygments_lexer": "ipython3",
   "version": "3.6.9"
  }
 },
 "nbformat": 4,
 "nbformat_minor": 2
}

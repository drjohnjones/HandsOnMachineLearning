{
 "cells": [
  {
   "cell_type": "code",
   "execution_count": 1,
   "metadata": {},
   "outputs": [],
   "source": [
    "import numpy as np\n",
    "import pandas as pd"
   ]
  },
  {
   "cell_type": "markdown",
   "metadata": {},
   "source": [
    "# Fashion MNIST"
   ]
  },
  {
   "cell_type": "code",
   "execution_count": 2,
   "metadata": {},
   "outputs": [],
   "source": [
    "from sklearn.datasets import fetch_openml\n",
    "fashion_mnist = fetch_openml(data_id=40996) "
   ]
  },
  {
   "cell_type": "code",
   "execution_count": 3,
   "metadata": {},
   "outputs": [],
   "source": [
    "labels_s = '0 T-shirt/top \\n1 Trouser \\n2 Pullover \\n3 Dress \\n4 Coat \\n5 Sandal \\n6 Shirt \\n7 Sneaker \\n8 Bag \\n9 Ankle boot'\n",
    "\n",
    "fashion_label_translation = {\n",
    "    int(k): v for k, v in [\n",
    "        item.split(maxsplit=1) for item in labels_s.split('\\n')\n",
    "    ]\n",
    "}\n",
    "\n",
    "def translate_label(y, translation=fashion_label_translation):\n",
    "    return pd.Series(y).apply(lambda y: translation[int(y)]).values"
   ]
  },
  {
   "cell_type": "code",
   "execution_count": 4,
   "metadata": {},
   "outputs": [],
   "source": [
    "def display_fashion(img, target, ax):\n",
    "    \n",
    "    if len(img.shape):\n",
    "        w = int(np.sqrt(img.shape[0]))\n",
    "        img = img.reshape((w, w))\n",
    "    \n",
    "    ax.imshow(img, cmap='Greys')\n",
    "    ax.set_title(f'{target}')\n",
    "    ax.grid(False)"
   ]
  },
  {
   "cell_type": "code",
   "execution_count": 5,
   "metadata": {},
   "outputs": [],
   "source": [
    "from sklearn.model_selection import train_test_split\n",
    "\n",
    "fashion_mnist_sample = {}\n",
    "\n",
    "fashion_mnist_sample['data'], _, fashion_mnist_sample['target'], _ = train_test_split(\n",
    "    fashion_mnist['data'], fashion_mnist['target'], train_size=10000, random_state=42\n",
    ")\n",
    "\n",
    "x, y = fashion_mnist_sample['data'], fashion_mnist_sample['target']\n",
    "x_train, x_test, y_train, y_test = train_test_split(x, y, test_size=0.2, random_state=42)\n"
   ]
  },
  {
   "cell_type": "code",
   "execution_count": 6,
   "metadata": {},
   "outputs": [],
   "source": [
    "from sklearn.preprocessing import MinMaxScaler\n",
    "\n",
    "scaler = MinMaxScaler()\n",
    "\n",
    "x_train = scaler.fit_transform(x_train)\n",
    "x_test = scaler.transform(x_test)"
   ]
  },
  {
   "cell_type": "code",
   "execution_count": 7,
   "metadata": {},
   "outputs": [],
   "source": [
    "translation = fashion_label_translation\n",
    "y_train_translated = translate_label(y_train, translation=translation)\n",
    "y_test_translated = translate_label(y_test, translation=translation)"
   ]
  },
  {
   "cell_type": "code",
   "execution_count": 8,
   "metadata": {},
   "outputs": [],
   "source": [
    "from sklearn.preprocessing import LabelEncoder\n",
    "\n",
    "le = LabelEncoder()\n",
    "y_train_encoded = le.fit_transform(y_train_translated)\n",
    "y_test_encoded = le.transform(y_test_translated)\n"
   ]
  },
  {
   "cell_type": "code",
   "execution_count": 9,
   "metadata": {},
   "outputs": [
    {
     "name": "stderr",
     "output_type": "stream",
     "text": [
      "/Users/tarek/anaconda3/envs/scikitbook/lib/python3.6/site-packages/ipykernel_launcher.py:9: UserWarning: Matplotlib is currently using module://ipykernel.pylab.backend_inline, which is a non-GUI backend, so cannot show the figure.\n",
      "  if __name__ == '__main__':\n"
     ]
    },
    {
     "data": {
      "image/png": "[encoded data removed]",
      "text/plain": [
       "<Figure size 1152x864 with 10 Axes>"
      ]
     },
     "metadata": {
      "needs_background": "light"
     },
     "output_type": "display_data"
    }
   ],
   "source": [
    "import random \n",
    "\n",
    "fig, axs = plt.subplots(1, 10, figsize=(16, 12))\n",
    "\n",
    "for i in range(10):\n",
    "    rand = random.choice(range(x_train.shape[0]))\n",
    "    display_fashion(x_train[rand], y_train_translated[rand], axs[i])\n",
    "\n",
    "fig.show()"
   ]
  },
  {
   "cell_type": "code",
   "execution_count": 10,
   "metadata": {},
   "outputs": [],
   "source": [
    "from sklearn.neural_network import MLPClassifier\n",
    "\n",
    "clf = MLPClassifier(hidden_layer_sizes=(100, 100), max_iter=500, random_state=42)\n",
    "clf.fit(x_train, y_train_encoded)\n",
    "y_test_pred = clf.predict(x_test)\n"
   ]
  },
  {
   "cell_type": "code",
   "execution_count": 11,
   "metadata": {},
   "outputs": [
    {
     "name": "stdout",
     "output_type": "stream",
     "text": [
      "Micro FScore = 0.8599999999999999\n"
     ]
    },
    {
     "data": {
      "text/html": [
       "<div>\n",
       "<style scoped>\n",
       "    .dataframe tbody tr th:only-of-type {\n",
       "        vertical-align: middle;\n",
       "    }\n",
       "\n",
       "    .dataframe tbody tr th {\n",
       "        vertical-align: top;\n",
       "    }\n",
       "\n",
       "    .dataframe thead th {\n",
       "        text-align: right;\n",
       "    }\n",
       "</style>\n",
       "<table border=\"1\" class=\"dataframe\">\n",
       "  <thead>\n",
       "    <tr style=\"text-align: right;\">\n",
       "      <th></th>\n",
       "      <th>Precision</th>\n",
       "      <th>Recall</th>\n",
       "      <th>F</th>\n",
       "      <th>Support</th>\n",
       "    </tr>\n",
       "  </thead>\n",
       "  <tbody>\n",
       "    <tr>\n",
       "      <th>Ankle boot</th>\n",
       "      <td>0.949721</td>\n",
       "      <td>0.939227</td>\n",
       "      <td>0.944444</td>\n",
       "      <td>181</td>\n",
       "    </tr>\n",
       "    <tr>\n",
       "      <th>Bag</th>\n",
       "      <td>0.938679</td>\n",
       "      <td>0.947619</td>\n",
       "      <td>0.943128</td>\n",
       "      <td>210</td>\n",
       "    </tr>\n",
       "    <tr>\n",
       "      <th>Coat</th>\n",
       "      <td>0.783251</td>\n",
       "      <td>0.783251</td>\n",
       "      <td>0.783251</td>\n",
       "      <td>203</td>\n",
       "    </tr>\n",
       "    <tr>\n",
       "      <th>Dress</th>\n",
       "      <td>0.899441</td>\n",
       "      <td>0.870270</td>\n",
       "      <td>0.884615</td>\n",
       "      <td>185</td>\n",
       "    </tr>\n",
       "    <tr>\n",
       "      <th>Pullover</th>\n",
       "      <td>0.772222</td>\n",
       "      <td>0.772222</td>\n",
       "      <td>0.772222</td>\n",
       "      <td>180</td>\n",
       "    </tr>\n",
       "    <tr>\n",
       "      <th>Sandal</th>\n",
       "      <td>0.939891</td>\n",
       "      <td>0.934783</td>\n",
       "      <td>0.937330</td>\n",
       "      <td>184</td>\n",
       "    </tr>\n",
       "    <tr>\n",
       "      <th>Shirt</th>\n",
       "      <td>0.652406</td>\n",
       "      <td>0.606965</td>\n",
       "      <td>0.628866</td>\n",
       "      <td>201</td>\n",
       "    </tr>\n",
       "    <tr>\n",
       "      <th>Sneaker</th>\n",
       "      <td>0.912442</td>\n",
       "      <td>0.942857</td>\n",
       "      <td>0.927400</td>\n",
       "      <td>210</td>\n",
       "    </tr>\n",
       "    <tr>\n",
       "      <th>T-shirt/top</th>\n",
       "      <td>0.773109</td>\n",
       "      <td>0.807018</td>\n",
       "      <td>0.789700</td>\n",
       "      <td>228</td>\n",
       "    </tr>\n",
       "    <tr>\n",
       "      <th>Trouser</th>\n",
       "      <td>0.972973</td>\n",
       "      <td>0.990826</td>\n",
       "      <td>0.981818</td>\n",
       "      <td>218</td>\n",
       "    </tr>\n",
       "  </tbody>\n",
       "</table>\n",
       "</div>"
      ],
      "text/plain": [
       "              Precision    Recall         F  Support\n",
       "Ankle boot     0.949721  0.939227  0.944444      181\n",
       "Bag            0.938679  0.947619  0.943128      210\n",
       "Coat           0.783251  0.783251  0.783251      203\n",
       "Dress          0.899441  0.870270  0.884615      185\n",
       "Pullover       0.772222  0.772222  0.772222      180\n",
       "Sandal         0.939891  0.934783  0.937330      184\n",
       "Shirt          0.652406  0.606965  0.628866      201\n",
       "Sneaker        0.912442  0.942857  0.927400      210\n",
       "T-shirt/top    0.773109  0.807018  0.789700      228\n",
       "Trouser        0.972973  0.990826  0.981818      218"
      ]
     },
     "execution_count": 11,
     "metadata": {},
     "output_type": "execute_result"
    }
   ],
   "source": [
    "from sklearn.metrics import precision_recall_fscore_support\n",
    "\n",
    "micro_fscore = precision_recall_fscore_support(y_test_encoded, y_test_pred, average='micro')[2]\n",
    "print(f'Micro FScore = {micro_fscore}')\n",
    "\n",
    "p, r, f, s = precision_recall_fscore_support(y_test_encoded, y_test_pred)\n",
    "\n",
    "pd.DataFrame(\n",
    "    {\n",
    "        'Precision': p,\n",
    "        'Recall': r,\n",
    "        'F': f,\n",
    "        'Support': s,\n",
    "    },\n",
    "    index =le.classes_.tolist()\n",
    ")"
   ]
  },
  {
   "cell_type": "code",
   "execution_count": 12,
   "metadata": {},
   "outputs": [
    {
     "data": {
      "text/plain": [
       "<matplotlib.axes._subplots.AxesSubplot at 0x7fc503c99a58>"
      ]
     },
     "execution_count": 12,
     "metadata": {},
     "output_type": "execute_result"
    },
    {
     "data": {
      "image/png": "[encoded data removed]",
      "text/plain": [
       "<Figure size 432x288 with 1 Axes>"
      ]
     },
     "metadata": {
      "needs_background": "light"
     },
     "output_type": "display_data"
    }
   ],
   "source": [
    "pd.Series(clf.loss_curve_).plot(\n",
    "    title=f'Loss Curve; stopped after {clf.n_iter_} epochs', color='k'\n",
    ")"
   ]
  },
  {
   "cell_type": "code",
   "execution_count": 13,
   "metadata": {},
   "outputs": [
    {
     "name": "stdout",
     "output_type": "stream",
     "text": [
      "1 0.1 0.01 0.001 0.0001 "
     ]
    },
    {
     "name": "stderr",
     "output_type": "stream",
     "text": [
      "/Users/tarek/anaconda3/envs/scikitbook/lib/python3.6/site-packages/ipykernel_launcher.py:42: UserWarning: Matplotlib is currently using module://ipykernel.pylab.backend_inline, which is a non-GUI backend, so cannot show the figure.\n"
     ]
    },
    {
     "data": {
      "image/png": "[encoded data removed]",
      "text/plain": [
       "<Figure size 1080x360 with 5 Axes>"
      ]
     },
     "metadata": {
      "needs_background": "light"
     },
     "output_type": "display_data"
    }
   ],
   "source": [
    "import warnings\n",
    "from sklearn.exceptions import ConvergenceWarning\n",
    "\n",
    "from sklearn.neural_network import MLPClassifier\n",
    "\n",
    "learning_rate_init_options = [1, 0.1, 0.01, 0.001, 0.0001]\n",
    "\n",
    "fig, axs = plt.subplots(1, len(learning_rate_init_options), figsize=(15, 5), sharex=True, sharey=True)\n",
    "\n",
    "for i, learning_rate_init in enumerate(learning_rate_init_options):\n",
    "    \n",
    "    print(f'{learning_rate_init} ', end='')\n",
    "    \n",
    "    clf = MLPClassifier(\n",
    "        hidden_layer_sizes=(500, ), \n",
    "        learning_rate='constant',\n",
    "        learning_rate_init=learning_rate_init,\n",
    "        validation_fraction=0.2,\n",
    "        early_stopping=True, # Set to True to get clf.validation_scores_\n",
    "        n_iter_no_change=120,\n",
    "        momentum=0,\n",
    "        max_iter=120, \n",
    "        solver='sgd',\n",
    "        batch_size=25,\n",
    "        verbose=0,\n",
    "    )\n",
    "    \n",
    "    with warnings.catch_warnings():\n",
    "        warnings.filterwarnings(\"ignore\", category=ConvergenceWarning, module=\"sklearn\")\n",
    "        clf.fit(x_train[:1000,:], y_train_encoded[:1000])\n",
    "        \n",
    "    pd.Series(clf.validation_scores_).plot(\n",
    "        title=f'learning_rate={learning_rate_init}', \n",
    "        kind='line', \n",
    "        color='k',\n",
    "        ax=axs[i]\n",
    "    )\n",
    "    \n",
    "    axs[i].set_xlabel('# Epochs')\n",
    "    axs[i].set_ylabel('Validation Score')\n",
    "    \n",
    "fig.show()"
   ]
  },
  {
   "cell_type": "code",
   "execution_count": 16,
   "metadata": {},
   "outputs": [
    {
     "name": "stdout",
     "output_type": "stream",
     "text": [
      "100 1500 "
     ]
    },
    {
     "name": "stderr",
     "output_type": "stream",
     "text": [
      "/Users/tarek/anaconda3/envs/scikitbook/lib/python3.6/site-packages/ipykernel_launcher.py:43: UserWarning: Matplotlib is currently using module://ipykernel.pylab.backend_inline, which is a non-GUI backend, so cannot show the figure.\n"
     ]
    },
    {
     "data": {
      "image/png": "[encoded data removed]",
      "text/plain": [
       "<Figure size 1080x360 with 2 Axes>"
      ]
     },
     "metadata": {
      "needs_background": "light"
     },
     "output_type": "display_data"
    }
   ],
   "source": [
    "import warnings\n",
    "from sklearn.exceptions import ConvergenceWarning\n",
    "\n",
    "from sklearn.neural_network import MLPClassifier\n",
    "\n",
    "# batch_sizes = [1, 10, 100, 1500]\n",
    "batch_sizes = [100, 1500]\n",
    "\n",
    "fig, axs = plt.subplots(1, len(batch_sizes), figsize=(15, 5), sharex=True, sharey=True)\n",
    "\n",
    "for i, batch_size in enumerate(batch_sizes):\n",
    "    \n",
    "    print(f'{batch_size} ', end='')\n",
    "    \n",
    "    clf = MLPClassifier(\n",
    "        hidden_layer_sizes=(500, ), \n",
    "        learning_rate='constant',\n",
    "        learning_rate_init=0.001, \n",
    "        momentum=0,\n",
    "        max_iter=250, \n",
    "        early_stopping=True,\n",
    "        n_iter_no_change=250,\n",
    "        solver='sgd',\n",
    "        batch_size=batch_size,\n",
    "        verbose=0,\n",
    "    )\n",
    "    \n",
    "    with warnings.catch_warnings():\n",
    "        warnings.filterwarnings(\"ignore\", category=ConvergenceWarning, module=\"sklearn\")\n",
    "        clf.fit(x_train[:1500,:], y_train_encoded[:1500])\n",
    "        \n",
    "    # pd.Series(clf.loss_curve_).plot( \n",
    "    pd.Series(clf.validation_scores_).plot( \n",
    "        title=f'batch_size={batch_size}',\n",
    "        color='k',\n",
    "        kind='line', \n",
    "        ax=axs[i]\n",
    "    )\n",
    "    \n",
    "    axs[i].set_xlabel('# Epochs')\n",
    "    axs[i].set_ylabel('Validation Score')\n",
    "    \n",
    "fig.show()"
   ]
  },
  {
   "cell_type": "code",
   "execution_count": 17,
   "metadata": {},
   "outputs": [
    {
     "name": "stdout",
     "output_type": "stream",
     "text": [
      "[learning_curve] Training set sizes: [ 266  533 1333 2666 3999 5333]\n"
     ]
    },
    {
     "name": "stderr",
     "output_type": "stream",
     "text": [
      "[Parallel(n_jobs=-1)]: Using backend LokyBackend with 4 concurrent workers.\n",
      "[Parallel(n_jobs=-1)]: Done   9 out of  18 | elapsed:   49.6s remaining:   49.6s\n",
      "[Parallel(n_jobs=-1)]: Done  18 out of  18 | elapsed:  1.8min finished\n"
     ]
    }
   ],
   "source": [
    "from sklearn.model_selection import learning_curve\n",
    "\n",
    "train_sizes = [1, 0.75, 0.5, 0.25, 0.1, 0.05]\n",
    "\n",
    "train_sizes, train_scores, test_scores = learning_curve(\n",
    "    MLPClassifier(\n",
    "        hidden_layer_sizes=(100, 100), \n",
    "        solver='adam',\n",
    "        early_stopping=False\n",
    "    ), \n",
    "    x_train, y_train_encoded,\n",
    "    train_sizes=train_sizes,\n",
    "    scoring=\"precision_macro\",\n",
    "    cv=3,\n",
    "    verbose=2,\n",
    "    n_jobs=-1\n",
    ")"
   ]
  },
  {
   "cell_type": "code",
   "execution_count": 18,
   "metadata": {},
   "outputs": [
    {
     "data": {
      "text/plain": [
       "<matplotlib.axes._subplots.AxesSubplot at 0x7fc4fd1042b0>"
      ]
     },
     "execution_count": 18,
     "metadata": {},
     "output_type": "execute_result"
    },
    {
     "data": {
      "image/png": "[encoded data removed]",
      "text/plain": [
       "<Figure size 432x288 with 1 Axes>"
      ]
     },
     "metadata": {
      "needs_background": "light"
     },
     "output_type": "display_data"
    }
   ],
   "source": [
    "df_learning_curve = pd.DataFrame(\n",
    "    {\n",
    "        'train_sizes': train_sizes,\n",
    "        'train_scores': train_scores.mean(axis=1),\n",
    "        'test_scores': test_scores.mean(axis=1)\n",
    "    }\n",
    ").set_index('train_sizes')\n",
    "\n",
    "df_learning_curve['train_scores'].plot(\n",
    "    title='Learning Curves', ls=':',\n",
    ")\n",
    "\n",
    "df_learning_curve['test_scores'].plot(\n",
    "    title='Learning Curves', ls='-',\n",
    ")\n"
   ]
  },
  {
   "cell_type": "code",
   "execution_count": 19,
   "metadata": {},
   "outputs": [
    {
     "name": "stderr",
     "output_type": "stream",
     "text": [
      "[Parallel(n_jobs=-1)]: Using backend LokyBackend with 4 concurrent workers.\n",
      "[Parallel(n_jobs=-1)]: Done  11 out of  21 | elapsed:   39.5s remaining:   36.0s\n",
      "[Parallel(n_jobs=-1)]: Done  21 out of  21 | elapsed:  1.5min finished\n"
     ]
    }
   ],
   "source": [
    "from sklearn.model_selection import validation_curve\n",
    "\n",
    "max_iter_range = [5, 10, 25, 50, 75, 100, 150]\n",
    "\n",
    "train_scores, test_scores = validation_curve(\n",
    "    MLPClassifier(\n",
    "        hidden_layer_sizes=(100, 100), \n",
    "        solver='adam',\n",
    "        early_stopping=False\n",
    "    ), \n",
    "    x_train, y_train_encoded,\n",
    "    param_name=\"max_iter\", param_range=max_iter_range,\n",
    "    scoring=\"precision_macro\",\n",
    "    cv=3,\n",
    "    verbose=2,\n",
    "    n_jobs=-1\n",
    ")"
   ]
  },
  {
   "cell_type": "raw",
   "metadata": {},
   "source": [
    "from sklearn.model_selection import GridSearchCV\n",
    "\n",
    "param_grid = {\n",
    "    'hidden_layer_sizes': [(50,), (50, 50), (100, 50), (100, 100), (500, 100), (500, 100, 100)],\n",
    "    'activation': ['logistic', 'tanh', 'relu'],\n",
    "    'learning_rate_init': [0.01, 0.001],\n",
    "    'solver': ['sgd', 'adam'],\n",
    "}\n",
    "\n",
    "gs = GridSearchCV(\n",
    "    estimator=MLPClassifier(\n",
    "        max_iter=50,\n",
    "        batch_size=50,\n",
    "        early_stopping=True,\n",
    "    ), \n",
    "    param_grid=param_grid,\n",
    "    cv=4,\n",
    "    verbose=2,\n",
    "    n_jobs=-1\n",
    ")\n",
    " \n",
    "gs.fit(x_train[:2500,:], y_train_encoded[:2500])"
   ]
  },
  {
   "cell_type": "code",
   "execution_count": 20,
   "metadata": {},
   "outputs": [],
   "source": [
    "def relu(X):\n",
    "    return np.clip(X, 0, np.finfo(X.dtype).max)\n",
    "\n",
    "def inplace_relu_derivative(Z, delta):\n",
    "    delta[Z == 0] = 0"
   ]
  },
  {
   "cell_type": "code",
   "execution_count": 21,
   "metadata": {},
   "outputs": [],
   "source": [
    "leaky_relu_slope = 0.01\n",
    "\n",
    "def leaky_relu(X):\n",
    "    X_min = leaky_relu_slope * np.array(X)\n",
    "    return np.clip(X, X_min, np.finfo(X.dtype).max)\n",
    "\n",
    "def inplace_leaky_relu_derivative(Z, delta):\n",
    "    delta[Z < 0] = leaky_relu_slope * delta[Z < 0]"
   ]
  },
  {
   "cell_type": "code",
   "execution_count": 22,
   "metadata": {},
   "outputs": [],
   "source": [
    "from sklearn.neural_network._base import ACTIVATIONS, DERIVATIVES\n",
    "\n",
    "ACTIVATIONS['leaky_relu'] = leaky_relu\n",
    "DERIVATIVES['leaky_relu'] = inplace_leaky_relu_derivative"
   ]
  },
  {
   "cell_type": "code",
   "execution_count": 23,
   "metadata": {},
   "outputs": [],
   "source": [
    "clf = MLPClassifier(activation='leaky_relu')"
   ]
  },
  {
   "cell_type": "code",
   "execution_count": null,
   "metadata": {},
   "outputs": [],
   "source": []
  },
  {
   "cell_type": "code",
   "execution_count": null,
   "metadata": {},
   "outputs": [],
   "source": []
  }
 ],
 "metadata": {
  "kernelspec": {
   "display_name": "Python 3",
   "language": "python",
   "name": "python3"
  },
  "language_info": {
   "codemirror_mode": {
    "name": "ipython",
    "version": 3
   },
   "file_extension": ".py",
   "mimetype": "text/x-python",
   "name": "python",
   "nbconvert_exporter": "python",
   "pygments_lexer": "ipython3",
   "version": "3.6.9"
  }
 },
 "nbformat": 4,
 "nbformat_minor": 2
}
